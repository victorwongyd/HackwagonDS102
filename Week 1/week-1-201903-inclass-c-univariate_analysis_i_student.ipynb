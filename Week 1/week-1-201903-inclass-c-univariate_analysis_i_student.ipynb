{
 "cells": [
  {
   "cell_type": "markdown",
   "metadata": {},
   "source": [
    "### DS102 | In Class Practice Week 1C - Univariate Analysis I\n",
    "<hr>\n",
    "## Learning Objectives\n",
    "\n",
    "### In Class Content\n",
    "At the end of the lesson, you will be able to:\n",
    "\n",
    "1. Find summary statistics of a dataset using `describe()`\n",
    "\n",
    "2. Calculate and interpret the **mean**, **median** and **mode** of a sample using `mean()`, `median()` and `mode()`\n",
    "\n",
    "3. Calculate and interpret **variance** and **standard deviation** of a sample using `var()` and `std()`\n",
    "\n",
    "### Self Study Content\n",
    "At the end of your self-study, you will be able to:\n",
    "\n",
    "4. Calculate and interpret **skewness** and **kurtosis** of a sample using `skew()` and `kurt()`\n",
    "\n",
    "### Datasets Required for this In Class\n",
    "1. `wines-3k.csv`"
   ]
  },
  {
   "cell_type": "markdown",
   "metadata": {},
   "source": [
    "### Import `pandas`, `numpy` and read the CSV file into a `df`"
   ]
  },
  {
   "cell_type": "code",
   "execution_count": 9,
   "metadata": {
    "ExecuteTime": {
     "end_time": "2019-03-02T13:45:38.201137Z",
     "start_time": "2019-03-02T13:45:38.197065Z"
    }
   },
   "outputs": [],
   "source": [
    "# Import libraries\n",
    "import pandas as pd\n",
    "import numpy as np\n",
    "import matplotlib.pyplot as plt\n",
    "import math"
   ]
  },
  {
   "cell_type": "markdown",
   "metadata": {},
   "source": [
    "Read the dataset from `wines-3k.csv` into a `df`. Specify the `sep` parameter as the separator right now is no longer a comma."
   ]
  },
  {
   "cell_type": "code",
   "execution_count": 4,
   "metadata": {
    "ExecuteTime": {
     "end_time": "2019-03-02T13:46:07.732250Z",
     "start_time": "2019-03-02T13:46:07.720080Z"
    }
   },
   "outputs": [
    {
     "data": {
      "text/html": [
       "<div>\n",
       "<style scoped>\n",
       "    .dataframe tbody tr th:only-of-type {\n",
       "        vertical-align: middle;\n",
       "    }\n",
       "\n",
       "    .dataframe tbody tr th {\n",
       "        vertical-align: top;\n",
       "    }\n",
       "\n",
       "    .dataframe thead th {\n",
       "        text-align: right;\n",
       "    }\n",
       "</style>\n",
       "<table border=\"1\" class=\"dataframe\">\n",
       "  <thead>\n",
       "    <tr style=\"text-align: right;\">\n",
       "      <th></th>\n",
       "      <th>country</th>\n",
       "      <th>points</th>\n",
       "      <th>price</th>\n",
       "    </tr>\n",
       "  </thead>\n",
       "  <tbody>\n",
       "    <tr>\n",
       "      <th>0</th>\n",
       "      <td>US</td>\n",
       "      <td>84</td>\n",
       "      <td>12.0</td>\n",
       "    </tr>\n",
       "    <tr>\n",
       "      <th>1</th>\n",
       "      <td>Italy</td>\n",
       "      <td>87</td>\n",
       "      <td>15.0</td>\n",
       "    </tr>\n",
       "    <tr>\n",
       "      <th>2</th>\n",
       "      <td>US</td>\n",
       "      <td>86</td>\n",
       "      <td>48.0</td>\n",
       "    </tr>\n",
       "  </tbody>\n",
       "</table>\n",
       "</div>"
      ],
      "text/plain": [
       "  country  points  price\n",
       "0      US      84   12.0\n",
       "1   Italy      87   15.0\n",
       "2      US      86   48.0"
      ]
     },
     "execution_count": 4,
     "metadata": {},
     "output_type": "execute_result"
    }
   ],
   "source": [
    "# Read CSV file to a df.\n",
    "#\n",
    "df = pd.read_csv('wines-3k.csv', sep='|')\n",
    "df.head(3)"
   ]
  },
  {
   "cell_type": "markdown",
   "metadata": {},
   "source": [
    "It is good practice to do some preliminary analysis on the newly created `df`."
   ]
  },
  {
   "cell_type": "code",
   "execution_count": 5,
   "metadata": {
    "ExecuteTime": {
     "end_time": "2018-10-08T15:54:13.900148Z",
     "start_time": "2018-10-08T15:54:13.884689Z"
    },
    "scrolled": false
   },
   "outputs": [
    {
     "name": "stdout",
     "output_type": "stream",
     "text": [
      "(3000, 3)\n",
      "country     object\n",
      "points       int64\n",
      "price      float64\n",
      "dtype: object\n"
     ]
    }
   ],
   "source": [
    "# Exercise: print the shape of the df\n",
    "print(df.shape)\n",
    "# Exercise: print the dtypes of the df\n",
    "#\n",
    "print(df.dtypes)\n",
    "# Exercise: print the columns of the df\n",
    "#"
   ]
  },
  {
   "cell_type": "code",
   "execution_count": 8,
   "metadata": {
    "ExecuteTime": {
     "end_time": "2019-03-02T13:47:02.283797Z",
     "start_time": "2019-03-02T13:47:02.265693Z"
    },
    "scrolled": true
   },
   "outputs": [
    {
     "data": {
      "text/html": [
       "<div>\n",
       "<style scoped>\n",
       "    .dataframe tbody tr th:only-of-type {\n",
       "        vertical-align: middle;\n",
       "    }\n",
       "\n",
       "    .dataframe tbody tr th {\n",
       "        vertical-align: top;\n",
       "    }\n",
       "\n",
       "    .dataframe thead th {\n",
       "        text-align: right;\n",
       "    }\n",
       "</style>\n",
       "<table border=\"1\" class=\"dataframe\">\n",
       "  <thead>\n",
       "    <tr style=\"text-align: right;\">\n",
       "      <th></th>\n",
       "      <th>country</th>\n",
       "      <th>points</th>\n",
       "      <th>price</th>\n",
       "    </tr>\n",
       "  </thead>\n",
       "  <tbody>\n",
       "    <tr>\n",
       "      <th>0</th>\n",
       "      <td>US</td>\n",
       "      <td>84</td>\n",
       "      <td>12.0</td>\n",
       "    </tr>\n",
       "    <tr>\n",
       "      <th>1</th>\n",
       "      <td>Italy</td>\n",
       "      <td>87</td>\n",
       "      <td>15.0</td>\n",
       "    </tr>\n",
       "    <tr>\n",
       "      <th>2</th>\n",
       "      <td>US</td>\n",
       "      <td>86</td>\n",
       "      <td>48.0</td>\n",
       "    </tr>\n",
       "    <tr>\n",
       "      <th>3</th>\n",
       "      <td>US</td>\n",
       "      <td>89</td>\n",
       "      <td>150.0</td>\n",
       "    </tr>\n",
       "    <tr>\n",
       "      <th>4</th>\n",
       "      <td>Italy</td>\n",
       "      <td>89</td>\n",
       "      <td>59.0</td>\n",
       "    </tr>\n",
       "  </tbody>\n",
       "</table>\n",
       "</div>"
      ],
      "text/plain": [
       "  country  points  price\n",
       "0      US      84   12.0\n",
       "1   Italy      87   15.0\n",
       "2      US      86   48.0\n",
       "3      US      89  150.0\n",
       "4   Italy      89   59.0"
      ]
     },
     "execution_count": 8,
     "metadata": {},
     "output_type": "execute_result"
    }
   ],
   "source": [
    "# Exercise: Display the first 5 records of the df\n",
    "#\n",
    "df.head()"
   ]
  },
  {
   "cell_type": "markdown",
   "metadata": {},
   "source": [
    "### Retrieve Summary Statistics\n",
    "Use `describe()` to find out summary statistics of each of the columns in a `df`. Take note of what each row means. In particular, the quartiles and the percentiles."
   ]
  },
  {
   "cell_type": "code",
   "execution_count": 9,
   "metadata": {
    "ExecuteTime": {
     "end_time": "2019-03-02T13:48:25.781530Z",
     "start_time": "2019-03-02T13:48:25.743907Z"
    },
    "scrolled": false
   },
   "outputs": [
    {
     "data": {
      "text/html": [
       "<div>\n",
       "<style scoped>\n",
       "    .dataframe tbody tr th:only-of-type {\n",
       "        vertical-align: middle;\n",
       "    }\n",
       "\n",
       "    .dataframe tbody tr th {\n",
       "        vertical-align: top;\n",
       "    }\n",
       "\n",
       "    .dataframe thead th {\n",
       "        text-align: right;\n",
       "    }\n",
       "</style>\n",
       "<table border=\"1\" class=\"dataframe\">\n",
       "  <thead>\n",
       "    <tr style=\"text-align: right;\">\n",
       "      <th></th>\n",
       "      <th>points</th>\n",
       "      <th>price</th>\n",
       "    </tr>\n",
       "  </thead>\n",
       "  <tbody>\n",
       "    <tr>\n",
       "      <th>count</th>\n",
       "      <td>3000.000000</td>\n",
       "      <td>2718.000000</td>\n",
       "    </tr>\n",
       "    <tr>\n",
       "      <th>mean</th>\n",
       "      <td>87.868000</td>\n",
       "      <td>32.773731</td>\n",
       "    </tr>\n",
       "    <tr>\n",
       "      <th>std</th>\n",
       "      <td>3.153605</td>\n",
       "      <td>31.288298</td>\n",
       "    </tr>\n",
       "    <tr>\n",
       "      <th>min</th>\n",
       "      <td>80.000000</td>\n",
       "      <td>5.000000</td>\n",
       "    </tr>\n",
       "    <tr>\n",
       "      <th>25%</th>\n",
       "      <td>86.000000</td>\n",
       "      <td>16.000000</td>\n",
       "    </tr>\n",
       "    <tr>\n",
       "      <th>50%</th>\n",
       "      <td>88.000000</td>\n",
       "      <td>24.000000</td>\n",
       "    </tr>\n",
       "    <tr>\n",
       "      <th>75%</th>\n",
       "      <td>90.000000</td>\n",
       "      <td>40.000000</td>\n",
       "    </tr>\n",
       "    <tr>\n",
       "      <th>max</th>\n",
       "      <td>100.000000</td>\n",
       "      <td>500.000000</td>\n",
       "    </tr>\n",
       "  </tbody>\n",
       "</table>\n",
       "</div>"
      ],
      "text/plain": [
       "            points        price\n",
       "count  3000.000000  2718.000000\n",
       "mean     87.868000    32.773731\n",
       "std       3.153605    31.288298\n",
       "min      80.000000     5.000000\n",
       "25%      86.000000    16.000000\n",
       "50%      88.000000    24.000000\n",
       "75%      90.000000    40.000000\n",
       "max     100.000000   500.000000"
      ]
     },
     "execution_count": 9,
     "metadata": {},
     "output_type": "execute_result"
    }
   ],
   "source": [
    "# Use describe() to show summary statistics\n",
    "df.describe()"
   ]
  },
  {
   "cell_type": "markdown",
   "metadata": {},
   "source": [
    "Country is a **categorical field**, which means it takes a (string) value, selected from a list. Use `df['country'].describe()` to show summary statistics of a categorical field. Here's how you interpret the result:\n",
    "\n",
    "- `unique` represents the number of **unique values** of the column\n",
    "\n",
    "- `top` represents the **most frequent value** in the column\n",
    "\n",
    "- `freq` represents the **count of the most frequent value** in the column"
   ]
  },
  {
   "cell_type": "code",
   "execution_count": 10,
   "metadata": {
    "ExecuteTime": {
     "end_time": "2019-03-02T13:50:04.215198Z",
     "start_time": "2019-03-02T13:50:04.202736Z"
    },
    "scrolled": true
   },
   "outputs": [
    {
     "data": {
      "text/plain": [
       "count     3000\n",
       "unique      28\n",
       "top         US\n",
       "freq      1269\n",
       "Name: country, dtype: object"
      ]
     },
     "execution_count": 10,
     "metadata": {},
     "output_type": "execute_result"
    }
   ],
   "source": [
    "# Perform describe() on one column.\n",
    "df['country'].describe()\n",
    "\n",
    "# Note how the display is different from that of a numerical Series\n",
    "# Exercise: How will you jointly interpret the value for 'top' and 'freq' with reference to the dataset?\n",
    "# "
   ]
  },
  {
   "cell_type": "markdown",
   "metadata": {},
   "source": [
    "To find all the unique values of `country`, use `df['country'].unique()` ."
   ]
  },
  {
   "cell_type": "code",
   "execution_count": 12,
   "metadata": {
    "ExecuteTime": {
     "end_time": "2019-03-02T13:52:49.062349Z",
     "start_time": "2019-03-02T13:52:49.055859Z"
    }
   },
   "outputs": [
    {
     "data": {
      "text/plain": [
       "['US',\n",
       " 'Italy',\n",
       " 'Spain',\n",
       " 'Portugal',\n",
       " 'France',\n",
       " 'Argentina',\n",
       " 'Australia',\n",
       " 'Austria',\n",
       " 'New Zealand',\n",
       " 'South Africa',\n",
       " 'Chile',\n",
       " 'Germany',\n",
       " 'Israel',\n",
       " 'Slovakia',\n",
       " 'Canada',\n",
       " 'Greece',\n",
       " 'Georgia',\n",
       " 'Uruguay',\n",
       " 'Bulgaria',\n",
       " 'Mexico',\n",
       " 'Romania',\n",
       " 'Bosnia and Herzegovina',\n",
       " 'Croatia',\n",
       " 'Cyprus',\n",
       " 'India',\n",
       " 'Hungary',\n",
       " 'Slovenia',\n",
       " 'Moldova']"
      ]
     },
     "execution_count": 12,
     "metadata": {},
     "output_type": "execute_result"
    }
   ],
   "source": [
    "# Use Series.unique() to see all the unique values.\n",
    "list(df['country'].unique())"
   ]
  },
  {
   "cell_type": "markdown",
   "metadata": {},
   "source": [
    "To find the number of unique `country`(ies), use `df['country'].nunique()`. This is the same as finding the number of elements in `df['country']` using `len()`."
   ]
  },
  {
   "cell_type": "code",
   "execution_count": 13,
   "metadata": {
    "ExecuteTime": {
     "end_time": "2019-03-02T13:53:34.861256Z",
     "start_time": "2019-03-02T13:53:34.851991Z"
    }
   },
   "outputs": [
    {
     "data": {
      "text/plain": [
       "28"
      ]
     },
     "execution_count": 13,
     "metadata": {},
     "output_type": "execute_result"
    }
   ],
   "source": [
    "# Find the no. of unique values using nunique()\n",
    "df['country'].nunique()\n",
    "\n",
    "# Find the no. of unique values using len()\n",
    "# len(df['country'].unique())"
   ]
  },
  {
   "cell_type": "markdown",
   "metadata": {},
   "source": [
    "### Simple Aggregation"
   ]
  },
  {
   "cell_type": "code",
   "execution_count": 16,
   "metadata": {
    "ExecuteTime": {
     "end_time": "2019-03-02T13:54:44.902910Z",
     "start_time": "2019-03-02T13:54:44.886100Z"
    }
   },
   "outputs": [
    {
     "data": {
      "text/html": [
       "<div>\n",
       "<style scoped>\n",
       "    .dataframe tbody tr th:only-of-type {\n",
       "        vertical-align: middle;\n",
       "    }\n",
       "\n",
       "    .dataframe tbody tr th {\n",
       "        vertical-align: top;\n",
       "    }\n",
       "\n",
       "    .dataframe thead th {\n",
       "        text-align: right;\n",
       "    }\n",
       "</style>\n",
       "<table border=\"1\" class=\"dataframe\">\n",
       "  <thead>\n",
       "    <tr style=\"text-align: right;\">\n",
       "      <th></th>\n",
       "      <th>country</th>\n",
       "      <th>points</th>\n",
       "      <th>price</th>\n",
       "    </tr>\n",
       "  </thead>\n",
       "  <tbody>\n",
       "    <tr>\n",
       "      <th>51</th>\n",
       "      <td>Chile</td>\n",
       "      <td>84</td>\n",
       "      <td>15.0</td>\n",
       "    </tr>\n",
       "    <tr>\n",
       "      <th>70</th>\n",
       "      <td>Chile</td>\n",
       "      <td>87</td>\n",
       "      <td>13.0</td>\n",
       "    </tr>\n",
       "    <tr>\n",
       "      <th>79</th>\n",
       "      <td>Chile</td>\n",
       "      <td>86</td>\n",
       "      <td>9.0</td>\n",
       "    </tr>\n",
       "    <tr>\n",
       "      <th>83</th>\n",
       "      <td>Chile</td>\n",
       "      <td>90</td>\n",
       "      <td>35.0</td>\n",
       "    </tr>\n",
       "    <tr>\n",
       "      <th>85</th>\n",
       "      <td>Chile</td>\n",
       "      <td>85</td>\n",
       "      <td>10.0</td>\n",
       "    </tr>\n",
       "  </tbody>\n",
       "</table>\n",
       "</div>"
      ],
      "text/plain": [
       "   country  points  price\n",
       "51   Chile      84   15.0\n",
       "70   Chile      87   13.0\n",
       "79   Chile      86    9.0\n",
       "83   Chile      90   35.0\n",
       "85   Chile      85   10.0"
      ]
     },
     "execution_count": 16,
     "metadata": {},
     "output_type": "execute_result"
    }
   ],
   "source": [
    "# Exercise: Store all the wines made in Chile in a df called chile_df\n",
    "chile_df = df[df['country'] == 'Chile']\n",
    "chile_df.head()"
   ]
  },
  {
   "cell_type": "markdown",
   "metadata": {},
   "source": [
    "Use `sum()` to find the sum of all values in a column."
   ]
  },
  {
   "cell_type": "code",
   "execution_count": 17,
   "metadata": {
    "ExecuteTime": {
     "end_time": "2019-03-02T13:55:32.075130Z",
     "start_time": "2019-03-02T13:55:32.069031Z"
    }
   },
   "outputs": [
    {
     "data": {
      "text/plain": [
       "Index(['country', 'points', 'price'], dtype='object')"
      ]
     },
     "execution_count": 17,
     "metadata": {},
     "output_type": "execute_result"
    }
   ],
   "source": [
    "chile_df.columns"
   ]
  },
  {
   "cell_type": "code",
   "execution_count": 18,
   "metadata": {
    "ExecuteTime": {
     "end_time": "2019-03-02T13:55:42.067259Z",
     "start_time": "2019-03-02T13:55:42.058748Z"
    }
   },
   "outputs": [
    {
     "data": {
      "text/plain": [
       "2161.0"
      ]
     },
     "execution_count": 18,
     "metadata": {},
     "output_type": "execute_result"
    }
   ],
   "source": [
    "# Q. How much would it cost, in total, to buy 1 bottle of every wine produced in Chile?\n",
    "#\n",
    "chile_df['price'].sum()"
   ]
  },
  {
   "cell_type": "markdown",
   "metadata": {},
   "source": [
    "Use `min()` to get the minimum value in a column."
   ]
  },
  {
   "cell_type": "code",
   "execution_count": 19,
   "metadata": {
    "ExecuteTime": {
     "end_time": "2019-03-02T13:56:30.703151Z",
     "start_time": "2019-03-02T13:56:30.697386Z"
    }
   },
   "outputs": [
    {
     "data": {
      "text/plain": [
       "7.0"
      ]
     },
     "execution_count": 19,
     "metadata": {},
     "output_type": "execute_result"
    }
   ],
   "source": [
    "# Q. How much does the cheapest bottle of wine produced in Chile cost?\n",
    "#\n",
    "chile_df['price'].min()"
   ]
  },
  {
   "cell_type": "markdown",
   "metadata": {},
   "source": [
    "Use `max()` to get the maximum value in a column."
   ]
  },
  {
   "cell_type": "code",
   "execution_count": 20,
   "metadata": {
    "ExecuteTime": {
     "end_time": "2019-03-02T13:57:17.532862Z",
     "start_time": "2019-03-02T13:57:17.526174Z"
    }
   },
   "outputs": [
    {
     "data": {
      "text/plain": [
       "95"
      ]
     },
     "execution_count": 20,
     "metadata": {},
     "output_type": "execute_result"
    }
   ],
   "source": [
    "# Q. What is the highest score given to any bottle of wine produced in Chile?\n",
    "#\n",
    "chile_df['points'].max()"
   ]
  },
  {
   "cell_type": "markdown",
   "metadata": {},
   "source": [
    "Use `count()` to find the number of records in a `Series`."
   ]
  },
  {
   "cell_type": "code",
   "execution_count": 21,
   "metadata": {
    "ExecuteTime": {
     "end_time": "2019-03-02T13:58:12.563368Z",
     "start_time": "2019-03-02T13:58:12.557131Z"
    }
   },
   "outputs": [
    {
     "data": {
      "text/plain": [
       "95"
      ]
     },
     "execution_count": 21,
     "metadata": {},
     "output_type": "execute_result"
    }
   ],
   "source": [
    "#How many wines are there from Chile?\n",
    "chile_df['country'].count()"
   ]
  },
  {
   "cell_type": "markdown",
   "metadata": {},
   "source": [
    "### Measures of Central Tendency - Mean, Median, Mode"
   ]
  },
  {
   "cell_type": "markdown",
   "metadata": {},
   "source": [
    "**Mean of a sample, $\\bar{x}$**\n",
    "The formula for this is\n",
    "$$\\frac{\\sum_i x_i}{n}$$\n",
    "where $x_i$ is the point value for the $i$-th wine and $n$ is the number of wines in the dataset."
   ]
  },
  {
   "cell_type": "code",
   "execution_count": 22,
   "metadata": {
    "ExecuteTime": {
     "end_time": "2019-03-02T13:59:08.742220Z",
     "start_time": "2019-03-02T13:59:08.735747Z"
    }
   },
   "outputs": [
    {
     "data": {
      "text/plain": [
       "87.868"
      ]
     },
     "execution_count": 22,
     "metadata": {},
     "output_type": "execute_result"
    }
   ],
   "source": [
    "# Q. What is the mean of the points of all wines?\n",
    "#\n",
    "df['points'].mean()"
   ]
  },
  {
   "cell_type": "markdown",
   "metadata": {},
   "source": [
    "**Median of a sample, or $50\\text{th percentile}$ of a sample**\n",
    "\n",
    "The value output here simply means $50\\%$ of the observations is equal to or above this value, and the other $50\\%$ of the observations is below this value."
   ]
  },
  {
   "cell_type": "code",
   "execution_count": 23,
   "metadata": {
    "ExecuteTime": {
     "end_time": "2019-03-02T13:59:41.075345Z",
     "start_time": "2019-03-02T13:59:41.066406Z"
    }
   },
   "outputs": [
    {
     "data": {
      "text/plain": [
       "88.0"
      ]
     },
     "execution_count": 23,
     "metadata": {},
     "output_type": "execute_result"
    }
   ],
   "source": [
    "# Q. What is the median of the points of all wines?\n",
    "#\n",
    "df['points'].median()"
   ]
  },
  {
   "cell_type": "markdown",
   "metadata": {},
   "source": [
    "**Mode of a sample**, or most frequently occuring value"
   ]
  },
  {
   "cell_type": "code",
   "execution_count": 24,
   "metadata": {
    "ExecuteTime": {
     "end_time": "2019-03-02T14:00:47.827720Z",
     "start_time": "2019-03-02T14:00:47.819192Z"
    }
   },
   "outputs": [
    {
     "data": {
      "text/plain": [
       "0    87\n",
       "dtype: int64"
      ]
     },
     "execution_count": 24,
     "metadata": {},
     "output_type": "execute_result"
    }
   ],
   "source": [
    "# Q. What is the mode of points of all wines?\n",
    "#\n",
    "df['points'].mode() #.iloc[0]"
   ]
  },
  {
   "cell_type": "markdown",
   "metadata": {},
   "source": [
    "Validate the value above against the against the aggregation result and histogram plot below.\n",
    "<div class=\"alert alert-info\">\n",
    "<b>DS102 Learning Guidelines: </b> `groupby()` will only be covered in Week 2. Plotting will only be covered in Week 3. You are only expected to <b>interpret</b> the results.\n",
    "</div>"
   ]
  },
  {
   "cell_type": "code",
   "execution_count": 28,
   "metadata": {
    "ExecuteTime": {
     "end_time": "2019-03-02T14:01:01.714479Z",
     "start_time": "2019-03-02T14:01:01.259617Z"
    },
    "scrolled": false
   },
   "outputs": [
    {
     "data": {
      "image/png": "[encoded data removed]",
      "text/plain": [
       "<Figure size 1152x432 with 1 Axes>"
      ]
     },
     "metadata": {},
     "output_type": "display_data"
    }
   ],
   "source": [
    "# Use groupby() to aggregate the dataset and then use size() to get the number of records.\n",
    "# Convert this result to a df, where the size() column is renamed to 'n'\n",
    "df_p_agg = df.groupby('points').size().reset_index(name='n')\n",
    "# print(df_p_agg) # Uncomment this line to see the results of the aggregation\n",
    "\n",
    "# Plot the graph\n",
    "fig, ax = plt.subplots()\n",
    "df_p_agg.plot(kind='bar', x='points', y='n', ax=ax, figsize=(16, 6), color='tomato',)\n",
    "# Add the x-axis label, y-axis label (name of the axes) and the title\n",
    "ax.set_ylabel(\"No. of wines\")\n",
    "ax.set_xlabel(\"Points\")\n",
    "plt.title(\"Distribution of points for wines\", fontsize=16)\n",
    "# Show the result\n",
    "plt.show()"
   ]
  },
  {
   "cell_type": "markdown",
   "metadata": {},
   "source": [
    "### Measures of Spread - Variance, Standard Deviation"
   ]
  },
  {
   "cell_type": "markdown",
   "metadata": {},
   "source": [
    "**Variance, $\\sigma^2$**\n",
    "\n",
    "Variance is measured by taking the average of all distances of each observation from the mean. The larger the variance, the more spread out the dataset is. Mathematically,\n",
    "\n",
    "$$\\sigma^2 = \\frac{\\sum_i (x_i - \\bar x)^2}{n}$$\n",
    "\n",
    "where $n$ is the number of wines.\n",
    "\n",
    "**Be careful!** Specify `axis=0` as you are calculating the variance of a column. `axis=1` will represent calculating across a row."
   ]
  },
  {
   "cell_type": "code",
   "execution_count": 6,
   "metadata": {
    "ExecuteTime": {
     "end_time": "2019-03-02T14:02:24.155208Z",
     "start_time": "2019-03-02T14:02:24.146464Z"
    }
   },
   "outputs": [
    {
     "data": {
      "text/plain": [
       "9.94522440813595"
      ]
     },
     "execution_count": 6,
     "metadata": {},
     "output_type": "execute_result"
    }
   ],
   "source": [
    "# Use Series.var(axis=0) to get the variance of the Series. \n",
    "# What is the variance of points of all wines in the dataset?\n",
    "#\n",
    "df['points'].var()"
   ]
  },
  {
   "cell_type": "markdown",
   "metadata": {},
   "source": [
    "**Standard Deviation, $\\sigma$**\n",
    "Use `Series.std(axis=0)` to find the standard deviation of a numerical `Series`. Since the standard deviation is the square-root of the variance, taking variance, $\\sigma^2$ to the power of $\\frac 12$ will also return the standard deviation. Mathematically,\n",
    "\n",
    "$$\\sigma = \\sqrt {\\sigma^2} = \\sqrt{\\frac{\\sum_i (x_i - \\bar x)^2}{n}}$$"
   ]
  },
  {
   "cell_type": "code",
   "execution_count": 30,
   "metadata": {
    "ExecuteTime": {
     "end_time": "2019-03-02T14:02:46.784695Z",
     "start_time": "2019-03-02T14:02:46.777355Z"
    }
   },
   "outputs": [
    {
     "data": {
      "text/plain": [
       "3.1536049860653197"
      ]
     },
     "execution_count": 30,
     "metadata": {},
     "output_type": "execute_result"
    }
   ],
   "source": [
    "# Use Series.std(axis=0) to get the variance of the Series. \n",
    "# What is the standard deviation of points of all wines in the dataset?\n",
    "#\n",
    "df['points'].std()"
   ]
  },
  {
   "cell_type": "code",
   "execution_count": 10,
   "metadata": {
    "ExecuteTime": {
     "end_time": "2018-10-08T15:54:14.680881Z",
     "start_time": "2018-10-08T15:54:14.670871Z"
    },
    "scrolled": true
   },
   "outputs": [
    {
     "data": {
      "text/plain": [
       "True"
      ]
     },
     "execution_count": 10,
     "metadata": {},
     "output_type": "execute_result"
    }
   ],
   "source": [
    "# The LHS of this is the calculated standard deviation while \n",
    "# the RHS is the square root of the variance. They are equal.\n",
    "# Your turn: What do you need to the RHS so that the expression is True?\n",
    "\n",
    "df['points'].std(axis=0) == math.sqrt(df['points'].var(axis=0))"
   ]
  },
  {
   "cell_type": "markdown",
   "metadata": {},
   "source": [
    "<hr>\n",
    "## Self Study Content\n",
    "\n",
    "### Advanced Sample Statistics - Skewness"
   ]
  },
  {
   "cell_type": "markdown",
   "metadata": {},
   "source": [
    "Use `Series.skew()` to find the skewness of the dataset. This will mean if the dataset is left-tailed or right-tailed. If the dataset is left-tailed, then more datapoints are higher than the mean. If the dataset is right-tailed, more datapoints are lower than the mean.\n",
    "\n",
    "Interpret the skewness score as follows:\n",
    "- If the skewness is $0$ then the observations are symmetrical. \n",
    "- If the skewness is positive $(>0)$ then the dataset is skewed right (right-tailed). \n",
    "- If the skewness is negative $(<0)$then the dataset is left-skewed (left-tailed)."
   ]
  },
  {
   "cell_type": "code",
   "execution_count": 15,
   "metadata": {
    "ExecuteTime": {
     "end_time": "2018-10-08T15:54:14.698608Z",
     "start_time": "2018-10-08T15:54:14.689444Z"
    },
    "scrolled": true
   },
   "outputs": [
    {
     "data": {
      "text/plain": [
       "5.07330043918119"
      ]
     },
     "execution_count": 15,
     "metadata": {},
     "output_type": "execute_result"
    }
   ],
   "source": [
    "# Use Series.skew() to find the skewness of 'price\n",
    "df['price'].skew()\n",
    "\n",
    "# Q. Using the results, which series is (relatively) symmetrical? \n",
    "# no\n",
    "# Q. In which direction is 'price' skewed?\n",
    "# right-tailed"
   ]
  },
  {
   "cell_type": "markdown",
   "metadata": {},
   "source": [
    "<div class=\"alert alert-info\">\n",
    "<b>DS102 Learning Guidelines: </b> Plotting will only be covered in Week 3. You are only expected to <b>interpret</b> the results.\n",
    "</div>"
   ]
  },
  {
   "cell_type": "code",
   "execution_count": 16,
   "metadata": {
    "ExecuteTime": {
     "end_time": "2018-10-08T15:54:15.125894Z",
     "start_time": "2018-10-08T15:54:14.703428Z"
    },
    "scrolled": false
   },
   "outputs": [
    {
     "data": {
      "image/png": "[encoded data removed]",
      "text/plain": [
       "<Figure size 1296x432 with 1 Axes>"
      ]
     },
     "metadata": {
      "needs_background": "light"
     },
     "output_type": "display_data"
    }
   ],
   "source": [
    "# Create the figure and the subplots\n",
    "plt.figure(figsize=(18, 6))\n",
    "#Plot the histogram for 'price'. \n",
    "ax1 = plt.subplot(111)\n",
    "df['price'].plot(kind='hist', bins=50 , ax=ax1)\n",
    "ax1.set_xlabel(\"price\", fontsize=14)\n",
    "plt.title(\"Histogram for price of wines, 50 bins\")\n",
    "# Show the plot\n",
    "plt.show()"
   ]
  },
  {
   "cell_type": "markdown",
   "metadata": {},
   "source": [
    "### Advanced Sample Statistics - Kurtosis\n",
    "\n",
    "Use `Series.kurt()` to find the kurtosis score of the dataset. This will mean how heavy the tails are, compared to a normal distribution.\n",
    "\n",
    "Compared to a (fitted) normal distribution, if the observations have excessively fat tails, the kurtosis is positive. The kurtosis of a normal distribution is $0$. If the observations a very light tail, then the kurtosis is negative."
   ]
  },
  {
   "cell_type": "code",
   "execution_count": 11,
   "metadata": {
    "ExecuteTime": {
     "end_time": "2018-10-08T15:54:15.139000Z",
     "start_time": "2018-10-08T15:54:15.130129Z"
    },
    "scrolled": true
   },
   "outputs": [
    {
     "data": {
      "text/plain": [
       "-0.17706562389098268"
      ]
     },
     "execution_count": 11,
     "metadata": {},
     "output_type": "execute_result"
    }
   ],
   "source": [
    "# Find the kurtosis score of 'points'\n",
    "df['points'].kurt()"
   ]
  },
  {
   "cell_type": "markdown",
   "metadata": {},
   "source": [
    "<div class=\"alert alert-info\">\n",
    "<b>DS102 Learning Guidelines: </b> Plotting will only be covered in Week 3. Plotting a fitted curve is not covered in DS102. You are only expected to <b>interpret</b> the results.\n",
    "</div>"
   ]
  },
  {
   "cell_type": "code",
   "execution_count": 13,
   "metadata": {
    "ExecuteTime": {
     "end_time": "2018-10-08T15:54:15.821589Z",
     "start_time": "2018-10-08T15:54:15.143331Z"
    }
   },
   "outputs": [
    {
     "ename": "NameError",
     "evalue": "name 'norm' is not defined",
     "output_type": "error",
     "traceback": [
      "\u001b[0;31m---------------------------------------------------------------------------\u001b[0m",
      "\u001b[0;31mNameError\u001b[0m                                 Traceback (most recent call last)",
      "\u001b[0;32m<ipython-input-13-cec19b0d7f61>\u001b[0m in \u001b[0;36m<module>\u001b[0;34m\u001b[0m\n\u001b[1;32m     18\u001b[0m \u001b[0mx\u001b[0m \u001b[0;34m=\u001b[0m \u001b[0mnp\u001b[0m\u001b[0;34m.\u001b[0m\u001b[0mlinspace\u001b[0m\u001b[0;34m(\u001b[0m\u001b[0mxmin\u001b[0m\u001b[0;34m-\u001b[0m\u001b[0;36m4\u001b[0m\u001b[0;34m,\u001b[0m \u001b[0mxmax\u001b[0m\u001b[0;34m+\u001b[0m\u001b[0;36m4\u001b[0m\u001b[0;34m,\u001b[0m \u001b[0;36m120\u001b[0m\u001b[0;34m)\u001b[0m\u001b[0;34m\u001b[0m\u001b[0;34m\u001b[0m\u001b[0m\n\u001b[1;32m     19\u001b[0m \u001b[0;31m# Given the parameters of a normal distribution, calculate the y-coordinates\u001b[0m\u001b[0;34m\u001b[0m\u001b[0;34m\u001b[0m\u001b[0;34m\u001b[0m\u001b[0m\n\u001b[0;32m---> 20\u001b[0;31m \u001b[0mp\u001b[0m \u001b[0;34m=\u001b[0m \u001b[0mnorm\u001b[0m\u001b[0;34m.\u001b[0m\u001b[0mpdf\u001b[0m\u001b[0;34m(\u001b[0m\u001b[0mx\u001b[0m\u001b[0;34m,\u001b[0m \u001b[0mdf\u001b[0m\u001b[0;34m[\u001b[0m\u001b[0;34m'points'\u001b[0m\u001b[0;34m]\u001b[0m\u001b[0;34m.\u001b[0m\u001b[0mmean\u001b[0m\u001b[0;34m(\u001b[0m\u001b[0;34m)\u001b[0m\u001b[0;34m,\u001b[0m \u001b[0mdf\u001b[0m\u001b[0;34m[\u001b[0m\u001b[0;34m'points'\u001b[0m\u001b[0;34m]\u001b[0m\u001b[0;34m.\u001b[0m\u001b[0mstd\u001b[0m\u001b[0;34m(\u001b[0m\u001b[0;34m)\u001b[0m\u001b[0;34m)\u001b[0m\u001b[0;34m\u001b[0m\u001b[0;34m\u001b[0m\u001b[0m\n\u001b[0m\u001b[1;32m     21\u001b[0m \u001b[0;31m# Plot this fitted normal curve on the same subplot\u001b[0m\u001b[0;34m\u001b[0m\u001b[0;34m\u001b[0m\u001b[0;34m\u001b[0m\u001b[0m\n\u001b[1;32m     22\u001b[0m \u001b[0mplt\u001b[0m\u001b[0;34m.\u001b[0m\u001b[0mplot\u001b[0m\u001b[0;34m(\u001b[0m\u001b[0mx\u001b[0m\u001b[0;34m,\u001b[0m \u001b[0mp\u001b[0m\u001b[0;34m,\u001b[0m \u001b[0;34m'k'\u001b[0m\u001b[0;34m,\u001b[0m \u001b[0mlinewidth\u001b[0m\u001b[0;34m=\u001b[0m\u001b[0;36m2\u001b[0m\u001b[0;34m,\u001b[0m \u001b[0mcolor\u001b[0m\u001b[0;34m=\u001b[0m\u001b[0;34m'black'\u001b[0m\u001b[0;34m)\u001b[0m\u001b[0;34m\u001b[0m\u001b[0;34m\u001b[0m\u001b[0m\n",
      "\u001b[0;31mNameError\u001b[0m: name 'norm' is not defined"
     ]
    },
    {
     "data": {
      "image/png": "[encoded data removed]",
      "text/plain": [
       "<Figure size 1296x1008 with 1 Axes>"
      ]
     },
     "metadata": {
      "needs_background": "light"
     },
     "output_type": "display_data"
    }
   ],
   "source": [
    "import seaborn as sns\n",
    "\n",
    "# Plots will be covered in Week 3\n",
    "plt.figure(figsize=(18, 14))\n",
    "# Plot the histogram\n",
    "ax1 = plt.subplot(111)\n",
    "sns.kdeplot(df['points'])\n",
    "ax1.set_xlabel(\"price\")\n",
    "plt.title(\"KDE plot for points of wines\")\n",
    "\n",
    "# Uncomment the lines below to show the fitted normal plot\n",
    "# Note: Plotting a fitted plot is not in the DS102 syllabus\n",
    "# Get the limits of the plot\n",
    "xmin, xmax = plt.xlim()\n",
    "# Extend the limits by 4 on both ends. In this limit, create 120 evenly spaced points representing\n",
    "# a series of 120 x-coordinates. This is to clearly see how the tail-end of the distribution looks like\n",
    "# to determine kurtosis\n",
    "x = np.linspace(xmin-4, xmax+4, 120)\n",
    "# Given the parameters of a normal distribution, calculate the y-coordinates\n",
    "p = norm.pdf(x, df['points'].mean(), df['points'].std())\n",
    "# Plot this fitted normal curve on the same subplot\n",
    "plt.plot(x, p, 'k', linewidth=2, color='black')\n",
    "\n",
    "# Show the plot\n",
    "plt.show()"
   ]
  },
  {
   "cell_type": "markdown",
   "metadata": {},
   "source": [
    "**Credits**\n",
    "- [Wine Reviews, Kaggle](https://www.kaggle.com/zynicide/wine-reviews) for the dataset\n",
    "<hr>\n",
    "`HWA-DS102-INCLASS-1C-201810`"
   ]
  }
 ],
 "metadata": {
  "kernelspec": {
   "display_name": "Python 3",
   "language": "python",
   "name": "python3"
  },
  "language_info": {
   "codemirror_mode": {
    "name": "ipython",
    "version": 3
   },
   "file_extension": ".py",
   "mimetype": "text/x-python",
   "name": "python",
   "nbconvert_exporter": "python",
   "pygments_lexer": "ipython3",
   "version": "3.7.6"
  }
 },
 "nbformat": 4,
 "nbformat_minor": 2
}
