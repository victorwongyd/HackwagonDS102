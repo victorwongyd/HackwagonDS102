{
 "cells": [
  {
   "cell_type": "markdown",
   "metadata": {},
   "source": [
    "### DS102 | In Class Practice Week 1B - Pandas & Numpy I\n",
    "<hr>\n",
    "## Learning Objectives\n",
    "At the end of the lesson, you will be able to:\n",
    "\n",
    "- read a CSV file into a `DataFrame` with default `sep` parameters as separators\n",
    "\n",
    "- find out key properties (`shape`, `columns`, `dtypes`) of a `DataFrame`.\n",
    "\n",
    "- Use `head()` and `sample()` to look at a subset of the dataset\n",
    "\n",
    "\n",
    "- retrieve a row from a `DataFrame` using indices and `.iloc`\n",
    "\n",
    "- retrieve a column from a `DataFrame`, recognising this gives a `Series` \n",
    "\n",
    "\n",
    "- filter data using numeric comparators e.g. `>=1000`\n",
    "\n",
    "- filter data using string equality comparators e.g. `== 'RED'`\n",
    "\n",
    "- filter data using multiple conditions using `.isin()` e.g. `.isin([1, 2, 3])`\n",
    "\n",
    "- filter data using two conditions, using the AND clause\n",
    "\n",
    "\n",
    "### Datasets Required for this In Class\n",
    "1. `employees-1k.csv`"
   ]
  },
  {
   "cell_type": "markdown",
   "metadata": {},
   "source": [
    "#### Import `pandas` and `numpy`"
   ]
  },
  {
   "cell_type": "code",
   "execution_count": 1,
   "metadata": {
    "ExecuteTime": {
     "end_time": "2018-10-08T15:07:41.500298Z",
     "start_time": "2018-10-08T15:07:41.142440Z"
    }
   },
   "outputs": [],
   "source": [
    "# import pandas & numpy, with aliases\n",
    "import pandas as pd\n",
    "import numpy as np"
   ]
  },
  {
   "cell_type": "markdown",
   "metadata": {},
   "source": [
    "### Instantiate a `DataFrame`"
   ]
  },
  {
   "cell_type": "markdown",
   "metadata": {},
   "source": [
    "**Instantiate a `DataFrame` from an external CSV file**\n",
    "To manipulate data as a `DataFrame`, use `pd.read_csv()` to read the CSV file into a `DataFrame`. Refer to the documentation [here](https://pandas.pydata.org/pandas-docs/stable/generated/pandas.read_csv.html#pandas.read_csv)."
   ]
  },
  {
   "cell_type": "code",
   "execution_count": 6,
   "metadata": {
    "ExecuteTime": {
     "end_time": "2018-10-08T15:07:41.511964Z",
     "start_time": "2018-10-08T15:07:41.502820Z"
    }
   },
   "outputs": [
    {
     "data": {
      "text/html": [
       "<div>\n",
       "<style scoped>\n",
       "    .dataframe tbody tr th:only-of-type {\n",
       "        vertical-align: middle;\n",
       "    }\n",
       "\n",
       "    .dataframe tbody tr th {\n",
       "        vertical-align: top;\n",
       "    }\n",
       "\n",
       "    .dataframe thead th {\n",
       "        text-align: right;\n",
       "    }\n",
       "</style>\n",
       "<table border=\"1\" class=\"dataframe\">\n",
       "  <thead>\n",
       "    <tr style=\"text-align: right;\">\n",
       "      <th></th>\n",
       "      <th>employee_id</th>\n",
       "      <th>annual_inc</th>\n",
       "      <th>employee_title</th>\n",
       "      <th>home_ownership</th>\n",
       "    </tr>\n",
       "  </thead>\n",
       "  <tbody>\n",
       "    <tr>\n",
       "      <th>0</th>\n",
       "      <td>44037036</td>\n",
       "      <td>55000.0</td>\n",
       "      <td>Account Specialist</td>\n",
       "      <td>OWN</td>\n",
       "    </tr>\n",
       "    <tr>\n",
       "      <th>1</th>\n",
       "      <td>41036228</td>\n",
       "      <td>184000.0</td>\n",
       "      <td>IT Architect</td>\n",
       "      <td>MORTGAGE</td>\n",
       "    </tr>\n",
       "    <tr>\n",
       "      <th>2</th>\n",
       "      <td>67601397</td>\n",
       "      <td>30000.0</td>\n",
       "      <td>night auditor</td>\n",
       "      <td>RENT</td>\n",
       "    </tr>\n",
       "    <tr>\n",
       "      <th>3</th>\n",
       "      <td>64972576</td>\n",
       "      <td>72000.0</td>\n",
       "      <td>Field Service Representative</td>\n",
       "      <td>MORTGAGE</td>\n",
       "    </tr>\n",
       "    <tr>\n",
       "      <th>4</th>\n",
       "      <td>59922079</td>\n",
       "      <td>84000.0</td>\n",
       "      <td>Senior Pastor</td>\n",
       "      <td>MORTGAGE</td>\n",
       "    </tr>\n",
       "  </tbody>\n",
       "</table>\n",
       "</div>"
      ],
      "text/plain": [
       "   employee_id  annual_inc                employee_title home_ownership\n",
       "0     44037036     55000.0            Account Specialist            OWN\n",
       "1     41036228    184000.0                  IT Architect       MORTGAGE\n",
       "2     67601397     30000.0                 night auditor           RENT\n",
       "3     64972576     72000.0  Field Service Representative       MORTGAGE\n",
       "4     59922079     84000.0                 Senior Pastor       MORTGAGE"
      ]
     },
     "execution_count": 6,
     "metadata": {},
     "output_type": "execute_result"
    }
   ],
   "source": [
    "# Read from CSV file\n",
    "df = pd.read_csv('employees-1k.csv')\n",
    "df.head()"
   ]
  },
  {
   "cell_type": "markdown",
   "metadata": {},
   "source": [
    "Find out the no. of rows and columns using `df.shape`"
   ]
  },
  {
   "cell_type": "code",
   "execution_count": 7,
   "metadata": {
    "ExecuteTime": {
     "end_time": "2018-10-08T15:07:41.537816Z",
     "start_time": "2018-10-08T15:07:41.517565Z"
    }
   },
   "outputs": [
    {
     "name": "stdout",
     "output_type": "stream",
     "text": [
      "(1000, 4)\n"
     ]
    }
   ],
   "source": [
    "# Find no. of rows and columns\n",
    "v= df.shape\n",
    "print(v)"
   ]
  },
  {
   "cell_type": "markdown",
   "metadata": {},
   "source": [
    "Check the columns in the `DataFrame` using `df.dtypes` and `df.columns`"
   ]
  },
  {
   "cell_type": "code",
   "execution_count": 8,
   "metadata": {
    "ExecuteTime": {
     "end_time": "2018-10-08T15:07:41.549462Z",
     "start_time": "2018-10-08T15:07:41.541148Z"
    }
   },
   "outputs": [
    {
     "data": {
      "text/plain": [
       "employee_id         int64\n",
       "annual_inc        float64\n",
       "employee_title     object\n",
       "home_ownership     object\n",
       "dtype: object"
      ]
     },
     "execution_count": 8,
     "metadata": {},
     "output_type": "execute_result"
    }
   ],
   "source": [
    "# Check the columns using dtypes\n",
    "df.dtypes"
   ]
  },
  {
   "cell_type": "code",
   "execution_count": 9,
   "metadata": {
    "ExecuteTime": {
     "end_time": "2018-10-08T15:07:41.559553Z",
     "start_time": "2018-10-08T15:07:41.553226Z"
    },
    "scrolled": true
   },
   "outputs": [
    {
     "data": {
      "text/plain": [
       "Index(['employee_id', 'annual_inc', 'employee_title', 'home_ownership'], dtype='object')"
      ]
     },
     "execution_count": 9,
     "metadata": {},
     "output_type": "execute_result"
    }
   ],
   "source": [
    "# Check the columns using columns\n",
    "df.columns"
   ]
  },
  {
   "cell_type": "markdown",
   "metadata": {},
   "source": [
    "Find out what's in the dataset using `head()` or `sample()`. `head()` will show the first 5 records by default, while `sample()` will randomly select and show 1 record by default."
   ]
  },
  {
   "cell_type": "code",
   "execution_count": 10,
   "metadata": {
    "ExecuteTime": {
     "end_time": "2018-10-08T15:07:41.589725Z",
     "start_time": "2018-10-08T15:07:41.563148Z"
    }
   },
   "outputs": [
    {
     "data": {
      "text/html": [
       "<div>\n",
       "<style scoped>\n",
       "    .dataframe tbody tr th:only-of-type {\n",
       "        vertical-align: middle;\n",
       "    }\n",
       "\n",
       "    .dataframe tbody tr th {\n",
       "        vertical-align: top;\n",
       "    }\n",
       "\n",
       "    .dataframe thead th {\n",
       "        text-align: right;\n",
       "    }\n",
       "</style>\n",
       "<table border=\"1\" class=\"dataframe\">\n",
       "  <thead>\n",
       "    <tr style=\"text-align: right;\">\n",
       "      <th></th>\n",
       "      <th>employee_id</th>\n",
       "      <th>annual_inc</th>\n",
       "      <th>employee_title</th>\n",
       "      <th>home_ownership</th>\n",
       "    </tr>\n",
       "  </thead>\n",
       "  <tbody>\n",
       "    <tr>\n",
       "      <th>0</th>\n",
       "      <td>44037036</td>\n",
       "      <td>55000.0</td>\n",
       "      <td>Account Specialist</td>\n",
       "      <td>OWN</td>\n",
       "    </tr>\n",
       "    <tr>\n",
       "      <th>1</th>\n",
       "      <td>41036228</td>\n",
       "      <td>184000.0</td>\n",
       "      <td>IT Architect</td>\n",
       "      <td>MORTGAGE</td>\n",
       "    </tr>\n",
       "    <tr>\n",
       "      <th>2</th>\n",
       "      <td>67601397</td>\n",
       "      <td>30000.0</td>\n",
       "      <td>night auditor</td>\n",
       "      <td>RENT</td>\n",
       "    </tr>\n",
       "    <tr>\n",
       "      <th>3</th>\n",
       "      <td>64972576</td>\n",
       "      <td>72000.0</td>\n",
       "      <td>Field Service Representative</td>\n",
       "      <td>MORTGAGE</td>\n",
       "    </tr>\n",
       "    <tr>\n",
       "      <th>4</th>\n",
       "      <td>59922079</td>\n",
       "      <td>84000.0</td>\n",
       "      <td>Senior Pastor</td>\n",
       "      <td>MORTGAGE</td>\n",
       "    </tr>\n",
       "  </tbody>\n",
       "</table>\n",
       "</div>"
      ],
      "text/plain": [
       "   employee_id  annual_inc                employee_title home_ownership\n",
       "0     44037036     55000.0            Account Specialist            OWN\n",
       "1     41036228    184000.0                  IT Architect       MORTGAGE\n",
       "2     67601397     30000.0                 night auditor           RENT\n",
       "3     64972576     72000.0  Field Service Representative       MORTGAGE\n",
       "4     59922079     84000.0                 Senior Pastor       MORTGAGE"
      ]
     },
     "execution_count": 10,
     "metadata": {},
     "output_type": "execute_result"
    }
   ],
   "source": [
    "# Find the first few records with .head()\n",
    "df.head()"
   ]
  },
  {
   "cell_type": "code",
   "execution_count": 18,
   "metadata": {
    "ExecuteTime": {
     "end_time": "2018-10-08T15:07:41.608842Z",
     "start_time": "2018-10-08T15:07:41.593633Z"
    }
   },
   "outputs": [
    {
     "data": {
      "text/html": [
       "<div>\n",
       "<style scoped>\n",
       "    .dataframe tbody tr th:only-of-type {\n",
       "        vertical-align: middle;\n",
       "    }\n",
       "\n",
       "    .dataframe tbody tr th {\n",
       "        vertical-align: top;\n",
       "    }\n",
       "\n",
       "    .dataframe thead th {\n",
       "        text-align: right;\n",
       "    }\n",
       "</style>\n",
       "<table border=\"1\" class=\"dataframe\">\n",
       "  <thead>\n",
       "    <tr style=\"text-align: right;\">\n",
       "      <th></th>\n",
       "      <th>employee_id</th>\n",
       "      <th>annual_inc</th>\n",
       "      <th>employee_title</th>\n",
       "      <th>home_ownership</th>\n",
       "    </tr>\n",
       "  </thead>\n",
       "  <tbody>\n",
       "    <tr>\n",
       "      <th>937</th>\n",
       "      <td>13867035</td>\n",
       "      <td>60000.0</td>\n",
       "      <td>RN</td>\n",
       "      <td>RENT</td>\n",
       "    </tr>\n",
       "  </tbody>\n",
       "</table>\n",
       "</div>"
      ],
      "text/plain": [
       "     employee_id  annual_inc employee_title home_ownership\n",
       "937     13867035     60000.0             RN           RENT"
      ]
     },
     "execution_count": 18,
     "metadata": {},
     "output_type": "execute_result"
    }
   ],
   "source": [
    "# Randomly sample (without replacement) with .sample()\n",
    "df.sample() "
   ]
  },
  {
   "cell_type": "markdown",
   "metadata": {},
   "source": [
    "### Retrieve records & columns from a `DataFrame`"
   ]
  },
  {
   "cell_type": "markdown",
   "metadata": {},
   "source": [
    "#### Retrieve a column from a `DataFrame`\n",
    "We will now retrieve all the `annual_inc` data from the `df`. Use the column name to retrieve the column and store that as a new variable `annual_incs`. This is known as a `Series`. \n",
    "<div class=\"alert alert-info\">\n",
    "<b>DS102 Learning Guidelines: </b>For DS102, only store <u>1 column</u> in a `Series`. Refer to [the documentation](https://pandas.pydata.org/pandas-docs/stable/advanced.html) for other ways a `Series` can be represented.\n",
    "</div>"
   ]
  },
  {
   "cell_type": "code",
   "execution_count": 19,
   "metadata": {
    "ExecuteTime": {
     "end_time": "2018-10-08T15:07:41.618608Z",
     "start_time": "2018-10-08T15:07:41.612575Z"
    }
   },
   "outputs": [],
   "source": [
    "# Retrieve a series from a dataframe and verify that the datatype is a Series\n",
    "emp_ids = df['employee_id']"
   ]
  },
  {
   "cell_type": "code",
   "execution_count": 20,
   "metadata": {
    "ExecuteTime": {
     "end_time": "2018-10-08T15:07:41.639600Z",
     "start_time": "2018-10-08T15:07:41.623611Z"
    }
   },
   "outputs": [
    {
     "data": {
      "text/plain": [
       "0    44037036\n",
       "1    41036228\n",
       "2    67601397\n",
       "3    64972576\n",
       "4    59922079\n",
       "Name: employee_id, dtype: int64"
      ]
     },
     "execution_count": 20,
     "metadata": {},
     "output_type": "execute_result"
    }
   ],
   "source": [
    "# Use Series.head() to show the first records\n",
    "emp_ids.head()"
   ]
  },
  {
   "cell_type": "code",
   "execution_count": 28,
   "metadata": {
    "ExecuteTime": {
     "end_time": "2018-10-08T15:07:41.654292Z",
     "start_time": "2018-10-08T15:07:41.644420Z"
    }
   },
   "outputs": [
    {
     "data": {
      "text/plain": [
       "261    10799071\n",
       "Name: employee_id, dtype: int64"
      ]
     },
     "execution_count": 28,
     "metadata": {},
     "output_type": "execute_result"
    }
   ],
   "source": [
    "# Use Series.sample() to sample records from the Series\n",
    "# (Note the indices of the Series. They are random.)\n",
    "emp_ids.sample()"
   ]
  },
  {
   "cell_type": "code",
   "execution_count": 29,
   "metadata": {
    "ExecuteTime": {
     "end_time": "2018-10-08T15:07:41.668638Z",
     "start_time": "2018-10-08T15:07:41.661258Z"
    }
   },
   "outputs": [
    {
     "name": "stdout",
     "output_type": "stream",
     "text": [
      "<class 'pandas.core.series.Series'>\n",
      "<class 'pandas.core.frame.DataFrame'>\n"
     ]
    }
   ],
   "source": [
    "# Verify that the datatype is a Series\n",
    "print(type(emp_ids))\n",
    "print(type(df))"
   ]
  },
  {
   "cell_type": "markdown",
   "metadata": {},
   "source": [
    "#### Retrieve a record from a `DataFrame`\n",
    "To retrieve just 1 record from the `DataFrame`, use `.iloc` and specify the index of the record. Put this value in the square brackets `[]`.\n",
    "\n",
    "Note: When you do this, the datatype of the result is a `Series`. Use the index in the `Series` to retrieve the value."
   ]
  },
  {
   "cell_type": "code",
   "execution_count": 16,
   "metadata": {
    "ExecuteTime": {
     "end_time": "2018-10-08T15:07:41.693503Z",
     "start_time": "2018-10-08T15:07:41.672872Z"
    }
   },
   "outputs": [
    {
     "data": {
      "text/html": [
       "<div>\n",
       "<style scoped>\n",
       "    .dataframe tbody tr th:only-of-type {\n",
       "        vertical-align: middle;\n",
       "    }\n",
       "\n",
       "    .dataframe tbody tr th {\n",
       "        vertical-align: top;\n",
       "    }\n",
       "\n",
       "    .dataframe thead th {\n",
       "        text-align: right;\n",
       "    }\n",
       "</style>\n",
       "<table border=\"1\" class=\"dataframe\">\n",
       "  <thead>\n",
       "    <tr style=\"text-align: right;\">\n",
       "      <th></th>\n",
       "      <th>employee_id</th>\n",
       "      <th>annual_inc</th>\n",
       "      <th>employee_title</th>\n",
       "      <th>home_ownership</th>\n",
       "    </tr>\n",
       "  </thead>\n",
       "  <tbody>\n",
       "    <tr>\n",
       "      <th>0</th>\n",
       "      <td>44037036</td>\n",
       "      <td>55000.0</td>\n",
       "      <td>Account Specialist</td>\n",
       "      <td>OWN</td>\n",
       "    </tr>\n",
       "    <tr>\n",
       "      <th>1</th>\n",
       "      <td>41036228</td>\n",
       "      <td>184000.0</td>\n",
       "      <td>IT Architect</td>\n",
       "      <td>MORTGAGE</td>\n",
       "    </tr>\n",
       "    <tr>\n",
       "      <th>2</th>\n",
       "      <td>67601397</td>\n",
       "      <td>30000.0</td>\n",
       "      <td>night auditor</td>\n",
       "      <td>RENT</td>\n",
       "    </tr>\n",
       "    <tr>\n",
       "      <th>3</th>\n",
       "      <td>64972576</td>\n",
       "      <td>72000.0</td>\n",
       "      <td>Field Service Representative</td>\n",
       "      <td>MORTGAGE</td>\n",
       "    </tr>\n",
       "    <tr>\n",
       "      <th>4</th>\n",
       "      <td>59922079</td>\n",
       "      <td>84000.0</td>\n",
       "      <td>Senior Pastor</td>\n",
       "      <td>MORTGAGE</td>\n",
       "    </tr>\n",
       "  </tbody>\n",
       "</table>\n",
       "</div>"
      ],
      "text/plain": [
       "   employee_id  annual_inc                employee_title home_ownership\n",
       "0     44037036     55000.0            Account Specialist            OWN\n",
       "1     41036228    184000.0                  IT Architect       MORTGAGE\n",
       "2     67601397     30000.0                 night auditor           RENT\n",
       "3     64972576     72000.0  Field Service Representative       MORTGAGE\n",
       "4     59922079     84000.0                 Senior Pastor       MORTGAGE"
      ]
     },
     "execution_count": 16,
     "metadata": {},
     "output_type": "execute_result"
    }
   ],
   "source": [
    "# Exercise: How do you show the first 5 records of the df?\n",
    "df.head()"
   ]
  },
  {
   "cell_type": "code",
   "execution_count": 17,
   "metadata": {
    "ExecuteTime": {
     "end_time": "2018-10-08T15:07:41.711777Z",
     "start_time": "2018-10-08T15:07:41.700057Z"
    },
    "scrolled": true
   },
   "outputs": [
    {
     "data": {
      "text/plain": [
       "employee_id           41036228\n",
       "annual_inc              184000\n",
       "employee_title    IT Architect\n",
       "home_ownership        MORTGAGE\n",
       "Name: 1, dtype: object"
      ]
     },
     "execution_count": 17,
     "metadata": {},
     "output_type": "execute_result"
    }
   ],
   "source": [
    "# Retrieve the second record from the df using .iloc[] and validate the result. (index locate)\n",
    "# Store this in a variable called row_2\n",
    "row_2 = df.iloc[1]\n",
    "row_2"
   ]
  },
  {
   "cell_type": "code",
   "execution_count": 30,
   "metadata": {
    "ExecuteTime": {
     "end_time": "2018-10-08T15:07:41.722197Z",
     "start_time": "2018-10-08T15:07:41.715220Z"
    }
   },
   "outputs": [
    {
     "name": "stdout",
     "output_type": "stream",
     "text": [
      "<class 'pandas.core.series.Series'>\n"
     ]
    }
   ],
   "source": [
    "# Verify that the datatype is a Series, where the index are now the column names.\n",
    "print(type(row_2))"
   ]
  },
  {
   "cell_type": "code",
   "execution_count": 32,
   "metadata": {},
   "outputs": [
    {
     "name": "stdout",
     "output_type": "stream",
     "text": [
      "184000.0\n"
     ]
    }
   ],
   "source": [
    "#Get the employee's annual_inc\n",
    "annual_inc = row_2['annual_inc']\n",
    "print(annual_inc)"
   ]
  },
  {
   "cell_type": "code",
   "execution_count": 33,
   "metadata": {},
   "outputs": [
    {
     "data": {
      "text/plain": [
       "44037036"
      ]
     },
     "execution_count": 33,
     "metadata": {},
     "output_type": "execute_result"
    }
   ],
   "source": [
    "#You can use iloc for Series too. Retrieve the first record in annual_incs.\n",
    "# Retreve the first record from the annual_incs Series using.iloc\n",
    "emp_ids.iloc[0]"
   ]
  },
  {
   "cell_type": "code",
   "execution_count": 40,
   "metadata": {
    "ExecuteTime": {
     "end_time": "2018-10-08T15:07:41.733514Z",
     "start_time": "2018-10-08T15:07:41.725916Z"
    }
   },
   "outputs": [
    {
     "name": "stdout",
     "output_type": "stream",
     "text": [
      "The employee with ID 41036228 has the job title IT Architect and has a MORTGAGE.\n"
     ]
    }
   ],
   "source": [
    "# Complete the following code to retrieve the employee_id and employee_title and home_ownership\n",
    "emp_id = row_2['employee_id']\n",
    "emp_title = row_2['employee_title']\n",
    "emp_home = row_2['home_ownership']\n",
    "\n",
    "# Then, fill in the blanks in the following statement.\n",
    "print('The employee with ID ' + str(emp_id) + ' has the job title ' + emp_title + ' and has a ' + emp_home + '.')"
   ]
  },
  {
   "cell_type": "code",
   "execution_count": 41,
   "metadata": {
    "ExecuteTime": {
     "end_time": "2018-10-08T15:07:41.749835Z",
     "start_time": "2018-10-08T15:07:41.737783Z"
    }
   },
   "outputs": [
    {
     "name": "stdout",
     "output_type": "stream",
     "text": [
      "The employee with ID20967626 has $52000.0.\n",
      "52000.0\n",
      "52000.0\n"
     ]
    }
   ],
   "source": [
    "# Your turn: What is the employee ID and annual income of the 11th employee (index=10)\n",
    "# Write your code here\n",
    "\n",
    "row_11 = df.iloc[10]\n",
    "\n",
    "emp_10id = row_11['employee_id']\n",
    "emp_10income = row_11['annual_inc']\n",
    "\n",
    "print('The employee with ID' + str(emp_10id) + ' has $' + str(emp_10income) + '.')\n",
    "\n",
    "# emp_10id = 0.0\n",
    "# emp_10annual_inc = 0.0\n",
    "\n",
    "# Then, fill in the blanks in the following statement. Debug the code by \n",
    "# specifying the correct datatypes of the variables.\n",
    "# print('The employee with ID ' + emp_9id + ' has an annual income of ' + emp_9annual_inc + '.')\n",
    "\n",
    "\n",
    "#Retrieve the annual_inc of \n",
    "\n",
    "# First the row then the column\n",
    "row10 = df.iloc[10]\n",
    "print(row10['annual_inc'])\n",
    "\n",
    "#First the column then the row\n",
    "annual_incs = df['annual_inc']\n",
    "print(annual_incs.iloc[10])"
   ]
  },
  {
   "cell_type": "markdown",
   "metadata": {},
   "source": [
    "### Filter records from a `DataFrame`"
   ]
  },
  {
   "cell_type": "markdown",
   "metadata": {},
   "source": [
    "#### Filtering by one condition, numeric\n",
    "\n",
    "To perform filtering by numeric values, first **check that the column is a numeric column (`int64` or `float64`)**. It was already done when you used `df.dtypes`. Then, use the following signature to do so:\n",
    "```python\n",
    "df[df['column'] <conditional operator> <value>]\n",
    "```\n",
    "Take note of the open & close square brackets, and how a condition is expressed, where you use a **column name**, a **conditional operator** and a **value**."
   ]
  },
  {
   "cell_type": "code",
   "execution_count": 37,
   "metadata": {
    "ExecuteTime": {
     "end_time": "2018-10-08T15:07:41.777110Z",
     "start_time": "2018-10-08T15:07:41.753890Z"
    }
   },
   "outputs": [
    {
     "data": {
      "text/html": [
       "<div>\n",
       "<style scoped>\n",
       "    .dataframe tbody tr th:only-of-type {\n",
       "        vertical-align: middle;\n",
       "    }\n",
       "\n",
       "    .dataframe tbody tr th {\n",
       "        vertical-align: top;\n",
       "    }\n",
       "\n",
       "    .dataframe thead th {\n",
       "        text-align: right;\n",
       "    }\n",
       "</style>\n",
       "<table border=\"1\" class=\"dataframe\">\n",
       "  <thead>\n",
       "    <tr style=\"text-align: right;\">\n",
       "      <th></th>\n",
       "      <th>employee_id</th>\n",
       "      <th>annual_inc</th>\n",
       "      <th>employee_title</th>\n",
       "      <th>home_ownership</th>\n",
       "    </tr>\n",
       "  </thead>\n",
       "  <tbody>\n",
       "    <tr>\n",
       "      <th>127</th>\n",
       "      <td>31127612</td>\n",
       "      <td>500000.0</td>\n",
       "      <td>CEO</td>\n",
       "      <td>MORTGAGE</td>\n",
       "    </tr>\n",
       "    <tr>\n",
       "      <th>627</th>\n",
       "      <td>35843557</td>\n",
       "      <td>345000.0</td>\n",
       "      <td>Director</td>\n",
       "      <td>MORTGAGE</td>\n",
       "    </tr>\n",
       "    <tr>\n",
       "      <th>657</th>\n",
       "      <td>4629113</td>\n",
       "      <td>340000.0</td>\n",
       "      <td>Citigroup</td>\n",
       "      <td>RENT</td>\n",
       "    </tr>\n",
       "    <tr>\n",
       "      <th>695</th>\n",
       "      <td>7757331</td>\n",
       "      <td>600000.0</td>\n",
       "      <td>Kildare Capital</td>\n",
       "      <td>RENT</td>\n",
       "    </tr>\n",
       "    <tr>\n",
       "      <th>843</th>\n",
       "      <td>65509222</td>\n",
       "      <td>325000.0</td>\n",
       "      <td>Global solutions leader</td>\n",
       "      <td>MORTGAGE</td>\n",
       "    </tr>\n",
       "    <tr>\n",
       "      <th>863</th>\n",
       "      <td>49282491</td>\n",
       "      <td>500000.0</td>\n",
       "      <td>Vice President</td>\n",
       "      <td>RENT</td>\n",
       "    </tr>\n",
       "    <tr>\n",
       "      <th>946</th>\n",
       "      <td>57415353</td>\n",
       "      <td>310000.0</td>\n",
       "      <td>Senior Vice President</td>\n",
       "      <td>RENT</td>\n",
       "    </tr>\n",
       "  </tbody>\n",
       "</table>\n",
       "</div>"
      ],
      "text/plain": [
       "     employee_id  annual_inc           employee_title home_ownership\n",
       "127     31127612    500000.0                      CEO       MORTGAGE\n",
       "627     35843557    345000.0                 Director       MORTGAGE\n",
       "657      4629113    340000.0                Citigroup           RENT\n",
       "695      7757331    600000.0          Kildare Capital           RENT\n",
       "843     65509222    325000.0  Global solutions leader       MORTGAGE\n",
       "863     49282491    500000.0           Vice President           RENT\n",
       "946     57415353    310000.0    Senior Vice President           RENT"
      ]
     },
     "execution_count": 37,
     "metadata": {},
     "output_type": "execute_result"
    }
   ],
   "source": [
    "# Before filtering, it is a good practice to use copy() first. This is done\n",
    "# so modifications do not get reflected in the original df\n",
    "df_above_300k = df.copy()\n",
    "\n",
    "# Perform the filtering\n",
    "df_above_300k = df_above_300k[\n",
    "                    df_above_300k['annual_inc'] >= 300000 \n",
    "        ]\n",
    "\n",
    "df_above_300k\n",
    "\n",
    "# Q. Identify all records in the df where the annual_inc is 300000 or greater.\n",
    "#"
   ]
  },
  {
   "cell_type": "markdown",
   "metadata": {},
   "source": [
    "#### Filtering by one condition, using string comparators\n",
    "\n",
    "To perform filtering using a string function, use `==` e.g. `== 'OWN'`. Follow the above notation using a column, a comparator and a value in the same order."
   ]
  },
  {
   "cell_type": "code",
   "execution_count": 38,
   "metadata": {
    "ExecuteTime": {
     "end_time": "2018-10-08T15:07:41.839388Z",
     "start_time": "2018-10-08T15:07:41.780394Z"
    },
    "scrolled": true
   },
   "outputs": [
    {
     "data": {
      "text/html": [
       "<div>\n",
       "<style scoped>\n",
       "    .dataframe tbody tr th:only-of-type {\n",
       "        vertical-align: middle;\n",
       "    }\n",
       "\n",
       "    .dataframe tbody tr th {\n",
       "        vertical-align: top;\n",
       "    }\n",
       "\n",
       "    .dataframe thead th {\n",
       "        text-align: right;\n",
       "    }\n",
       "</style>\n",
       "<table border=\"1\" class=\"dataframe\">\n",
       "  <thead>\n",
       "    <tr style=\"text-align: right;\">\n",
       "      <th></th>\n",
       "      <th>employee_id</th>\n",
       "      <th>annual_inc</th>\n",
       "      <th>employee_title</th>\n",
       "      <th>home_ownership</th>\n",
       "    </tr>\n",
       "  </thead>\n",
       "  <tbody>\n",
       "    <tr>\n",
       "      <th>0</th>\n",
       "      <td>44037036</td>\n",
       "      <td>55000.0</td>\n",
       "      <td>Account Specialist</td>\n",
       "      <td>OWN</td>\n",
       "    </tr>\n",
       "    <tr>\n",
       "      <th>19</th>\n",
       "      <td>35845083</td>\n",
       "      <td>45000.0</td>\n",
       "      <td>claims</td>\n",
       "      <td>OWN</td>\n",
       "    </tr>\n",
       "    <tr>\n",
       "      <th>25</th>\n",
       "      <td>34691613</td>\n",
       "      <td>50000.0</td>\n",
       "      <td>General mgr</td>\n",
       "      <td>OWN</td>\n",
       "    </tr>\n",
       "    <tr>\n",
       "      <th>32</th>\n",
       "      <td>36665106</td>\n",
       "      <td>73000.0</td>\n",
       "      <td>VP Operations</td>\n",
       "      <td>OWN</td>\n",
       "    </tr>\n",
       "    <tr>\n",
       "      <th>43</th>\n",
       "      <td>10018508</td>\n",
       "      <td>75000.0</td>\n",
       "      <td>Police Officer</td>\n",
       "      <td>OWN</td>\n",
       "    </tr>\n",
       "  </tbody>\n",
       "</table>\n",
       "</div>"
      ],
      "text/plain": [
       "    employee_id  annual_inc      employee_title home_ownership\n",
       "0      44037036     55000.0  Account Specialist            OWN\n",
       "19     35845083     45000.0              claims            OWN\n",
       "25     34691613     50000.0         General mgr            OWN\n",
       "32     36665106     73000.0       VP Operations            OWN\n",
       "43     10018508     75000.0      Police Officer            OWN"
      ]
     },
     "execution_count": 38,
     "metadata": {},
     "output_type": "execute_result"
    }
   ],
   "source": [
    "# Copy the df\n",
    "df_home_ownership_own = df.copy()\n",
    "\n",
    "# Filter for all records where homeownership has the value 'OWN'\n",
    "df_home_ownership_own = df_home_ownership_own[\n",
    "            df_home_ownership_own['home_ownership'] == \"OWN\"\n",
    "]\n",
    "\n",
    "df_home_ownership_own.head()"
   ]
  },
  {
   "cell_type": "markdown",
   "metadata": {},
   "source": [
    "You can find records satisfying multiple string matches with the `isin` function. First state the **column** you would want to filter on. Then, like calling a function, use a `.` symbol followed by `.isin()`. Finally, put the values of interest **as a list**. Put this list as a parameter of the `isin()` function."
   ]
  },
  {
   "cell_type": "code",
   "execution_count": 40,
   "metadata": {
    "ExecuteTime": {
     "end_time": "2018-10-08T15:07:41.886788Z",
     "start_time": "2018-10-08T15:07:41.849323Z"
    }
   },
   "outputs": [
    {
     "data": {
      "text/html": [
       "<div>\n",
       "<style scoped>\n",
       "    .dataframe tbody tr th:only-of-type {\n",
       "        vertical-align: middle;\n",
       "    }\n",
       "\n",
       "    .dataframe tbody tr th {\n",
       "        vertical-align: top;\n",
       "    }\n",
       "\n",
       "    .dataframe thead th {\n",
       "        text-align: right;\n",
       "    }\n",
       "</style>\n",
       "<table border=\"1\" class=\"dataframe\">\n",
       "  <thead>\n",
       "    <tr style=\"text-align: right;\">\n",
       "      <th></th>\n",
       "      <th>employee_id</th>\n",
       "      <th>annual_inc</th>\n",
       "      <th>employee_title</th>\n",
       "      <th>home_ownership</th>\n",
       "    </tr>\n",
       "  </thead>\n",
       "  <tbody>\n",
       "    <tr>\n",
       "      <th>93</th>\n",
       "      <td>70641473</td>\n",
       "      <td>100000.0</td>\n",
       "      <td>Sales</td>\n",
       "      <td>MORTGAGE</td>\n",
       "    </tr>\n",
       "    <tr>\n",
       "      <th>98</th>\n",
       "      <td>65559791</td>\n",
       "      <td>85000.0</td>\n",
       "      <td>Sales</td>\n",
       "      <td>MORTGAGE</td>\n",
       "    </tr>\n",
       "    <tr>\n",
       "      <th>170</th>\n",
       "      <td>63773407</td>\n",
       "      <td>55000.0</td>\n",
       "      <td>Sales</td>\n",
       "      <td>MORTGAGE</td>\n",
       "    </tr>\n",
       "    <tr>\n",
       "      <th>247</th>\n",
       "      <td>47357024</td>\n",
       "      <td>55000.0</td>\n",
       "      <td>Sales</td>\n",
       "      <td>RENT</td>\n",
       "    </tr>\n",
       "    <tr>\n",
       "      <th>485</th>\n",
       "      <td>35924591</td>\n",
       "      <td>130000.0</td>\n",
       "      <td>Sales</td>\n",
       "      <td>MORTGAGE</td>\n",
       "    </tr>\n",
       "    <tr>\n",
       "      <th>582</th>\n",
       "      <td>19867982</td>\n",
       "      <td>62000.0</td>\n",
       "      <td>Sales</td>\n",
       "      <td>RENT</td>\n",
       "    </tr>\n",
       "    <tr>\n",
       "      <th>807</th>\n",
       "      <td>31726709</td>\n",
       "      <td>85000.0</td>\n",
       "      <td>Accountant</td>\n",
       "      <td>RENT</td>\n",
       "    </tr>\n",
       "    <tr>\n",
       "      <th>811</th>\n",
       "      <td>67688327</td>\n",
       "      <td>72000.0</td>\n",
       "      <td>Sales</td>\n",
       "      <td>MORTGAGE</td>\n",
       "    </tr>\n",
       "    <tr>\n",
       "      <th>839</th>\n",
       "      <td>63613406</td>\n",
       "      <td>60000.0</td>\n",
       "      <td>Accountant</td>\n",
       "      <td>RENT</td>\n",
       "    </tr>\n",
       "    <tr>\n",
       "      <th>913</th>\n",
       "      <td>70334794</td>\n",
       "      <td>120000.0</td>\n",
       "      <td>Sales</td>\n",
       "      <td>RENT</td>\n",
       "    </tr>\n",
       "    <tr>\n",
       "      <th>982</th>\n",
       "      <td>13937604</td>\n",
       "      <td>44500.0</td>\n",
       "      <td>Accountant</td>\n",
       "      <td>MORTGAGE</td>\n",
       "    </tr>\n",
       "  </tbody>\n",
       "</table>\n",
       "</div>"
      ],
      "text/plain": [
       "     employee_id  annual_inc employee_title home_ownership\n",
       "93      70641473    100000.0          Sales       MORTGAGE\n",
       "98      65559791     85000.0          Sales       MORTGAGE\n",
       "170     63773407     55000.0          Sales       MORTGAGE\n",
       "247     47357024     55000.0          Sales           RENT\n",
       "485     35924591    130000.0          Sales       MORTGAGE\n",
       "582     19867982     62000.0          Sales           RENT\n",
       "807     31726709     85000.0     Accountant           RENT\n",
       "811     67688327     72000.0          Sales       MORTGAGE\n",
       "839     63613406     60000.0     Accountant           RENT\n",
       "913     70334794    120000.0          Sales           RENT\n",
       "982     13937604     44500.0     Accountant       MORTGAGE"
      ]
     },
     "execution_count": 40,
     "metadata": {},
     "output_type": "execute_result"
    }
   ],
   "source": [
    "# Copy the df\n",
    "df_of_interest = df.copy()\n",
    "titles = ['Accountant', 'Sales']\n",
    "df_of_interest = df_of_interest[\n",
    "    df_of_interest['employee_title'].isin(titles)   \n",
    "]\n",
    "\n",
    "df_of_interest\n",
    "\n",
    "# Filter for all records where employee_title is 'Accountant' or 'Sales'\n",
    "#"
   ]
  },
  {
   "cell_type": "markdown",
   "metadata": {},
   "source": [
    "#### Filtering by two conditions using the AND logic\n",
    "\n",
    "If you would like to filter for two conditions, using `AND` as the logical operator, put a `&` in your expression. For every condition, surround them with round brackets `(` and `)`."
   ]
  },
  {
   "cell_type": "code",
   "execution_count": 42,
   "metadata": {
    "ExecuteTime": {
     "end_time": "2018-10-08T15:07:41.919673Z",
     "start_time": "2018-10-08T15:07:41.891703Z"
    },
    "scrolled": true
   },
   "outputs": [
    {
     "data": {
      "text/html": [
       "<div>\n",
       "<style scoped>\n",
       "    .dataframe tbody tr th:only-of-type {\n",
       "        vertical-align: middle;\n",
       "    }\n",
       "\n",
       "    .dataframe tbody tr th {\n",
       "        vertical-align: top;\n",
       "    }\n",
       "\n",
       "    .dataframe thead th {\n",
       "        text-align: right;\n",
       "    }\n",
       "</style>\n",
       "<table border=\"1\" class=\"dataframe\">\n",
       "  <thead>\n",
       "    <tr style=\"text-align: right;\">\n",
       "      <th></th>\n",
       "      <th>employee_id</th>\n",
       "      <th>annual_inc</th>\n",
       "      <th>employee_title</th>\n",
       "      <th>home_ownership</th>\n",
       "    </tr>\n",
       "  </thead>\n",
       "  <tbody>\n",
       "    <tr>\n",
       "      <th>238</th>\n",
       "      <td>370086</td>\n",
       "      <td>250000.0</td>\n",
       "      <td>President</td>\n",
       "      <td>MORTGAGE</td>\n",
       "    </tr>\n",
       "  </tbody>\n",
       "</table>\n",
       "</div>"
      ],
      "text/plain": [
       "     employee_id  annual_inc employee_title home_ownership\n",
       "238       370086    250000.0      President       MORTGAGE"
      ]
     },
     "execution_count": 42,
     "metadata": {},
     "output_type": "execute_result"
    }
   ],
   "source": [
    "# Copy the df\n",
    "df_of_interest = df.copy()\n",
    "\n",
    "# Filter for all records where the employee_title is President and the annual_inc is 225000 or greater\n",
    "df_of_interest = df_of_interest[\n",
    "    (df_of_interest['employee_title'] == 'President') &\n",
    "    (df_of_interest['annual_inc'] >= 250000)\n",
    "    # & (<condition>)...\n",
    "]\n",
    "\n",
    "df_of_interest"
   ]
  },
  {
   "cell_type": "code",
   "execution_count": 42,
   "metadata": {
    "ExecuteTime": {
     "end_time": "2018-10-08T15:07:41.954288Z",
     "start_time": "2018-10-08T15:07:41.926993Z"
    }
   },
   "outputs": [
    {
     "data": {
      "text/html": [
       "<div>\n",
       "<style scoped>\n",
       "    .dataframe tbody tr th:only-of-type {\n",
       "        vertical-align: middle;\n",
       "    }\n",
       "\n",
       "    .dataframe tbody tr th {\n",
       "        vertical-align: top;\n",
       "    }\n",
       "\n",
       "    .dataframe thead th {\n",
       "        text-align: right;\n",
       "    }\n",
       "</style>\n",
       "<table border=\"1\" class=\"dataframe\">\n",
       "  <thead>\n",
       "    <tr style=\"text-align: right;\">\n",
       "      <th></th>\n",
       "      <th>employee_id</th>\n",
       "      <th>annual_inc</th>\n",
       "      <th>employee_title</th>\n",
       "      <th>home_ownership</th>\n",
       "    </tr>\n",
       "  </thead>\n",
       "  <tbody>\n",
       "    <tr>\n",
       "      <th>7</th>\n",
       "      <td>37075903</td>\n",
       "      <td>108000.0</td>\n",
       "      <td>President</td>\n",
       "      <td>RENT</td>\n",
       "    </tr>\n",
       "    <tr>\n",
       "      <th>72</th>\n",
       "      <td>64555876</td>\n",
       "      <td>100000.0</td>\n",
       "      <td>President</td>\n",
       "      <td>MORTGAGE</td>\n",
       "    </tr>\n",
       "    <tr>\n",
       "      <th>238</th>\n",
       "      <td>370086</td>\n",
       "      <td>250000.0</td>\n",
       "      <td>President</td>\n",
       "      <td>MORTGAGE</td>\n",
       "    </tr>\n",
       "    <tr>\n",
       "      <th>293</th>\n",
       "      <td>23052676</td>\n",
       "      <td>100000.0</td>\n",
       "      <td>President</td>\n",
       "      <td>RENT</td>\n",
       "    </tr>\n",
       "    <tr>\n",
       "      <th>515</th>\n",
       "      <td>66185317</td>\n",
       "      <td>80000.0</td>\n",
       "      <td>President</td>\n",
       "      <td>OWN</td>\n",
       "    </tr>\n",
       "    <tr>\n",
       "      <th>775</th>\n",
       "      <td>11217187</td>\n",
       "      <td>72000.0</td>\n",
       "      <td>President</td>\n",
       "      <td>RENT</td>\n",
       "    </tr>\n",
       "  </tbody>\n",
       "</table>\n",
       "</div>"
      ],
      "text/plain": [
       "     employee_id  annual_inc employee_title home_ownership\n",
       "7       37075903    108000.0      President           RENT\n",
       "72      64555876    100000.0      President       MORTGAGE\n",
       "238       370086    250000.0      President       MORTGAGE\n",
       "293     23052676    100000.0      President           RENT\n",
       "515     66185317     80000.0      President            OWN\n",
       "775     11217187     72000.0      President           RENT"
      ]
     },
     "execution_count": 42,
     "metadata": {},
     "output_type": "execute_result"
    }
   ],
   "source": [
    "# Contrast this with the following filter:\n",
    "# Q. Find all employees with the title 'President'\n",
    "# Your turn: Can you solve this in-class exercise?\n",
    "df_of_interest = df.copy()\n",
    "\n",
    "df_of_interest = df_of_interest[\n",
    "    df_of_interest['employee_title'] == 'President'    \n",
    "]\n",
    "\n",
    "df_of_interest"
   ]
  },
  {
   "cell_type": "code",
   "execution_count": 44,
   "metadata": {
    "ExecuteTime": {
     "end_time": "2018-10-08T15:07:41.985073Z",
     "start_time": "2018-10-08T15:07:41.958617Z"
    }
   },
   "outputs": [
    {
     "data": {
      "text/html": [
       "<div>\n",
       "<style scoped>\n",
       "    .dataframe tbody tr th:only-of-type {\n",
       "        vertical-align: middle;\n",
       "    }\n",
       "\n",
       "    .dataframe tbody tr th {\n",
       "        vertical-align: top;\n",
       "    }\n",
       "\n",
       "    .dataframe thead th {\n",
       "        text-align: right;\n",
       "    }\n",
       "</style>\n",
       "<table border=\"1\" class=\"dataframe\">\n",
       "  <thead>\n",
       "    <tr style=\"text-align: right;\">\n",
       "      <th></th>\n",
       "      <th>employee_id</th>\n",
       "      <th>annual_inc</th>\n",
       "      <th>employee_title</th>\n",
       "      <th>home_ownership</th>\n",
       "    </tr>\n",
       "  </thead>\n",
       "  <tbody>\n",
       "    <tr>\n",
       "      <th>116</th>\n",
       "      <td>41302339</td>\n",
       "      <td>235000.0</td>\n",
       "      <td>Account Manager</td>\n",
       "      <td>MORTGAGE</td>\n",
       "    </tr>\n",
       "    <tr>\n",
       "      <th>127</th>\n",
       "      <td>31127612</td>\n",
       "      <td>500000.0</td>\n",
       "      <td>CEO</td>\n",
       "      <td>MORTGAGE</td>\n",
       "    </tr>\n",
       "    <tr>\n",
       "      <th>238</th>\n",
       "      <td>370086</td>\n",
       "      <td>250000.0</td>\n",
       "      <td>President</td>\n",
       "      <td>MORTGAGE</td>\n",
       "    </tr>\n",
       "    <tr>\n",
       "      <th>338</th>\n",
       "      <td>43848504</td>\n",
       "      <td>248000.0</td>\n",
       "      <td>Editor</td>\n",
       "      <td>RENT</td>\n",
       "    </tr>\n",
       "    <tr>\n",
       "      <th>370</th>\n",
       "      <td>68317904</td>\n",
       "      <td>250000.0</td>\n",
       "      <td>Speech Therapist</td>\n",
       "      <td>MORTGAGE</td>\n",
       "    </tr>\n",
       "    <tr>\n",
       "      <th>411</th>\n",
       "      <td>31706813</td>\n",
       "      <td>260000.0</td>\n",
       "      <td>Advisor</td>\n",
       "      <td>MORTGAGE</td>\n",
       "    </tr>\n",
       "    <tr>\n",
       "      <th>505</th>\n",
       "      <td>42454613</td>\n",
       "      <td>250000.0</td>\n",
       "      <td>Chief Technology Officer</td>\n",
       "      <td>MORTGAGE</td>\n",
       "    </tr>\n",
       "    <tr>\n",
       "      <th>627</th>\n",
       "      <td>35843557</td>\n",
       "      <td>345000.0</td>\n",
       "      <td>Director</td>\n",
       "      <td>MORTGAGE</td>\n",
       "    </tr>\n",
       "    <tr>\n",
       "      <th>657</th>\n",
       "      <td>4629113</td>\n",
       "      <td>340000.0</td>\n",
       "      <td>Citigroup</td>\n",
       "      <td>RENT</td>\n",
       "    </tr>\n",
       "    <tr>\n",
       "      <th>695</th>\n",
       "      <td>7757331</td>\n",
       "      <td>600000.0</td>\n",
       "      <td>Kildare Capital</td>\n",
       "      <td>RENT</td>\n",
       "    </tr>\n",
       "    <tr>\n",
       "      <th>843</th>\n",
       "      <td>65509222</td>\n",
       "      <td>325000.0</td>\n",
       "      <td>Global solutions leader</td>\n",
       "      <td>MORTGAGE</td>\n",
       "    </tr>\n",
       "    <tr>\n",
       "      <th>855</th>\n",
       "      <td>65651843</td>\n",
       "      <td>225000.0</td>\n",
       "      <td>Dentist</td>\n",
       "      <td>RENT</td>\n",
       "    </tr>\n",
       "    <tr>\n",
       "      <th>863</th>\n",
       "      <td>49282491</td>\n",
       "      <td>500000.0</td>\n",
       "      <td>Vice President</td>\n",
       "      <td>RENT</td>\n",
       "    </tr>\n",
       "    <tr>\n",
       "      <th>873</th>\n",
       "      <td>8332071</td>\n",
       "      <td>265000.0</td>\n",
       "      <td>Cisco Systems</td>\n",
       "      <td>RENT</td>\n",
       "    </tr>\n",
       "    <tr>\n",
       "      <th>946</th>\n",
       "      <td>57415353</td>\n",
       "      <td>310000.0</td>\n",
       "      <td>Senior Vice President</td>\n",
       "      <td>RENT</td>\n",
       "    </tr>\n",
       "    <tr>\n",
       "      <th>950</th>\n",
       "      <td>4026946</td>\n",
       "      <td>275000.0</td>\n",
       "      <td>Sheridan healthcare</td>\n",
       "      <td>MORTGAGE</td>\n",
       "    </tr>\n",
       "    <tr>\n",
       "      <th>955</th>\n",
       "      <td>54259311</td>\n",
       "      <td>225000.0</td>\n",
       "      <td>CEO</td>\n",
       "      <td>MORTGAGE</td>\n",
       "    </tr>\n",
       "  </tbody>\n",
       "</table>\n",
       "</div>"
      ],
      "text/plain": [
       "     employee_id  annual_inc            employee_title home_ownership\n",
       "116     41302339    235000.0           Account Manager       MORTGAGE\n",
       "127     31127612    500000.0                       CEO       MORTGAGE\n",
       "238       370086    250000.0                 President       MORTGAGE\n",
       "338     43848504    248000.0                    Editor           RENT\n",
       "370     68317904    250000.0          Speech Therapist       MORTGAGE\n",
       "411     31706813    260000.0                   Advisor       MORTGAGE\n",
       "505     42454613    250000.0  Chief Technology Officer       MORTGAGE\n",
       "627     35843557    345000.0                  Director       MORTGAGE\n",
       "657      4629113    340000.0                 Citigroup           RENT\n",
       "695      7757331    600000.0           Kildare Capital           RENT\n",
       "843     65509222    325000.0   Global solutions leader       MORTGAGE\n",
       "855     65651843    225000.0                   Dentist           RENT\n",
       "863     49282491    500000.0            Vice President           RENT\n",
       "873      8332071    265000.0             Cisco Systems           RENT\n",
       "946     57415353    310000.0     Senior Vice President           RENT\n",
       "950      4026946    275000.0       Sheridan healthcare       MORTGAGE\n",
       "955     54259311    225000.0                       CEO       MORTGAGE"
      ]
     },
     "execution_count": 44,
     "metadata": {},
     "output_type": "execute_result"
    }
   ],
   "source": [
    "# Contrast this with the following filter:\n",
    "# Q. Find all employees who have an annual_inc of 225000 or more.\n",
    "# Your turn: Can you solve this in-class exercise?\n",
    "\n",
    "df_of_interest = df.copy()\n",
    "\n",
    "df_of_interest = df_of_interest[\n",
    "    df_of_interest['annual_inc'] >= 225000\n",
    "]\n",
    "\n",
    "df_of_interest"
   ]
  },
  {
   "cell_type": "markdown",
   "metadata": {},
   "source": [
    "**Credits**\n",
    "- [Lending Club Loan Data, Kaggle](https://www.kaggle.com/wendykan/lending-club-loan-data) for the dataset\n",
    "<hr>\n",
    "`HWA-DS102-INCLASS-1B-201810`"
   ]
  },
  {
   "cell_type": "code",
   "execution_count": null,
   "metadata": {},
   "outputs": [],
   "source": []
  }
 ],
 "metadata": {
  "kernelspec": {
   "display_name": "Python 3",
   "language": "python",
   "name": "python3"
  },
  "language_info": {
   "codemirror_mode": {
    "name": "ipython",
    "version": 3
   },
   "file_extension": ".py",
   "mimetype": "text/x-python",
   "name": "python",
   "nbconvert_exporter": "python",
   "pygments_lexer": "ipython3",
   "version": "3.7.6"
  }
 },
 "nbformat": 4,
 "nbformat_minor": 2
}
