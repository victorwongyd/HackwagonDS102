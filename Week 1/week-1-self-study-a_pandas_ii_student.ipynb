{
 "cells": [
  {
   "cell_type": "markdown",
   "metadata": {},
   "source": [
    "### DS102 | Self-Study Week 1A - Pandas & Numpy II\n",
    "<hr>\n",
    "## Learning Objectives\n",
    "At the end of this self-study, you will be able to:\n",
    "\n",
    "- from a `list` of `dict`, construct a `DataFrame`\n",
    "\n",
    "- read a CSV file into a `DataFrame` with a specified `sep` parameter\n",
    "\n",
    "- use `DataFrame.fillna()` to substitute any `NaN` values\n",
    "\n",
    "- use `DataFrame.dropna()` to substitute any rows with `NaN` values\n",
    "\n",
    "- use `DataFrame.count()` to find out the number of records\n",
    "\n",
    "- Retrieve one or a range of records from a `DataFrame`\n",
    "\n",
    "- Retrieve one or a range of records from a `Series`\n",
    "\n",
    "- Retrieve multiple records from a `DataFrame` using a list of indices\n",
    "\n",
    "- Update a value of in a `Series`\n",
    "\n",
    "- Drop columns from a `DataFrame` / Select columns from a `DataFrame`\n",
    "\n",
    "- Sort values in a `DataFrame` based on a column\n",
    "\n",
    "### Datasets Required for this Self-Study\n",
    "1. `wines-5k.csv`"
   ]
  },
  {
   "cell_type": "markdown",
   "metadata": {},
   "source": [
    "#### Import `pandas`, `numpy` "
   ]
  },
  {
   "cell_type": "code",
   "execution_count": 3,
   "metadata": {
    "ExecuteTime": {
     "end_time": "2018-10-09T16:06:52.872890Z",
     "start_time": "2018-10-09T16:06:51.737185Z"
    }
   },
   "outputs": [],
   "source": [
    "import pandas as pd\n",
    "import numpy as np"
   ]
  },
  {
   "cell_type": "markdown",
   "metadata": {},
   "source": [
    "### Create a `DataFrame` from a `list` of `dict`\n",
    "Besides instantiating a `DataFrame` from a CSV file, a `DataFrame` can also be instantiated other ways. Consider the following `list` of `dict`."
   ]
  },
  {
   "cell_type": "code",
   "execution_count": 4,
   "metadata": {
    "ExecuteTime": {
     "end_time": "2018-10-09T16:06:52.882047Z",
     "start_time": "2018-10-09T16:06:52.875353Z"
    }
   },
   "outputs": [],
   "source": [
    "video_ads = [\n",
    "    {\"title\": \"Healthy Living\", \"views\": 15934},\n",
    "    {\"title\": \"Get a ride, anytime anywhere\", \"views\": 923834},\n",
    "    {\"title\": \"Send money to your friends with GrabPay\", \"views\": 23466},\n",
    "    {\"title\": \"Ubereats now delivers nationwide\", \"views\": 1337},\n",
    "    {\"title\": \"Facebook is hiring data scientists!\", \"views\": 15934},\n",
    "]"
   ]
  },
  {
   "cell_type": "markdown",
   "metadata": {},
   "source": [
    "Convert the `list` to a `DataFrame` using `pd.DataFrame(video_ads)`."
   ]
  },
  {
   "cell_type": "code",
   "execution_count": 5,
   "metadata": {
    "ExecuteTime": {
     "end_time": "2018-10-09T16:06:52.889934Z",
     "start_time": "2018-10-09T16:06:52.885092Z"
    }
   },
   "outputs": [],
   "source": [
    "videos_df = pd.DataFrame(video_ads)"
   ]
  },
  {
   "cell_type": "markdown",
   "metadata": {},
   "source": [
    "Add a parameter inside the `df.head()` function e.g. `head(3)` to show the first 3 records in the `df.`"
   ]
  },
  {
   "cell_type": "code",
   "execution_count": 4,
   "metadata": {
    "ExecuteTime": {
     "end_time": "2018-10-09T16:06:52.928312Z",
     "start_time": "2018-10-09T16:06:52.898138Z"
    },
    "scrolled": true
   },
   "outputs": [
    {
     "data": {
      "text/html": [
       "<div>\n",
       "<style scoped>\n",
       "    .dataframe tbody tr th:only-of-type {\n",
       "        vertical-align: middle;\n",
       "    }\n",
       "\n",
       "    .dataframe tbody tr th {\n",
       "        vertical-align: top;\n",
       "    }\n",
       "\n",
       "    .dataframe thead th {\n",
       "        text-align: right;\n",
       "    }\n",
       "</style>\n",
       "<table border=\"1\" class=\"dataframe\">\n",
       "  <thead>\n",
       "    <tr style=\"text-align: right;\">\n",
       "      <th></th>\n",
       "      <th>title</th>\n",
       "      <th>views</th>\n",
       "    </tr>\n",
       "  </thead>\n",
       "  <tbody>\n",
       "    <tr>\n",
       "      <th>0</th>\n",
       "      <td>Healthy Living</td>\n",
       "      <td>15934</td>\n",
       "    </tr>\n",
       "    <tr>\n",
       "      <th>1</th>\n",
       "      <td>Get a ride, anytime anywhere</td>\n",
       "      <td>923834</td>\n",
       "    </tr>\n",
       "    <tr>\n",
       "      <th>2</th>\n",
       "      <td>Send money to your friends with GrabPay</td>\n",
       "      <td>23466</td>\n",
       "    </tr>\n",
       "  </tbody>\n",
       "</table>\n",
       "</div>"
      ],
      "text/plain": [
       "                                     title   views\n",
       "0                           Healthy Living   15934\n",
       "1             Get a ride, anytime anywhere  923834\n",
       "2  Send money to your friends with GrabPay   23466"
      ]
     },
     "execution_count": 4,
     "metadata": {},
     "output_type": "execute_result"
    }
   ],
   "source": [
    "# Show only the first 3 records in videos_df\n",
    "videos_df.head(3)"
   ]
  },
  {
   "cell_type": "markdown",
   "metadata": {},
   "source": [
    "### Create a `DataFrame` from a `list` of `list`, using `columns`\n",
    "A `DataFrame` can also be instantiated from a `list` of `list`s. Consider these 2 lists, one containing channel names and the other containing the number of videos in each channel."
   ]
  },
  {
   "cell_type": "code",
   "execution_count": 6,
   "metadata": {
    "ExecuteTime": {
     "end_time": "2018-10-09T16:06:52.940634Z",
     "start_time": "2018-10-09T16:06:52.931777Z"
    }
   },
   "outputs": [],
   "source": [
    "channels_and_videos = [['Apple', 2], ['Facebook', 1], ['Hackwagon', 5], ['Grab', 3], \n",
    "                       ['Sony', 1], ['Subway', 1], ['Netflix', 1], ['Uber', 6], ['Health Promotion Board', 2]]"
   ]
  },
  {
   "cell_type": "markdown",
   "metadata": {
    "ExecuteTime": {
     "end_time": "2018-10-09T14:08:29.565710Z",
     "start_time": "2018-10-09T14:08:29.554232Z"
    },
    "scrolled": true
   },
   "source": [
    "Convert this into a `DataFrame` using the lists and the `columns` parameter. Note that the parameter `columns` takes in a `list`, representing each header in the `df`."
   ]
  },
  {
   "cell_type": "code",
   "execution_count": 7,
   "metadata": {
    "ExecuteTime": {
     "end_time": "2018-10-09T16:06:52.957999Z",
     "start_time": "2018-10-09T16:06:52.946660Z"
    }
   },
   "outputs": [],
   "source": [
    "channels_df = pd.DataFrame(channels_and_videos, columns=['channels', 'number_of_videos'])"
   ]
  },
  {
   "cell_type": "raw",
   "metadata": {},
   "source": [
    "`head()` and `sample()` can also be applied to a `Series`. Add an `int` as a parameter, `n` in `sample(n)` to randomly sample `n` records."
   ]
  },
  {
   "cell_type": "code",
   "execution_count": 8,
   "metadata": {
    "ExecuteTime": {
     "end_time": "2018-10-09T16:06:52.993640Z",
     "start_time": "2018-10-09T16:06:52.972663Z"
    }
   },
   "outputs": [
    {
     "data": {
      "text/plain": [
       "0        Apple\n",
       "1     Facebook\n",
       "2    Hackwagon\n",
       "3         Grab\n",
       "4         Sony\n",
       "Name: channels, dtype: object"
      ]
     },
     "execution_count": 8,
     "metadata": {},
     "output_type": "execute_result"
    }
   ],
   "source": [
    "# Show the first 5 records in a Series\n",
    "channels_df['channels'].head()"
   ]
  },
  {
   "cell_type": "code",
   "execution_count": 9,
   "metadata": {
    "ExecuteTime": {
     "end_time": "2018-10-09T16:06:53.022260Z",
     "start_time": "2018-10-09T16:06:53.003688Z"
    },
    "scrolled": true
   },
   "outputs": [
    {
     "data": {
      "text/plain": [
       "0     Apple\n",
       "5    Subway\n",
       "Name: channels, dtype: object"
      ]
     },
     "execution_count": 9,
     "metadata": {},
     "output_type": "execute_result"
    }
   ],
   "source": [
    "# Sample (without replacement) 2 records from the Series\n",
    "channels_df['channels'].sample(2)"
   ]
  },
  {
   "cell_type": "markdown",
   "metadata": {},
   "source": [
    "### Sorting using `sort_values`\n",
    "Use `DataFrame.sort_values()` to sort the `df` based on a selected column."
   ]
  },
  {
   "cell_type": "code",
   "execution_count": 10,
   "metadata": {
    "ExecuteTime": {
     "end_time": "2018-10-09T16:06:53.055997Z",
     "start_time": "2018-10-09T16:06:53.028705Z"
    }
   },
   "outputs": [
    {
     "data": {
      "text/html": [
       "<div>\n",
       "<style scoped>\n",
       "    .dataframe tbody tr th:only-of-type {\n",
       "        vertical-align: middle;\n",
       "    }\n",
       "\n",
       "    .dataframe tbody tr th {\n",
       "        vertical-align: top;\n",
       "    }\n",
       "\n",
       "    .dataframe thead th {\n",
       "        text-align: right;\n",
       "    }\n",
       "</style>\n",
       "<table border=\"1\" class=\"dataframe\">\n",
       "  <thead>\n",
       "    <tr style=\"text-align: right;\">\n",
       "      <th></th>\n",
       "      <th>channels</th>\n",
       "      <th>number_of_videos</th>\n",
       "    </tr>\n",
       "  </thead>\n",
       "  <tbody>\n",
       "    <tr>\n",
       "      <th>0</th>\n",
       "      <td>Apple</td>\n",
       "      <td>2</td>\n",
       "    </tr>\n",
       "    <tr>\n",
       "      <th>1</th>\n",
       "      <td>Facebook</td>\n",
       "      <td>1</td>\n",
       "    </tr>\n",
       "    <tr>\n",
       "      <th>3</th>\n",
       "      <td>Grab</td>\n",
       "      <td>3</td>\n",
       "    </tr>\n",
       "    <tr>\n",
       "      <th>2</th>\n",
       "      <td>Hackwagon</td>\n",
       "      <td>5</td>\n",
       "    </tr>\n",
       "    <tr>\n",
       "      <th>8</th>\n",
       "      <td>Health Promotion Board</td>\n",
       "      <td>2</td>\n",
       "    </tr>\n",
       "    <tr>\n",
       "      <th>6</th>\n",
       "      <td>Netflix</td>\n",
       "      <td>1</td>\n",
       "    </tr>\n",
       "    <tr>\n",
       "      <th>4</th>\n",
       "      <td>Sony</td>\n",
       "      <td>1</td>\n",
       "    </tr>\n",
       "    <tr>\n",
       "      <th>5</th>\n",
       "      <td>Subway</td>\n",
       "      <td>1</td>\n",
       "    </tr>\n",
       "    <tr>\n",
       "      <th>7</th>\n",
       "      <td>Uber</td>\n",
       "      <td>6</td>\n",
       "    </tr>\n",
       "  </tbody>\n",
       "</table>\n",
       "</div>"
      ],
      "text/plain": [
       "                 channels  number_of_videos\n",
       "0                   Apple                 2\n",
       "1                Facebook                 1\n",
       "3                    Grab                 3\n",
       "2               Hackwagon                 5\n",
       "8  Health Promotion Board                 2\n",
       "6                 Netflix                 1\n",
       "4                    Sony                 1\n",
       "5                  Subway                 1\n",
       "7                    Uber                 6"
      ]
     },
     "execution_count": 10,
     "metadata": {},
     "output_type": "execute_result"
    }
   ],
   "source": [
    "channels_df.sort_values('channels')"
   ]
  },
  {
   "cell_type": "markdown",
   "metadata": {},
   "source": [
    "To sort in descending order, specify the parameter `ascending=False`. Usually, after this, `reset_index()` is also called."
   ]
  },
  {
   "cell_type": "code",
   "execution_count": 14,
   "metadata": {
    "ExecuteTime": {
     "end_time": "2018-10-09T16:06:53.086365Z",
     "start_time": "2018-10-09T16:06:53.067372Z"
    }
   },
   "outputs": [
    {
     "data": {
      "text/html": [
       "<div>\n",
       "<style scoped>\n",
       "    .dataframe tbody tr th:only-of-type {\n",
       "        vertical-align: middle;\n",
       "    }\n",
       "\n",
       "    .dataframe tbody tr th {\n",
       "        vertical-align: top;\n",
       "    }\n",
       "\n",
       "    .dataframe thead th {\n",
       "        text-align: right;\n",
       "    }\n",
       "</style>\n",
       "<table border=\"1\" class=\"dataframe\">\n",
       "  <thead>\n",
       "    <tr style=\"text-align: right;\">\n",
       "      <th></th>\n",
       "      <th>channels</th>\n",
       "      <th>number_of_videos</th>\n",
       "    </tr>\n",
       "  </thead>\n",
       "  <tbody>\n",
       "    <tr>\n",
       "      <th>0</th>\n",
       "      <td>Uber</td>\n",
       "      <td>6</td>\n",
       "    </tr>\n",
       "    <tr>\n",
       "      <th>1</th>\n",
       "      <td>Hackwagon</td>\n",
       "      <td>5</td>\n",
       "    </tr>\n",
       "    <tr>\n",
       "      <th>2</th>\n",
       "      <td>Grab</td>\n",
       "      <td>3</td>\n",
       "    </tr>\n",
       "    <tr>\n",
       "      <th>3</th>\n",
       "      <td>Apple</td>\n",
       "      <td>2</td>\n",
       "    </tr>\n",
       "    <tr>\n",
       "      <th>4</th>\n",
       "      <td>Health Promotion Board</td>\n",
       "      <td>2</td>\n",
       "    </tr>\n",
       "    <tr>\n",
       "      <th>5</th>\n",
       "      <td>Facebook</td>\n",
       "      <td>1</td>\n",
       "    </tr>\n",
       "    <tr>\n",
       "      <th>6</th>\n",
       "      <td>Sony</td>\n",
       "      <td>1</td>\n",
       "    </tr>\n",
       "    <tr>\n",
       "      <th>7</th>\n",
       "      <td>Subway</td>\n",
       "      <td>1</td>\n",
       "    </tr>\n",
       "    <tr>\n",
       "      <th>8</th>\n",
       "      <td>Netflix</td>\n",
       "      <td>1</td>\n",
       "    </tr>\n",
       "  </tbody>\n",
       "</table>\n",
       "</div>"
      ],
      "text/plain": [
       "                 channels  number_of_videos\n",
       "0                    Uber                 6\n",
       "1               Hackwagon                 5\n",
       "2                    Grab                 3\n",
       "3                   Apple                 2\n",
       "4  Health Promotion Board                 2\n",
       "5                Facebook                 1\n",
       "6                    Sony                 1\n",
       "7                  Subway                 1\n",
       "8                 Netflix                 1"
      ]
     },
     "execution_count": 14,
     "metadata": {},
     "output_type": "execute_result"
    }
   ],
   "source": [
    "# To store the sorted df, assign the df to a new variable.\n",
    "channels_df_desc = channels_df.sort_values('number_of_videos', ascending=False)\n",
    "channels_df_desc.reset_index(drop=True, inplace=True)\n",
    "channels_df_desc"
   ]
  },
  {
   "cell_type": "markdown",
   "metadata": {},
   "source": [
    "### Filtering, `isin()`, OR and NOT conditions"
   ]
  },
  {
   "cell_type": "markdown",
   "metadata": {},
   "source": [
    "Use the following notation to filter from a `df` for records **NOT** specifying the condition. Note that the condition needs to be wrapped around round parenthesis `()` and add a tilde `~` before this condition.\n",
    "```python\n",
    "df[~(df['column'] <conditional operator> <value>)]\n",
    "```"
   ]
  },
  {
   "cell_type": "code",
   "execution_count": 11,
   "metadata": {
    "ExecuteTime": {
     "end_time": "2018-10-09T16:06:53.104970Z",
     "start_time": "2018-10-09T16:06:53.089337Z"
    }
   },
   "outputs": [
    {
     "data": {
      "text/html": [
       "<div>\n",
       "<style scoped>\n",
       "    .dataframe tbody tr th:only-of-type {\n",
       "        vertical-align: middle;\n",
       "    }\n",
       "\n",
       "    .dataframe tbody tr th {\n",
       "        vertical-align: top;\n",
       "    }\n",
       "\n",
       "    .dataframe thead th {\n",
       "        text-align: right;\n",
       "    }\n",
       "</style>\n",
       "<table border=\"1\" class=\"dataframe\">\n",
       "  <thead>\n",
       "    <tr style=\"text-align: right;\">\n",
       "      <th></th>\n",
       "      <th>title</th>\n",
       "      <th>views</th>\n",
       "    </tr>\n",
       "  </thead>\n",
       "  <tbody>\n",
       "    <tr>\n",
       "      <th>0</th>\n",
       "      <td>Healthy Living</td>\n",
       "      <td>15934</td>\n",
       "    </tr>\n",
       "    <tr>\n",
       "      <th>3</th>\n",
       "      <td>Ubereats now delivers nationwide</td>\n",
       "      <td>1337</td>\n",
       "    </tr>\n",
       "    <tr>\n",
       "      <th>4</th>\n",
       "      <td>Facebook is hiring data scientists!</td>\n",
       "      <td>15934</td>\n",
       "    </tr>\n",
       "  </tbody>\n",
       "</table>\n",
       "</div>"
      ],
      "text/plain": [
       "                                 title  views\n",
       "0                       Healthy Living  15934\n",
       "3     Ubereats now delivers nationwide   1337\n",
       "4  Facebook is hiring data scientists!  15934"
      ]
     },
     "execution_count": 11,
     "metadata": {},
     "output_type": "execute_result"
    }
   ],
   "source": [
    "# Filter for all videos NOT having views greater than 20000 (or less than 20000 views)\n",
    "videos_df[~(videos_df['views'] > 20000)]"
   ]
  },
  {
   "cell_type": "markdown",
   "metadata": {},
   "source": [
    "To filter where a record satisfies `CONDITION_1` **OR** `CONDITION_2`, use a pipe `|` between the conditions. Contrast this with using a `&` between conditions."
   ]
  },
  {
   "cell_type": "code",
   "execution_count": 12,
   "metadata": {
    "ExecuteTime": {
     "end_time": "2018-10-09T16:06:53.134900Z",
     "start_time": "2018-10-09T16:06:53.108153Z"
    }
   },
   "outputs": [
    {
     "data": {
      "text/html": [
       "<div>\n",
       "<style scoped>\n",
       "    .dataframe tbody tr th:only-of-type {\n",
       "        vertical-align: middle;\n",
       "    }\n",
       "\n",
       "    .dataframe tbody tr th {\n",
       "        vertical-align: top;\n",
       "    }\n",
       "\n",
       "    .dataframe thead th {\n",
       "        text-align: right;\n",
       "    }\n",
       "</style>\n",
       "<table border=\"1\" class=\"dataframe\">\n",
       "  <thead>\n",
       "    <tr style=\"text-align: right;\">\n",
       "      <th></th>\n",
       "      <th>channels</th>\n",
       "      <th>number_of_videos</th>\n",
       "    </tr>\n",
       "  </thead>\n",
       "  <tbody>\n",
       "    <tr>\n",
       "      <th>1</th>\n",
       "      <td>Facebook</td>\n",
       "      <td>1</td>\n",
       "    </tr>\n",
       "    <tr>\n",
       "      <th>2</th>\n",
       "      <td>Hackwagon</td>\n",
       "      <td>5</td>\n",
       "    </tr>\n",
       "    <tr>\n",
       "      <th>4</th>\n",
       "      <td>Sony</td>\n",
       "      <td>1</td>\n",
       "    </tr>\n",
       "    <tr>\n",
       "      <th>5</th>\n",
       "      <td>Subway</td>\n",
       "      <td>1</td>\n",
       "    </tr>\n",
       "    <tr>\n",
       "      <th>6</th>\n",
       "      <td>Netflix</td>\n",
       "      <td>1</td>\n",
       "    </tr>\n",
       "    <tr>\n",
       "      <th>7</th>\n",
       "      <td>Uber</td>\n",
       "      <td>6</td>\n",
       "    </tr>\n",
       "  </tbody>\n",
       "</table>\n",
       "</div>"
      ],
      "text/plain": [
       "    channels  number_of_videos\n",
       "1   Facebook                 1\n",
       "2  Hackwagon                 5\n",
       "4       Sony                 1\n",
       "5     Subway                 1\n",
       "6    Netflix                 1\n",
       "7       Uber                 6"
      ]
     },
     "execution_count": 12,
     "metadata": {},
     "output_type": "execute_result"
    }
   ],
   "source": [
    "# Filter for channels that have 1 video OR at least 5 videos.\n",
    "channels_df[(channels_df['number_of_videos'] == 1) | (channels_df['number_of_videos'] >= 5)]"
   ]
  },
  {
   "cell_type": "markdown",
   "metadata": {},
   "source": [
    "`.isin()` can also be used to filter for conditions that are `int`s or `float`s."
   ]
  },
  {
   "cell_type": "code",
   "execution_count": 13,
   "metadata": {
    "ExecuteTime": {
     "end_time": "2018-10-09T16:06:53.149005Z",
     "start_time": "2018-10-09T16:06:53.137184Z"
    },
    "scrolled": true
   },
   "outputs": [
    {
     "data": {
      "text/html": [
       "<div>\n",
       "<style scoped>\n",
       "    .dataframe tbody tr th:only-of-type {\n",
       "        vertical-align: middle;\n",
       "    }\n",
       "\n",
       "    .dataframe tbody tr th {\n",
       "        vertical-align: top;\n",
       "    }\n",
       "\n",
       "    .dataframe thead th {\n",
       "        text-align: right;\n",
       "    }\n",
       "</style>\n",
       "<table border=\"1\" class=\"dataframe\">\n",
       "  <thead>\n",
       "    <tr style=\"text-align: right;\">\n",
       "      <th></th>\n",
       "      <th>channels</th>\n",
       "      <th>number_of_videos</th>\n",
       "    </tr>\n",
       "  </thead>\n",
       "  <tbody>\n",
       "    <tr>\n",
       "      <th>0</th>\n",
       "      <td>Apple</td>\n",
       "      <td>2</td>\n",
       "    </tr>\n",
       "    <tr>\n",
       "      <th>2</th>\n",
       "      <td>Hackwagon</td>\n",
       "      <td>5</td>\n",
       "    </tr>\n",
       "    <tr>\n",
       "      <th>7</th>\n",
       "      <td>Uber</td>\n",
       "      <td>6</td>\n",
       "    </tr>\n",
       "    <tr>\n",
       "      <th>8</th>\n",
       "      <td>Health Promotion Board</td>\n",
       "      <td>2</td>\n",
       "    </tr>\n",
       "  </tbody>\n",
       "</table>\n",
       "</div>"
      ],
      "text/plain": [
       "                 channels  number_of_videos\n",
       "0                   Apple                 2\n",
       "2               Hackwagon                 5\n",
       "7                    Uber                 6\n",
       "8  Health Promotion Board                 2"
      ]
     },
     "execution_count": 13,
     "metadata": {},
     "output_type": "execute_result"
    }
   ],
   "source": [
    "# Filter for channels that have 2, 4, 5 or 6 videos.\n",
    "req_videos_list = [2, 4, 5, 6]\n",
    "channels_df[channels_df['number_of_videos'].isin(req_videos_list)]"
   ]
  },
  {
   "cell_type": "markdown",
   "metadata": {
    "ExecuteTime": {
     "end_time": "2018-10-09T15:57:57.986160Z",
     "start_time": "2018-10-09T15:57:57.980618Z"
    }
   },
   "source": [
    "#### Use `DataFrame.fillna()` to fill in `NaN` values (missing data)\n",
    "It is common for the dataset to have missing data. In this case, use `df.fillna()` to specify what value to fill in for the missing data. If a record has missing data, some aggregates (like mean, minimum or maximum) cannot be calculated. In this case, fill all missing values for `price` with `0`.\n",
    "\n",
    "Read the [documentation](https://pandas.pydata.org/pandas-docs/stable/missing_data.html) to find out more. A similar implementation is available for `Series`. Read more [here](https://pandas.pydata.org/pandas-docs/stable/generated/pandas.Series.dropna.html#pandas.Series.fillna)."
   ]
  },
  {
   "cell_type": "code",
   "execution_count": 30,
   "metadata": {
    "ExecuteTime": {
     "end_time": "2018-10-09T16:06:53.167805Z",
     "start_time": "2018-10-09T16:06:53.152693Z"
    }
   },
   "outputs": [
    {
     "data": {
      "text/html": [
       "<div>\n",
       "<style scoped>\n",
       "    .dataframe tbody tr th:only-of-type {\n",
       "        vertical-align: middle;\n",
       "    }\n",
       "\n",
       "    .dataframe tbody tr th {\n",
       "        vertical-align: top;\n",
       "    }\n",
       "\n",
       "    .dataframe thead th {\n",
       "        text-align: right;\n",
       "    }\n",
       "</style>\n",
       "<table border=\"1\" class=\"dataframe\">\n",
       "  <thead>\n",
       "    <tr style=\"text-align: right;\">\n",
       "      <th></th>\n",
       "      <th>country</th>\n",
       "      <th>points</th>\n",
       "      <th>price</th>\n",
       "    </tr>\n",
       "  </thead>\n",
       "  <tbody>\n",
       "    <tr>\n",
       "      <th>0</th>\n",
       "      <td>US</td>\n",
       "      <td>84</td>\n",
       "      <td>12.0</td>\n",
       "    </tr>\n",
       "    <tr>\n",
       "      <th>1</th>\n",
       "      <td>Italy</td>\n",
       "      <td>87</td>\n",
       "      <td>15.0</td>\n",
       "    </tr>\n",
       "    <tr>\n",
       "      <th>2</th>\n",
       "      <td>US</td>\n",
       "      <td>86</td>\n",
       "      <td>48.0</td>\n",
       "    </tr>\n",
       "    <tr>\n",
       "      <th>3</th>\n",
       "      <td>US</td>\n",
       "      <td>89</td>\n",
       "      <td>150.0</td>\n",
       "    </tr>\n",
       "    <tr>\n",
       "      <th>4</th>\n",
       "      <td>Italy</td>\n",
       "      <td>89</td>\n",
       "      <td>59.0</td>\n",
       "    </tr>\n",
       "  </tbody>\n",
       "</table>\n",
       "</div>"
      ],
      "text/plain": [
       "  country  points  price\n",
       "0      US      84   12.0\n",
       "1   Italy      87   15.0\n",
       "2      US      86   48.0\n",
       "3      US      89  150.0\n",
       "4   Italy      89   59.0"
      ]
     },
     "execution_count": 30,
     "metadata": {},
     "output_type": "execute_result"
    }
   ],
   "source": [
    "# Read from the wines-3k CSV file\n",
    "wines_df = pd.read_csv('wines-3k.csv', sep='|')\n",
    "wines_df.head()"
   ]
  },
  {
   "cell_type": "code",
   "execution_count": 36,
   "metadata": {
    "ExecuteTime": {
     "end_time": "2018-10-09T16:06:53.191361Z",
     "start_time": "2018-10-09T16:06:53.170447Z"
    }
   },
   "outputs": [
    {
     "name": "stdout",
     "output_type": "stream",
     "text": [
      "      country  points  price\n",
      "0          US      84   12.0\n",
      "1       Italy      87   15.0\n",
      "2          US      86   48.0\n",
      "3          US      89  150.0\n",
      "4       Italy      89   59.0\n",
      "5          US      87   25.0\n",
      "6       Italy      87   26.0\n",
      "7       Spain      85   20.0\n",
      "8          US      89   20.0\n",
      "9          US      92   25.0\n",
      "10      Italy      88   49.0\n",
      "11   Portugal      83   16.0\n",
      "12     France      88   85.0\n",
      "13      Italy      87   12.0\n",
      "14     France      93    NaN\n",
      "15         US      85   18.0\n",
      "16         US      88   46.0\n",
      "17     France      89   20.0\n",
      "18  Argentina      81    6.0\n",
      "19  Argentina      85   13.0\n",
      "\n",
      "      country  points  price\n",
      "0          US      84   12.0\n",
      "1       Italy      87   15.0\n",
      "2          US      86   48.0\n",
      "3          US      89  150.0\n",
      "4       Italy      89   59.0\n",
      "5          US      87   25.0\n",
      "6       Italy      87   26.0\n",
      "7       Spain      85   20.0\n",
      "8          US      89   20.0\n",
      "9          US      92   25.0\n",
      "10      Italy      88   49.0\n",
      "11   Portugal      83   16.0\n",
      "12     France      88   85.0\n",
      "13      Italy      87   12.0\n",
      "14     France      93    0.0\n",
      "15         US      85   18.0\n",
      "16         US      88   46.0\n",
      "17     France      89   20.0\n",
      "18  Argentina      81    6.0\n",
      "19  Argentina      85   13.0\n"
     ]
    }
   ],
   "source": [
    "###\n",
    "# fillna() / fill for all missing prices\n",
    "###\n",
    "wines_df_fill = wines_df.copy()\n",
    "print(wines_df_fill.head(20))\n",
    "# We are directly filling in the df, hence, inplace=True must be specified\n",
    "wines_df_fill.fillna(0, inplace=True)\n",
    "print()\n",
    "print(wines_df_fill.head(20))\n",
    "#Observe that for index 14, the value for 'price' has been replaced to 0.0"
   ]
  },
  {
   "cell_type": "markdown",
   "metadata": {},
   "source": [
    "#### Use `DataFrame.dropna()` to remove rows with `NaN` values (missing data)\n",
    "Alternatively, use `dropna(axis=1)` to remove records with missing data. `axis=0` needs to be specified so rows, not columns are removed.\n",
    "\n",
    "Read the [documentation](https://pandas.pydata.org/pandas-docs/stable/missing_data.html) to find out more. A similar implementation is available for `Series`. Read more [here](https://pandas.pydata.org/pandas-docs/stable/generated/pandas.Series.dropna.html#pandas.Series.dropna)."
   ]
  },
  {
   "cell_type": "code",
   "execution_count": 16,
   "metadata": {
    "ExecuteTime": {
     "end_time": "2018-10-09T16:06:53.218037Z",
     "start_time": "2018-10-09T16:06:53.196867Z"
    },
    "scrolled": false
   },
   "outputs": [
    {
     "name": "stdout",
     "output_type": "stream",
     "text": [
      "      country  points  price\n",
      "0          US      84   12.0\n",
      "1       Italy      87   15.0\n",
      "2          US      86   48.0\n",
      "3          US      89  150.0\n",
      "4       Italy      89   59.0\n",
      "5          US      87   25.0\n",
      "6       Italy      87   26.0\n",
      "7       Spain      85   20.0\n",
      "8          US      89   20.0\n",
      "9          US      92   25.0\n",
      "10      Italy      88   49.0\n",
      "11   Portugal      83   16.0\n",
      "12     France      88   85.0\n",
      "13      Italy      87   12.0\n",
      "14     France      93    NaN\n",
      "15         US      85   18.0\n",
      "16         US      88   46.0\n",
      "17     France      89   20.0\n",
      "18  Argentina      81    6.0\n",
      "19  Argentina      85   13.0\n",
      "\n",
      "      country  points  price\n",
      "0          US      84   12.0\n",
      "1       Italy      87   15.0\n",
      "2          US      86   48.0\n",
      "3          US      89  150.0\n",
      "4       Italy      89   59.0\n",
      "5          US      87   25.0\n",
      "6       Italy      87   26.0\n",
      "7       Spain      85   20.0\n",
      "8          US      89   20.0\n",
      "9          US      92   25.0\n",
      "10      Italy      88   49.0\n",
      "11   Portugal      83   16.0\n",
      "12     France      88   85.0\n",
      "13      Italy      87   12.0\n",
      "15         US      85   18.0\n",
      "16         US      88   46.0\n",
      "17     France      89   20.0\n",
      "18  Argentina      81    6.0\n",
      "19  Argentina      85   13.0\n",
      "20         US      92   28.0\n"
     ]
    }
   ],
   "source": [
    "###\n",
    "# dropna() / remove all missing prices\n",
    "###\n",
    "wines_df_drop = wines_df.copy()\n",
    "print(wines_df_drop.head(20))\n",
    "wines_df_drop.dropna(axis=0, inplace=True)\n",
    "print()\n",
    "print(wines_df_drop.head(20))\n",
    "# Observe that the record at location index 14 is removed"
   ]
  },
  {
   "cell_type": "markdown",
   "metadata": {},
   "source": [
    "#### Use `DataFrame.isnull()` to find rows with `NaN` values (missing data)\n",
    "Alternatively, use `isnull()` to find all records with missing data.columns are removed.\n",
    "\n",
    "Read the [documentation](https://pandas.pydata.org/pandas-docs/stable/generated/pandas.DataFrame.isnull.html?highlight=isnull#pandas.DataFrame.isnull) to find out more. A similar implementation is available for `Series`. Read more [here](https://pandas.pydata.org/pandas-docs/stable/generated/pandas.Series.isnull.html?highlight=series%20isnull#pandas.Series.isnull)."
   ]
  },
  {
   "cell_type": "code",
   "execution_count": 34,
   "metadata": {
    "ExecuteTime": {
     "end_time": "2018-10-09T16:06:53.234626Z",
     "start_time": "2018-10-09T16:06:53.220802Z"
    }
   },
   "outputs": [
    {
     "data": {
      "text/html": [
       "<div>\n",
       "<style scoped>\n",
       "    .dataframe tbody tr th:only-of-type {\n",
       "        vertical-align: middle;\n",
       "    }\n",
       "\n",
       "    .dataframe tbody tr th {\n",
       "        vertical-align: top;\n",
       "    }\n",
       "\n",
       "    .dataframe thead th {\n",
       "        text-align: right;\n",
       "    }\n",
       "</style>\n",
       "<table border=\"1\" class=\"dataframe\">\n",
       "  <thead>\n",
       "    <tr style=\"text-align: right;\">\n",
       "      <th></th>\n",
       "      <th>country</th>\n",
       "      <th>points</th>\n",
       "      <th>price</th>\n",
       "    </tr>\n",
       "  </thead>\n",
       "  <tbody>\n",
       "    <tr>\n",
       "      <th>14</th>\n",
       "      <td>France</td>\n",
       "      <td>93</td>\n",
       "      <td>NaN</td>\n",
       "    </tr>\n",
       "    <tr>\n",
       "      <th>27</th>\n",
       "      <td>Austria</td>\n",
       "      <td>94</td>\n",
       "      <td>NaN</td>\n",
       "    </tr>\n",
       "    <tr>\n",
       "      <th>32</th>\n",
       "      <td>Italy</td>\n",
       "      <td>92</td>\n",
       "      <td>NaN</td>\n",
       "    </tr>\n",
       "    <tr>\n",
       "      <th>36</th>\n",
       "      <td>Italy</td>\n",
       "      <td>87</td>\n",
       "      <td>NaN</td>\n",
       "    </tr>\n",
       "    <tr>\n",
       "      <th>52</th>\n",
       "      <td>Australia</td>\n",
       "      <td>85</td>\n",
       "      <td>NaN</td>\n",
       "    </tr>\n",
       "  </tbody>\n",
       "</table>\n",
       "</div>"
      ],
      "text/plain": [
       "      country  points  price\n",
       "14     France      93    NaN\n",
       "27    Austria      94    NaN\n",
       "32      Italy      92    NaN\n",
       "36      Italy      87    NaN\n",
       "52  Australia      85    NaN"
      ]
     },
     "execution_count": 34,
     "metadata": {},
     "output_type": "execute_result"
    }
   ],
   "source": [
    "###\n",
    "# isnull() to find all missing prices\n",
    "###\n",
    "wines_df[wines_df['price'].isnull()].iloc[:5] #Remove this index to see all records\n"
   ]
  },
  {
   "cell_type": "markdown",
   "metadata": {},
   "source": [
    "#### Use `DataFrame.count()` to find the number of filled rows per column"
   ]
  },
  {
   "cell_type": "code",
   "execution_count": 37,
   "metadata": {
    "ExecuteTime": {
     "end_time": "2018-10-09T16:06:53.259480Z",
     "start_time": "2018-10-09T16:06:53.239754Z"
    }
   },
   "outputs": [
    {
     "name": "stdout",
     "output_type": "stream",
     "text": [
      "country    3000\n",
      "points     3000\n",
      "price      2718\n",
      "dtype: int64\n",
      "\n"
     ]
    },
    {
     "ename": "NameError",
     "evalue": "name 'wines_df_drop' is not defined",
     "output_type": "error",
     "traceback": [
      "\u001b[0;31m---------------------------------------------------------------------------\u001b[0m",
      "\u001b[0;31mNameError\u001b[0m                                 Traceback (most recent call last)",
      "\u001b[0;32m<ipython-input-37-f91fd9e86c0b>\u001b[0m in \u001b[0;36m<module>\u001b[0;34m\u001b[0m\n\u001b[1;32m      1\u001b[0m \u001b[0mprint\u001b[0m\u001b[0;34m(\u001b[0m\u001b[0mwines_df\u001b[0m\u001b[0;34m.\u001b[0m\u001b[0mcount\u001b[0m\u001b[0;34m(\u001b[0m\u001b[0;34m)\u001b[0m\u001b[0;34m)\u001b[0m\u001b[0;34m\u001b[0m\u001b[0;34m\u001b[0m\u001b[0m\n\u001b[1;32m      2\u001b[0m \u001b[0mprint\u001b[0m\u001b[0;34m(\u001b[0m\u001b[0;34m)\u001b[0m\u001b[0;34m\u001b[0m\u001b[0;34m\u001b[0m\u001b[0m\n\u001b[0;32m----> 3\u001b[0;31m \u001b[0mprint\u001b[0m\u001b[0;34m(\u001b[0m\u001b[0mwines_df_drop\u001b[0m\u001b[0;34m.\u001b[0m\u001b[0mcount\u001b[0m\u001b[0;34m(\u001b[0m\u001b[0;34m)\u001b[0m\u001b[0;34m)\u001b[0m\u001b[0;34m\u001b[0m\u001b[0;34m\u001b[0m\u001b[0m\n\u001b[0m\u001b[1;32m      4\u001b[0m \u001b[0;31m# Observe that all the records with missing data has been dropped.\u001b[0m\u001b[0;34m\u001b[0m\u001b[0;34m\u001b[0m\u001b[0;34m\u001b[0m\u001b[0m\n",
      "\u001b[0;31mNameError\u001b[0m: name 'wines_df_drop' is not defined"
     ]
    }
   ],
   "source": [
    "print(wines_df.count())\n",
    "print()\n",
    "print(wines_df_drop.count())\n",
    "# Observe that all the records with missing data has been dropped."
   ]
  },
  {
   "cell_type": "markdown",
   "metadata": {},
   "source": [
    "Alternatively, use `len()` of a `Series` to get the number of records."
   ]
  },
  {
   "cell_type": "code",
   "execution_count": 19,
   "metadata": {
    "ExecuteTime": {
     "end_time": "2018-10-09T16:06:53.269462Z",
     "start_time": "2018-10-09T16:06:53.262563Z"
    }
   },
   "outputs": [
    {
     "data": {
      "text/plain": [
       "2718"
      ]
     },
     "execution_count": 19,
     "metadata": {},
     "output_type": "execute_result"
    }
   ],
   "source": [
    "len(wines_df_drop['country'])"
   ]
  },
  {
   "cell_type": "markdown",
   "metadata": {},
   "source": [
    "### Retrieve records from `DataFrame` or `Series`\n",
    "\n",
    "Use list indices to retrieve a slice of the `DataFrame`. Similarly (as you can see), indices start from `0`. In fact, the left-most column is the index of the `df`."
   ]
  },
  {
   "cell_type": "code",
   "execution_count": 42,
   "metadata": {
    "ExecuteTime": {
     "end_time": "2018-10-09T16:06:53.287998Z",
     "start_time": "2018-10-09T16:06:53.273012Z"
    },
    "scrolled": true
   },
   "outputs": [
    {
     "data": {
      "text/html": [
       "<div>\n",
       "<style scoped>\n",
       "    .dataframe tbody tr th:only-of-type {\n",
       "        vertical-align: middle;\n",
       "    }\n",
       "\n",
       "    .dataframe tbody tr th {\n",
       "        vertical-align: top;\n",
       "    }\n",
       "\n",
       "    .dataframe thead th {\n",
       "        text-align: right;\n",
       "    }\n",
       "</style>\n",
       "<table border=\"1\" class=\"dataframe\">\n",
       "  <thead>\n",
       "    <tr style=\"text-align: right;\">\n",
       "      <th></th>\n",
       "      <th>country</th>\n",
       "      <th>points</th>\n",
       "      <th>price</th>\n",
       "    </tr>\n",
       "  </thead>\n",
       "  <tbody>\n",
       "    <tr>\n",
       "      <th>10</th>\n",
       "      <td>Italy</td>\n",
       "      <td>88</td>\n",
       "      <td>49.0</td>\n",
       "    </tr>\n",
       "    <tr>\n",
       "      <th>11</th>\n",
       "      <td>Portugal</td>\n",
       "      <td>83</td>\n",
       "      <td>16.0</td>\n",
       "    </tr>\n",
       "    <tr>\n",
       "      <th>12</th>\n",
       "      <td>France</td>\n",
       "      <td>88</td>\n",
       "      <td>85.0</td>\n",
       "    </tr>\n",
       "    <tr>\n",
       "      <th>13</th>\n",
       "      <td>Italy</td>\n",
       "      <td>87</td>\n",
       "      <td>12.0</td>\n",
       "    </tr>\n",
       "    <tr>\n",
       "      <th>14</th>\n",
       "      <td>France</td>\n",
       "      <td>93</td>\n",
       "      <td>0.0</td>\n",
       "    </tr>\n",
       "    <tr>\n",
       "      <th>15</th>\n",
       "      <td>US</td>\n",
       "      <td>85</td>\n",
       "      <td>18.0</td>\n",
       "    </tr>\n",
       "    <tr>\n",
       "      <th>16</th>\n",
       "      <td>US</td>\n",
       "      <td>88</td>\n",
       "      <td>46.0</td>\n",
       "    </tr>\n",
       "    <tr>\n",
       "      <th>17</th>\n",
       "      <td>France</td>\n",
       "      <td>89</td>\n",
       "      <td>20.0</td>\n",
       "    </tr>\n",
       "    <tr>\n",
       "      <th>18</th>\n",
       "      <td>Argentina</td>\n",
       "      <td>81</td>\n",
       "      <td>6.0</td>\n",
       "    </tr>\n",
       "    <tr>\n",
       "      <th>19</th>\n",
       "      <td>Argentina</td>\n",
       "      <td>85</td>\n",
       "      <td>13.0</td>\n",
       "    </tr>\n",
       "  </tbody>\n",
       "</table>\n",
       "</div>"
      ],
      "text/plain": [
       "      country  points  price\n",
       "10      Italy      88   49.0\n",
       "11   Portugal      83   16.0\n",
       "12     France      88   85.0\n",
       "13      Italy      87   12.0\n",
       "14     France      93    0.0\n",
       "15         US      85   18.0\n",
       "16         US      88   46.0\n",
       "17     France      89   20.0\n",
       "18  Argentina      81    6.0\n",
       "19  Argentina      85   13.0"
      ]
     },
     "execution_count": 42,
     "metadata": {},
     "output_type": "execute_result"
    }
   ],
   "source": [
    "wines_df_fill[10:20]"
   ]
  },
  {
   "cell_type": "markdown",
   "metadata": {},
   "source": [
    "Indices can also be used to slice from a `Series`."
   ]
  },
  {
   "cell_type": "code",
   "execution_count": 21,
   "metadata": {
    "ExecuteTime": {
     "end_time": "2018-10-09T16:06:53.309712Z",
     "start_time": "2018-10-09T16:06:53.291900Z"
    },
    "scrolled": false
   },
   "outputs": [
    {
     "name": "stdout",
     "output_type": "stream",
     "text": [
      "<class 'pandas.core.series.Series'>\n"
     ]
    },
    {
     "data": {
      "text/plain": [
       "850    90\n",
       "852    85\n",
       "854    88\n",
       "856    90\n",
       "858    92\n",
       "Name: points, dtype: int64"
      ]
     },
     "execution_count": 21,
     "metadata": {},
     "output_type": "execute_result"
    }
   ],
   "source": [
    "wine_points = wines_df_fill['points']\n",
    "print(type(wine_points))\n",
    "wine_800_series = wine_points[850:860:2] #Similarly, the 3rd number in the colon (:) notation represents the step\n",
    "wine_800_series"
   ]
  },
  {
   "cell_type": "markdown",
   "metadata": {},
   "source": [
    "To retrieve multiple specific rows, store the indices in a `list` and use `.loc[]` to retrieve them. \n",
    "\n",
    "**Note:** After `.loc`, use square brackets `[]`, not round brackets."
   ]
  },
  {
   "cell_type": "code",
   "execution_count": 22,
   "metadata": {
    "ExecuteTime": {
     "end_time": "2018-10-09T16:06:53.331382Z",
     "start_time": "2018-10-09T16:06:53.313114Z"
    },
    "scrolled": true
   },
   "outputs": [
    {
     "data": {
      "text/html": [
       "<div>\n",
       "<style scoped>\n",
       "    .dataframe tbody tr th:only-of-type {\n",
       "        vertical-align: middle;\n",
       "    }\n",
       "\n",
       "    .dataframe tbody tr th {\n",
       "        vertical-align: top;\n",
       "    }\n",
       "\n",
       "    .dataframe thead th {\n",
       "        text-align: right;\n",
       "    }\n",
       "</style>\n",
       "<table border=\"1\" class=\"dataframe\">\n",
       "  <thead>\n",
       "    <tr style=\"text-align: right;\">\n",
       "      <th></th>\n",
       "      <th>country</th>\n",
       "      <th>points</th>\n",
       "      <th>price</th>\n",
       "    </tr>\n",
       "  </thead>\n",
       "  <tbody>\n",
       "    <tr>\n",
       "      <th>11</th>\n",
       "      <td>Portugal</td>\n",
       "      <td>83</td>\n",
       "      <td>16.0</td>\n",
       "    </tr>\n",
       "    <tr>\n",
       "      <th>15</th>\n",
       "      <td>US</td>\n",
       "      <td>85</td>\n",
       "      <td>18.0</td>\n",
       "    </tr>\n",
       "    <tr>\n",
       "      <th>16</th>\n",
       "      <td>US</td>\n",
       "      <td>88</td>\n",
       "      <td>46.0</td>\n",
       "    </tr>\n",
       "  </tbody>\n",
       "</table>\n",
       "</div>"
      ],
      "text/plain": [
       "     country  points  price\n",
       "11  Portugal      83   16.0\n",
       "15        US      85   18.0\n",
       "16        US      88   46.0"
      ]
     },
     "execution_count": 22,
     "metadata": {},
     "output_type": "execute_result"
    }
   ],
   "source": [
    "wines_df_fill.loc[[11, 15, 16]]"
   ]
  },
  {
   "cell_type": "markdown",
   "metadata": {},
   "source": [
    "Similar to `list`s, to update a value in a `Series`, specify the index and then specify the new value."
   ]
  },
  {
   "cell_type": "code",
   "execution_count": 23,
   "metadata": {
    "ExecuteTime": {
     "end_time": "2018-10-09T16:06:53.341965Z",
     "start_time": "2018-10-09T16:06:53.334498Z"
    }
   },
   "outputs": [
    {
     "name": "stdout",
     "output_type": "stream",
     "text": [
      "850    90\n",
      "852    85\n",
      "854    88\n",
      "856    90\n",
      "858    92\n",
      "Name: points, dtype: int64\n",
      "\n",
      "850    92\n",
      "852    85\n",
      "854    88\n",
      "856    90\n",
      "858    92\n",
      "Name: points, dtype: int64\n"
     ]
    }
   ],
   "source": [
    "print(wine_800_series)\n",
    "print()\n",
    "wine_800_series.loc[850] = 92 #Observe that the value at index no. 850 has been updated.\n",
    "print(wine_800_series)"
   ]
  },
  {
   "cell_type": "markdown",
   "metadata": {},
   "source": [
    "To only perform analysis on a **specific** set of columns, store all the columns to keep in a list and call it using `df[[col1, col2, ...]]`.\n",
    "\n",
    "**Note**: Store this new `df` as a **NEW** variable. Also, use `df.copy()` before slicing the `df` by column. Column names are **case sensitive**."
   ]
  },
  {
   "cell_type": "code",
   "execution_count": 24,
   "metadata": {
    "ExecuteTime": {
     "end_time": "2018-10-09T16:06:53.362681Z",
     "start_time": "2018-10-09T16:06:53.344510Z"
    }
   },
   "outputs": [
    {
     "data": {
      "text/html": [
       "<div>\n",
       "<style scoped>\n",
       "    .dataframe tbody tr th:only-of-type {\n",
       "        vertical-align: middle;\n",
       "    }\n",
       "\n",
       "    .dataframe tbody tr th {\n",
       "        vertical-align: top;\n",
       "    }\n",
       "\n",
       "    .dataframe thead th {\n",
       "        text-align: right;\n",
       "    }\n",
       "</style>\n",
       "<table border=\"1\" class=\"dataframe\">\n",
       "  <thead>\n",
       "    <tr style=\"text-align: right;\">\n",
       "      <th></th>\n",
       "      <th>country</th>\n",
       "      <th>points</th>\n",
       "    </tr>\n",
       "  </thead>\n",
       "  <tbody>\n",
       "    <tr>\n",
       "      <th>0</th>\n",
       "      <td>US</td>\n",
       "      <td>84</td>\n",
       "    </tr>\n",
       "    <tr>\n",
       "      <th>1</th>\n",
       "      <td>Italy</td>\n",
       "      <td>87</td>\n",
       "    </tr>\n",
       "    <tr>\n",
       "      <th>2</th>\n",
       "      <td>US</td>\n",
       "      <td>86</td>\n",
       "    </tr>\n",
       "    <tr>\n",
       "      <th>3</th>\n",
       "      <td>US</td>\n",
       "      <td>89</td>\n",
       "    </tr>\n",
       "    <tr>\n",
       "      <th>4</th>\n",
       "      <td>Italy</td>\n",
       "      <td>89</td>\n",
       "    </tr>\n",
       "  </tbody>\n",
       "</table>\n",
       "</div>"
      ],
      "text/plain": [
       "  country  points\n",
       "0      US      84\n",
       "1   Italy      87\n",
       "2      US      86\n",
       "3      US      89\n",
       "4   Italy      89"
      ]
     },
     "execution_count": 24,
     "metadata": {},
     "output_type": "execute_result"
    }
   ],
   "source": [
    "wines_points_df = wines_df_fill.copy() #Make a copy of the original df\n",
    "wines_points_df = wines_points_df[['country', 'points']] #Select specific columns.\n",
    "wines_points_df.head()"
   ]
  },
  {
   "cell_type": "markdown",
   "metadata": {},
   "source": [
    "### Exploration: Sorting by values in a `df`"
   ]
  },
  {
   "cell_type": "code",
   "execution_count": 49,
   "metadata": {
    "ExecuteTime": {
     "end_time": "2018-10-09T16:06:53.372026Z",
     "start_time": "2018-10-09T16:06:53.366155Z"
    }
   },
   "outputs": [
    {
     "data": {
      "text/html": [
       "<div>\n",
       "<style scoped>\n",
       "    .dataframe tbody tr th:only-of-type {\n",
       "        vertical-align: middle;\n",
       "    }\n",
       "\n",
       "    .dataframe tbody tr th {\n",
       "        vertical-align: top;\n",
       "    }\n",
       "\n",
       "    .dataframe thead th {\n",
       "        text-align: right;\n",
       "    }\n",
       "</style>\n",
       "<table border=\"1\" class=\"dataframe\">\n",
       "  <thead>\n",
       "    <tr style=\"text-align: right;\">\n",
       "      <th></th>\n",
       "      <th>country</th>\n",
       "      <th>points</th>\n",
       "      <th>price</th>\n",
       "    </tr>\n",
       "  </thead>\n",
       "  <tbody>\n",
       "    <tr>\n",
       "      <th>1819</th>\n",
       "      <td>Germany</td>\n",
       "      <td>86</td>\n",
       "      <td>5.0</td>\n",
       "    </tr>\n",
       "    <tr>\n",
       "      <th>2175</th>\n",
       "      <td>Argentina</td>\n",
       "      <td>84</td>\n",
       "      <td>5.0</td>\n",
       "    </tr>\n",
       "    <tr>\n",
       "      <th>2166</th>\n",
       "      <td>US</td>\n",
       "      <td>83</td>\n",
       "      <td>5.0</td>\n",
       "    </tr>\n",
       "    <tr>\n",
       "      <th>77</th>\n",
       "      <td>Spain</td>\n",
       "      <td>81</td>\n",
       "      <td>6.0</td>\n",
       "    </tr>\n",
       "    <tr>\n",
       "      <th>2781</th>\n",
       "      <td>US</td>\n",
       "      <td>84</td>\n",
       "      <td>6.0</td>\n",
       "    </tr>\n",
       "    <tr>\n",
       "      <th>...</th>\n",
       "      <td>...</td>\n",
       "      <td>...</td>\n",
       "      <td>...</td>\n",
       "    </tr>\n",
       "    <tr>\n",
       "      <th>1876</th>\n",
       "      <td>France</td>\n",
       "      <td>97</td>\n",
       "      <td>288.0</td>\n",
       "    </tr>\n",
       "    <tr>\n",
       "      <th>1505</th>\n",
       "      <td>US</td>\n",
       "      <td>94</td>\n",
       "      <td>300.0</td>\n",
       "    </tr>\n",
       "    <tr>\n",
       "      <th>2053</th>\n",
       "      <td>France</td>\n",
       "      <td>96</td>\n",
       "      <td>360.0</td>\n",
       "    </tr>\n",
       "    <tr>\n",
       "      <th>1902</th>\n",
       "      <td>France</td>\n",
       "      <td>99</td>\n",
       "      <td>450.0</td>\n",
       "    </tr>\n",
       "    <tr>\n",
       "      <th>318</th>\n",
       "      <td>France</td>\n",
       "      <td>96</td>\n",
       "      <td>500.0</td>\n",
       "    </tr>\n",
       "  </tbody>\n",
       "</table>\n",
       "<p>2718 rows × 3 columns</p>\n",
       "</div>"
      ],
      "text/plain": [
       "        country  points  price\n",
       "1819    Germany      86    5.0\n",
       "2175  Argentina      84    5.0\n",
       "2166         US      83    5.0\n",
       "77        Spain      81    6.0\n",
       "2781         US      84    6.0\n",
       "...         ...     ...    ...\n",
       "1876     France      97  288.0\n",
       "1505         US      94  300.0\n",
       "2053     France      96  360.0\n",
       "1902     France      99  450.0\n",
       "318      France      96  500.0\n",
       "\n",
       "[2718 rows x 3 columns]"
      ]
     },
     "execution_count": 49,
     "metadata": {},
     "output_type": "execute_result"
    }
   ],
   "source": [
    "# Exploration: sort the wines by prices in ascending order, smallest value on top\n",
    "wines_points_price_sort = wines_df.copy()\n",
    "wines_points_price_sort = wines_points_price_sort.sort_values('price')\n",
    "wines_points_price_sort.dropna()"
   ]
  },
  {
   "cell_type": "code",
   "execution_count": 50,
   "metadata": {
    "ExecuteTime": {
     "end_time": "2018-10-09T16:06:53.385161Z",
     "start_time": "2018-10-09T16:06:53.378158Z"
    },
    "scrolled": true
   },
   "outputs": [
    {
     "data": {
      "text/html": [
       "<div>\n",
       "<style scoped>\n",
       "    .dataframe tbody tr th:only-of-type {\n",
       "        vertical-align: middle;\n",
       "    }\n",
       "\n",
       "    .dataframe tbody tr th {\n",
       "        vertical-align: top;\n",
       "    }\n",
       "\n",
       "    .dataframe thead th {\n",
       "        text-align: right;\n",
       "    }\n",
       "</style>\n",
       "<table border=\"1\" class=\"dataframe\">\n",
       "  <thead>\n",
       "    <tr style=\"text-align: right;\">\n",
       "      <th></th>\n",
       "      <th>country</th>\n",
       "      <th>points</th>\n",
       "      <th>price</th>\n",
       "    </tr>\n",
       "  </thead>\n",
       "  <tbody>\n",
       "    <tr>\n",
       "      <th>522</th>\n",
       "      <td>US</td>\n",
       "      <td>100</td>\n",
       "      <td>200.0</td>\n",
       "    </tr>\n",
       "    <tr>\n",
       "      <th>919</th>\n",
       "      <td>US</td>\n",
       "      <td>100</td>\n",
       "      <td>245.0</td>\n",
       "    </tr>\n",
       "    <tr>\n",
       "      <th>1902</th>\n",
       "      <td>France</td>\n",
       "      <td>99</td>\n",
       "      <td>450.0</td>\n",
       "    </tr>\n",
       "    <tr>\n",
       "      <th>972</th>\n",
       "      <td>US</td>\n",
       "      <td>98</td>\n",
       "      <td>147.0</td>\n",
       "    </tr>\n",
       "    <tr>\n",
       "      <th>114</th>\n",
       "      <td>Germany</td>\n",
       "      <td>97</td>\n",
       "      <td>250.0</td>\n",
       "    </tr>\n",
       "    <tr>\n",
       "      <th>...</th>\n",
       "      <td>...</td>\n",
       "      <td>...</td>\n",
       "      <td>...</td>\n",
       "    </tr>\n",
       "    <tr>\n",
       "      <th>711</th>\n",
       "      <td>Uruguay</td>\n",
       "      <td>80</td>\n",
       "      <td>15.0</td>\n",
       "    </tr>\n",
       "    <tr>\n",
       "      <th>1940</th>\n",
       "      <td>US</td>\n",
       "      <td>80</td>\n",
       "      <td>17.0</td>\n",
       "    </tr>\n",
       "    <tr>\n",
       "      <th>1651</th>\n",
       "      <td>Spain</td>\n",
       "      <td>80</td>\n",
       "      <td>11.0</td>\n",
       "    </tr>\n",
       "    <tr>\n",
       "      <th>1720</th>\n",
       "      <td>US</td>\n",
       "      <td>80</td>\n",
       "      <td>20.0</td>\n",
       "    </tr>\n",
       "    <tr>\n",
       "      <th>689</th>\n",
       "      <td>Argentina</td>\n",
       "      <td>80</td>\n",
       "      <td>11.0</td>\n",
       "    </tr>\n",
       "  </tbody>\n",
       "</table>\n",
       "<p>3000 rows × 3 columns</p>\n",
       "</div>"
      ],
      "text/plain": [
       "        country  points  price\n",
       "522          US     100  200.0\n",
       "919          US     100  245.0\n",
       "1902     France      99  450.0\n",
       "972          US      98  147.0\n",
       "114     Germany      97  250.0\n",
       "...         ...     ...    ...\n",
       "711     Uruguay      80   15.0\n",
       "1940         US      80   17.0\n",
       "1651      Spain      80   11.0\n",
       "1720         US      80   20.0\n",
       "689   Argentina      80   11.0\n",
       "\n",
       "[3000 rows x 3 columns]"
      ]
     },
     "execution_count": 50,
     "metadata": {},
     "output_type": "execute_result"
    }
   ],
   "source": [
    "# Exploration: sort the wines by points in descending order, largest value on top\n",
    "wines_points = wines_df.copy()\n",
    "wines_points.sort_values(\"points\", ascending = False)"
   ]
  },
  {
   "cell_type": "markdown",
   "metadata": {},
   "source": [
    "**Credits**\n",
    "- [Wine Reviews, Kaggle](https://www.kaggle.com/zynicide/wine-reviews) for the dataset"
   ]
  }
 ],
 "metadata": {
  "kernelspec": {
   "display_name": "Python 3",
   "language": "python",
   "name": "python3"
  },
  "language_info": {
   "codemirror_mode": {
    "name": "ipython",
    "version": 3
   },
   "file_extension": ".py",
   "mimetype": "text/x-python",
   "name": "python",
   "nbconvert_exporter": "python",
   "pygments_lexer": "ipython3",
   "version": "3.7.6"
  }
 },
 "nbformat": 4,
 "nbformat_minor": 2
}
