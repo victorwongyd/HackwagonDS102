{
 "cells": [
  {
   "cell_type": "markdown",
   "metadata": {},
   "source": [
    "<h4>Worked Exercise 1 (Total revenue of Farm)</h4>"
   ]
  },
  {
   "cell_type": "code",
   "execution_count": 21,
   "metadata": {},
   "outputs": [
    {
     "name": "stdout",
     "output_type": "stream",
     "text": [
      "198.25\n"
     ]
    }
   ],
   "source": [
    "eggs = [109, 101, 93, 96, 104, 98, 97, 95]\n",
    "total_eggs = sum(eggs)\n",
    "total_revenue = (total_eggs*0.25)\n",
    "print(total_revenue)"
   ]
  },
  {
   "cell_type": "markdown",
   "metadata": {},
   "source": [
    "<h4> Worked Exercise 2 (Number of likes for photos)</h4>"
   ]
  },
  {
   "cell_type": "code",
   "execution_count": 24,
   "metadata": {},
   "outputs": [
    {
     "name": "stdout",
     "output_type": "stream",
     "text": [
      "33757\n"
     ]
    }
   ],
   "source": [
    "photo_likes = [32.9, 34.0, 32.8, 34.7, 34.1, 33.9, 33.9]\n",
    "average = ((sum(photo_likes) / 7) * 1000)\n",
    "print(int(average))"
   ]
  },
  {
   "cell_type": "markdown",
   "metadata": {},
   "source": [
    "<h4> Worked Exercise 3 (Total of Bill)</h4>\n"
   ]
  },
  {
   "cell_type": "code",
   "execution_count": 27,
   "metadata": {},
   "outputs": [],
   "source": [
    "def calculate_net_total(restaurant_gross_total):\n",
    "    \"\"\"\n",
    "    Takes in:\n",
    "        restaurant_gross_total (float): The total gross of a restaurant bill\n",
    "\n",
    "    Returns:\n",
    "        restaurant_net_total (float): The total net of a restaurant bill.\n",
    "    \"\"\"\n",
    "    return 0.0"
   ]
  },
  {
   "cell_type": "code",
   "execution_count": 35,
   "metadata": {},
   "outputs": [],
   "source": [
    "def calculate_net_total(restaurant_gross_total):\n",
    "    restaurant_sum = sum(restaurant_gross_total)\n",
    "    service = ((restaurant_sum/10)*11)\n",
    "    gst = ((service/100)*107)\n",
    "    return gst"
   ]
  },
  {
   "cell_type": "code",
   "execution_count": 37,
   "metadata": {},
   "outputs": [
    {
     "data": {
      "text/plain": [
       "811.1883999999999"
      ]
     },
     "execution_count": 37,
     "metadata": {},
     "output_type": "execute_result"
    }
   ],
   "source": [
    "calculate_net_total(bill)"
   ]
  },
  {
   "cell_type": "markdown",
   "metadata": {},
   "source": [
    "<h4> Worked Exercise 4 </h4>"
   ]
  },
  {
   "cell_type": "code",
   "execution_count": 39,
   "metadata": {},
   "outputs": [
    {
     "ename": "NameError",
     "evalue": "name 'Hokkaido' is not defined",
     "output_type": "error",
     "traceback": [
      "\u001b[1;31m---------------------------------------------------------------------------\u001b[0m",
      "\u001b[1;31mNameError\u001b[0m                                 Traceback (most recent call last)",
      "\u001b[1;32m<ipython-input-39-02ddecacd923>\u001b[0m in \u001b[0;36m<module>\u001b[1;34m\u001b[0m\n\u001b[0;32m     13\u001b[0m ]\n\u001b[0;32m     14\u001b[0m \u001b[1;33m\u001b[0m\u001b[0m\n\u001b[1;32m---> 15\u001b[1;33m \u001b[0mprint\u001b[0m\u001b[1;33m(\u001b[0m\u001b[0mjapanese_regions\u001b[0m\u001b[1;33m[\u001b[0m\u001b[0mHokkaido\u001b[0m\u001b[1;33m]\u001b[0m\u001b[1;33m)\u001b[0m\u001b[1;33m\u001b[0m\u001b[1;33m\u001b[0m\u001b[0m\n\u001b[0m",
      "\u001b[1;31mNameError\u001b[0m: name 'Hokkaido' is not defined"
     ]
    }
   ],
   "source": [
    "japanese_regions = [\n",
    "    {\"region\": \"Chūbu\",\"prefectures\": [\"Aichi\",\"Fukui\",\"Gifu\",\"Ishikawa\",\"Nagano\",\"Niigata\",\n",
    "                                       \"Shizuoka\",\"Toyama\",\"Yamanashi\"]},\n",
    "    {\"region\": \"Chūgoku\",\"prefectures\": [\"Hiroshima\",\"Okayama\",\"Shimane\",\"Tottori\",\"Yamaguchi\"]},\n",
    "    {\"region\": \"Hokkaido\",\"prefectures\": [\"Hokkaido\"]},\n",
    "    {\"region\": \"Kansai\",\"prefectures\": [\"Hyōgo\",\"Kyoto\",\"Mie\",\"Nara\",\"Osaka\",\"Shiga\",\"Wakayama\"]},\n",
    "    {\"region\": \"Kantō\",\"prefectures\": [\"Chiba\",\"Gunma\",\"Ibaraki\",\"Kanagawa\",\"Saitama\",\n",
    "                                       \"Tochigi\",\"Tokyo\"]},\n",
    "    {\"region\": \"Kyushu\",\"prefectures\": [\"Fukuoka\",\"Kagoshima\",\"Kumamoto\",\"Miyazaki\",\n",
    "                                        \"Nagasaki\",\"Ōita\",\"Okinawa\",\"Saga\"]},\n",
    "    {\"region\": \"Shikoku\",\"prefectures\": [\"Ehime\",\"Kagawa\",\"Kōchi\",\"Tokushima\"]},\n",
    "    {\"region\": \"Tōhoku\",\"prefectures\": [\"Akita\",\"Aomori\",\"Fukushima\",\"Iwate\",\"Miyagi\",\"Yamagata\"]}\n",
    "]\n",
    "\n",
    "print(jap)"
   ]
  },
  {
   "cell_type": "code",
   "execution_count": null,
   "metadata": {},
   "outputs": [],
   "source": []
  }
 ],
 "metadata": {
  "kernelspec": {
   "display_name": "Python 3",
   "language": "python",
   "name": "python3"
  },
  "language_info": {
   "codemirror_mode": {
    "name": "ipython",
    "version": 3
   },
   "file_extension": ".py",
   "mimetype": "text/x-python",
   "name": "python",
   "nbconvert_exporter": "python",
   "pygments_lexer": "ipython3",
   "version": "3.7.6"
  }
 },
 "nbformat": 4,
 "nbformat_minor": 2
}
