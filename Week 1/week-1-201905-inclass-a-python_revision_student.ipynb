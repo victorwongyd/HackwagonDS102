{
 "cells": [
  {
   "cell_type": "markdown",
   "metadata": {},
   "source": [
    "### DS102 | In Class Practice Week 1A - Python Revision\n",
    "<hr>\n",
    "In the first In-Class, we will be revising some key Python concepts using a few worked exercises."
   ]
  },
  {
   "cell_type": "markdown",
   "metadata": {},
   "source": [
    "### Worked Exercise 1\n",
    "\n",
    "The following is the number of eggs sold in a farm over eight days. If each egg costs $\\$0.25$, what is the total revenue of the farm over eight days?"
   ]
  },
  {
   "cell_type": "code",
   "execution_count": 5,
   "metadata": {
    "ExecuteTime": {
     "end_time": "2019-04-27T09:16:16.958802Z",
     "start_time": "2019-04-27T09:16:16.952409Z"
    }
   },
   "outputs": [
    {
     "name": "stdout",
     "output_type": "stream",
     "text": [
      "198.25\n"
     ]
    }
   ],
   "source": [
    "eggs = [109, 101, 93, 96, 104, 98, 97, 95]\n",
    "# total_number_of_eggs = sum(eggs)\n",
    "# total_revenue = total_number_of_eggs*0.25\n",
    "# print(total_number_of_eggs)\n",
    "# print(total_revenue)\n",
    "\n",
    "total_revenue = 0.0\n",
    "for e in eggs:\n",
    "    total_revenue = total_revenue + e*0.25\n",
    "print(total_revenue)"
   ]
  },
  {
   "cell_type": "markdown",
   "metadata": {},
   "source": [
    "### Worked Exercise 2\n",
    "\n",
    "The following is the number of likes for the latest seven photos, in thousands, of a lifestyle influencer. What is the average number of likes of the latest seven photos, **rounded off to the nearest integer**?"
   ]
  },
  {
   "cell_type": "code",
   "execution_count": 12,
   "metadata": {
    "ExecuteTime": {
     "end_time": "2019-04-27T09:20:08.192051Z",
     "start_time": "2019-04-27T09:20:08.187367Z"
    }
   },
   "outputs": [
    {
     "name": "stdout",
     "output_type": "stream",
     "text": [
      "33757\n"
     ]
    }
   ],
   "source": [
    "photo_likes = [32.9, 34.0, 32.8, 34.7, 34.1, 33.9, 33.9]\n",
    "\n",
    "total_number_of_likes = sum(photo_likes)*1000\n",
    "avg_number_of_likes = total_number_of_likes/len(photo_likes)\n",
    "avg_number_of_likes = int(avg_number_of_likes)\n",
    "# print(total_number_of_likes)\n",
    "print(avg_number_of_likes)"
   ]
  },
  {
   "cell_type": "markdown",
   "metadata": {},
   "source": [
    "### Worked Exercise 3\n",
    "\n",
    "A restaurant charges $10\\%$ service fee, followed by $7\\%$ value-added tax on all items on its menu. The gross total is the total amount of all items on the menu, while the net total is the sum of the gross total, service fee and value-added tax. Complete the following function `calculate_net_total(restaurant_gross_total)`.\n",
    "\n",
    "Note that the return value is a `float` datatype."
   ]
  },
  {
   "cell_type": "code",
   "execution_count": 16,
   "metadata": {
    "ExecuteTime": {
     "end_time": "2019-04-27T09:24:03.435049Z",
     "start_time": "2019-04-27T09:24:03.429895Z"
    }
   },
   "outputs": [],
   "source": [
    "def calculate_net_total(restaurant_gross_total):\n",
    "    \"\"\"\n",
    "    Takes in:\n",
    "        restaurant_gross_total (float): The total gross of a restaurant bill\n",
    "\n",
    "    Returns:\n",
    "        restaurant_net_total (float): The total net of a restaurant bill.\n",
    "    \"\"\"\n",
    "    restaurant_gross_total_in_cents = int(restaurant_gross_total*100)\n",
    "    service_fee_in_cents = int(restaurant_gross_total_in_cents*0.10)\n",
    "    vat_in_cents = int((restaurant_gross_total_in_cents + service_fee_in_cents)*0.07)\n",
    "    net_total_in_cents = (restaurant_gross_total_in_cents + service_fee_in_cents + vat_in_cents)\n",
    "    return net_total_in_cents/100\n"
   ]
  },
  {
   "cell_type": "markdown",
   "metadata": {},
   "source": [
    "Use the function to calculate the net total of the following bill."
   ]
  },
  {
   "cell_type": "code",
   "execution_count": 17,
   "metadata": {
    "ExecuteTime": {
     "end_time": "2019-04-27T09:27:12.694110Z",
     "start_time": "2019-04-27T09:27:12.688912Z"
    }
   },
   "outputs": [
    {
     "name": "stdout",
     "output_type": "stream",
     "text": [
      "689.1999999999999\n",
      "811.18\n"
     ]
    }
   ],
   "source": [
    "bill = [170.8, 28.8, 28.8, 153.2, 148.9, 129.9, 28.8]\n",
    "total_gross_bill = sum(bill)\n",
    "print(total_gross_bill)\n",
    "\n",
    "print(calculate_net_total(total_gross_bill)) "
   ]
  },
  {
   "cell_type": "markdown",
   "metadata": {},
   "source": [
    "### Worked Exercise 4\n",
    "\n",
    "The following are some Japanese regions and prefectures within the region. Which regions have at least $3$ prefectures? Store them in a list."
   ]
  },
  {
   "cell_type": "code",
   "execution_count": 22,
   "metadata": {
    "ExecuteTime": {
     "end_time": "2019-04-27T09:33:23.094269Z",
     "start_time": "2019-04-27T09:33:23.084314Z"
    }
   },
   "outputs": [
    {
     "name": "stdout",
     "output_type": "stream",
     "text": [
      "['Chūbu', 'Chūgoku', 'Kansai', 'Kantō', 'Kyushu', 'Shikoku', 'Tōhoku']\n"
     ]
    }
   ],
   "source": [
    "japanese_regions = [\n",
    "    {\"region\": \"Chūbu\",\"prefectures\": [\"Aichi\",\"Fukui\",\"Gifu\",\"Ishikawa\",\"Nagano\",\"Niigata\",\n",
    "                                       \"Shizuoka\",\"Toyama\",\"Yamanashi\"]},\n",
    "    {\"region\": \"Chūgoku\",\"prefectures\": [\"Hiroshima\",\"Okayama\",\"Shimane\",\"Tottori\",\"Yamaguchi\"]},\n",
    "    {\"region\": \"Hokkaido\",\"prefectures\": [\"Hokkaido\"]},\n",
    "    {\"region\": \"Kansai\",\"prefectures\": [\"Hyōgo\",\"Kyoto\",\"Mie\",\"Nara\",\"Osaka\",\"Shiga\",\"Wakayama\"]},\n",
    "    {\"region\": \"Kantō\",\"prefectures\": [\"Chiba\",\"Gunma\",\"Ibaraki\",\"Kanagawa\",\"Saitama\",\n",
    "                                       \"Tochigi\",\"Tokyo\"]},\n",
    "    {\"region\": \"Kyushu\",\"prefectures\": [\"Fukuoka\",\"Kagoshima\",\"Kumamoto\",\"Miyazaki\",\n",
    "                                        \"Nagasaki\",\"Ōita\",\"Okinawa\",\"Saga\"]},\n",
    "    {\"region\": \"Shikoku\",\"prefectures\": [\"Ehime\",\"Kagawa\",\"Kōchi\",\"Tokushima\"]},\n",
    "    {\"region\": \"Tōhoku\",\"prefectures\": [\"Akita\",\"Aomori\",\"Fukushima\",\"Iwate\",\"Miyagi\",\"Yamagata\"]}\n",
    "]\n",
    "# dictionaries in a list (2 keys in each dictionary)\n",
    "\n",
    "list_of_interest = []\n",
    "\n",
    "for r in japanese_regions:\n",
    "    prefectures1 = r['prefectures']\n",
    "    if len(prefectures1) >= 3:\n",
    "        list_of_interest.append(r['region'])\n",
    "        \n",
    "print(list_of_interest)"
   ]
  },
  {
   "cell_type": "markdown",
   "metadata": {},
   "source": [
    "### Worked Exercise 5\n",
    "\n",
    "The following are the sales data of some essential oils. Each record is stored as a list, where the first value is the flavour of the essential oil, the second value is the number of bottles sold and the third value is the price per bottle, in dollars.\n",
    "\n",
    "The revenue collect for each essential oil flavour is the number of bottles multiplied by the price per bottle. Which essential oil flavour generated the most amount of revenue?"
   ]
  },
  {
   "cell_type": "code",
   "execution_count": 32,
   "metadata": {
    "ExecuteTime": {
     "end_time": "2019-04-27T09:47:17.914813Z",
     "start_time": "2019-04-27T09:47:17.907101Z"
    }
   },
   "outputs": [
    {
     "name": "stdout",
     "output_type": "stream",
     "text": [
      "Coconut : $319.2\n",
      "Grape : $190.0\n",
      "Apricot : $503.99999999999994\n",
      "Lemon : $174.79999999999998\n",
      "Grapefruit : $227.7\n",
      "Lime : $214.4\n",
      "Apricot\n",
      "503.99999999999994\n"
     ]
    }
   ],
   "source": [
    "essential_oil_sales = [\n",
    "    ['Coconut', 76, 4.20], \n",
    "    ['Grape', 76, 2.50], \n",
    "    ['Apricot', 90, 5.60], \n",
    "    ['Lemon', 76, 2.30], \n",
    "    ['Grapefruit', 99, 2.30], \n",
    "    ['Lime', 67, 3.20]]\n",
    "\n",
    "max_revenue = 0.0\n",
    "highest_revenue_essential_oil_name = ''\n",
    "\n",
    "for e in essential_oil_sales:\n",
    "    name, units, unit_price = e[0], e[1], e[2]\n",
    "    product_total_revenue = units * unit_price\n",
    "    print(name + ' : $' +str(product_total_revenue))\n",
    "    if product_total_revenue > max_revenue:\n",
    "        highest_revenue_essential_oil_name = name\n",
    "        max_revenue = product_total_revenue\n",
    "        \n",
    "print(highest_revenue_essential_oil_name)\n",
    "print(max_revenue)\n",
    "    \n",
    "\n",
    "#for e in essential_oil_sales:\n",
    " #   print(e[0])\n",
    "  #  print(e[1])\n",
    "   # print(e[2])\n",
    "   # print()\n",
    "    \n",
    "#essential = {}\n",
    "\n",
    "# for e in essential_oil_sales:\n",
    "    #essential.update({e[0] : e[1]*e[2]})\n",
    "    \n",
    "# print(essential)\n",
    "    "
   ]
  },
  {
   "cell_type": "markdown",
   "metadata": {},
   "source": [
    "<hr>\n",
    "`HWA-DS102-INCLASS-1A-201905`"
   ]
  }
 ],
 "metadata": {
  "kernelspec": {
   "display_name": "Python 3",
   "language": "python",
   "name": "python3"
  },
  "language_info": {
   "codemirror_mode": {
    "name": "ipython",
    "version": 3
   },
   "file_extension": ".py",
   "mimetype": "text/x-python",
   "name": "python",
   "nbconvert_exporter": "python",
   "pygments_lexer": "ipython3",
   "version": "3.7.6"
  }
 },
 "nbformat": 4,
 "nbformat_minor": 2
}
