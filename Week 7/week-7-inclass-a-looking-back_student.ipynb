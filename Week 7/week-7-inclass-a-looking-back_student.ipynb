{
 "cells": [
  {
   "cell_type": "markdown",
   "metadata": {},
   "source": [
    "### DS102 | In Class Practice Week 7A - Looking Back\n",
    "<hr>"
   ]
  },
  {
   "cell_type": "code",
   "execution_count": null,
   "metadata": {
    "ExecuteTime": {
     "end_time": "2018-10-29T16:50:00.270177Z",
     "start_time": "2018-10-29T16:49:58.990559Z"
    }
   },
   "outputs": [],
   "source": [
    "import csv\n",
    "import math\n",
    "import pandas as pd\n",
    "import numpy as np\n",
    "import matplotlib.pyplot as plt\n",
    "import seaborn as sns\n",
    "%matplotlib inline"
   ]
  },
  {
   "cell_type": "markdown",
   "metadata": {},
   "source": [
    "## One More Look\n",
    "\n",
    "In this final in-class, we will be going back to revisit an old dataset - the Youtube Trending Videos dataset. You would have encountered this dataset in DS101. We will be taking a look at the previous way of doing things - using loops, and now challenge them with how we work using the new skills we have learnt."
   ]
  },
  {
   "cell_type": "markdown",
   "metadata": {},
   "source": [
    "## The Data Provided\n",
    "\n",
    "Every day, YouTube will select videos that have a particularly high number of views and comments on that day to put in its **Trending** playlist. This playlist will give visitors an idea of what other visitors are watching that day. You can see that if you are a content creator, you would hope that your video lands on the **Trending** playlist, so that you can get more views.\n",
    "\n",
    "The data can be found in `GBvideos.csv`. Each Trending video contains the following columns. Their explanations are given to you in the following table:\n",
    "\n",
    "Column Name | Description\n",
    "---|---\n",
    "`video_id`|The unique ID given for each video on YouTube\n",
    "`trending_date`|The date the video started trending\n",
    "`title`|The title of the video\n",
    "`channel_title`|The name of the channel that uploaded the video\n",
    "`category_id`|The ID of the category that the video belongs to\n",
    "`publish_time`|The time stamp that the video was published\n",
    "`tags`| delimited strings that represent tags that the video has\n",
    "`views`|No. of views the video has received\n",
    "`likes`|No. of likes the video has received by users\n",
    "`dislikes`|No. of dislikes the video has received by users\n",
    "`comment_count`|The total number of comments given to the video\n",
    "`thumbnail_link`|The image link of the video thumbnail\n",
    "`comments_disabled`|True/False depending on the comments being disabled or not\n",
    "`ratings_disabled`|True/False depending on the ratings being disabled or not\n",
    "`video_error_or_removed`|True/False depending on the errors the video had, or if it was removed\n",
    "`description`|The description of the video\n",
    "\n"
   ]
  },
  {
   "cell_type": "markdown",
   "metadata": {},
   "source": [
    "## Read the Dataset to Jupyter Notebook\n",
    "\n",
    "Read the dataset into Jupyter notebook. Then, display the first record."
   ]
  },
  {
   "cell_type": "code",
   "execution_count": null,
   "metadata": {
    "ExecuteTime": {
     "end_time": "2018-10-29T16:50:02.067699Z",
     "start_time": "2018-10-29T16:50:00.275201Z"
    },
    "scrolled": true
   },
   "outputs": [],
   "source": [
    "#########################\n",
    "# The DictReader way\n",
    "#########################\n",
    "\n",
    "# declare an empty list\n",
    "videos_list = []\n",
    "\n",
    "with open(\"GBvideos.csv\", encoding=\"utf-8\") as f:\n",
    "    \n",
    "    # initialise a reader\n",
    "    reader = csv.DictReader(f)\n",
    "    # convert all the data to a list\n",
    "    videos_list = list(reader)\n",
    "\n",
    "# display the first record\n",
    "print(videos_list[0])"
   ]
  },
  {
   "cell_type": "code",
   "execution_count": null,
   "metadata": {
    "ExecuteTime": {
     "end_time": "2018-10-29T16:50:02.680508Z",
     "start_time": "2018-10-29T16:50:02.074443Z"
    }
   },
   "outputs": [],
   "source": [
    "#########################\n",
    "# The pandas way\n",
    "#########################\n",
    "\n",
    "# Exercise: Read the videos into a df called videos_df\n",
    "#"
   ]
  },
  {
   "cell_type": "code",
   "execution_count": null,
   "metadata": {
    "ExecuteTime": {
     "end_time": "2018-10-29T16:50:02.729369Z",
     "start_time": "2018-10-29T16:50:02.688686Z"
    }
   },
   "outputs": [],
   "source": [
    "# Exercise: Display the first record in videos_df\n",
    "#"
   ]
  },
  {
   "cell_type": "markdown",
   "metadata": {},
   "source": [
    "### Question 1\n",
    "How many videos in the dataset have $1,000,000$ views or more?"
   ]
  },
  {
   "cell_type": "code",
   "execution_count": null,
   "metadata": {
    "ExecuteTime": {
     "end_time": "2018-10-29T16:50:02.784564Z",
     "start_time": "2018-10-29T16:50:02.736775Z"
    }
   },
   "outputs": [],
   "source": [
    "#################################\n",
    "# Question 1: The list & dict way\n",
    "#################################\n",
    "\n",
    "# create a counter to keep track of the number of videos\n",
    "counter = 0\n",
    "\n",
    "for video in videos_list:\n",
    "    # get the number of views in each video\n",
    "    # typecast the result using int\n",
    "    video_views = int(video['views'])\n",
    "    \n",
    "    # if the value is 1M or more, add 1 to counter\n",
    "    if int(video_views) >= 1000000:\n",
    "        counter += 1\n",
    "\n",
    "print(counter)"
   ]
  },
  {
   "cell_type": "code",
   "execution_count": null,
   "metadata": {
    "ExecuteTime": {
     "end_time": "2018-10-29T16:50:02.821449Z",
     "start_time": "2018-10-29T16:50:02.791823Z"
    }
   },
   "outputs": [],
   "source": [
    "#################################\n",
    "# Question 1: using pandas\n",
    "#################################\n",
    "\n",
    "# Exercise: How many videos have 1M views or more?\n",
    "#"
   ]
  },
  {
   "cell_type": "markdown",
   "metadata": {},
   "source": [
    "### Question 2\n",
    "Which video in the dataset has the most number of views? Show the video title and the number of likes it has."
   ]
  },
  {
   "cell_type": "code",
   "execution_count": null,
   "metadata": {
    "ExecuteTime": {
     "end_time": "2018-10-29T16:50:02.873182Z",
     "start_time": "2018-10-29T16:50:02.826556Z"
    },
    "scrolled": false
   },
   "outputs": [],
   "source": [
    "#################################\n",
    "# Question 2: The list & dict way\n",
    "#################################\n",
    "\n",
    "# create some default variables to compare to\n",
    "highest_views = int(videos_list[0]['views'])\n",
    "highest_views_title = videos_list[0]['title']\n",
    "\n",
    "for video in videos_list:\n",
    "    \n",
    "    # get the key variables. remember to typecast\n",
    "    views = int(video['views'])\n",
    "    title = video['title']\n",
    "    \n",
    "    if views > highest_views:\n",
    "        highest_views = views\n",
    "        highest_views_title = title\n",
    "        \n",
    "print(highest_views_title)\n",
    "print(highest_views)"
   ]
  },
  {
   "cell_type": "code",
   "execution_count": null,
   "metadata": {
    "ExecuteTime": {
     "end_time": "2018-10-29T16:50:02.895446Z",
     "start_time": "2018-10-29T16:50:02.877766Z"
    }
   },
   "outputs": [],
   "source": [
    "#################################\n",
    "# Question 2: using pandas\n",
    "#################################\n",
    "\n",
    "# Exercise: Which video in the dataset has the most number of views?\n",
    "#"
   ]
  },
  {
   "cell_type": "markdown",
   "metadata": {},
   "source": [
    "### Question 3\n",
    "How many videos in `category_id` number `25` have $2500$ comments or more?"
   ]
  },
  {
   "cell_type": "code",
   "execution_count": null,
   "metadata": {
    "ExecuteTime": {
     "end_time": "2018-10-29T16:50:02.958615Z",
     "start_time": "2018-10-29T16:50:02.903612Z"
    },
    "scrolled": true
   },
   "outputs": [],
   "source": [
    "#################################\n",
    "# Question 3: The list & dict way\n",
    "#################################\n",
    "\n",
    "# initialise a counter\n",
    "counter = 0\n",
    "\n",
    "# iterate through the list\n",
    "for video in videos_list:\n",
    "    # get the key variables. typecast them\n",
    "    category = int(video['category_id'])\n",
    "    comments = int(video['comment_count'])\n",
    "    \n",
    "    if comments >= 2500 and category == 25:\n",
    "        # increment the counter if the record satisfies the conditions\n",
    "        counter += 1\n",
    "        \n",
    "print(counter)"
   ]
  },
  {
   "cell_type": "code",
   "execution_count": null,
   "metadata": {
    "ExecuteTime": {
     "end_time": "2018-10-29T16:50:02.986869Z",
     "start_time": "2018-10-29T16:50:02.962968Z"
    }
   },
   "outputs": [],
   "source": [
    "#################################\n",
    "# Question 3: using pandas\n",
    "#################################\n",
    "\n",
    "# Exercise: How many videos in category_id 25 have 2500 comments or more?\n",
    "#"
   ]
  },
  {
   "cell_type": "markdown",
   "metadata": {},
   "source": [
    "### Question 4\n",
    "A channel can upload one or multiple videos. How many unique channels are there?"
   ]
  },
  {
   "cell_type": "code",
   "execution_count": null,
   "metadata": {
    "ExecuteTime": {
     "end_time": "2018-10-29T16:50:03.603182Z",
     "start_time": "2018-10-29T16:50:02.991806Z"
    }
   },
   "outputs": [],
   "source": [
    "#################################\n",
    "# Question 4: The list & dict way\n",
    "#################################\n",
    "\n",
    "channels_list = []\n",
    "\n",
    "# iterate through the videos\n",
    "for video in videos_list:\n",
    "    # get the channel of the video\n",
    "    channel = video['channel_title']\n",
    "    # apppend to the list of channels if it does not already exist\n",
    "    if channel not in channels_list:\n",
    "        channels_list.append(channel)\n",
    "    \n",
    "# we can use the len() function to find out the total unique keys (channels) in our dictionary!\n",
    "print(len(channels_list))"
   ]
  },
  {
   "cell_type": "code",
   "execution_count": null,
   "metadata": {
    "ExecuteTime": {
     "end_time": "2018-10-29T16:50:03.623911Z",
     "start_time": "2018-10-29T16:50:03.608800Z"
    }
   },
   "outputs": [],
   "source": [
    "#################################\n",
    "# Question 4: using pandas\n",
    "#################################\n",
    "\n",
    "# How many unique channels are there?\n",
    "#"
   ]
  },
  {
   "cell_type": "markdown",
   "metadata": {},
   "source": [
    "### Question 5\n",
    "Which channels from the dataset have a combined total of $1,500,000,000$ ($1.5$ billion) views or more? A combined total is calculated by adding up all the views of all videos belonging to that channel. `print` all the `channel` names."
   ]
  },
  {
   "cell_type": "code",
   "execution_count": null,
   "metadata": {
    "ExecuteTime": {
     "end_time": "2018-10-29T16:50:03.676392Z",
     "start_time": "2018-10-29T16:50:03.628130Z"
    }
   },
   "outputs": [],
   "source": [
    "#################################\n",
    "# Question 5: The list & dict way\n",
    "#################################\n",
    "\n",
    "channel_views_dict = {}\n",
    "\n",
    "# iterate through the videos\n",
    "for video in videos_list:\n",
    "    \n",
    "    # Get the channel name and the view count of the video\n",
    "    channel = video['channel_title']\n",
    "    views = int(video['views'])\n",
    "    \n",
    "    # if the channel name (the key of channel_views_dict) does not exist in the dict, \n",
    "    # we create it with the video views as a value\n",
    "    if channel not in channel_views_dict:\n",
    "        channel_views_dict[channel] = views\n",
    "    # if it exists, we just add the views of the current video to the channel \n",
    "    else:\n",
    "        channel_views_dict[channel] += views\n",
    "        \n",
    "# instantiate a new list of channels that have 1.5B views or more\n",
    "final_channel_list = []\n",
    "\n",
    "for cnl, total_views in channel_views_dict.items():\n",
    "    if total_views >= 1500000000:\n",
    "        final_channel_list.append(cnl)\n",
    "print(sorted(final_channel_list))"
   ]
  },
  {
   "cell_type": "code",
   "execution_count": null,
   "metadata": {
    "ExecuteTime": {
     "end_time": "2018-10-29T16:50:03.698633Z",
     "start_time": "2018-10-29T16:50:03.679426Z"
    }
   },
   "outputs": [],
   "source": [
    "#################################\n",
    "# Question 5: using pandas\n",
    "#################################\n",
    "\n",
    "# Which channels from the dataset have a combined total of 1.5B views or more?\n",
    "#"
   ]
  },
  {
   "cell_type": "markdown",
   "metadata": {},
   "source": [
    "### Question 6\n",
    "\n",
    "Plot a clustered bar plot showing each category's total views, total likes and total comments. For each of the 3 values, take $\\log$ to base $10$ i.e. $\\log_{10} \\text{total_views}, \\cdots$. Filter for only the top 5 `category_id`s with the highest number of views."
   ]
  },
  {
   "cell_type": "code",
   "execution_count": null,
   "metadata": {
    "ExecuteTime": {
     "end_time": "2018-10-29T16:50:03.814553Z",
     "start_time": "2018-10-29T16:50:03.702967Z"
    },
    "scrolled": true
   },
   "outputs": [],
   "source": [
    "######################################################################\n",
    "# Question 6: Aggregation using loops & Plotting: Part 1. Aggregation\n",
    "######################################################################\n",
    "\n",
    "# Aggregat Step\n",
    "category_info_dict = {}\n",
    "\n",
    "for video in videos_list:\n",
    "    # Get the category ID and the columns to sum\n",
    "    category = video['category_id']\n",
    "    views = int(video['views'])\n",
    "    comments = int(video['comment_count'])\n",
    "    likes = int(video[\"likes\"])\n",
    "    \n",
    "    # we check if the category is in our dictionary or not\n",
    "    if category not in category_info_dict: \n",
    "        # if it doesnt exist, create a dictionary that contains the information for this particular category      \n",
    "        information = {}\n",
    "        information[\"comments\"] = comments\n",
    "        information[\"views\"] = views\n",
    "        information[\"likes\"] = likes\n",
    "    else:\n",
    "        # if it does exist, we just add the values up \n",
    "        information = category_info_dict[category]\n",
    "        information[\"comments\"] += comments\n",
    "        information[\"views\"] += views\n",
    "        information[\"likes\"] += likes\n",
    "    # remember to assign the information you've stored as a dictionary back to the corresponding category!\n",
    "    category_info_dict[category] = information\n",
    "    \n",
    "# change all the columns to log10\n",
    "# since this code changes the values in place, it should not be run more than once\n",
    "cols_list = [\"comments\", \"views\", \"likes\"]\n",
    "for cat_id, cat_info in category_info_dict.items():\n",
    "    \n",
    "    for col in cols_list:\n",
    "        v = cat_info[col] \n",
    "        v = math.log(v, 10)\n",
    "        cat_info[col] = v\n",
    "\n",
    "# FILTER\n",
    "# get top 5 views cat id \n",
    "top_5 = sorted(category_info_dict.items(), key=lambda x: x[1][\"views\"], reverse=True)[:5]\n",
    "\n",
    "for t5 in top_5:\n",
    "    print(t5)\n",
    "# DATA PREPARATION FOR PLOTTING\n",
    "# extract all the values into lists top 5 is a list of tuples due to sorted\n",
    "comments = [info_tuple[1][\"comments\"] for info_tuple in top_5]\n",
    "views = [info_tuple[1][\"views\"] for info_tuple in top_5]\n",
    "likes = [info_tuple[1][\"likes\"] for info_tuple in top_5]\n",
    "ids = [info_tuple[0] for info_tuple in top_5]\n"
   ]
  },
  {
   "cell_type": "code",
   "execution_count": null,
   "metadata": {
    "ExecuteTime": {
     "end_time": "2018-10-29T16:50:04.314775Z",
     "start_time": "2018-10-29T16:50:03.826171Z"
    }
   },
   "outputs": [],
   "source": [
    "######################################################################\n",
    "# Question 6: Aggregation using loops & Plotting: Part 2. Plotting\n",
    "######################################################################\n",
    "index = np.arange(len(top_5))\n",
    "width = 0.1\n",
    "\n",
    "fig, ax = plt.subplots(figsize=(16,10))\n",
    "\n",
    "view_bars = ax.bar(index, views, width, color=\"red\", label=\"views\")\n",
    "likes_bars = ax.bar(index+width, likes, width, color=\"blue\", label=\"likes\")\n",
    "comments_bars = ax.bar(index+width*2, comments, width, color=\"green\", label=\"comments\")\n",
    "\n",
    "\n",
    "ax.set_xticks(index + width)\n",
    "ax.set_xticklabels(ids)\n",
    "ax.legend()\n",
    "ax.set_title(\"Total views, likes and comments (taken to log 10) of top 5 categories by views\",\n",
    "            fontsize=18)\n",
    "\n",
    "plt.show()\n",
    "plt.close()"
   ]
  },
  {
   "cell_type": "code",
   "execution_count": null,
   "metadata": {
    "ExecuteTime": {
     "end_time": "2018-10-29T16:50:04.323714Z",
     "start_time": "2018-10-29T16:50:04.318484Z"
    }
   },
   "outputs": [],
   "source": [
    "sns.set()"
   ]
  },
  {
   "cell_type": "code",
   "execution_count": null,
   "metadata": {
    "ExecuteTime": {
     "end_time": "2018-10-29T16:50:04.401586Z",
     "start_time": "2018-10-29T16:50:04.326950Z"
    }
   },
   "outputs": [],
   "source": [
    "#########################################\n",
    "# Question 6: Using pandas and matplotlib\n",
    "#########################################\n",
    "\n",
    "# Plot a clustered bar plot showing each category's total views, total likes and total comments,\n",
    "# taken at log base 10\n"
   ]
  },
  {
   "cell_type": "markdown",
   "metadata": {},
   "source": [
    "**Credits**\n",
    "- Dataset 1: [Trending YouTube Video Statistics, Kaggle](https://www.kaggle.com/datasnaek/youtube-new)"
   ]
  }
 ],
 "metadata": {
  "kernelspec": {
   "display_name": "Python 3",
   "language": "python",
   "name": "python3"
  },
  "language_info": {
   "codemirror_mode": {
    "name": "ipython",
    "version": 3
   },
   "file_extension": ".py",
   "mimetype": "text/x-python",
   "name": "python",
   "nbconvert_exporter": "python",
   "pygments_lexer": "ipython3",
   "version": "3.7.6"
  }
 },
 "nbformat": 4,
 "nbformat_minor": 2
}
