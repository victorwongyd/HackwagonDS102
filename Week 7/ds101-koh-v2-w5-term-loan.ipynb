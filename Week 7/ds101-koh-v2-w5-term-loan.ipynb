{
 "cells": [
  {
   "cell_type": "markdown",
   "metadata": {},
   "source": [
    "<center><h1>DS101 King of the Hill (KOH)</h1></center>\n",
    "<center><h2>`KOH-W5-TERM-LOAN`</h2></center>\n",
    "<p></p>\n",
    "**`HWA-DS101-KOH-W5-TERM-LOAN`**\n",
    "<hr>"
   ]
  },
  {
   "cell_type": "markdown",
   "metadata": {},
   "source": [
    "<center><h2><u>Paying Back a Term Loan</u></h2></center>"
   ]
  },
  {
   "cell_type": "markdown",
   "metadata": {},
   "source": [
    "### Introduction\n",
    "\n",
    "A loan is a common type of [credit](https://www.investopedia.com/terms/c/credit.asp) offered by financial institutions to help with payment of a good consumed today. The two broad classifications of loans are:\n",
    "- personal loans for education, a house mortgage or a car loan \n",
    "- business loan to finance goods and services, or for investments\n",
    "\n",
    "In this KOH, we will look at a common type of personal loan - an education loan. "
   ]
  },
  {
   "cell_type": "markdown",
   "metadata": {},
   "source": [
    "Nancy took an education loan of $\\$120,000$ from a bank fund for her university education. This is also known as the **principal**. In 2018, Nancy has graduated and according to the loan agreement she needs to start repaying back the loan to the bank.\n",
    "\n",
    "Nancy opts for a repayment plan for the loan where she makes a **repayment** of $\\$13,200$ before the end of every year, starting in 2019. An interest of $2.25\\%$ is then charged on the remaining **outstanding** amount at the end of every year."
   ]
  },
  {
   "cell_type": "markdown",
   "metadata": {},
   "source": [
    "Clue: In 2018 and 2019, the calculations are as follows for the remaining outstanding amount. In 2018, there was interest accured for the loan, but no repayment was made."
   ]
  },
  {
   "cell_type": "code",
   "execution_count": 2,
   "metadata": {
    "ExecuteTime": {
     "end_time": "2019-05-15T07:36:49.176406Z",
     "start_time": "2019-05-15T07:36:49.169150Z"
    }
   },
   "outputs": [
    {
     "name": "stdout",
     "output_type": "stream",
     "text": [
      "Outstanding in 2018 is $122700.0\n",
      "\n",
      "Outstanding in 2019, before interest $109500.0\n",
      "Outstanding in 2019 is $111963.75\n"
     ]
    }
   ],
   "source": [
    "# Run this cell for the clues.\n",
    "\n",
    "principal = 120000\n",
    "interest_rate_pct = 2.25\n",
    "repayment = 13200\n",
    "\n",
    "# === 2018 ===\n",
    "# Nancy did not make any repayments but interest was charged. The outstanding in 2018 was:\n",
    "outstanding_2018 = principal + (principal * interest_rate_pct/100)\n",
    "print(\"Outstanding in 2018 is $\" + str(outstanding_2018))\n",
    "print()\n",
    "\n",
    "# === 2019 ===\n",
    "# Nancy made a repayment of 13200. The outstanding before interest was:\n",
    "outstanding_2019_bi = outstanding_2018 - repayment\n",
    "print(\"Outstanding in 2019, before interest $\" + str(outstanding_2019_bi))\n",
    "\n",
    "# Then, interest was charged on the loan. The outstanding in 2019 was:\n",
    "outstanding_2019 = outstanding_2019_bi + (outstanding_2019_bi * interest_rate_pct/100)\n",
    "print(\"Outstanding in 2019 is $\" + str(outstanding_2019))"
   ]
  },
  {
   "cell_type": "markdown",
   "metadata": {},
   "source": [
    "### The Task\n",
    "\n",
    "The solution to this KOH is a **9-digit passcode**. Help Nancy figure out the repayment plan for her education loan. In particular, answer the following two questions.\n",
    "\n",
    "1. In what year will Nancy fully pay the loan? The solution to will provide you with the first 4 digits of the passcode.\n",
    "2. What was the total amount of interest paid for the loan, rounded off to the nearest dollar? The solution will form the last 5 digits of the passcode.\n",
    "\n",
    "Combine the solutions to get the final 9-digit passcode."
   ]
  },
  {
   "cell_type": "code",
   "execution_count": 12,
   "metadata": {
    "ExecuteTime": {
     "end_time": "2019-05-15T08:11:20.051486Z",
     "start_time": "2019-05-15T08:11:20.047391Z"
    }
   },
   "outputs": [
    {
     "name": "stdout",
     "output_type": "stream",
     "text": [
      "1\n",
      "1\n",
      "1\n",
      "1\n",
      "1\n",
      "1\n",
      "1\n",
      "1\n",
      "1\n",
      "1\n"
     ]
    }
   ],
   "source": [
    "# Complete the task here.\n",
    "principal = 120000\n",
    "interest_rate_pct = 2.25\n",
    "repayment = 13200\n",
    "\n",
    "# outstanding_2018 = principal + (principal * interest_rate_pct/100)\n",
    "# print(\"Outstanding in 2018 is $\" + str(outstanding_2018))\n",
    "# print()\n",
    "\n",
    "# def process(x):\n",
    "#     outstanding = x + (x * interest_rate_pct/100)\n",
    "#     new_outstanding = outstanding - repayment\n",
    "    \n",
    "#     return new_outstanding\n",
    "\n",
    "# print(process(principal))\n",
    "\n",
    "# while principal > 13200:\n",
    "#     print(process(principal))\n",
    "\n",
    "while principal >= 13200:\n",
    "    principal = principal + (principal * interest_rate_pct/100)\n",
    "    principal = principal - repayment\n",
    "    print('1')\n",
    "    \n",
    "\n",
    "    \n",
    "\n",
    "\n",
    "# Combine the solutions to get the passcode."
   ]
  },
  {
   "cell_type": "code",
   "execution_count": null,
   "metadata": {},
   "outputs": [],
   "source": []
  }
 ],
 "metadata": {
  "kernelspec": {
   "display_name": "Python 3",
   "language": "python",
   "name": "python3"
  },
  "language_info": {
   "codemirror_mode": {
    "name": "ipython",
    "version": 3
   },
   "file_extension": ".py",
   "mimetype": "text/x-python",
   "name": "python",
   "nbconvert_exporter": "python",
   "pygments_lexer": "ipython3",
   "version": "3.7.3"
  }
 },
 "nbformat": 4,
 "nbformat_minor": 2
}
