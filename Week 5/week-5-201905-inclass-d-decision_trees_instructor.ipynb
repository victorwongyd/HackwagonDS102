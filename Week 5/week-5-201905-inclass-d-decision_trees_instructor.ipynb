{
 "cells": [
  {
   "cell_type": "markdown",
   "metadata": {},
   "source": [
    "### DS102 | In Class Practice Week 5D - Advanced ML Algorithms (Decision Tree)\n",
    "<hr>\n",
    "\n",
    "## Learning Objectives\n",
    "At the end of the lesson, you will be able to:\n",
    "\n",
    "- apply Decision Trees to a Classification Problem\n",
    "\n",
    "**Datasets required:**\n",
    "\n",
    "- `diabetes-500.csv` from [UCI ML Repository (Adapted by Susan Li)](https://raw.githubusercontent.com/susanli2016/Machine-Learning-with-Python/master/diabetes.csv)"
   ]
  },
  {
   "cell_type": "markdown",
   "metadata": {},
   "source": [
    "Import the libraries & settings. Look at all the libraries we are importing for this notebook!"
   ]
  },
  {
   "cell_type": "code",
   "execution_count": 1,
   "metadata": {
    "ExecuteTime": {
     "end_time": "2019-06-01T06:06:40.440166Z",
     "start_time": "2019-06-01T06:06:39.443534Z"
    }
   },
   "outputs": [],
   "source": [
    "import re\n",
    "\n",
    "import numpy as np\n",
    "import pandas as pd\n",
    "import matplotlib.pyplot as plt\n",
    "import seaborn as sns\n",
    "# from graphviz import Source # For creating the visualisation of the decision tree\n",
    "\n",
    "from scipy.stats import entropy\n",
    "from sklearn.tree import DecisionTreeClassifier\n",
    "from sklearn import tree\n",
    "from sklearn.model_selection import train_test_split\n",
    "from sklearn.metrics import confusion_matrix\n",
    "from sklearn.metrics import accuracy_score\n",
    "\n",
    "#Settings\n",
    "%matplotlib inline\n",
    "pd.options.display.float_format = '{:.2f}'.format\n",
    "# np.set_printoptions(threshold=np.nan)\n",
    "sns.set()"
   ]
  },
  {
   "cell_type": "markdown",
   "metadata": {},
   "source": [
    "## Entropy\n",
    "\n",
    "The Shannon Entropy of a multi-classification problem is\n",
    "\n",
    "$$\n",
    "-\\sum_{i=1}^{k} p_i \\log(p_i) \n",
    "$$\n",
    "\n",
    "where $p_i$ is the probability of the event $i$, $\\log$ represents the natural logarithm `np.log` and there are $k$ possible events in total. The higher the entropy, the less information we know about each draw.\n",
    "\n",
    "A bag has 6 balls.\n",
    "\n",
    "- Bag $a$ has 6 red balls\n",
    "- Bag $b$ has 1 red ball, 2 yellow balls, 2 green balls and 1 orange ball\n",
    "- Bag $c$ has 3 red balls and 3 yellow balls\n",
    "\n",
    "\n",
    "Construct `a`, `b` and `c` as a list of probabilities. They are representations of each bag. Which bag is expected to have the lowest Shannon's entropy with respect to drawing 1 ball from a bag?"
   ]
  },
  {
   "cell_type": "code",
   "execution_count": 2,
   "metadata": {
    "ExecuteTime": {
     "end_time": "2019-06-01T10:26:54.141469Z",
     "start_time": "2019-06-01T10:26:54.011014Z"
    }
   },
   "outputs": [
    {
     "name": "stdout",
     "output_type": "stream",
     "text": [
      "0.0\n"
     ]
    }
   ],
   "source": [
    "# Bag a\n",
    "a = [6/6]\n",
    "\n",
    "# Entropy calculation using sp.stats.entropy\n",
    "print(entropy(a))"
   ]
  },
  {
   "cell_type": "code",
   "execution_count": 3,
   "metadata": {
    "ExecuteTime": {
     "end_time": "2019-06-01T06:06:40.463701Z",
     "start_time": "2019-06-01T06:06:40.452686Z"
    }
   },
   "outputs": [
    {
     "name": "stdout",
     "output_type": "stream",
     "text": [
      "1.3296613488547582\n"
     ]
    }
   ],
   "source": [
    "# Bag b\n",
    "b = [1/6, 1/3, 1/3, 1/6]\n",
    "\n",
    "# Entropy calculation using sp.stats.entropy\n",
    "print(entropy(b))"
   ]
  },
  {
   "cell_type": "code",
   "execution_count": 4,
   "metadata": {
    "ExecuteTime": {
     "end_time": "2019-06-01T06:06:40.474981Z",
     "start_time": "2019-06-01T06:06:40.467599Z"
    }
   },
   "outputs": [
    {
     "name": "stdout",
     "output_type": "stream",
     "text": [
      "0.6931471805599453\n"
     ]
    }
   ],
   "source": [
    "# Bag c\n",
    "# Exercise: Construct the list of probabilities for c\n",
    "#\n",
    "c = [1/2, 1/2]\n",
    "\n",
    "# Entropy calculation using sp.stats.entropy\n",
    "# print(entropy(c))\n",
    "print(entropy(c))"
   ]
  },
  {
   "cell_type": "markdown",
   "metadata": {},
   "source": [
    "<div class=\"alert alert-warning\">\n",
    "Additional notes: You can calculate the Shannon entropy of each of the bags using `np.log()`\n",
    "</div>"
   ]
  },
  {
   "cell_type": "code",
   "execution_count": 5,
   "metadata": {
    "ExecuteTime": {
     "end_time": "2019-06-01T06:06:40.493007Z",
     "start_time": "2019-06-01T06:06:40.478768Z"
    }
   },
   "outputs": [
    {
     "name": "stdout",
     "output_type": "stream",
     "text": [
      "0.0\n"
     ]
    }
   ],
   "source": [
    "# Entropy calculation using np.log for a, b and c\n",
    "\n",
    "# This is for a\n",
    "ent_a = 0\n",
    "for p in a:\n",
    "    ent_a = ent_a + (-p*np.log(p))\n",
    "print(ent_a)"
   ]
  },
  {
   "cell_type": "code",
   "execution_count": 6,
   "metadata": {
    "ExecuteTime": {
     "end_time": "2019-06-01T06:06:40.506832Z",
     "start_time": "2019-06-01T06:06:40.499046Z"
    }
   },
   "outputs": [
    {
     "name": "stdout",
     "output_type": "stream",
     "text": [
      "1.3296613488547582\n"
     ]
    }
   ],
   "source": [
    "# This is for b\n",
    "ent_b = 0.0\n",
    "for p in b:\n",
    "    ent_b = ent_b + (-p*np.log(p))\n",
    "print(ent_b)"
   ]
  },
  {
   "cell_type": "code",
   "execution_count": 7,
   "metadata": {
    "ExecuteTime": {
     "end_time": "2019-06-01T06:06:40.517541Z",
     "start_time": "2019-06-01T06:06:40.510949Z"
    }
   },
   "outputs": [
    {
     "name": "stdout",
     "output_type": "stream",
     "text": [
      "0.6931471805599453\n"
     ]
    }
   ],
   "source": [
    "# This is for c\n",
    "# You can use a list comprehension notation to do so.\n",
    "print(sum([-p*np.log(p) for p in c]))"
   ]
  },
  {
   "cell_type": "markdown",
   "metadata": {},
   "source": [
    "### Read from CSV File & Exploratory Data Analysis\n",
    "Read `diabetes-500.csv` into `df`."
   ]
  },
  {
   "cell_type": "code",
   "execution_count": 8,
   "metadata": {
    "ExecuteTime": {
     "end_time": "2019-06-01T06:06:40.650270Z",
     "start_time": "2019-06-01T06:06:40.520950Z"
    },
    "scrolled": false
   },
   "outputs": [
    {
     "data": {
      "text/html": [
       "<div>\n",
       "<style scoped>\n",
       "    .dataframe tbody tr th:only-of-type {\n",
       "        vertical-align: middle;\n",
       "    }\n",
       "\n",
       "    .dataframe tbody tr th {\n",
       "        vertical-align: top;\n",
       "    }\n",
       "\n",
       "    .dataframe thead th {\n",
       "        text-align: right;\n",
       "    }\n",
       "</style>\n",
       "<table border=\"1\" class=\"dataframe\">\n",
       "  <thead>\n",
       "    <tr style=\"text-align: right;\">\n",
       "      <th></th>\n",
       "      <th>Pregnancies</th>\n",
       "      <th>Glucose</th>\n",
       "      <th>BloodPressure</th>\n",
       "      <th>SkinThickness</th>\n",
       "      <th>Insulin</th>\n",
       "      <th>BMI</th>\n",
       "      <th>DiabetesPedigreeFunction</th>\n",
       "      <th>Age</th>\n",
       "      <th>Outcome</th>\n",
       "    </tr>\n",
       "  </thead>\n",
       "  <tbody>\n",
       "    <tr>\n",
       "      <th>0</th>\n",
       "      <td>0</td>\n",
       "      <td>141</td>\n",
       "      <td>84</td>\n",
       "      <td>26</td>\n",
       "      <td>0</td>\n",
       "      <td>32.40</td>\n",
       "      <td>0.43</td>\n",
       "      <td>22</td>\n",
       "      <td>0</td>\n",
       "    </tr>\n",
       "    <tr>\n",
       "      <th>1</th>\n",
       "      <td>4</td>\n",
       "      <td>83</td>\n",
       "      <td>86</td>\n",
       "      <td>19</td>\n",
       "      <td>0</td>\n",
       "      <td>29.30</td>\n",
       "      <td>0.32</td>\n",
       "      <td>34</td>\n",
       "      <td>0</td>\n",
       "    </tr>\n",
       "    <tr>\n",
       "      <th>2</th>\n",
       "      <td>1</td>\n",
       "      <td>128</td>\n",
       "      <td>82</td>\n",
       "      <td>17</td>\n",
       "      <td>183</td>\n",
       "      <td>27.50</td>\n",
       "      <td>0.12</td>\n",
       "      <td>22</td>\n",
       "      <td>0</td>\n",
       "    </tr>\n",
       "    <tr>\n",
       "      <th>3</th>\n",
       "      <td>9</td>\n",
       "      <td>112</td>\n",
       "      <td>82</td>\n",
       "      <td>32</td>\n",
       "      <td>175</td>\n",
       "      <td>34.20</td>\n",
       "      <td>0.26</td>\n",
       "      <td>36</td>\n",
       "      <td>1</td>\n",
       "    </tr>\n",
       "    <tr>\n",
       "      <th>4</th>\n",
       "      <td>2</td>\n",
       "      <td>71</td>\n",
       "      <td>70</td>\n",
       "      <td>27</td>\n",
       "      <td>0</td>\n",
       "      <td>28.00</td>\n",
       "      <td>0.59</td>\n",
       "      <td>22</td>\n",
       "      <td>0</td>\n",
       "    </tr>\n",
       "  </tbody>\n",
       "</table>\n",
       "</div>"
      ],
      "text/plain": [
       "   Pregnancies  Glucose  BloodPressure  SkinThickness  Insulin   BMI  \\\n",
       "0            0      141             84             26        0 32.40   \n",
       "1            4       83             86             19        0 29.30   \n",
       "2            1      128             82             17      183 27.50   \n",
       "3            9      112             82             32      175 34.20   \n",
       "4            2       71             70             27        0 28.00   \n",
       "\n",
       "   DiabetesPedigreeFunction  Age  Outcome  \n",
       "0                      0.43   22        0  \n",
       "1                      0.32   34        0  \n",
       "2                      0.12   22        0  \n",
       "3                      0.26   36        1  \n",
       "4                      0.59   22        0  "
      ]
     },
     "metadata": {},
     "output_type": "display_data"
    },
    {
     "name": "stdout",
     "output_type": "stream",
     "text": [
      "<class 'pandas.core.frame.DataFrame'>\n",
      "RangeIndex: 500 entries, 0 to 499\n",
      "Data columns (total 9 columns):\n",
      "Pregnancies                 500 non-null int64\n",
      "Glucose                     500 non-null int64\n",
      "BloodPressure               500 non-null int64\n",
      "SkinThickness               500 non-null int64\n",
      "Insulin                     500 non-null int64\n",
      "BMI                         500 non-null float64\n",
      "DiabetesPedigreeFunction    500 non-null float64\n",
      "Age                         500 non-null int64\n",
      "Outcome                     500 non-null int64\n",
      "dtypes: float64(2), int64(7)\n",
      "memory usage: 35.2 KB\n",
      "None\n"
     ]
    },
    {
     "data": {
      "text/html": [
       "<div>\n",
       "<style scoped>\n",
       "    .dataframe tbody tr th:only-of-type {\n",
       "        vertical-align: middle;\n",
       "    }\n",
       "\n",
       "    .dataframe tbody tr th {\n",
       "        vertical-align: top;\n",
       "    }\n",
       "\n",
       "    .dataframe thead th {\n",
       "        text-align: right;\n",
       "    }\n",
       "</style>\n",
       "<table border=\"1\" class=\"dataframe\">\n",
       "  <thead>\n",
       "    <tr style=\"text-align: right;\">\n",
       "      <th></th>\n",
       "      <th>Pregnancies</th>\n",
       "      <th>Glucose</th>\n",
       "      <th>BloodPressure</th>\n",
       "      <th>SkinThickness</th>\n",
       "      <th>Insulin</th>\n",
       "      <th>BMI</th>\n",
       "      <th>DiabetesPedigreeFunction</th>\n",
       "      <th>Age</th>\n",
       "      <th>Outcome</th>\n",
       "    </tr>\n",
       "  </thead>\n",
       "  <tbody>\n",
       "    <tr>\n",
       "      <th>count</th>\n",
       "      <td>500.00</td>\n",
       "      <td>500.00</td>\n",
       "      <td>500.00</td>\n",
       "      <td>500.00</td>\n",
       "      <td>500.00</td>\n",
       "      <td>500.00</td>\n",
       "      <td>500.00</td>\n",
       "      <td>500.00</td>\n",
       "      <td>500.00</td>\n",
       "    </tr>\n",
       "    <tr>\n",
       "      <th>mean</th>\n",
       "      <td>3.78</td>\n",
       "      <td>121.10</td>\n",
       "      <td>70.21</td>\n",
       "      <td>21.00</td>\n",
       "      <td>82.01</td>\n",
       "      <td>32.14</td>\n",
       "      <td>0.48</td>\n",
       "      <td>33.24</td>\n",
       "      <td>0.35</td>\n",
       "    </tr>\n",
       "    <tr>\n",
       "      <th>std</th>\n",
       "      <td>3.28</td>\n",
       "      <td>33.52</td>\n",
       "      <td>17.59</td>\n",
       "      <td>16.01</td>\n",
       "      <td>116.37</td>\n",
       "      <td>7.46</td>\n",
       "      <td>0.34</td>\n",
       "      <td>11.88</td>\n",
       "      <td>0.48</td>\n",
       "    </tr>\n",
       "    <tr>\n",
       "      <th>min</th>\n",
       "      <td>0.00</td>\n",
       "      <td>0.00</td>\n",
       "      <td>0.00</td>\n",
       "      <td>0.00</td>\n",
       "      <td>0.00</td>\n",
       "      <td>0.00</td>\n",
       "      <td>0.08</td>\n",
       "      <td>21.00</td>\n",
       "      <td>0.00</td>\n",
       "    </tr>\n",
       "    <tr>\n",
       "      <th>25%</th>\n",
       "      <td>1.00</td>\n",
       "      <td>99.00</td>\n",
       "      <td>64.00</td>\n",
       "      <td>0.00</td>\n",
       "      <td>0.00</td>\n",
       "      <td>27.48</td>\n",
       "      <td>0.25</td>\n",
       "      <td>24.00</td>\n",
       "      <td>0.00</td>\n",
       "    </tr>\n",
       "    <tr>\n",
       "      <th>50%</th>\n",
       "      <td>3.00</td>\n",
       "      <td>117.00</td>\n",
       "      <td>72.00</td>\n",
       "      <td>23.00</td>\n",
       "      <td>36.00</td>\n",
       "      <td>32.00</td>\n",
       "      <td>0.38</td>\n",
       "      <td>29.00</td>\n",
       "      <td>0.00</td>\n",
       "    </tr>\n",
       "    <tr>\n",
       "      <th>75%</th>\n",
       "      <td>6.00</td>\n",
       "      <td>142.00</td>\n",
       "      <td>80.00</td>\n",
       "      <td>33.00</td>\n",
       "      <td>132.75</td>\n",
       "      <td>36.32</td>\n",
       "      <td>0.63</td>\n",
       "      <td>41.00</td>\n",
       "      <td>1.00</td>\n",
       "    </tr>\n",
       "    <tr>\n",
       "      <th>max</th>\n",
       "      <td>17.00</td>\n",
       "      <td>199.00</td>\n",
       "      <td>114.00</td>\n",
       "      <td>99.00</td>\n",
       "      <td>744.00</td>\n",
       "      <td>67.10</td>\n",
       "      <td>2.42</td>\n",
       "      <td>81.00</td>\n",
       "      <td>1.00</td>\n",
       "    </tr>\n",
       "  </tbody>\n",
       "</table>\n",
       "</div>"
      ],
      "text/plain": [
       "       Pregnancies  Glucose  BloodPressure  SkinThickness  Insulin    BMI  \\\n",
       "count       500.00   500.00         500.00         500.00   500.00 500.00   \n",
       "mean          3.78   121.10          70.21          21.00    82.01  32.14   \n",
       "std           3.28    33.52          17.59          16.01   116.37   7.46   \n",
       "min           0.00     0.00           0.00           0.00     0.00   0.00   \n",
       "25%           1.00    99.00          64.00           0.00     0.00  27.48   \n",
       "50%           3.00   117.00          72.00          23.00    36.00  32.00   \n",
       "75%           6.00   142.00          80.00          33.00   132.75  36.32   \n",
       "max          17.00   199.00         114.00          99.00   744.00  67.10   \n",
       "\n",
       "       DiabetesPedigreeFunction    Age  Outcome  \n",
       "count                    500.00 500.00   500.00  \n",
       "mean                       0.48  33.24     0.35  \n",
       "std                        0.34  11.88     0.48  \n",
       "min                        0.08  21.00     0.00  \n",
       "25%                        0.25  24.00     0.00  \n",
       "50%                        0.38  29.00     0.00  \n",
       "75%                        0.63  41.00     1.00  \n",
       "max                        2.42  81.00     1.00  "
      ]
     },
     "metadata": {},
     "output_type": "display_data"
    }
   ],
   "source": [
    "df = pd.read_csv('diabetes-500.csv')\n",
    "display(df.head())\n",
    "print(df.info())\n",
    "display(df.describe(include='all'))"
   ]
  },
  {
   "cell_type": "markdown",
   "metadata": {},
   "source": [
    "**Revision Exercise**: Using `df.groupby()`, create a df called `df_outcome` where the first column contains the unique values for `Outcome` and the second column, `n` contains the number of patients for each `Outcome` value."
   ]
  },
  {
   "cell_type": "code",
   "execution_count": 9,
   "metadata": {
    "ExecuteTime": {
     "end_time": "2019-06-01T06:06:40.669509Z",
     "start_time": "2019-06-01T06:06:40.653439Z"
    },
    "scrolled": true
   },
   "outputs": [
    {
     "data": {
      "text/html": [
       "<div>\n",
       "<style scoped>\n",
       "    .dataframe tbody tr th:only-of-type {\n",
       "        vertical-align: middle;\n",
       "    }\n",
       "\n",
       "    .dataframe tbody tr th {\n",
       "        vertical-align: top;\n",
       "    }\n",
       "\n",
       "    .dataframe thead th {\n",
       "        text-align: right;\n",
       "    }\n",
       "</style>\n",
       "<table border=\"1\" class=\"dataframe\">\n",
       "  <thead>\n",
       "    <tr style=\"text-align: right;\">\n",
       "      <th></th>\n",
       "      <th>Outcome</th>\n",
       "      <th>n</th>\n",
       "    </tr>\n",
       "  </thead>\n",
       "  <tbody>\n",
       "    <tr>\n",
       "      <th>0</th>\n",
       "      <td>0</td>\n",
       "      <td>326</td>\n",
       "    </tr>\n",
       "    <tr>\n",
       "      <th>1</th>\n",
       "      <td>1</td>\n",
       "      <td>174</td>\n",
       "    </tr>\n",
       "  </tbody>\n",
       "</table>\n",
       "</div>"
      ],
      "text/plain": [
       "   Outcome    n\n",
       "0        0  326\n",
       "1        1  174"
      ]
     },
     "metadata": {},
     "output_type": "display_data"
    }
   ],
   "source": [
    "# Using groupby, find out the number of reviews with\n",
    "# positive and negative sentiment respectively.\n",
    "df_outcome = df.groupby('Outcome').size().reset_index(name='n')\n",
    "display(df_outcome)"
   ]
  },
  {
   "cell_type": "markdown",
   "metadata": {},
   "source": [
    "**Revision Exercise:**: Plot a bar graph where the $x$-axis contains the different values of `Outcome` and the $y$-axis is the number of patients for that outcome, or `n`."
   ]
  },
  {
   "cell_type": "code",
   "execution_count": 10,
   "metadata": {
    "ExecuteTime": {
     "end_time": "2019-06-01T06:06:40.964187Z",
     "start_time": "2019-06-01T06:06:40.673616Z"
    }
   },
   "outputs": [
    {
     "data": {
      "image/png": "[encoded data removed]",
      "text/plain": [
       "<Figure size 864x432 with 1 Axes>"
      ]
     },
     "metadata": {
      "needs_background": "light"
     },
     "output_type": "display_data"
    }
   ],
   "source": [
    "fig = plt.figure(figsize=(12,6))\n",
    "ax = fig.add_subplot(111)\n",
    "\n",
    "# Exercise: Plot the bar graph counting the number of patients for each outcome.\n",
    "# Use color='steelblue' as a parameter.\n",
    "#\n",
    "df_outcome.plot(kind='bar', x='Outcome', y='n', ax=ax, color='steelblue')\n",
    "\n",
    "# Additional parameters are given to you.\n",
    "ax.set_title(\"No. of patients who developed diabetes\", fontsize=14)\n",
    "ax.set_ylabel(\"No. of Patients\")\n",
    "ax.set_xticks(np.arange(0,2))\n",
    "ax.set_xticklabels([\"No Diabetes\", \"Has Diabetes\"], fontsize=12)\n",
    "plt.show()"
   ]
  },
  {
   "cell_type": "markdown",
   "metadata": {
    "ExecuteTime": {
     "end_time": "2019-06-01T02:56:27.474494Z",
     "start_time": "2019-06-01T02:56:27.467751Z"
    }
   },
   "source": [
    "<hr>\n",
    "We are now ready to perform the training of the model."
   ]
  },
  {
   "cell_type": "markdown",
   "metadata": {},
   "source": [
    "### Decision Trees: Problem Statement\n",
    "\n",
    "Given the different health indicators of a new patient, classify whether the patient is likely to develop diabetes."
   ]
  },
  {
   "cell_type": "markdown",
   "metadata": {},
   "source": [
    "### Create $\\textbf{X}$ and $\\textbf{y}$, the input variables and target variable\n",
    "\n",
    "Declare `X` to represent $\\textbf{X}$ that contains all the input variables in the model and `y` to represent $\\textbf{y}$ which is the target variable, whether the patient has diabetes or not. \n",
    "\n",
    "Note: `X` must be a `DataFrame` and `y` must be a `Series`."
   ]
  },
  {
   "cell_type": "code",
   "execution_count": 11,
   "metadata": {
    "ExecuteTime": {
     "end_time": "2019-06-01T06:06:40.974410Z",
     "start_time": "2019-06-01T06:06:40.967827Z"
    }
   },
   "outputs": [],
   "source": [
    "# The columns in the df are:\n",
    "# 'Pregnancies', 'Glucose', 'BloodPressure', \n",
    "# 'SkinThickness', 'Insulin', 'BMI', 'DiabetesPedigreeFunction', \n",
    "# 'Age', 'Outcome'. Use this to help you.\n",
    "\n",
    "# Declare X and y\n",
    "# \n",
    "X = df[['Pregnancies', 'Glucose', 'BloodPressure', \n",
    "        'SkinThickness', 'Insulin', 'BMI', \n",
    "        'DiabetesPedigreeFunction', 'Age']]\n",
    "y = df['Outcome']"
   ]
  },
  {
   "cell_type": "markdown",
   "metadata": {},
   "source": [
    "### Train-Test Split\n",
    "Use `sklearn.model_selection.train_test_split` to split your dataset into two groups - the **training set** and the **test set**. For this example, we set the **test set** to be $20\\%$ of the whole dataset."
   ]
  },
  {
   "cell_type": "code",
   "execution_count": 12,
   "metadata": {
    "ExecuteTime": {
     "end_time": "2019-06-01T06:06:40.984943Z",
     "start_time": "2019-06-01T06:06:40.978261Z"
    }
   },
   "outputs": [],
   "source": [
    "# Perform train-test split\n",
    "#\n",
    "X_train, X_test, y_train, y_test = train_test_split(\n",
    "    X, y, test_size=0.20, random_state=0)"
   ]
  },
  {
   "cell_type": "markdown",
   "metadata": {},
   "source": [
    "### TRAIN\n",
    "\n",
    "Use `model = DecisionTreeClassifier(criterion=\"entropy\")` to instantiate the model. Then, use `model.fit(X, y)` to train the model using the training set."
   ]
  },
  {
   "cell_type": "code",
   "execution_count": 13,
   "metadata": {
    "ExecuteTime": {
     "end_time": "2019-06-01T06:06:41.003021Z",
     "start_time": "2019-06-01T06:06:40.988019Z"
    }
   },
   "outputs": [
    {
     "data": {
      "text/plain": [
       "DecisionTreeClassifier(class_weight=None, criterion='entropy', max_depth=None,\n",
       "            max_features=None, max_leaf_nodes=None,\n",
       "            min_impurity_decrease=0.0, min_impurity_split=None,\n",
       "            min_samples_leaf=1, min_samples_split=2,\n",
       "            min_weight_fraction_leaf=0.0, presort=False, random_state=None,\n",
       "            splitter='best')"
      ]
     },
     "execution_count": 13,
     "metadata": {},
     "output_type": "execute_result"
    }
   ],
   "source": [
    "# Create the model\n",
    "#\n",
    "dtree_model = DecisionTreeClassifier(criterion=\"entropy\")\n",
    "\n",
    "# Use the fit() function to train the decision tree model on the training set\n",
    "#\n",
    "dtree_model.fit(X_train, y_train)"
   ]
  },
  {
   "cell_type": "markdown",
   "metadata": {},
   "source": [
    "### PREDICT ON TEST SET\n",
    "\n",
    "With the trained model, use `model.predict(X)` to obtain the predicted classes for each sample in the test set."
   ]
  },
  {
   "cell_type": "code",
   "execution_count": 14,
   "metadata": {
    "ExecuteTime": {
     "end_time": "2019-06-01T06:06:41.014907Z",
     "start_time": "2019-06-01T06:06:41.007637Z"
    }
   },
   "outputs": [],
   "source": [
    "# Use the model to predict the outcome on the test set\n",
    "#\n",
    "y_pred = dtree_model.predict(X_test)"
   ]
  },
  {
   "cell_type": "code",
   "execution_count": 15,
   "metadata": {
    "ExecuteTime": {
     "end_time": "2019-06-01T06:06:41.036918Z",
     "start_time": "2019-06-01T06:06:41.022119Z"
    }
   },
   "outputs": [
    {
     "name": "stdout",
     "output_type": "stream",
     "text": [
      "[[50 16]\n",
      " [15 19]]\n",
      "0.69\n"
     ]
    }
   ],
   "source": [
    "# Find the confusion matrix of the result\n",
    "cm = confusion_matrix(y_test, y_pred)\n",
    "print(cm)\n",
    "\n",
    "# Find the accuracy score of the result\n",
    "asr = accuracy_score(y_test, y_pred)\n",
    "print(asr)"
   ]
  },
  {
   "cell_type": "markdown",
   "metadata": {},
   "source": [
    "### PREDICT\n",
    "\n",
    "Use `model.predict()` to predict for a new patient not seen in the training set."
   ]
  },
  {
   "cell_type": "code",
   "execution_count": 16,
   "metadata": {
    "ExecuteTime": {
     "end_time": "2019-06-01T06:06:41.065859Z",
     "start_time": "2019-06-01T06:06:41.042096Z"
    }
   },
   "outputs": [
    {
     "data": {
      "text/html": [
       "<div>\n",
       "<style scoped>\n",
       "    .dataframe tbody tr th:only-of-type {\n",
       "        vertical-align: middle;\n",
       "    }\n",
       "\n",
       "    .dataframe tbody tr th {\n",
       "        vertical-align: top;\n",
       "    }\n",
       "\n",
       "    .dataframe thead th {\n",
       "        text-align: right;\n",
       "    }\n",
       "</style>\n",
       "<table border=\"1\" class=\"dataframe\">\n",
       "  <thead>\n",
       "    <tr style=\"text-align: right;\">\n",
       "      <th></th>\n",
       "      <th>Pregnancies</th>\n",
       "      <th>Glucose</th>\n",
       "      <th>BloodPressure</th>\n",
       "      <th>SkinThickness</th>\n",
       "      <th>Insulin</th>\n",
       "      <th>BMI</th>\n",
       "      <th>DiabetesPedigreeFunction</th>\n",
       "      <th>Age</th>\n",
       "    </tr>\n",
       "  </thead>\n",
       "  <tbody>\n",
       "    <tr>\n",
       "      <th>0</th>\n",
       "      <td>7</td>\n",
       "      <td>196</td>\n",
       "      <td>90</td>\n",
       "      <td>0</td>\n",
       "      <td>0</td>\n",
       "      <td>39.80</td>\n",
       "      <td>0.45</td>\n",
       "      <td>41</td>\n",
       "    </tr>\n",
       "  </tbody>\n",
       "</table>\n",
       "</div>"
      ],
      "text/plain": [
       "   Pregnancies  Glucose  BloodPressure  SkinThickness  Insulin   BMI  \\\n",
       "0            7      196             90              0        0 39.80   \n",
       "\n",
       "   DiabetesPedigreeFunction  Age  \n",
       "0                      0.45   41  "
      ]
     },
     "metadata": {},
     "output_type": "display_data"
    },
    {
     "name": "stdout",
     "output_type": "stream",
     "text": [
      "[1]\n"
     ]
    }
   ],
   "source": [
    "# The columns in the original df are:\n",
    "# 'Pregnancies', 'Glucose', 'BloodPressure', \n",
    "# 'SkinThickness', 'Insulin', 'BMI', 'DiabetesPedigreeFunction', \n",
    "# 'Age', 'Outcome'. Use this to help you.\n",
    "diabetes_features = ['Pregnancies', 'Glucose', 'BloodPressure', \n",
    "                     'SkinThickness', 'Insulin', 'BMI', 'DiabetesPedigreeFunction', \n",
    "                     'Age',]\n",
    "new_patient_df = pd.DataFrame([[7,196,90,0,0,39.8,0.451,41]], columns=diabetes_features)\n",
    "display(new_patient_df)\n",
    "print(dtree_model.predict(new_patient_df))"
   ]
  },
  {
   "cell_type": "markdown",
   "metadata": {},
   "source": [
    "## Pruning\n",
    "\n",
    "### TRAIN\n",
    "\n",
    "Use `model = DecisionTreeClassifier(criterion=\"entropy\")` to instantiate the model. Then, use `model.fit(X, y)` to train the model using the training set. To perform pruning, set `max_depth=3`."
   ]
  },
  {
   "cell_type": "code",
   "execution_count": 17,
   "metadata": {
    "ExecuteTime": {
     "end_time": "2019-06-01T06:06:41.083097Z",
     "start_time": "2019-06-01T06:06:41.070142Z"
    },
    "scrolled": false
   },
   "outputs": [
    {
     "data": {
      "text/plain": [
       "DecisionTreeClassifier(class_weight=None, criterion='entropy', max_depth=3,\n",
       "            max_features=None, max_leaf_nodes=None,\n",
       "            min_impurity_decrease=0.0, min_impurity_split=None,\n",
       "            min_samples_leaf=1, min_samples_split=2,\n",
       "            min_weight_fraction_leaf=0.0, presort=False, random_state=None,\n",
       "            splitter='best')"
      ]
     },
     "execution_count": 17,
     "metadata": {},
     "output_type": "execute_result"
    }
   ],
   "source": [
    "dtree_pruned_model = DecisionTreeClassifier(max_depth=3, criterion=\"entropy\")\n",
    "dtree_pruned_model.fit(X_train, y_train)"
   ]
  },
  {
   "cell_type": "markdown",
   "metadata": {},
   "source": [
    "### PREDICT ON TEST SET"
   ]
  },
  {
   "cell_type": "code",
   "execution_count": 18,
   "metadata": {
    "ExecuteTime": {
     "end_time": "2019-06-01T06:06:41.090981Z",
     "start_time": "2019-06-01T06:06:41.085741Z"
    }
   },
   "outputs": [],
   "source": [
    "# Get the predicted y array\n",
    "y_pred = dtree_pruned_model.predict(X_test)"
   ]
  },
  {
   "cell_type": "code",
   "execution_count": 19,
   "metadata": {
    "ExecuteTime": {
     "end_time": "2019-06-01T06:06:41.107605Z",
     "start_time": "2019-06-01T06:06:41.094788Z"
    },
    "scrolled": true
   },
   "outputs": [
    {
     "name": "stdout",
     "output_type": "stream",
     "text": [
      "[[63  3]\n",
      " [18 16]]\n",
      "0.79\n"
     ]
    }
   ],
   "source": [
    "# Find the confusion matrix of the result\n",
    "cm = confusion_matrix(y_test, y_pred)\n",
    "print(cm)\n",
    "\n",
    "# Find the accuracy score of the result\n",
    "asr = accuracy_score(y_test, y_pred)\n",
    "print(asr)"
   ]
  },
  {
   "cell_type": "markdown",
   "metadata": {},
   "source": [
    "### PREDICT\n",
    "\n",
    "Use `model.predict()` to predict for a new patient not seen in the training set."
   ]
  },
  {
   "cell_type": "code",
   "execution_count": 20,
   "metadata": {
    "ExecuteTime": {
     "end_time": "2019-06-01T06:06:41.133670Z",
     "start_time": "2019-06-01T06:06:41.112107Z"
    }
   },
   "outputs": [
    {
     "data": {
      "text/html": [
       "<div>\n",
       "<style scoped>\n",
       "    .dataframe tbody tr th:only-of-type {\n",
       "        vertical-align: middle;\n",
       "    }\n",
       "\n",
       "    .dataframe tbody tr th {\n",
       "        vertical-align: top;\n",
       "    }\n",
       "\n",
       "    .dataframe thead th {\n",
       "        text-align: right;\n",
       "    }\n",
       "</style>\n",
       "<table border=\"1\" class=\"dataframe\">\n",
       "  <thead>\n",
       "    <tr style=\"text-align: right;\">\n",
       "      <th></th>\n",
       "      <th>Pregnancies</th>\n",
       "      <th>Glucose</th>\n",
       "      <th>BloodPressure</th>\n",
       "      <th>SkinThickness</th>\n",
       "      <th>Insulin</th>\n",
       "      <th>BMI</th>\n",
       "      <th>DiabetesPedigreeFunction</th>\n",
       "      <th>Age</th>\n",
       "    </tr>\n",
       "  </thead>\n",
       "  <tbody>\n",
       "    <tr>\n",
       "      <th>0</th>\n",
       "      <td>7</td>\n",
       "      <td>196</td>\n",
       "      <td>90</td>\n",
       "      <td>0</td>\n",
       "      <td>0</td>\n",
       "      <td>39.80</td>\n",
       "      <td>0.45</td>\n",
       "      <td>41</td>\n",
       "    </tr>\n",
       "  </tbody>\n",
       "</table>\n",
       "</div>"
      ],
      "text/plain": [
       "   Pregnancies  Glucose  BloodPressure  SkinThickness  Insulin   BMI  \\\n",
       "0            7      196             90              0        0 39.80   \n",
       "\n",
       "   DiabetesPedigreeFunction  Age  \n",
       "0                      0.45   41  "
      ]
     },
     "metadata": {},
     "output_type": "display_data"
    },
    {
     "name": "stdout",
     "output_type": "stream",
     "text": [
      "[1]\n"
     ]
    }
   ],
   "source": [
    "# The columns in the original df are:\n",
    "# 'Pregnancies', 'Glucose', 'BloodPressure', \n",
    "# 'SkinThickness', 'Insulin', 'BMI', 'DiabetesPedigreeFunction', \n",
    "# 'Age', 'Outcome'. Use this to help you.\n",
    "diabetes_features = ['Pregnancies', 'Glucose', 'BloodPressure', \n",
    "                     'SkinThickness', 'Insulin', 'BMI', 'DiabetesPedigreeFunction', \n",
    "                     'Age',]\n",
    "new_patient_df = pd.DataFrame([[7,196,90,0,0,39.8,0.451,41]], columns=diabetes_features)\n",
    "display(new_patient_df)\n",
    "print(dtree_pruned_model.predict(new_patient_df))"
   ]
  },
  {
   "cell_type": "markdown",
   "metadata": {},
   "source": [
    "<hr>\n",
    "<center>$\\diamond$</center>\n",
    "### Further Exploration: Determine Feature Importance"
   ]
  },
  {
   "cell_type": "code",
   "execution_count": 21,
   "metadata": {
    "ExecuteTime": {
     "end_time": "2019-06-01T06:06:41.143016Z",
     "start_time": "2019-06-01T06:06:41.136289Z"
    },
    "scrolled": true
   },
   "outputs": [
    {
     "name": "stdout",
     "output_type": "stream",
     "text": [
      "Feature importances:\n",
      "[0.         0.53066072 0.05485469 0.         0.04132552 0.2207371\n",
      " 0.         0.15242197]\n"
     ]
    }
   ],
   "source": [
    "# Find out the features that have the most importance\n",
    "print(\"Feature importances:\\n{}\".format(dtree_pruned_model.feature_importances_))"
   ]
  },
  {
   "cell_type": "code",
   "execution_count": 22,
   "metadata": {
    "ExecuteTime": {
     "end_time": "2019-06-01T06:06:41.152382Z",
     "start_time": "2019-06-01T06:06:41.145874Z"
    },
    "scrolled": false
   },
   "outputs": [
    {
     "name": "stdout",
     "output_type": "stream",
     "text": [
      "['Pregnancies', 'Glucose', 'BloodPressure', 'SkinThickness', 'Insulin', 'BMI', 'DiabetesPedigreeFunction', 'Age']\n"
     ]
    }
   ],
   "source": [
    "diabetes_features = [x for i,x in enumerate(df.columns) if i!=8]\n",
    "# Find the full list of features in the dataset\n",
    "print(diabetes_features)"
   ]
  },
  {
   "cell_type": "code",
   "execution_count": 27,
   "metadata": {
    "ExecuteTime": {
     "end_time": "2019-06-01T06:07:08.776577Z",
     "start_time": "2019-06-01T06:07:08.477673Z"
    },
    "scrolled": false
   },
   "outputs": [
    {
     "data": {
      "text/html": [
       "<div>\n",
       "<style scoped>\n",
       "    .dataframe tbody tr th:only-of-type {\n",
       "        vertical-align: middle;\n",
       "    }\n",
       "\n",
       "    .dataframe tbody tr th {\n",
       "        vertical-align: top;\n",
       "    }\n",
       "\n",
       "    .dataframe thead th {\n",
       "        text-align: right;\n",
       "    }\n",
       "</style>\n",
       "<table border=\"1\" class=\"dataframe\">\n",
       "  <thead>\n",
       "    <tr style=\"text-align: right;\">\n",
       "      <th></th>\n",
       "      <th>labels</th>\n",
       "      <th>values</th>\n",
       "    </tr>\n",
       "  </thead>\n",
       "  <tbody>\n",
       "    <tr>\n",
       "      <th>0</th>\n",
       "      <td>Pregnancies</td>\n",
       "      <td>0.08</td>\n",
       "    </tr>\n",
       "    <tr>\n",
       "      <th>1</th>\n",
       "      <td>Glucose</td>\n",
       "      <td>0.28</td>\n",
       "    </tr>\n",
       "    <tr>\n",
       "      <th>2</th>\n",
       "      <td>BloodPressure</td>\n",
       "      <td>0.11</td>\n",
       "    </tr>\n",
       "    <tr>\n",
       "      <th>3</th>\n",
       "      <td>SkinThickness</td>\n",
       "      <td>0.06</td>\n",
       "    </tr>\n",
       "    <tr>\n",
       "      <th>4</th>\n",
       "      <td>Insulin</td>\n",
       "      <td>0.05</td>\n",
       "    </tr>\n",
       "    <tr>\n",
       "      <th>5</th>\n",
       "      <td>BMI</td>\n",
       "      <td>0.21</td>\n",
       "    </tr>\n",
       "    <tr>\n",
       "      <th>6</th>\n",
       "      <td>DiabetesPedigreeFunction</td>\n",
       "      <td>0.08</td>\n",
       "    </tr>\n",
       "    <tr>\n",
       "      <th>7</th>\n",
       "      <td>Age</td>\n",
       "      <td>0.14</td>\n",
       "    </tr>\n",
       "  </tbody>\n",
       "</table>\n",
       "</div>"
      ],
      "text/plain": [
       "                     labels  values\n",
       "0               Pregnancies    0.08\n",
       "1                   Glucose    0.28\n",
       "2             BloodPressure    0.11\n",
       "3             SkinThickness    0.06\n",
       "4                   Insulin    0.05\n",
       "5                       BMI    0.21\n",
       "6  DiabetesPedigreeFunction    0.08\n",
       "7                       Age    0.14"
      ]
     },
     "metadata": {},
     "output_type": "display_data"
    },
    {
     "data": {
      "image/png": "[encoded data removed]",
      "text/plain": [
       "<Figure size 648x432 with 1 Axes>"
      ]
     },
     "metadata": {},
     "output_type": "display_data"
    }
   ],
   "source": [
    "feats_df = pd.DataFrame({'labels' : diabetes_features, 'values' : dtree_model.feature_importances_})\n",
    "display(feats_df)\n",
    "###\n",
    "fig = plt.figure(figsize=(9,6))\n",
    "ax = fig.add_subplot(111)\n",
    "\n",
    "# Exercise: Plot the bar graph counting the number of patients for each outcome.\n",
    "# Use color='steelblue' as a parameter.\n",
    "#\n",
    "feats_df.plot(kind='barh', x='labels', y='values', ax=ax, color='steelblue')\n",
    "\n",
    "# Additional parameters are given to you.\n",
    "ax.set_title(\"Feature Importance Plot for the Diabetes dataset\", fontsize=14)\n",
    "ax.set_xlabel(\"Feature importance\")\n",
    "ax.set_ylabel(\"Feature\")\n",
    "plt.show()"
   ]
  },
  {
   "cell_type": "markdown",
   "metadata": {},
   "source": [
    "### Further Exploration: Show the Visualisation of the Tree"
   ]
  },
  {
   "cell_type": "code",
   "execution_count": 25,
   "metadata": {
    "ExecuteTime": {
     "end_time": "2019-06-01T06:06:41.536939Z",
     "start_time": "2019-06-01T06:06:41.533811Z"
    }
   },
   "outputs": [],
   "source": [
    "# graph = Source(tree.export_graphviz(dtree_pruned_model, out_file=None, feature_names=X.columns))\n",
    "# graph.view()"
   ]
  },
  {
   "cell_type": "markdown",
   "metadata": {},
   "source": [
    "**Credits:**\n",
    "- https://raw.githubusercontent.com/susanli2016/Machine-Learning-with-Python/master/diabetes.csv"
   ]
  }
 ],
 "metadata": {
  "kernelspec": {
   "display_name": "Python 3",
   "language": "python",
   "name": "python3"
  },
  "language_info": {
   "codemirror_mode": {
    "name": "ipython",
    "version": 3
   },
   "file_extension": ".py",
   "mimetype": "text/x-python",
   "name": "python",
   "nbconvert_exporter": "python",
   "pygments_lexer": "ipython3",
   "version": "3.7.3"
  }
 },
 "nbformat": 4,
 "nbformat_minor": 2
}
