{
 "cells": [
  {
   "cell_type": "markdown",
   "metadata": {},
   "source": [
    "<center><h2>DS102 Problem Set - Week 5</h2></center>\n",
    "**Hackwagon Academy**\n",
    "\n",
    "`HWA-DS102-PS5-201810`\n",
    "<hr>\n",
    "\n",
    "If you have any questions to the Problem Set, feel free to send a message to your TAs or Instructors in the Telegram chat. You are encouraged to also discuss the problem sets within your own groups.\n",
    "\n",
    "<div class=\"alert alert-success\">Before you start, fill in your details for this notebook and rename the notebook to `<First_Name>_<Last_Name>-problem-set-week-5`, for example `jane-doe-problem-set-week-5`.</div>"
   ]
  },
  {
   "cell_type": "code",
   "execution_count": 1,
   "metadata": {
    "ExecuteTime": {
     "end_time": "2018-09-29T11:21:08.994980Z",
     "start_time": "2018-09-29T11:21:08.989292Z"
    }
   },
   "outputs": [],
   "source": [
    "# Rename the notebook. Then, fill in your details here.\n",
    "# Name  : Victor Wong\n",
    "# Class : DS102, 9 May, Thurs, 7pm"
   ]
  },
  {
   "cell_type": "markdown",
   "metadata": {},
   "source": [
    "#### Datasets Required:\n",
    "\n",
    "- `insurance-claims.csv`"
   ]
  },
  {
   "cell_type": "markdown",
   "metadata": {},
   "source": [
    "In this problem set, you will be using what you have learnt in DS102 to understand an applied problem in actuarial science, in particular the concept of **moral hazard**."
   ]
  },
  {
   "cell_type": "markdown",
   "metadata": {},
   "source": [
    "## Problem Statement\n",
    "In insurance, an **insurance policy** is a contract between a **policy holder** and the **insurance company**. For a fee or <u>premium</u>, the **policy holder** receives financial protection in the event of a loss. This **claim** due to the loss will be paid by the insurance company.\n",
    "\n",
    "The claim that is paid by the insurance company or **insurer** to the policy holder or **insured** (usually an individual) is subject to a **deductible**, a **co-insurance payment** and a **policy limit**. The definition for each of the terms is as follows:\n",
    " \n",
    "- A [Deductible](https://www.healthcare.gov/glossary/deductible/) is the minimum sum that is payable by the policy holder, before the insurance company needs to pay out to the policy holder.\n",
    "\n",
    "- A [Co-insurance](https://www.healthcare.gov/glossary/co-payment/) is the proportion of the bill that is payable by the insurance company. The remaining proportion is payable by the policy holder.\n",
    "\n",
    "- A [Out-of-pocket Limit / Policy Limit](https://www.healthcare.gov/glossary/out-of-pocket-maximum-limit/) is the maximum amount that the insurance company has to pay for a claim. The remaining amount needs to be paid by the policy holder."
   ]
  },
  {
   "cell_type": "markdown",
   "metadata": {},
   "source": [
    "Consider the following example:\n",
    "\n",
    "Two travellers, **A** and **B** paid for a travel insurance policy before their flights. This policy has a **deductible** of $d=\\$300$. The **co-insurance** ratio is $c=0.2$ or $20\\%$ and the** policy limit** is $l=\\$5,000$.\n",
    "\n",
    "**A.** Traveller **A** was not able to fly back due to a typhoon at the holiday destination. **A** files for a claim of $\\$2,000$ for **A**'s flight back. The payout from the insurer is calculated as follows:\n",
    "1. After subjecting to a deductible, the amount to be paid by the insurer is $2000-d=2000-300=1700$\n",
    "2. After subjecting to co-insurance, the amount to be paid is $(1-c)\\times 1700 = (1-0.2)\\times 1700=1360$\n",
    "\n",
    "and hence **A** will receive a claim amount of $\\$1360$ from the insurer and his out-of-pocket payment is $\\$640$.\n",
    "\n",
    "\n",
    "**B.** Traveller **B**'s valuables and laptop was stolen while travelling. **B** files for a claim of $\\$12,000$ which was the value of all the items stolen. The payout from the insurer is calculated as follows:\n",
    "1. After subjecting to a deductible, the amount to be paid by the insurer is $12000-d=12000-300=11700$\n",
    "2. After subjecting to co-insurance, the amount to be paid is $(1-c)\\times 11700 = (1-0.2)\\times 11700=9360$\n",
    "3. The policy limit is $l=5000$. Since the claim amount, $\\$9360$ is higher than $\\$5000$, the amount to be paid is <u>only the policy limit</u> of $\\$5000$\n",
    "\n",
    "and hence **B** will receive a claim amount of $\\$5000$ from the insurer and his out-of-pocket payment is $\\$7000$.\n",
    "\n",
    "<div class=\"alert alert-info\">**Problem Statement **<br/>In this problem, the task is to study the effects of each of the following instruments on the total amount the insurance company needs to pay out.</div>"
   ]
  },
  {
   "cell_type": "markdown",
   "metadata": {
    "ExecuteTime": {
     "end_time": "2018-09-26T15:09:59.402709Z",
     "start_time": "2018-09-26T15:09:59.396279Z"
    }
   },
   "source": [
    "## Dataset\n",
    "\n",
    "You are given a baggage loss dataset from the [TSA Claims Database](https://www.kaggle.com/terminal-security-agency/tsa-claims-database). In this dataset, the `case_number` represents the unique ID associated with the case from the insurer and `claim_amount` is the amount of claim filed by the passenger, or the loss due to travelling borne by the passenger.\n",
    "\n",
    "Answer the following questions. Mark breakdowns are stated in the question e.g. **`[1]`**. <span style=\"color:darkblue\">**Where stated, both the <u>code</u> and <u>typed answers</u> must be provided to receive full credit.**</span>"
   ]
  },
  {
   "cell_type": "code",
   "execution_count": 2,
   "metadata": {
    "ExecuteTime": {
     "end_time": "2018-09-29T11:21:10.035843Z",
     "start_time": "2018-09-29T11:21:08.999936Z"
    }
   },
   "outputs": [],
   "source": [
    "# import the relevant packages\n",
    "import pandas as pd\n",
    "import numpy as np\n",
    "import matplotlib.pyplot as plt\n",
    "import seaborn as sns"
   ]
  },
  {
   "cell_type": "markdown",
   "metadata": {},
   "source": [
    "### Read from CSV to `df`\n",
    "Read the dataset from `insurance-claims.csv` to a `DataFrame` called `df`."
   ]
  },
  {
   "cell_type": "code",
   "execution_count": 3,
   "metadata": {
    "ExecuteTime": {
     "end_time": "2018-09-29T11:21:10.071596Z",
     "start_time": "2018-09-29T11:21:10.039773Z"
    }
   },
   "outputs": [
    {
     "data": {
      "text/html": [
       "<div>\n",
       "<style scoped>\n",
       "    .dataframe tbody tr th:only-of-type {\n",
       "        vertical-align: middle;\n",
       "    }\n",
       "\n",
       "    .dataframe tbody tr th {\n",
       "        vertical-align: top;\n",
       "    }\n",
       "\n",
       "    .dataframe thead th {\n",
       "        text-align: right;\n",
       "    }\n",
       "</style>\n",
       "<table border=\"1\" class=\"dataframe\">\n",
       "  <thead>\n",
       "    <tr style=\"text-align: right;\">\n",
       "      <th></th>\n",
       "      <th>case_number</th>\n",
       "      <th>claim_amount</th>\n",
       "    </tr>\n",
       "  </thead>\n",
       "  <tbody>\n",
       "    <tr>\n",
       "      <th>0</th>\n",
       "      <td>2004103065920</td>\n",
       "      <td>50.00</td>\n",
       "    </tr>\n",
       "    <tr>\n",
       "      <th>1</th>\n",
       "      <td>0226059M</td>\n",
       "      <td>312.50</td>\n",
       "    </tr>\n",
       "    <tr>\n",
       "      <th>2</th>\n",
       "      <td>2006012099982</td>\n",
       "      <td>90.00</td>\n",
       "    </tr>\n",
       "    <tr>\n",
       "      <th>3</th>\n",
       "      <td>2005010372123</td>\n",
       "      <td>216.00</td>\n",
       "    </tr>\n",
       "    <tr>\n",
       "      <th>4</th>\n",
       "      <td>2004092263584</td>\n",
       "      <td>178.74</td>\n",
       "    </tr>\n",
       "  </tbody>\n",
       "</table>\n",
       "</div>"
      ],
      "text/plain": [
       "     case_number  claim_amount\n",
       "0  2004103065920         50.00\n",
       "1       0226059M        312.50\n",
       "2  2006012099982         90.00\n",
       "3  2005010372123        216.00\n",
       "4  2004092263584        178.74"
      ]
     },
     "execution_count": 3,
     "metadata": {},
     "output_type": "execute_result"
    }
   ],
   "source": [
    "# Read the dataset from CSV to a df. Write your code here\n",
    "df = pd.read_csv(\"insurance-claims.csv\")\n",
    "df.head()"
   ]
  },
  {
   "cell_type": "markdown",
   "metadata": {},
   "source": [
    "## Part 1 (6 Marks)"
   ]
  },
  {
   "cell_type": "markdown",
   "metadata": {
    "scrolled": true
   },
   "source": [
    "**1 i)** What is the mean of `claim_amount`? **`[0.5]`**"
   ]
  },
  {
   "cell_type": "code",
   "execution_count": 4,
   "metadata": {
    "ExecuteTime": {
     "end_time": "2018-09-29T11:21:10.083223Z",
     "start_time": "2018-09-29T11:21:10.075160Z"
    }
   },
   "outputs": [
    {
     "data": {
      "text/plain": [
       "131.41266399999995"
      ]
     },
     "execution_count": 4,
     "metadata": {},
     "output_type": "execute_result"
    }
   ],
   "source": [
    "# What is the mean of claim_amount?\n",
    "# (Write your code here)\n",
    "np.mean(df['claim_amount'])\n",
    "\n",
    "# (Type your answer here)\n",
    "# 131.41"
   ]
  },
  {
   "cell_type": "markdown",
   "metadata": {},
   "source": [
    "**1 ii)** What is the variance of `claim_amount`? **`[0.5]`**"
   ]
  },
  {
   "cell_type": "code",
   "execution_count": 5,
   "metadata": {
    "ExecuteTime": {
     "end_time": "2018-09-29T11:21:10.095661Z",
     "start_time": "2018-09-29T11:21:10.087234Z"
    }
   },
   "outputs": [
    {
     "data": {
      "text/plain": [
       "25225.011138423106"
      ]
     },
     "execution_count": 5,
     "metadata": {},
     "output_type": "execute_result"
    }
   ],
   "source": [
    "# What is the variance of claim_amount? \n",
    "# (Write your code here)\n",
    "np.var(df['claim_amount'])\n",
    "\n",
    "# (Type your answer here)\n",
    "#25225.011138423106"
   ]
  },
  {
   "cell_type": "markdown",
   "metadata": {},
   "source": [
    "**1 iii)** \n",
    "- What is the skewness of `claim_amount`? **`[0.5]`**\n",
    "\n",
    "- How do you interpret the result of `claim_amount`'s skewness value? **`[0.5]`**"
   ]
  },
  {
   "cell_type": "code",
   "execution_count": 6,
   "metadata": {
    "ExecuteTime": {
     "end_time": "2018-09-29T11:21:10.108809Z",
     "start_time": "2018-09-29T11:21:10.099631Z"
    }
   },
   "outputs": [
    {
     "data": {
      "text/plain": [
       "2.4650649305683907"
      ]
     },
     "execution_count": 6,
     "metadata": {},
     "output_type": "execute_result"
    }
   ],
   "source": [
    "# What is the skewness of claim_amount? \n",
    "# (Write your code here)\n",
    "df['claim_amount'].skew()\n",
    "\n",
    "# (Type your answer here)\n",
    "# 2.4650649305683907\n",
    "\n",
    "# How do you interpret the result of claim_amount's skewness value?\n",
    "# (Type your answer here)\n",
    "# the dataset is skewed right"
   ]
  },
  {
   "cell_type": "markdown",
   "metadata": {},
   "source": [
    "**1 iv)** Fill in the blanks: Using the interquartile-range method, a `claim_amount` is considered an outlier if it is below `______` or above `______`. **`[1]`**"
   ]
  },
  {
   "cell_type": "code",
   "execution_count": 7,
   "metadata": {
    "ExecuteTime": {
     "end_time": "2018-09-29T11:21:10.127777Z",
     "start_time": "2018-09-29T11:21:10.116301Z"
    }
   },
   "outputs": [
    {
     "name": "stdout",
     "output_type": "stream",
     "text": [
      "352.53\n",
      "-153.81\n"
     ]
    }
   ],
   "source": [
    "# Find the range of values an outlier of claim_amount can take (find the lower bound & upper bound)\n",
    "# (Write your code here)\n",
    "upper_quartile = np.percentile(df['claim_amount'], 75)\n",
    "lower_quartile = np.percentile(df['claim_amount'], 25)\n",
    "\n",
    "iqr = upper_quartile - lower_quartile\n",
    "\n",
    "upper_limit = upper_quartile + iqr*1.5\n",
    "lower_limit = lower_quartile - iqr*1.5\n",
    "\n",
    "print(upper_limit)\n",
    "print(lower_limit)\n",
    "\n",
    "# (Type your answer here)\n",
    "# A claim_amount is considered an outlier if it is below -153.81 or above 352.53"
   ]
  },
  {
   "cell_type": "markdown",
   "metadata": {},
   "source": [
    "**1 v)** What proportion of the observations in `claim_amount` are outliers? **`[1]`**"
   ]
  },
  {
   "cell_type": "code",
   "execution_count": 8,
   "metadata": {
    "ExecuteTime": {
     "end_time": "2018-09-29T11:21:10.145478Z",
     "start_time": "2018-09-29T11:21:10.133146Z"
    }
   },
   "outputs": [
    {
     "data": {
      "text/plain": [
       "0.0804"
      ]
     },
     "execution_count": 8,
     "metadata": {},
     "output_type": "execute_result"
    }
   ],
   "source": [
    "# What proportion of the observations in claim_amount are outliers?\n",
    "# (Write your code here)\n",
    "df_out = df.copy()\n",
    "df_out = df[(df['claim_amount'] > 352.53) |\n",
    "           (df['claim_amount'] < -153.81) ]\n",
    "\n",
    "len(df_out)/len(df)\n",
    "\n",
    "# (Type your answer here)\n",
    "# 0.0804"
   ]
  },
  {
   "cell_type": "markdown",
   "metadata": {},
   "source": [
    "**1 vi)** Plot a Kernel Density Estimate (KDE) plot for `claim_amount` using `sns.kdeplot()`. Use the Gaussian kernel with bandwidth 25. In other words, add the parameters `kernel='gau'` and `bw=25` when plotting. Also add the parameter `shade=True` to shade the area under the graph.**`[1]`**\n",
    "\n",
    "Hint: Use the following lines to help you.\n",
    "```python\n",
    "ax1.set_xlabel(\"claim_amount\")\n",
    "ax1.set_ylabel(\"density\")\n",
    "ax1.set_title(\"KDE plot of claim_amount\")\n",
    "```"
   ]
  },
  {
   "cell_type": "code",
   "execution_count": 9,
   "metadata": {
    "ExecuteTime": {
     "end_time": "2018-09-29T11:21:10.154440Z",
     "start_time": "2018-09-29T11:21:10.150267Z"
    },
    "scrolled": false
   },
   "outputs": [
    {
     "data": {
      "image/png": "[encoded data removed]",
      "text/plain": [
       "<Figure size 576x576 with 1 Axes>"
      ]
     },
     "metadata": {
      "needs_background": "light"
     },
     "output_type": "display_data"
    }
   ],
   "source": [
    "# Plot a KDE plot for claim_amount\n",
    "# (Write your code here)\n",
    "fig = plt.figure(figsize = (8,8))\n",
    "ax1 = fig.add_subplot(111)\n",
    "\n",
    "sns.kdeplot(df['claim_amount'], kernel = 'gau', bw = 25, shade = True, ax = ax1)\n",
    "\n",
    "ax1.set_xlabel(\"claim_amount\")\n",
    "ax1.set_ylabel(\"density\")\n",
    "ax1.set_title(\"KDE plot of claim_amount\")\n",
    "ax1.legend(['Claim Amounts'])\n",
    "\n",
    "plt.show()"
   ]
  },
  {
   "cell_type": "markdown",
   "metadata": {},
   "source": [
    "**1 vii)** \n",
    "\n",
    "- What is the difference when calculating ($\\text{median}$ - $\\text{mean}$) of `claim_amount`? How will you interpret this value, in relation to the skewness of the distribution? Hint: Use the answers in **1 i)** and **1 vii)** to help you. **`[1]`**"
   ]
  },
  {
   "cell_type": "code",
   "execution_count": 10,
   "metadata": {
    "ExecuteTime": {
     "end_time": "2018-09-29T11:21:10.548423Z",
     "start_time": "2018-09-29T11:21:10.539853Z"
    }
   },
   "outputs": [
    {
     "name": "stdout",
     "output_type": "stream",
     "text": [
      "-60.28766399999995\n"
     ]
    }
   ],
   "source": [
    "# What is the difference when calculating (median - mean) of claim_amount? \n",
    "# (Write your code here)\n",
    "mean = df['claim_amount'].mean()\n",
    "median = df['claim_amount'].median()\n",
    "print(median-mean)\n",
    "\n",
    "# (Type your answer here)\n",
    "# -60.28766399999995\n",
    "\n",
    "# How will you interpret the value of (median - mean), in relation to the skewness\n",
    "# of the distribution?\n",
    "# (Type your answer here)\n",
    "# if the value is negative, we can determine that the distribution is right-skewed."
   ]
  },
  {
   "cell_type": "markdown",
   "metadata": {},
   "source": [
    "<div class=\"alert alert-success\">\n",
    "**Checkpoint**: When you have completed Part 1, upload your progress to eLearn. eLearn only accepts the latest notebooks so if you have an existing notebook, your latest upload will **override** it.\n",
    "</div>\n",
    "## Part 2 (6 Marks)\n",
    "\n",
    "For this question, the following values are defined:\n",
    "\n",
    "Instrument | Variable | Value\n",
    "--|--|--|\n",
    "**Deductible**|$d$|$50$\n",
    "**Co-insurance ratio**|$c$|$0.3$\n",
    "**Policy Limit **|$l$|$500$"
   ]
  },
  {
   "cell_type": "markdown",
   "metadata": {},
   "source": [
    "**2 i)** Write a function `compute_claim_after_deductible(claim_amount)` that takes in a claim amount `claim_amount` as the only parameter. `compute_claim_after_deductible()` returns `0` if the `claim_amount` is less than `50`, and returns (`claim_amount - 50`) if the claim amount is above `50`.\n",
    "\n",
    "Hint: You may use the following code to help you. If you do, take note that you need to correct the logic errors. **`[0.5]`**"
   ]
  },
  {
   "cell_type": "code",
   "execution_count": 11,
   "metadata": {
    "ExecuteTime": {
     "end_time": "2018-09-29T11:21:10.563754Z",
     "start_time": "2018-09-29T11:21:10.559811Z"
    }
   },
   "outputs": [],
   "source": [
    "# Write a function compute_claim_after_deductible(claim_amount)\n",
    "\n",
    "# (Write your code here)\n",
    "def compute_claim_after_deductible(claim_amount):\n",
    "    if claim_amount >= 50:\n",
    "        x = claim_amount - 50\n",
    "        return x\n",
    "    elif claim_amount < 50:\n",
    "        return 0\n",
    "    \n",
    "\n",
    "# You could use this code to help you write the function. If you do, correct the logic errors.\n",
    "# claim = 199\n",
    "# d = 100\n",
    "# if c <= claim:\n",
    "#     print(claim - d)\n",
    "# else:\n",
    "#     print(0)"
   ]
  },
  {
   "cell_type": "markdown",
   "metadata": {},
   "source": [
    "**2 ii)** Now, create a new column `claim_amount_with_deductible`. This is the result of `apply`ing `compute_claim_after_deductible` to the column `claim_amount`. **`[0.5]`**"
   ]
  },
  {
   "cell_type": "code",
   "execution_count": 12,
   "metadata": {
    "ExecuteTime": {
     "end_time": "2018-09-29T11:21:10.589761Z",
     "start_time": "2018-09-29T11:21:10.576410Z"
    }
   },
   "outputs": [
    {
     "data": {
      "text/html": [
       "<div>\n",
       "<style scoped>\n",
       "    .dataframe tbody tr th:only-of-type {\n",
       "        vertical-align: middle;\n",
       "    }\n",
       "\n",
       "    .dataframe tbody tr th {\n",
       "        vertical-align: top;\n",
       "    }\n",
       "\n",
       "    .dataframe thead th {\n",
       "        text-align: right;\n",
       "    }\n",
       "</style>\n",
       "<table border=\"1\" class=\"dataframe\">\n",
       "  <thead>\n",
       "    <tr style=\"text-align: right;\">\n",
       "      <th></th>\n",
       "      <th>case_number</th>\n",
       "      <th>claim_amount</th>\n",
       "      <th>claim_amount_with_deductible</th>\n",
       "    </tr>\n",
       "  </thead>\n",
       "  <tbody>\n",
       "    <tr>\n",
       "      <th>0</th>\n",
       "      <td>2004103065920</td>\n",
       "      <td>50.00</td>\n",
       "      <td>0.00</td>\n",
       "    </tr>\n",
       "    <tr>\n",
       "      <th>1</th>\n",
       "      <td>0226059M</td>\n",
       "      <td>312.50</td>\n",
       "      <td>262.50</td>\n",
       "    </tr>\n",
       "    <tr>\n",
       "      <th>2</th>\n",
       "      <td>2006012099982</td>\n",
       "      <td>90.00</td>\n",
       "      <td>40.00</td>\n",
       "    </tr>\n",
       "    <tr>\n",
       "      <th>3</th>\n",
       "      <td>2005010372123</td>\n",
       "      <td>216.00</td>\n",
       "      <td>166.00</td>\n",
       "    </tr>\n",
       "    <tr>\n",
       "      <th>4</th>\n",
       "      <td>2004092263584</td>\n",
       "      <td>178.74</td>\n",
       "      <td>128.74</td>\n",
       "    </tr>\n",
       "    <tr>\n",
       "      <th>5</th>\n",
       "      <td>2006012600433</td>\n",
       "      <td>69.00</td>\n",
       "      <td>19.00</td>\n",
       "    </tr>\n",
       "    <tr>\n",
       "      <th>6</th>\n",
       "      <td>0806092M</td>\n",
       "      <td>40.00</td>\n",
       "      <td>0.00</td>\n",
       "    </tr>\n",
       "    <tr>\n",
       "      <th>7</th>\n",
       "      <td>2006072109864</td>\n",
       "      <td>15.00</td>\n",
       "      <td>0.00</td>\n",
       "    </tr>\n",
       "    <tr>\n",
       "      <th>8</th>\n",
       "      <td>2004102565645</td>\n",
       "      <td>250.00</td>\n",
       "      <td>200.00</td>\n",
       "    </tr>\n",
       "    <tr>\n",
       "      <th>9</th>\n",
       "      <td>0223181M</td>\n",
       "      <td>500.00</td>\n",
       "      <td>450.00</td>\n",
       "    </tr>\n",
       "  </tbody>\n",
       "</table>\n",
       "</div>"
      ],
      "text/plain": [
       "     case_number  claim_amount  claim_amount_with_deductible\n",
       "0  2004103065920         50.00                          0.00\n",
       "1       0226059M        312.50                        262.50\n",
       "2  2006012099982         90.00                         40.00\n",
       "3  2005010372123        216.00                        166.00\n",
       "4  2004092263584        178.74                        128.74\n",
       "5  2006012600433         69.00                         19.00\n",
       "6       0806092M         40.00                          0.00\n",
       "7  2006072109864         15.00                          0.00\n",
       "8  2004102565645        250.00                        200.00\n",
       "9       0223181M        500.00                        450.00"
      ]
     },
     "metadata": {},
     "output_type": "display_data"
    }
   ],
   "source": [
    "# Create a new column claim_amount_with_deductible by using Series.apply()\n",
    "# (Write your code here)\n",
    "df['claim_amount_with_deductible'] = df['claim_amount'].apply(compute_claim_after_deductible)\n",
    "\n",
    "display(df.head(10))"
   ]
  },
  {
   "cell_type": "markdown",
   "metadata": {},
   "source": [
    "**2 iii)** Plot a KDE plot for **both** `claim_amount` and `claim_amount_with_deductible` using `sns.kdeplot()`. They MUST be in the same KDE plot. \n",
    "Use the Gaussian kernel with bandwidth 25. In other words, add the parameters `kernel='gau', bw=25` when plotting. Also, add the parameters `shade=True` to shade the area under the KDE plot. **`[1]`**\n",
    "\n",
    "Hint: Use the following lines to help you.\n",
    "```python\n",
    "fig2 = plt.figure(figsize=(16, 8))\n",
    "ax1 = fig2.add_subplot(111)\n",
    "```"
   ]
  },
  {
   "cell_type": "code",
   "execution_count": 13,
   "metadata": {
    "ExecuteTime": {
     "end_time": "2018-09-29T11:21:10.629535Z",
     "start_time": "2018-09-29T11:21:10.625540Z"
    },
    "scrolled": true
   },
   "outputs": [
    {
     "data": {
      "image/png": "[encoded data removed]",
      "text/plain": [
       "<Figure size 1152x576 with 1 Axes>"
      ]
     },
     "metadata": {
      "needs_background": "light"
     },
     "output_type": "display_data"
    }
   ],
   "source": [
    "# Plot a KDE plot for both claim_amount and claim_amount_with_deductible. They MUST be\n",
    "# in the same plot.\n",
    "# (Write your code here)\n",
    "fig2 = plt.figure(figsize=(16,8))\n",
    "ax1 = fig2.add_subplot(111)\n",
    "\n",
    "sns.kdeplot(df['claim_amount'], kernel = 'gau', bw=25, shade = True, ax=ax1)\n",
    "sns.kdeplot(df['claim_amount_with_deductible'], kernel = 'gau', bw=25, shade = True, ax=ax1)\n",
    "\n",
    "ax1.set_title('KDE Plot of claim_amount and claim_amount_with_deductible')\n",
    "ax1.set_xlabel('claim_amount')\n",
    "ax1.set_ylabel('density')\n",
    "ax1.legend(['claim_amount', 'claim_amount_with_deductible'])\n",
    "\n",
    "plt.show()"
   ]
  },
  {
   "cell_type": "markdown",
   "metadata": {},
   "source": [
    "**2 iv)** How has the deductible impacted the shape of the KDE plot? Describe the change in terms of the shift of the mean and the proportion of the observations having the value of 0.\n",
    "\n",
    "Hint: Consider using the results of `df.describe()` to explain your answer. **`[1]`**"
   ]
  },
  {
   "cell_type": "code",
   "execution_count": 73,
   "metadata": {
    "ExecuteTime": {
     "end_time": "2018-09-29T11:21:11.078237Z",
     "start_time": "2018-09-29T11:21:11.055048Z"
    }
   },
   "outputs": [
    {
     "data": {
      "text/html": [
       "<div>\n",
       "<style scoped>\n",
       "    .dataframe tbody tr th:only-of-type {\n",
       "        vertical-align: middle;\n",
       "    }\n",
       "\n",
       "    .dataframe tbody tr th {\n",
       "        vertical-align: top;\n",
       "    }\n",
       "\n",
       "    .dataframe thead th {\n",
       "        text-align: right;\n",
       "    }\n",
       "</style>\n",
       "<table border=\"1\" class=\"dataframe\">\n",
       "  <thead>\n",
       "    <tr style=\"text-align: right;\">\n",
       "      <th></th>\n",
       "      <th>claim_amount</th>\n",
       "      <th>claim_amount_with_deductible</th>\n",
       "    </tr>\n",
       "  </thead>\n",
       "  <tbody>\n",
       "    <tr>\n",
       "      <th>count</th>\n",
       "      <td>2500.000000</td>\n",
       "      <td>2500.000000</td>\n",
       "    </tr>\n",
       "    <tr>\n",
       "      <th>mean</th>\n",
       "      <td>131.412664</td>\n",
       "      <td>89.682040</td>\n",
       "    </tr>\n",
       "    <tr>\n",
       "      <th>std</th>\n",
       "      <td>158.855611</td>\n",
       "      <td>153.500587</td>\n",
       "    </tr>\n",
       "    <tr>\n",
       "      <th>min</th>\n",
       "      <td>2.000000</td>\n",
       "      <td>0.000000</td>\n",
       "    </tr>\n",
       "    <tr>\n",
       "      <th>25%</th>\n",
       "      <td>36.067500</td>\n",
       "      <td>0.000000</td>\n",
       "    </tr>\n",
       "    <tr>\n",
       "      <th>50%</th>\n",
       "      <td>71.125000</td>\n",
       "      <td>21.125000</td>\n",
       "    </tr>\n",
       "    <tr>\n",
       "      <th>75%</th>\n",
       "      <td>162.652500</td>\n",
       "      <td>112.652500</td>\n",
       "    </tr>\n",
       "    <tr>\n",
       "      <th>max</th>\n",
       "      <td>991.000000</td>\n",
       "      <td>941.000000</td>\n",
       "    </tr>\n",
       "  </tbody>\n",
       "</table>\n",
       "</div>"
      ],
      "text/plain": [
       "       claim_amount  claim_amount_with_deductible\n",
       "count   2500.000000                   2500.000000\n",
       "mean     131.412664                     89.682040\n",
       "std      158.855611                    153.500587\n",
       "min        2.000000                      0.000000\n",
       "25%       36.067500                      0.000000\n",
       "50%       71.125000                     21.125000\n",
       "75%      162.652500                    112.652500\n",
       "max      991.000000                    941.000000"
      ]
     },
     "execution_count": 73,
     "metadata": {},
     "output_type": "execute_result"
    }
   ],
   "source": [
    "# How has the deductible impacted the shape of the KDE plot? \n",
    "# Code is not required. However, you could use df.describe() to help you.\n",
    "df.describe()\n",
    "\n",
    "# (Type your answer here)\n",
    "# The deductible has decreased the mean and median of the plot.\n",
    "# The deductible has also decreased the standard deviation of the dataset.\n",
    "# The deductible has increased the number of people claiming $0. Thus, the density increased at the zero mark."
   ]
  },
  {
   "cell_type": "markdown",
   "metadata": {},
   "source": [
    "**2 v)** Write a function `compute_claim_payable_by_insurer(claim_amount)` that takes in a claim amount `claim_amount` as the only parameter. `compute_claim_payable_by_insurer()` performs the following:\n",
    "1. if the `claim_amount` is less than `50`, return `0` \n",
    "2. if the claim amount is above `50`, deduct `50` from the `claim_amount`, then calculate the copayment paid by the insurer which is $1-0.3=0.7$ of the remaining amount\n",
    "3. if the value calculated in step 2 exceeds the policy limit of `500`, then return `500`. If not, return the value calculated in step 2 \n",
    "\n",
    "Hint: You may use the following code to help you. If you do, take note that you need to correct the logic errors. **`[1]`**"
   ]
  },
  {
   "cell_type": "code",
   "execution_count": 29,
   "metadata": {
    "ExecuteTime": {
     "end_time": "2018-09-29T11:21:11.086821Z",
     "start_time": "2018-09-29T11:21:11.081982Z"
    }
   },
   "outputs": [],
   "source": [
    "# Write a function compute_claim_payable_by_insurer(claim_amount)\n",
    "def compute_claim_payable_by_insurer(claim_amount):\n",
    "    if claim_amount <= 50:\n",
    "        return 0\n",
    "    elif claim_amount > 50:\n",
    "        x = (claim_amount - 50)*0.7\n",
    "        if x >= 500:\n",
    "            x = 500\n",
    "            return x\n",
    "        else:\n",
    "            return x\n",
    "\n",
    "\n",
    "# (Write your code here)\n",
    "def compute_claim_payable_by_insurer(claim_amount):\n",
    "    if claim_amount <= 50:\n",
    "        return 0\n",
    "    elif claim_amount > 50:\n",
    "        x = (claim_amount - 50)*0.7\n",
    "        if x >= 500:\n",
    "            x = 500\n",
    "            return x\n",
    "        else:\n",
    "            return x\n",
    "\n",
    "\n",
    "# You could use this code to help you write the function. If you do, correct the logic errors.\n",
    "# d = 50\n",
    "# c = 0.3\n",
    "# l = 500\n",
    "\n",
    "# claim = 750\n",
    "# payout = 0\n",
    "\n",
    "# if claim < d:\n",
    "#     payout = claim\n",
    "# else:\n",
    "#     payout = (claim-d) * (c)\n",
    "#     if payout > l:\n",
    "#         payout = payout - l\n",
    "# print(payout)"
   ]
  },
  {
   "cell_type": "markdown",
   "metadata": {},
   "source": [
    "**2 vi)** Now, create a new column `claim_amount_by_insurer`. This is the result of `apply`ing `compute_claim_payable_by_insurer()` to the column `claim_amount` **Be careful! Choose the correct column**. **`[0.5]`** "
   ]
  },
  {
   "cell_type": "code",
   "execution_count": 30,
   "metadata": {
    "ExecuteTime": {
     "end_time": "2018-09-29T11:21:11.113942Z",
     "start_time": "2018-09-29T11:21:11.105615Z"
    }
   },
   "outputs": [
    {
     "data": {
      "text/html": [
       "<div>\n",
       "<style scoped>\n",
       "    .dataframe tbody tr th:only-of-type {\n",
       "        vertical-align: middle;\n",
       "    }\n",
       "\n",
       "    .dataframe tbody tr th {\n",
       "        vertical-align: top;\n",
       "    }\n",
       "\n",
       "    .dataframe thead th {\n",
       "        text-align: right;\n",
       "    }\n",
       "</style>\n",
       "<table border=\"1\" class=\"dataframe\">\n",
       "  <thead>\n",
       "    <tr style=\"text-align: right;\">\n",
       "      <th></th>\n",
       "      <th>case_number</th>\n",
       "      <th>claim_amount</th>\n",
       "      <th>claim_amount_with_deductible</th>\n",
       "      <th>claim_amount_by_insurer</th>\n",
       "    </tr>\n",
       "  </thead>\n",
       "  <tbody>\n",
       "    <tr>\n",
       "      <th>0</th>\n",
       "      <td>2004103065920</td>\n",
       "      <td>50.00</td>\n",
       "      <td>0.00</td>\n",
       "      <td>0.000</td>\n",
       "    </tr>\n",
       "    <tr>\n",
       "      <th>1</th>\n",
       "      <td>0226059M</td>\n",
       "      <td>312.50</td>\n",
       "      <td>262.50</td>\n",
       "      <td>183.750</td>\n",
       "    </tr>\n",
       "    <tr>\n",
       "      <th>2</th>\n",
       "      <td>2006012099982</td>\n",
       "      <td>90.00</td>\n",
       "      <td>40.00</td>\n",
       "      <td>28.000</td>\n",
       "    </tr>\n",
       "    <tr>\n",
       "      <th>3</th>\n",
       "      <td>2005010372123</td>\n",
       "      <td>216.00</td>\n",
       "      <td>166.00</td>\n",
       "      <td>116.200</td>\n",
       "    </tr>\n",
       "    <tr>\n",
       "      <th>4</th>\n",
       "      <td>2004092263584</td>\n",
       "      <td>178.74</td>\n",
       "      <td>128.74</td>\n",
       "      <td>90.118</td>\n",
       "    </tr>\n",
       "  </tbody>\n",
       "</table>\n",
       "</div>"
      ],
      "text/plain": [
       "     case_number  claim_amount  claim_amount_with_deductible  \\\n",
       "0  2004103065920         50.00                          0.00   \n",
       "1       0226059M        312.50                        262.50   \n",
       "2  2006012099982         90.00                         40.00   \n",
       "3  2005010372123        216.00                        166.00   \n",
       "4  2004092263584        178.74                        128.74   \n",
       "\n",
       "   claim_amount_by_insurer  \n",
       "0                    0.000  \n",
       "1                  183.750  \n",
       "2                   28.000  \n",
       "3                  116.200  \n",
       "4                   90.118  "
      ]
     },
     "execution_count": 30,
     "metadata": {},
     "output_type": "execute_result"
    }
   ],
   "source": [
    "# Create a new column claim_amount_with_deductible by using Series.apply()\n",
    "# (Write your code here)\n",
    "df['claim_amount_by_insurer'] = df['claim_amount'].apply(compute_claim_payable_by_insurer)\n",
    "\n",
    "df.head(5)"
   ]
  },
  {
   "cell_type": "markdown",
   "metadata": {
    "ExecuteTime": {
     "end_time": "2018-09-29T03:47:25.320211Z",
     "start_time": "2018-09-29T03:47:25.313846Z"
    }
   },
   "source": [
    "**2 vii)** Run the following cell to find out key statistics of the `df`. Fill in the blanks:\n",
    "\n",
    "The maximum of `claim_amount_by_insurer` is this equal to the `(  ?  )`. \n",
    "**`[0.5]`** "
   ]
  },
  {
   "cell_type": "code",
   "execution_count": 33,
   "metadata": {
    "ExecuteTime": {
     "end_time": "2018-09-29T11:21:11.124843Z",
     "start_time": "2018-09-29T11:21:11.119292Z"
    }
   },
   "outputs": [
    {
     "name": "stdout",
     "output_type": "stream",
     "text": [
      "=== SUMMARY STATISTICS ===\n",
      "       claim_amount  claim_amount_with_deductible  claim_amount_by_insurer\n",
      "count   2500.000000                   2500.000000              2500.000000\n",
      "mean     131.412664                     89.682040                61.883404\n",
      "std      158.855611                    153.500587               103.325938\n",
      "min        2.000000                      0.000000                 0.000000\n",
      "25%       36.067500                      0.000000                 0.000000\n",
      "50%       71.125000                     21.125000                14.787500\n",
      "75%      162.652500                    112.652500                78.856750\n",
      "max      991.000000                    941.000000               500.000000\n",
      "\n",
      "=== SKEWNESS OF SERIES ===\n",
      "claim_amount                    2.465065\n",
      "claim_amount_with_deductible    2.635603\n",
      "claim_amount_by_insurer         2.412770\n",
      "dtype: float64\n",
      "\n",
      "=== SUM OF SERIES ========\n",
      "claim_amount                    328531.660\n",
      "claim_amount_with_deductible    224205.100\n",
      "claim_amount_by_insurer         154708.511\n",
      "dtype: float64\n",
      "\n",
      "=== VARIANCE OF SERIES ===\n",
      "claim_amount                    25235.105180\n",
      "claim_amount_with_deductible    23562.430327\n",
      "claim_amount_by_insurer         10676.249418\n",
      "dtype: float64\n"
     ]
    },
    {
     "data": {
      "image/png": "[encoded data removed]",
      "text/plain": [
       "<Figure size 1152x432 with 1 Axes>"
      ]
     },
     "metadata": {
      "needs_background": "light"
     },
     "output_type": "display_data"
    }
   ],
   "source": [
    "# Uncomment and run the following lines of code to see the report.\n",
    "print(\"=== SUMMARY STATISTICS ===\")\n",
    "print(df.describe())\n",
    "print()\n",
    "print(\"=== SKEWNESS OF SERIES ===\")\n",
    "print(df.skew())\n",
    "print()\n",
    "print(\"=== SUM OF SERIES ========\")\n",
    "print(df[['claim_amount', 'claim_amount_with_deductible', 'claim_amount_by_insurer']].sum())\n",
    "print()\n",
    "print(\"=== VARIANCE OF SERIES ===\")\n",
    "print(df[['claim_amount', 'claim_amount_with_deductible', 'claim_amount_by_insurer']].var())\n",
    "\n",
    "#Uncomment and run the following lines to see the KDE plot for both series.\n",
    "fig3 = plt.figure(figsize=(16, 6))\n",
    "ax1 = fig3.add_subplot(111)\n",
    "sns.kdeplot(df['claim_amount'], shade=True, kernel='gau', bw=25, ax=ax1, color='red')\n",
    "sns.kdeplot(df['claim_amount_by_insurer'], shade=True, kernel='gau', bw=25, ax=ax1, color='purple')\n",
    "ax1.set_xlabel(\"claim_amount\")\n",
    "ax1.set_ylabel(\"density\")\n",
    "ax1.set_title(\"KDE plot of claim_amount, loss and paid by insurer\",fontsize=16)\n",
    "plt.show()\n",
    "\n",
    "# No additional code is required.\n",
    "# Answer the following questions:\n",
    "# Fill in the blanks with one of the following: deductible, co-payment, policy limit\n",
    "# The maximum of claim_amount_by_insurer is this equal to the policy limit."
   ]
  },
  {
   "cell_type": "markdown",
   "metadata": {},
   "source": [
    "**2 viii)** The definition of [moral hazard](https://www.investopedia.com/terms/m/moralhazard.asp). It states, with the application to property:\n",
    "\n",
    "> When a property owner obtains insurance on a property, the contract is based on the idea that the property owner will avoid situations that may damage the property. The **moral hazard** exists that the property owner, because of the availability of the insurance, may be less inclined to protect the property, since the payment from an insurance company lessens the burden on the property owner in the case of a disaster.\n",
    "\n",
    "Using the KDE plot and report in **2 vii)**, answer the following questions.\n",
    "\n",
    "**i)** When a traveller buys travel insurance for his/her trip, how does moral hazard exist? Explain by comparing how his / her behaviour changes when there is and when there isn't travel insurance for the trip.\n",
    "\n",
    "**ii)** By considering the burden of payment of both the insurer and insured, and using the concept of moral hazard, explain why an insurance company needs to implement a deductible, co-insurance and a policy limit for this travel insurance policy.\n",
    "\n",
    "**`[1]`** "
   ]
  },
  {
   "cell_type": "code",
   "execution_count": null,
   "metadata": {
    "ExecuteTime": {
     "end_time": "2018-09-29T11:21:11.531991Z",
     "start_time": "2018-09-29T11:21:11.527301Z"
    }
   },
   "outputs": [],
   "source": [
    "# No additional code is required.\n",
    "# Answer the following questions: When a traveller buys travel insurance for his/her \n",
    "# trip, how does moral hazard exist?\n",
    "# (Type your answer here)\n",
    "\n",
    "# Moral hazard exists because after buying the insurance, the traveller knows he will be covered \n",
    "# for his medical bills, thus he will be more inclined to take more risky activities."
   ]
  },
  {
   "cell_type": "code",
   "execution_count": 34,
   "metadata": {
    "ExecuteTime": {
     "end_time": "2018-09-29T11:21:11.541333Z",
     "start_time": "2018-09-29T11:21:11.536150Z"
    }
   },
   "outputs": [],
   "source": [
    "# No additional code is required.\n",
    "# Why does an insurance company need to implement a deductible, \n",
    "# co-insurance and a policy limit for this travel insurance policy.\n",
    "# (Type your answer here)\n",
    "\n",
    "# The insurance company needs to implement these because the property owner needs to bear some burden of the protection\n",
    "# of the property lest the full burden falls on the insurance company and the property owner simply chooses to claim\n",
    "# the amount instead of properly protecting himself from damage."
   ]
  },
  {
   "cell_type": "markdown",
   "metadata": {},
   "source": [
    "<div class=\"alert alert-success\">\n",
    "**Checkpoint**: When you have completed Part 2, upload your progress to eLearn. eLearn only accepts the latest notebooks so if you have an existing notebook, your latest upload will **override** it.\n",
    "</div>\n",
    "\n",
    "**Credits**\n",
    "- [healthcare.gov](https://www.healthcare.gov/glossary/) for the definitions of instruments\n",
    "- [Investopedia](https://www.investopedia.com/terms/m/moralhazard.asp) for the definitions\n",
    "- [TSA Claims Database](https://www.kaggle.com/terminal-security-agency/tsa-claims-database) for the dataset"
   ]
  }
 ],
 "metadata": {
  "kernelspec": {
   "display_name": "Python 3",
   "language": "python",
   "name": "python3"
  },
  "language_info": {
   "codemirror_mode": {
    "name": "ipython",
    "version": 3
   },
   "file_extension": ".py",
   "mimetype": "text/x-python",
   "name": "python",
   "nbconvert_exporter": "python",
   "pygments_lexer": "ipython3",
   "version": "3.7.3"
  }
 },
 "nbformat": 4,
 "nbformat_minor": 2
}
