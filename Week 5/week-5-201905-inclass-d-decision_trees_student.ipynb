{
 "cells": [
  {
   "cell_type": "markdown",
   "metadata": {},
   "source": [
    "### DS102 | In Class Practice Week 5D - Advanced ML Algorithms (Decision Tree)\n",
    "<hr>\n",
    "\n",
    "## Learning Objectives\n",
    "At the end of the lesson, you will be able to:\n",
    "\n",
    "- apply Decision Trees to a Classification Problem\n",
    "\n",
    "**Datasets required:**\n",
    "\n",
    "- `diabetes-500.csv` from [UCI ML Repository (Adapted by Susan Li)](https://raw.githubusercontent.com/susanli2016/Machine-Learning-with-Python/master/diabetes.csv)"
   ]
  },
  {
   "cell_type": "markdown",
   "metadata": {},
   "source": [
    "Import the libraries & settings. Look at all the libraries we are importing for this notebook!"
   ]
  },
  {
   "cell_type": "code",
   "execution_count": 2,
   "metadata": {
    "ExecuteTime": {
     "end_time": "2019-06-01T04:00:01.413943Z",
     "start_time": "2019-06-01T04:00:00.474643Z"
    }
   },
   "outputs": [],
   "source": [
    "import re\n",
    "\n",
    "import numpy as np\n",
    "import pandas as pd\n",
    "import matplotlib.pyplot as plt\n",
    "import seaborn as sns\n",
    "# from graphviz import Source # For creating the visualisation of the decision tree\n",
    "\n",
    "from scipy.stats import entropy\n",
    "from sklearn.tree import DecisionTreeClassifier\n",
    "from sklearn import tree\n",
    "from sklearn.model_selection import train_test_split\n",
    "from sklearn.metrics import confusion_matrix\n",
    "from sklearn.metrics import accuracy_score\n",
    "\n",
    "#Settings\n",
    "%matplotlib inline\n",
    "pd.options.display.float_format = '{:.2f}'.format\n",
    "# np.set_printoptions(threshold=np.nan)\n",
    "sns.set()"
   ]
  },
  {
   "cell_type": "markdown",
   "metadata": {},
   "source": [
    "## Entropy\n",
    "\n",
    "The Shannon Entropy of a multi-classification problem is\n",
    "\n",
    "$$\n",
    "-\\sum_{i=1}^{k} p_i \\log(p_i) \n",
    "$$\n",
    "\n",
    "where $p_i$ is the probability of the event $i$, $\\log$ represents the natural logarithm `np.log` and there are $k$ possible events in total. The higher the entropy, the less information we know about each draw.\n",
    "\n",
    "A bag has 6 balls.\n",
    "\n",
    "- Bag $a$ has 6 red balls\n",
    "- Bag $b$ has 1 red ball, 2 yellow balls, 2 green balls and 1 orange ball\n",
    "- Bag $c$ has 3 red balls and 3 yellow balls\n",
    "\n",
    "\n",
    "Construct `a`, `b` and `c` as a list of probabilities. They are representations of each bag. Which bag is expected to have the lowest Shannon's entropy with respect to drawing 1 ball from a bag?"
   ]
  },
  {
   "cell_type": "code",
   "execution_count": 4,
   "metadata": {
    "ExecuteTime": {
     "end_time": "2019-06-01T04:00:01.421645Z",
     "start_time": "2019-06-01T04:00:01.416197Z"
    }
   },
   "outputs": [
    {
     "name": "stdout",
     "output_type": "stream",
     "text": [
      "0.0\n"
     ]
    }
   ],
   "source": [
    "# Bag a\n",
    "a = [6/6]\n",
    "\n",
    "# Entropy calculation using sp.stats.entropy\n",
    "print(entropy(a))"
   ]
  },
  {
   "cell_type": "code",
   "execution_count": 6,
   "metadata": {
    "ExecuteTime": {
     "end_time": "2019-06-01T04:00:01.433232Z",
     "start_time": "2019-06-01T04:00:01.424548Z"
    }
   },
   "outputs": [
    {
     "name": "stdout",
     "output_type": "stream",
     "text": [
      "1.3296613488547582\n"
     ]
    }
   ],
   "source": [
    "# Bag b\n",
    "b = [1/6, 2/6, 2/6, 1/6]\n",
    "\n",
    "# Entropy calculation using sp.stats.entropy\n",
    "print(entropy(b))"
   ]
  },
  {
   "cell_type": "code",
   "execution_count": 7,
   "metadata": {
    "ExecuteTime": {
     "end_time": "2019-06-01T04:00:01.444647Z",
     "start_time": "2019-06-01T04:00:01.437733Z"
    }
   },
   "outputs": [
    {
     "name": "stdout",
     "output_type": "stream",
     "text": [
      "0.6931471805599453\n"
     ]
    }
   ],
   "source": [
    "# Bag c\n",
    "# Exercise: Construct the list of probabilities for c\n",
    "c = [3/6, 3/6]\n",
    "\n",
    "# Entropy calculation using sp.stats.entropy\n",
    "print(entropy(c))"
   ]
  },
  {
   "cell_type": "markdown",
   "metadata": {},
   "source": [
    "<div class=\"alert alert-warning\">\n",
    "Additional notes: You can calculate the Shannon entropy of each of the bags using `np.log()`\n",
    "</div>"
   ]
  },
  {
   "cell_type": "code",
   "execution_count": 8,
   "metadata": {
    "ExecuteTime": {
     "end_time": "2019-06-01T04:00:01.453365Z",
     "start_time": "2019-06-01T04:00:01.447801Z"
    }
   },
   "outputs": [
    {
     "name": "stdout",
     "output_type": "stream",
     "text": [
      "0.0\n"
     ]
    }
   ],
   "source": [
    "# Entropy calculation using np.log for a, b and c\n",
    "\n",
    "# This is for a\n",
    "ent_a = 0\n",
    "for p in a:\n",
    "    ent_a = ent_a + (-p*np.log(p))\n",
    "print(ent_a)"
   ]
  },
  {
   "cell_type": "code",
   "execution_count": 9,
   "metadata": {
    "ExecuteTime": {
     "end_time": "2019-06-01T04:00:01.461548Z",
     "start_time": "2019-06-01T04:00:01.456521Z"
    }
   },
   "outputs": [
    {
     "name": "stdout",
     "output_type": "stream",
     "text": [
      "1.3296613488547582\n"
     ]
    }
   ],
   "source": [
    "# This is for b\n",
    "ent_b = 0.0\n",
    "for p in b:\n",
    "    ent_b = ent_b + (-p*np.log(p))\n",
    "print(ent_b)"
   ]
  },
  {
   "cell_type": "code",
   "execution_count": 10,
   "metadata": {
    "ExecuteTime": {
     "end_time": "2019-06-01T04:00:01.470872Z",
     "start_time": "2019-06-01T04:00:01.465364Z"
    }
   },
   "outputs": [
    {
     "name": "stdout",
     "output_type": "stream",
     "text": [
      "0.6931471805599453\n"
     ]
    }
   ],
   "source": [
    "# This is for c\n",
    "# You can use a list comprehension notation to do so.\n",
    "print(sum([-p*np.log(p) for p in c]))"
   ]
  },
  {
   "cell_type": "markdown",
   "metadata": {},
   "source": [
    "### Read from CSV File & Exploratory Data Analysis\n",
    "Read `diabetes-500.csv` into `df`."
   ]
  },
  {
   "cell_type": "code",
   "execution_count": 12,
   "metadata": {
    "ExecuteTime": {
     "end_time": "2019-06-01T04:00:01.612450Z",
     "start_time": "2019-06-01T04:00:01.474318Z"
    },
    "scrolled": false
   },
   "outputs": [
    {
     "data": {
      "text/html": [
       "<div>\n",
       "<style scoped>\n",
       "    .dataframe tbody tr th:only-of-type {\n",
       "        vertical-align: middle;\n",
       "    }\n",
       "\n",
       "    .dataframe tbody tr th {\n",
       "        vertical-align: top;\n",
       "    }\n",
       "\n",
       "    .dataframe thead th {\n",
       "        text-align: right;\n",
       "    }\n",
       "</style>\n",
       "<table border=\"1\" class=\"dataframe\">\n",
       "  <thead>\n",
       "    <tr style=\"text-align: right;\">\n",
       "      <th></th>\n",
       "      <th>Pregnancies</th>\n",
       "      <th>Glucose</th>\n",
       "      <th>BloodPressure</th>\n",
       "      <th>SkinThickness</th>\n",
       "      <th>Insulin</th>\n",
       "      <th>BMI</th>\n",
       "      <th>DiabetesPedigreeFunction</th>\n",
       "      <th>Age</th>\n",
       "      <th>Outcome</th>\n",
       "    </tr>\n",
       "  </thead>\n",
       "  <tbody>\n",
       "    <tr>\n",
       "      <th>0</th>\n",
       "      <td>0</td>\n",
       "      <td>141</td>\n",
       "      <td>84</td>\n",
       "      <td>26</td>\n",
       "      <td>0</td>\n",
       "      <td>32.40</td>\n",
       "      <td>0.43</td>\n",
       "      <td>22</td>\n",
       "      <td>0</td>\n",
       "    </tr>\n",
       "    <tr>\n",
       "      <th>1</th>\n",
       "      <td>4</td>\n",
       "      <td>83</td>\n",
       "      <td>86</td>\n",
       "      <td>19</td>\n",
       "      <td>0</td>\n",
       "      <td>29.30</td>\n",
       "      <td>0.32</td>\n",
       "      <td>34</td>\n",
       "      <td>0</td>\n",
       "    </tr>\n",
       "    <tr>\n",
       "      <th>2</th>\n",
       "      <td>1</td>\n",
       "      <td>128</td>\n",
       "      <td>82</td>\n",
       "      <td>17</td>\n",
       "      <td>183</td>\n",
       "      <td>27.50</td>\n",
       "      <td>0.12</td>\n",
       "      <td>22</td>\n",
       "      <td>0</td>\n",
       "    </tr>\n",
       "    <tr>\n",
       "      <th>3</th>\n",
       "      <td>9</td>\n",
       "      <td>112</td>\n",
       "      <td>82</td>\n",
       "      <td>32</td>\n",
       "      <td>175</td>\n",
       "      <td>34.20</td>\n",
       "      <td>0.26</td>\n",
       "      <td>36</td>\n",
       "      <td>1</td>\n",
       "    </tr>\n",
       "    <tr>\n",
       "      <th>4</th>\n",
       "      <td>2</td>\n",
       "      <td>71</td>\n",
       "      <td>70</td>\n",
       "      <td>27</td>\n",
       "      <td>0</td>\n",
       "      <td>28.00</td>\n",
       "      <td>0.59</td>\n",
       "      <td>22</td>\n",
       "      <td>0</td>\n",
       "    </tr>\n",
       "  </tbody>\n",
       "</table>\n",
       "</div>"
      ],
      "text/plain": [
       "   Pregnancies  Glucose  BloodPressure  SkinThickness  Insulin   BMI  \\\n",
       "0            0      141             84             26        0 32.40   \n",
       "1            4       83             86             19        0 29.30   \n",
       "2            1      128             82             17      183 27.50   \n",
       "3            9      112             82             32      175 34.20   \n",
       "4            2       71             70             27        0 28.00   \n",
       "\n",
       "   DiabetesPedigreeFunction  Age  Outcome  \n",
       "0                      0.43   22        0  \n",
       "1                      0.32   34        0  \n",
       "2                      0.12   22        0  \n",
       "3                      0.26   36        1  \n",
       "4                      0.59   22        0  "
      ]
     },
     "metadata": {},
     "output_type": "display_data"
    },
    {
     "name": "stdout",
     "output_type": "stream",
     "text": [
      "<class 'pandas.core.frame.DataFrame'>\n",
      "RangeIndex: 500 entries, 0 to 499\n",
      "Data columns (total 9 columns):\n",
      "Pregnancies                 500 non-null int64\n",
      "Glucose                     500 non-null int64\n",
      "BloodPressure               500 non-null int64\n",
      "SkinThickness               500 non-null int64\n",
      "Insulin                     500 non-null int64\n",
      "BMI                         500 non-null float64\n",
      "DiabetesPedigreeFunction    500 non-null float64\n",
      "Age                         500 non-null int64\n",
      "Outcome                     500 non-null int64\n",
      "dtypes: float64(2), int64(7)\n",
      "memory usage: 35.2 KB\n",
      "None\n"
     ]
    },
    {
     "data": {
      "text/html": [
       "<div>\n",
       "<style scoped>\n",
       "    .dataframe tbody tr th:only-of-type {\n",
       "        vertical-align: middle;\n",
       "    }\n",
       "\n",
       "    .dataframe tbody tr th {\n",
       "        vertical-align: top;\n",
       "    }\n",
       "\n",
       "    .dataframe thead th {\n",
       "        text-align: right;\n",
       "    }\n",
       "</style>\n",
       "<table border=\"1\" class=\"dataframe\">\n",
       "  <thead>\n",
       "    <tr style=\"text-align: right;\">\n",
       "      <th></th>\n",
       "      <th>Pregnancies</th>\n",
       "      <th>Glucose</th>\n",
       "      <th>BloodPressure</th>\n",
       "      <th>SkinThickness</th>\n",
       "      <th>Insulin</th>\n",
       "      <th>BMI</th>\n",
       "      <th>DiabetesPedigreeFunction</th>\n",
       "      <th>Age</th>\n",
       "      <th>Outcome</th>\n",
       "    </tr>\n",
       "  </thead>\n",
       "  <tbody>\n",
       "    <tr>\n",
       "      <th>count</th>\n",
       "      <td>500.00</td>\n",
       "      <td>500.00</td>\n",
       "      <td>500.00</td>\n",
       "      <td>500.00</td>\n",
       "      <td>500.00</td>\n",
       "      <td>500.00</td>\n",
       "      <td>500.00</td>\n",
       "      <td>500.00</td>\n",
       "      <td>500.00</td>\n",
       "    </tr>\n",
       "    <tr>\n",
       "      <th>mean</th>\n",
       "      <td>3.78</td>\n",
       "      <td>121.10</td>\n",
       "      <td>70.21</td>\n",
       "      <td>21.00</td>\n",
       "      <td>82.01</td>\n",
       "      <td>32.14</td>\n",
       "      <td>0.48</td>\n",
       "      <td>33.24</td>\n",
       "      <td>0.35</td>\n",
       "    </tr>\n",
       "    <tr>\n",
       "      <th>std</th>\n",
       "      <td>3.28</td>\n",
       "      <td>33.52</td>\n",
       "      <td>17.59</td>\n",
       "      <td>16.01</td>\n",
       "      <td>116.37</td>\n",
       "      <td>7.46</td>\n",
       "      <td>0.34</td>\n",
       "      <td>11.88</td>\n",
       "      <td>0.48</td>\n",
       "    </tr>\n",
       "    <tr>\n",
       "      <th>min</th>\n",
       "      <td>0.00</td>\n",
       "      <td>0.00</td>\n",
       "      <td>0.00</td>\n",
       "      <td>0.00</td>\n",
       "      <td>0.00</td>\n",
       "      <td>0.00</td>\n",
       "      <td>0.08</td>\n",
       "      <td>21.00</td>\n",
       "      <td>0.00</td>\n",
       "    </tr>\n",
       "    <tr>\n",
       "      <th>25%</th>\n",
       "      <td>1.00</td>\n",
       "      <td>99.00</td>\n",
       "      <td>64.00</td>\n",
       "      <td>0.00</td>\n",
       "      <td>0.00</td>\n",
       "      <td>27.48</td>\n",
       "      <td>0.25</td>\n",
       "      <td>24.00</td>\n",
       "      <td>0.00</td>\n",
       "    </tr>\n",
       "    <tr>\n",
       "      <th>50%</th>\n",
       "      <td>3.00</td>\n",
       "      <td>117.00</td>\n",
       "      <td>72.00</td>\n",
       "      <td>23.00</td>\n",
       "      <td>36.00</td>\n",
       "      <td>32.00</td>\n",
       "      <td>0.38</td>\n",
       "      <td>29.00</td>\n",
       "      <td>0.00</td>\n",
       "    </tr>\n",
       "    <tr>\n",
       "      <th>75%</th>\n",
       "      <td>6.00</td>\n",
       "      <td>142.00</td>\n",
       "      <td>80.00</td>\n",
       "      <td>33.00</td>\n",
       "      <td>132.75</td>\n",
       "      <td>36.32</td>\n",
       "      <td>0.63</td>\n",
       "      <td>41.00</td>\n",
       "      <td>1.00</td>\n",
       "    </tr>\n",
       "    <tr>\n",
       "      <th>max</th>\n",
       "      <td>17.00</td>\n",
       "      <td>199.00</td>\n",
       "      <td>114.00</td>\n",
       "      <td>99.00</td>\n",
       "      <td>744.00</td>\n",
       "      <td>67.10</td>\n",
       "      <td>2.42</td>\n",
       "      <td>81.00</td>\n",
       "      <td>1.00</td>\n",
       "    </tr>\n",
       "  </tbody>\n",
       "</table>\n",
       "</div>"
      ],
      "text/plain": [
       "       Pregnancies  Glucose  BloodPressure  SkinThickness  Insulin    BMI  \\\n",
       "count       500.00   500.00         500.00         500.00   500.00 500.00   \n",
       "mean          3.78   121.10          70.21          21.00    82.01  32.14   \n",
       "std           3.28    33.52          17.59          16.01   116.37   7.46   \n",
       "min           0.00     0.00           0.00           0.00     0.00   0.00   \n",
       "25%           1.00    99.00          64.00           0.00     0.00  27.48   \n",
       "50%           3.00   117.00          72.00          23.00    36.00  32.00   \n",
       "75%           6.00   142.00          80.00          33.00   132.75  36.32   \n",
       "max          17.00   199.00         114.00          99.00   744.00  67.10   \n",
       "\n",
       "       DiabetesPedigreeFunction    Age  Outcome  \n",
       "count                    500.00 500.00   500.00  \n",
       "mean                       0.48  33.24     0.35  \n",
       "std                        0.34  11.88     0.48  \n",
       "min                        0.08  21.00     0.00  \n",
       "25%                        0.25  24.00     0.00  \n",
       "50%                        0.38  29.00     0.00  \n",
       "75%                        0.63  41.00     1.00  \n",
       "max                        2.42  81.00     1.00  "
      ]
     },
     "metadata": {},
     "output_type": "display_data"
    }
   ],
   "source": [
    "df = pd.read_csv('diabetes-500.csv')\n",
    "display(df.head())\n",
    "print(df.info())\n",
    "display(df.describe(include='all'))"
   ]
  },
  {
   "cell_type": "markdown",
   "metadata": {},
   "source": [
    "**Revision Exercise**: Using `df.groupby()`, create a df called `df_outcome` where the first column contains the unique values for `Outcome` and the second column, `n` contains the number of patients for each `Outcome` value."
   ]
  },
  {
   "cell_type": "code",
   "execution_count": 15,
   "metadata": {
    "ExecuteTime": {
     "end_time": "2019-06-01T04:00:01.638092Z",
     "start_time": "2019-06-01T04:00:01.615905Z"
    },
    "scrolled": true
   },
   "outputs": [
    {
     "data": {
      "text/html": [
       "<div>\n",
       "<style scoped>\n",
       "    .dataframe tbody tr th:only-of-type {\n",
       "        vertical-align: middle;\n",
       "    }\n",
       "\n",
       "    .dataframe tbody tr th {\n",
       "        vertical-align: top;\n",
       "    }\n",
       "\n",
       "    .dataframe thead th {\n",
       "        text-align: right;\n",
       "    }\n",
       "</style>\n",
       "<table border=\"1\" class=\"dataframe\">\n",
       "  <thead>\n",
       "    <tr style=\"text-align: right;\">\n",
       "      <th></th>\n",
       "      <th>Outcome</th>\n",
       "      <th>n</th>\n",
       "    </tr>\n",
       "  </thead>\n",
       "  <tbody>\n",
       "    <tr>\n",
       "      <th>0</th>\n",
       "      <td>0</td>\n",
       "      <td>326</td>\n",
       "    </tr>\n",
       "    <tr>\n",
       "      <th>1</th>\n",
       "      <td>1</td>\n",
       "      <td>174</td>\n",
       "    </tr>\n",
       "  </tbody>\n",
       "</table>\n",
       "</div>"
      ],
      "text/plain": [
       "   Outcome    n\n",
       "0        0  326\n",
       "1        1  174"
      ]
     },
     "metadata": {},
     "output_type": "display_data"
    }
   ],
   "source": [
    "# Using groupby, find out the number of reviews with\n",
    "# positive and negative sentiment respectively.\n",
    "df_outcome = df.groupby('Outcome').size()\n",
    "df_outcome = df_outcome.reset_index(name= 'n')\n",
    "display(df_outcome)"
   ]
  },
  {
   "cell_type": "markdown",
   "metadata": {},
   "source": [
    "**Revision Exercise:**: Plot a bar graph where the $x$-axis contains the different values of `Outcome` and the $y$-axis is the number of patients for that outcome, or `n`."
   ]
  },
  {
   "cell_type": "code",
   "execution_count": 16,
   "metadata": {
    "ExecuteTime": {
     "end_time": "2019-06-01T04:00:01.978742Z",
     "start_time": "2019-06-01T04:00:01.641536Z"
    }
   },
   "outputs": [
    {
     "data": {
      "image/png": "[encoded data removed]",
      "text/plain": [
       "<Figure size 864x432 with 1 Axes>"
      ]
     },
     "metadata": {},
     "output_type": "display_data"
    }
   ],
   "source": [
    "fig = plt.figure(figsize=(12,6))\n",
    "ax = fig.add_subplot(111)\n",
    "\n",
    "# Exercise: Plot the bar graph counting the number of patients for each outcome.\n",
    "# Use color='steelblue' as a parameter.\n",
    "#\n",
    "\n",
    "# Additional parameters are given to you.\n",
    "ax.set_title(\"No. of patients who developed diabetes\", fontsize=14)\n",
    "ax.set_ylabel(\"No. of Patients\")\n",
    "ax.set_xticks(np.arange(0,2))\n",
    "ax.set_xticklabels([\"No Diabetes\", \"Has Diabetes\"], fontsize=12)\n",
    "plt.show()"
   ]
  },
  {
   "cell_type": "markdown",
   "metadata": {
    "ExecuteTime": {
     "end_time": "2019-06-01T02:56:27.474494Z",
     "start_time": "2019-06-01T02:56:27.467751Z"
    }
   },
   "source": [
    "<hr>\n",
    "We are now ready to perform the training of the model."
   ]
  },
  {
   "cell_type": "markdown",
   "metadata": {},
   "source": [
    "### Decision Trees: Problem Statement\n",
    "\n",
    "Given the different health indicators of a new patient, classify whether the patient is likely to develop diabetes."
   ]
  },
  {
   "cell_type": "markdown",
   "metadata": {},
   "source": [
    "### Create $\\textbf{X}$ and $\\textbf{y}$, the input variables and target variable\n",
    "\n",
    "Declare `X` to represent $\\textbf{X}$ that contains all the input variables in the model and `y` to represent $\\textbf{y}$ which is the target variable, whether the patient has diabetes or not. \n",
    "\n",
    "Note: `X` must be a `DataFrame` and `y` must be a `Series`."
   ]
  },
  {
   "cell_type": "code",
   "execution_count": 17,
   "metadata": {
    "ExecuteTime": {
     "end_time": "2019-06-01T04:00:01.987316Z",
     "start_time": "2019-06-01T04:00:01.981676Z"
    }
   },
   "outputs": [],
   "source": [
    "# The columns in the df are:\n",
    "# 'Pregnancies', 'Glucose', 'BloodPressure', \n",
    "# 'SkinThickness', 'Insulin', 'BMI', 'DiabetesPedigreeFunction', \n",
    "# 'Age', 'Outcome'. Use this to help you.\n",
    "\n",
    "# Declare X and y\n",
    "X = df [[\n",
    "    'Pregnancies', 'Glucose', 'BloodPressure', \n",
    "'SkinThickness', 'Insulin', 'BMI', 'DiabetesPedigreeFunction', \n",
    "'Age', 'Outcome']]\n",
    "\n",
    "y = df['Outcome']"
   ]
  },
  {
   "cell_type": "markdown",
   "metadata": {},
   "source": [
    "### Train-Test Split\n",
    "Use `sklearn.model_selection.train_test_split` to split your dataset into two groups - the **training set** and the **test set**. For this example, we set the **test set** to be $20\\%$ of the whole dataset."
   ]
  },
  {
   "cell_type": "code",
   "execution_count": 20,
   "metadata": {
    "ExecuteTime": {
     "end_time": "2019-06-01T04:00:01.999126Z",
     "start_time": "2019-06-01T04:00:01.990725Z"
    }
   },
   "outputs": [],
   "source": [
    "# Perform train-test split\n",
    "X_train, X_test, y_train, y_text = train_test_split(X, y, \n",
    "                                                    test_size=0.2, \n",
    "                                                    random_state=0)"
   ]
  },
  {
   "cell_type": "markdown",
   "metadata": {},
   "source": [
    "### TRAIN\n",
    "\n",
    "Use `model = DecisionTreeClassifier(criterion=\"entropy\")` to instantiate the model. Then, use `model.fit(X, y)` to train the model using the training set."
   ]
  },
  {
   "cell_type": "code",
   "execution_count": 22,
   "metadata": {
    "ExecuteTime": {
     "end_time": "2019-06-01T04:00:02.012560Z",
     "start_time": "2019-06-01T04:00:02.001764Z"
    }
   },
   "outputs": [
    {
     "data": {
      "text/plain": [
       "DecisionTreeClassifier(class_weight=None, criterion='entropy', max_depth=None,\n",
       "            max_features=None, max_leaf_nodes=None,\n",
       "            min_impurity_decrease=0.0, min_impurity_split=None,\n",
       "            min_samples_leaf=1, min_samples_split=2,\n",
       "            min_weight_fraction_leaf=0.0, presort=False, random_state=None,\n",
       "            splitter='best')"
      ]
     },
     "execution_count": 22,
     "metadata": {},
     "output_type": "execute_result"
    }
   ],
   "source": [
    "# Create the model\n",
    "model = DecisionTreeClassifier(criterion='entropy')\n",
    "\n",
    "# Use the fit() function to train the decision tree model on the training set\n",
    "model.fit(X,y)"
   ]
  },
  {
   "cell_type": "markdown",
   "metadata": {},
   "source": [
    "### PREDICT ON TEST SET\n",
    "\n",
    "With the trained model, use `model.predict(X)` to obtain the predicted classes for each sample in the test set."
   ]
  },
  {
   "cell_type": "code",
   "execution_count": 23,
   "metadata": {
    "ExecuteTime": {
     "end_time": "2019-06-01T04:00:02.021324Z",
     "start_time": "2019-06-01T04:00:02.015908Z"
    }
   },
   "outputs": [
    {
     "name": "stdout",
     "output_type": "stream",
     "text": [
      "[0 1 0 0 0 0 1 0 1 0 1 0 0 0 0 1 0 1 1 0 0 1 0 0 1 1 0 1 1 0 0 0 0 0 0 0 1\n",
      " 0 1 0 0 1 1 1 0 0 0 0 0 0 0 0 0 0 0 0 0 0 0 1 1 0 0 0 1 0 0 0 1 0 0 0 0 1\n",
      " 0 0 0 1 0 1 1 1 1 1 0 1 0 0 0 1 0 1 1 0 0 0 1 0 0 1]\n"
     ]
    }
   ],
   "source": [
    "# Use the model to predict the outcome on the test set\n",
    "y_pred = model.predict(X_test)\n",
    "print(y_pred)"
   ]
  },
  {
   "cell_type": "code",
   "execution_count": 24,
   "metadata": {
    "ExecuteTime": {
     "end_time": "2019-06-01T04:00:02.038178Z",
     "start_time": "2019-06-01T04:00:02.024743Z"
    }
   },
   "outputs": [
    {
     "ename": "NameError",
     "evalue": "name 'y_test' is not defined",
     "output_type": "error",
     "traceback": [
      "\u001b[1;31m---------------------------------------------------------------------------\u001b[0m",
      "\u001b[1;31mNameError\u001b[0m                                 Traceback (most recent call last)",
      "\u001b[1;32m<ipython-input-24-a9d0b387998f>\u001b[0m in \u001b[0;36m<module>\u001b[1;34m\u001b[0m\n\u001b[0;32m      1\u001b[0m \u001b[1;31m# Find the confusion matrix of the result\u001b[0m\u001b[1;33m\u001b[0m\u001b[1;33m\u001b[0m\u001b[1;33m\u001b[0m\u001b[0m\n\u001b[1;32m----> 2\u001b[1;33m \u001b[0mcm\u001b[0m \u001b[1;33m=\u001b[0m \u001b[0mconfusion_matrix\u001b[0m\u001b[1;33m(\u001b[0m\u001b[0my_test\u001b[0m\u001b[1;33m,\u001b[0m \u001b[0my_pred\u001b[0m\u001b[1;33m)\u001b[0m\u001b[1;33m\u001b[0m\u001b[1;33m\u001b[0m\u001b[0m\n\u001b[0m\u001b[0;32m      3\u001b[0m \u001b[0mprint\u001b[0m\u001b[1;33m(\u001b[0m\u001b[0mcm\u001b[0m\u001b[1;33m)\u001b[0m\u001b[1;33m\u001b[0m\u001b[1;33m\u001b[0m\u001b[0m\n\u001b[0;32m      4\u001b[0m \u001b[1;33m\u001b[0m\u001b[0m\n\u001b[0;32m      5\u001b[0m \u001b[1;31m# Find the accuracy score of the result\u001b[0m\u001b[1;33m\u001b[0m\u001b[1;33m\u001b[0m\u001b[1;33m\u001b[0m\u001b[0m\n",
      "\u001b[1;31mNameError\u001b[0m: name 'y_test' is not defined"
     ]
    }
   ],
   "source": [
    "# Find the confusion matrix of the result\n",
    "cm = confusion_matrix(y_test, y_pred)\n",
    "print(cm)\n",
    "\n",
    "# Find the accuracy score of the result\n",
    "asr = accuracy_score(y_test, y_pred)\n",
    "print(asr)"
   ]
  },
  {
   "cell_type": "markdown",
   "metadata": {},
   "source": [
    "### PREDICT\n",
    "\n",
    "Use `model.predict()` to predict for a new patient not seen in the training set."
   ]
  },
  {
   "cell_type": "code",
   "execution_count": null,
   "metadata": {
    "ExecuteTime": {
     "end_time": "2019-06-01T04:00:02.065311Z",
     "start_time": "2019-06-01T04:00:02.043293Z"
    }
   },
   "outputs": [],
   "source": [
    "# The columns in the original df are:\n",
    "# 'Pregnancies', 'Glucose', 'BloodPressure', \n",
    "# 'SkinThickness', 'Insulin', 'BMI', 'DiabetesPedigreeFunction', \n",
    "# 'Age', 'Outcome'. Use this to help you.\n",
    "diabetes_features = ['Pregnancies', 'Glucose', 'BloodPressure', \n",
    "                     'SkinThickness', 'Insulin', 'BMI', 'DiabetesPedigreeFunction', \n",
    "                     'Age',]\n",
    "new_patient_df = pd.DataFrame([[7,196,90,0,0,39.8,0.451,41]], columns=diabetes_features)\n",
    "display(new_patient_df)\n",
    "\n",
    "# Use model.predict() to predict the label\n",
    "#"
   ]
  },
  {
   "cell_type": "markdown",
   "metadata": {},
   "source": [
    "## Pruning\n",
    "\n",
    "### TRAIN\n",
    "\n",
    "Use `model = DecisionTreeClassifier(criterion=\"entropy\")` to instantiate the model. Then, use `model.fit(X, y)` to train the model using the training set. To perform pruning, set `max_depth=3`."
   ]
  },
  {
   "cell_type": "code",
   "execution_count": null,
   "metadata": {
    "ExecuteTime": {
     "end_time": "2019-06-01T04:00:02.078267Z",
     "start_time": "2019-06-01T04:00:02.068428Z"
    },
    "scrolled": false
   },
   "outputs": [],
   "source": [
    "# Create the model\n",
    "#\n",
    "\n",
    "# Use the fit() function to train the decision tree model on the training set\n",
    "#"
   ]
  },
  {
   "cell_type": "markdown",
   "metadata": {},
   "source": [
    "### PREDICT ON TEST SET"
   ]
  },
  {
   "cell_type": "code",
   "execution_count": null,
   "metadata": {
    "ExecuteTime": {
     "end_time": "2019-06-01T04:00:02.087028Z",
     "start_time": "2019-06-01T04:00:02.081686Z"
    }
   },
   "outputs": [],
   "source": [
    "# Get the predicted y array\n",
    "#"
   ]
  },
  {
   "cell_type": "code",
   "execution_count": null,
   "metadata": {
    "ExecuteTime": {
     "end_time": "2019-06-01T04:00:02.108466Z",
     "start_time": "2019-06-01T04:00:02.090124Z"
    },
    "scrolled": true
   },
   "outputs": [],
   "source": [
    "# Find the confusion matrix of the result\n",
    "cm = confusion_matrix(y_test, y_pred)\n",
    "print(cm)\n",
    "\n",
    "# Find the accuracy score of the result\n",
    "asr = accuracy_score(y_test, y_pred)\n",
    "print(asr)"
   ]
  },
  {
   "cell_type": "markdown",
   "metadata": {},
   "source": [
    "### PREDICT\n",
    "\n",
    "Use `model.predict()` to predict for a new patient not seen in the training set."
   ]
  },
  {
   "cell_type": "code",
   "execution_count": null,
   "metadata": {
    "ExecuteTime": {
     "end_time": "2019-06-01T04:00:02.135952Z",
     "start_time": "2019-06-01T04:00:02.111993Z"
    }
   },
   "outputs": [],
   "source": [
    "# The columns in the original df are:\n",
    "# 'Pregnancies', 'Glucose', 'BloodPressure', \n",
    "# 'SkinThickness', 'Insulin', 'BMI', 'DiabetesPedigreeFunction', \n",
    "# 'Age', 'Outcome'. Use this to help you.\n",
    "diabetes_features = ['Pregnancies', 'Glucose', 'BloodPressure', \n",
    "                     'SkinThickness', 'Insulin', 'BMI', 'DiabetesPedigreeFunction', \n",
    "                     'Age',]\n",
    "new_patient_df = pd.DataFrame([[7,196,90,0,0,39.8,0.451,41]], columns=diabetes_features)\n",
    "display(new_patient_df)\n",
    "\n",
    "# Use model.predict() to predict the label\n",
    "#"
   ]
  },
  {
   "cell_type": "markdown",
   "metadata": {},
   "source": [
    "<hr>\n",
    "<center>$\\diamond$</center>\n",
    "### Further Exploration: Determine Feature Importance"
   ]
  },
  {
   "cell_type": "code",
   "execution_count": null,
   "metadata": {
    "ExecuteTime": {
     "end_time": "2019-06-01T04:00:02.149792Z",
     "start_time": "2019-06-01T04:00:02.139938Z"
    },
    "scrolled": true
   },
   "outputs": [],
   "source": [
    "# Find out the features that have the most importance\n",
    "print(\"Feature importances:\\n{}\".format(dtree_pruned_model.feature_importances_))"
   ]
  },
  {
   "cell_type": "code",
   "execution_count": null,
   "metadata": {
    "ExecuteTime": {
     "end_time": "2019-06-01T04:00:02.163908Z",
     "start_time": "2019-06-01T04:00:02.152584Z"
    },
    "scrolled": false
   },
   "outputs": [],
   "source": [
    "diabetes_features = [x for i,x in enumerate(df.columns) if i!=8]\n",
    "# Find the full list of features in the dataset\n",
    "print(diabetes_features)"
   ]
  },
  {
   "cell_type": "code",
   "execution_count": null,
   "metadata": {
    "ExecuteTime": {
     "end_time": "2019-06-01T04:00:02.491354Z",
     "start_time": "2019-06-01T04:00:02.167971Z"
    },
    "scrolled": false
   },
   "outputs": [],
   "source": [
    "feats_df = pd.DataFrame({'labels' : diabetes_features, 'values' : dtree_model.feature_importances_})\n",
    "display(feats_df)\n",
    "###\n",
    "fig = plt.figure(figsize=(9,6))\n",
    "ax = fig.add_subplot(111)\n",
    "\n",
    "# Exercise: Plot the bar graph counting the number of patients for each outcome.\n",
    "# Use color='steelblue' as a parameter.\n",
    "#\n",
    "feats_df.plot(kind='barh', x='labels', y='values', ax=ax, color='steelblue')\n",
    "\n",
    "# Additional parameters are given to you.\n",
    "ax.set_title(\"Feature Importance Plot for the Diabetes dataset\", fontsize=14)\n",
    "ax.set_xlabel(\"Feature importance\")\n",
    "ax.set_ylabel(\"Feature\")\n",
    "plt.show()"
   ]
  },
  {
   "cell_type": "markdown",
   "metadata": {},
   "source": [
    "### Further Exploration: Show the Visualisation of the Tree"
   ]
  },
  {
   "cell_type": "code",
   "execution_count": null,
   "metadata": {
    "ExecuteTime": {
     "end_time": "2019-06-01T04:00:02.500576Z",
     "start_time": "2019-06-01T04:00:02.494671Z"
    }
   },
   "outputs": [],
   "source": [
    "# graph = Source(tree.export_graphviz(dtree_pruned_model, out_file=None, feature_names=X.columns))\n",
    "# graph.view()"
   ]
  },
  {
   "cell_type": "markdown",
   "metadata": {},
   "source": [
    "**Credits:**\n",
    "- https://raw.githubusercontent.com/susanli2016/Machine-Learning-with-Python/master/diabetes.csv"
   ]
  }
 ],
 "metadata": {
  "kernelspec": {
   "display_name": "Python 3",
   "language": "python",
   "name": "python3"
  },
  "language_info": {
   "codemirror_mode": {
    "name": "ipython",
    "version": 3
   },
   "file_extension": ".py",
   "mimetype": "text/x-python",
   "name": "python",
   "nbconvert_exporter": "python",
   "pygments_lexer": "ipython3",
   "version": "3.7.3"
  }
 },
 "nbformat": 4,
 "nbformat_minor": 2
}
