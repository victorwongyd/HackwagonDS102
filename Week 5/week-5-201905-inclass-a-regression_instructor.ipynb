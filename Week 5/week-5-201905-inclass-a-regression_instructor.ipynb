{
 "cells": [
  {
   "cell_type": "markdown",
   "metadata": {},
   "source": [
    "### DS102 | In Class Practice Week 5A - Linear Regression\n",
    "<hr>\n",
    "\n",
    "## Learning Objectives\n",
    "At the end of the lesson, you will be able to:\n",
    "\n",
    "- appreciate that linear regression (Ordinary Least Squares / OLS) minimises the sum of squared errors\n",
    "\n",
    "- use OLS using `statsmodels.api`\n",
    "\n",
    "**Datasets required:**\n",
    "\n",
    "- `houses-100.csv`\n",
    "\n",
    "- `KX_test.csv`\n",
    "\n",
    "- `KX_train.csv`\n",
    "\n",
    "- `Ky_test.csv`\n",
    "\n",
    "- `Ky_train.csv`\n"
   ]
  },
  {
   "cell_type": "markdown",
   "metadata": {},
   "source": [
    "Import the libraries & settings"
   ]
  },
  {
   "cell_type": "code",
   "execution_count": 1,
   "metadata": {
    "ExecuteTime": {
     "end_time": "2019-06-01T05:49:22.944617Z",
     "start_time": "2019-06-01T05:49:21.781189Z"
    }
   },
   "outputs": [],
   "source": [
    "import pandas as pd\n",
    "import numpy as np\n",
    "import matplotlib.pyplot as plt\n",
    "import seaborn as sns\n",
    "%matplotlib inline\n",
    "\n",
    "import statsmodels.api as sm\n",
    "from sklearn.model_selection import train_test_split\n",
    "from sklearn.metrics import mean_squared_error\n",
    "\n",
    "pd.options.display.float_format = '{:,.2f}'.format\n",
    "sns.set()"
   ]
  },
  {
   "cell_type": "markdown",
   "metadata": {},
   "source": [
    "### Read from CSV File & Exploratory Data Analysis\n",
    "Read `housing-100.csv` into a `df`."
   ]
  },
  {
   "cell_type": "code",
   "execution_count": 2,
   "metadata": {
    "ExecuteTime": {
     "end_time": "2019-06-01T05:49:22.982786Z",
     "start_time": "2019-06-01T05:49:22.947046Z"
    },
    "scrolled": false
   },
   "outputs": [
    {
     "data": {
      "text/html": [
       "<div>\n",
       "<style scoped>\n",
       "    .dataframe tbody tr th:only-of-type {\n",
       "        vertical-align: middle;\n",
       "    }\n",
       "\n",
       "    .dataframe tbody tr th {\n",
       "        vertical-align: top;\n",
       "    }\n",
       "\n",
       "    .dataframe thead th {\n",
       "        text-align: right;\n",
       "    }\n",
       "</style>\n",
       "<table border=\"1\" class=\"dataframe\">\n",
       "  <thead>\n",
       "    <tr style=\"text-align: right;\">\n",
       "      <th></th>\n",
       "      <th>FloorArea</th>\n",
       "      <th>SalePrice</th>\n",
       "    </tr>\n",
       "  </thead>\n",
       "  <tbody>\n",
       "    <tr>\n",
       "      <th>0</th>\n",
       "      <td>1950</td>\n",
       "      <td>151000</td>\n",
       "    </tr>\n",
       "    <tr>\n",
       "      <th>1</th>\n",
       "      <td>7252</td>\n",
       "      <td>134900</td>\n",
       "    </tr>\n",
       "    <tr>\n",
       "      <th>2</th>\n",
       "      <td>4230</td>\n",
       "      <td>208900</td>\n",
       "    </tr>\n",
       "    <tr>\n",
       "      <th>3</th>\n",
       "      <td>9000</td>\n",
       "      <td>139000</td>\n",
       "    </tr>\n",
       "    <tr>\n",
       "      <th>4</th>\n",
       "      <td>1680</td>\n",
       "      <td>119500</td>\n",
       "    </tr>\n",
       "  </tbody>\n",
       "</table>\n",
       "</div>"
      ],
      "text/plain": [
       "   FloorArea  SalePrice\n",
       "0       1950     151000\n",
       "1       7252     134900\n",
       "2       4230     208900\n",
       "3       9000     139000\n",
       "4       1680     119500"
      ]
     },
     "metadata": {},
     "output_type": "display_data"
    },
    {
     "name": "stdout",
     "output_type": "stream",
     "text": [
      "<class 'pandas.core.frame.DataFrame'>\n",
      "RangeIndex: 100 entries, 0 to 99\n",
      "Data columns (total 2 columns):\n",
      "FloorArea    100 non-null int64\n",
      "SalePrice    100 non-null int64\n",
      "dtypes: int64(2)\n",
      "memory usage: 1.6 KB\n",
      "None\n"
     ]
    },
    {
     "data": {
      "text/html": [
       "<div>\n",
       "<style scoped>\n",
       "    .dataframe tbody tr th:only-of-type {\n",
       "        vertical-align: middle;\n",
       "    }\n",
       "\n",
       "    .dataframe tbody tr th {\n",
       "        vertical-align: top;\n",
       "    }\n",
       "\n",
       "    .dataframe thead th {\n",
       "        text-align: right;\n",
       "    }\n",
       "</style>\n",
       "<table border=\"1\" class=\"dataframe\">\n",
       "  <thead>\n",
       "    <tr style=\"text-align: right;\">\n",
       "      <th></th>\n",
       "      <th>FloorArea</th>\n",
       "      <th>SalePrice</th>\n",
       "    </tr>\n",
       "  </thead>\n",
       "  <tbody>\n",
       "    <tr>\n",
       "      <th>count</th>\n",
       "      <td>100.00</td>\n",
       "      <td>100.00</td>\n",
       "    </tr>\n",
       "    <tr>\n",
       "      <th>mean</th>\n",
       "      <td>8,776.57</td>\n",
       "      <td>168,467.89</td>\n",
       "    </tr>\n",
       "    <tr>\n",
       "      <th>std</th>\n",
       "      <td>3,453.48</td>\n",
       "      <td>64,472.20</td>\n",
       "    </tr>\n",
       "    <tr>\n",
       "      <th>min</th>\n",
       "      <td>1,680.00</td>\n",
       "      <td>52,000.00</td>\n",
       "    </tr>\n",
       "    <tr>\n",
       "      <th>25%</th>\n",
       "      <td>6,741.75</td>\n",
       "      <td>126,625.00</td>\n",
       "    </tr>\n",
       "    <tr>\n",
       "      <th>50%</th>\n",
       "      <td>8,400.00</td>\n",
       "      <td>154,000.00</td>\n",
       "    </tr>\n",
       "    <tr>\n",
       "      <th>75%</th>\n",
       "      <td>10,351.25</td>\n",
       "      <td>204,187.50</td>\n",
       "    </tr>\n",
       "    <tr>\n",
       "      <th>max</th>\n",
       "      <td>21,695.00</td>\n",
       "      <td>319,000.00</td>\n",
       "    </tr>\n",
       "  </tbody>\n",
       "</table>\n",
       "</div>"
      ],
      "text/plain": [
       "       FloorArea  SalePrice\n",
       "count     100.00     100.00\n",
       "mean    8,776.57 168,467.89\n",
       "std     3,453.48  64,472.20\n",
       "min     1,680.00  52,000.00\n",
       "25%     6,741.75 126,625.00\n",
       "50%     8,400.00 154,000.00\n",
       "75%    10,351.25 204,187.50\n",
       "max    21,695.00 319,000.00"
      ]
     },
     "metadata": {},
     "output_type": "display_data"
    }
   ],
   "source": [
    "df = pd.read_csv('housing-100.csv')\n",
    "display(df.head())\n",
    "print(df.info())\n",
    "display(df.describe(include='all'))"
   ]
  },
  {
   "cell_type": "markdown",
   "metadata": {},
   "source": [
    "**Revision Exercise**: Plot a scatter plot where the `FloorArea` is the **input feature** ($x$-axis) and the `SalePrice` is the **target variable** ($y$-axis)."
   ]
  },
  {
   "cell_type": "code",
   "execution_count": 3,
   "metadata": {
    "ExecuteTime": {
     "end_time": "2019-06-01T05:49:23.252885Z",
     "start_time": "2019-06-01T05:49:22.986027Z"
    },
    "scrolled": false
   },
   "outputs": [
    {
     "name": "stderr",
     "output_type": "stream",
     "text": [
      "'c' argument looks like a single numeric RGB or RGBA sequence, which should be avoided as value-mapping will have precedence in case its length matches with 'x' & 'y'.  Please use a 2-D array with a single row if you really want to specify the same RGB or RGBA value for all points.\n"
     ]
    },
    {
     "data": {
      "image/png": "[encoded data removed]",
      "text/plain": [
       "<Figure size 576x576 with 1 Axes>"
      ]
     },
     "metadata": {
      "needs_background": "light"
     },
     "output_type": "display_data"
    }
   ],
   "source": [
    "fig = plt.figure(figsize=(8,8))\n",
    "ax = fig.add_subplot(111)\n",
    "\n",
    "# Exercise: Plot the scatterplot for FloorArea and SalePrice\n",
    "#\n",
    "df.plot(kind='scatter', x='FloorArea', y='SalePrice', ax=ax)\n",
    "\n",
    "# Additional parameters are given to you.\n",
    "ax.set_title(\"Floor Area vs. Sale Price of Housing\", fontsize=14)\n",
    "ax.set_xlim(0, 25000, 250)\n",
    "ax.set_ylim(0, 350001, 25000)\n",
    "plt.show()"
   ]
  },
  {
   "cell_type": "markdown",
   "metadata": {},
   "source": [
    "<hr>\n",
    "We are now ready to perform the training of the model.\n",
    "\n",
    "### Linear Regression: Problem Statement\n",
    "\n",
    "Given the `FloorArea` of a house that has not been seen before, what is its predicted `SalePrice`, given the existing data given?"
   ]
  },
  {
   "cell_type": "markdown",
   "metadata": {},
   "source": [
    "### Create $\\textbf{X}$ and $\\textbf{y}$, the input variables and target variable\n",
    "\n",
    "Declare 2 variables, `X` to represent $\\textbf{X}$ the input variable and `y` to represent $\\textbf{y}$ the target variable. (Note that both $\\textbf{X}$ and $\\textbf{y}$ are bold to show they are a matrix and vector respectively.)\n",
    "\n",
    "Note: `X` must be a `DataFrame` and `y` must be a `Series`."
   ]
  },
  {
   "cell_type": "code",
   "execution_count": 4,
   "metadata": {
    "ExecuteTime": {
     "end_time": "2019-06-01T05:49:23.265597Z",
     "start_time": "2019-06-01T05:49:23.257471Z"
    }
   },
   "outputs": [],
   "source": [
    "# Declare X and y\n",
    "#\n",
    "X = df[['FloorArea']]\n",
    "y = df['SalePrice']"
   ]
  },
  {
   "cell_type": "markdown",
   "metadata": {},
   "source": [
    "### TRAIN\n",
    "\n",
    "Use `model = sm.OLS(y, X)` to instantiate the model. Then, use `results = model.fit()` to train the model using the training set."
   ]
  },
  {
   "cell_type": "code",
   "execution_count": 5,
   "metadata": {
    "ExecuteTime": {
     "end_time": "2019-06-01T05:49:23.289344Z",
     "start_time": "2019-06-01T05:49:23.269184Z"
    },
    "scrolled": false
   },
   "outputs": [
    {
     "data": {
      "text/html": [
       "<table class=\"simpletable\">\n",
       "<caption>OLS Regression Results</caption>\n",
       "<tr>\n",
       "  <th>Dep. Variable:</th>        <td>SalePrice</td>    <th>  R-squared:         </th> <td>   0.867</td>\n",
       "</tr>\n",
       "<tr>\n",
       "  <th>Model:</th>                   <td>OLS</td>       <th>  Adj. R-squared:    </th> <td>   0.866</td>\n",
       "</tr>\n",
       "<tr>\n",
       "  <th>Method:</th>             <td>Least Squares</td>  <th>  F-statistic:       </th> <td>   645.3</td>\n",
       "</tr>\n",
       "<tr>\n",
       "  <th>Date:</th>             <td>Sat, 01 Jun 2019</td> <th>  Prob (F-statistic):</th> <td>3.69e-45</td>\n",
       "</tr>\n",
       "<tr>\n",
       "  <th>Time:</th>                 <td>13:49:23</td>     <th>  Log-Likelihood:    </th> <td> -1251.3</td>\n",
       "</tr>\n",
       "<tr>\n",
       "  <th>No. Observations:</th>      <td>   100</td>      <th>  AIC:               </th> <td>   2505.</td>\n",
       "</tr>\n",
       "<tr>\n",
       "  <th>Df Residuals:</th>          <td>    99</td>      <th>  BIC:               </th> <td>   2507.</td>\n",
       "</tr>\n",
       "<tr>\n",
       "  <th>Df Model:</th>              <td>     1</td>      <th>                     </th>     <td> </td>   \n",
       "</tr>\n",
       "<tr>\n",
       "  <th>Covariance Type:</th>      <td>nonrobust</td>    <th>                     </th>     <td> </td>   \n",
       "</tr>\n",
       "</table>\n",
       "<table class=\"simpletable\">\n",
       "<tr>\n",
       "      <td></td>         <th>coef</th>     <th>std err</th>      <th>t</th>      <th>P>|t|</th>  <th>[0.025</th>    <th>0.975]</th>  \n",
       "</tr>\n",
       "<tr>\n",
       "  <th>FloorArea</th> <td>   17.8086</td> <td>    0.701</td> <td>   25.402</td> <td> 0.000</td> <td>   16.418</td> <td>   19.200</td>\n",
       "</tr>\n",
       "</table>\n",
       "<table class=\"simpletable\">\n",
       "<tr>\n",
       "  <th>Omnibus:</th>       <td> 5.147</td> <th>  Durbin-Watson:     </th> <td>   2.092</td>\n",
       "</tr>\n",
       "<tr>\n",
       "  <th>Prob(Omnibus):</th> <td> 0.076</td> <th>  Jarque-Bera (JB):  </th> <td>   5.113</td>\n",
       "</tr>\n",
       "<tr>\n",
       "  <th>Skew:</th>          <td> 0.334</td> <th>  Prob(JB):          </th> <td>  0.0776</td>\n",
       "</tr>\n",
       "<tr>\n",
       "  <th>Kurtosis:</th>      <td> 3.884</td> <th>  Cond. No.          </th> <td>    1.00</td>\n",
       "</tr>\n",
       "</table><br/><br/>Warnings:<br/>[1] Standard Errors assume that the covariance matrix of the errors is correctly specified."
      ],
      "text/plain": [
       "<class 'statsmodels.iolib.summary.Summary'>\n",
       "\"\"\"\n",
       "                            OLS Regression Results                            \n",
       "==============================================================================\n",
       "Dep. Variable:              SalePrice   R-squared:                       0.867\n",
       "Model:                            OLS   Adj. R-squared:                  0.866\n",
       "Method:                 Least Squares   F-statistic:                     645.3\n",
       "Date:                Sat, 01 Jun 2019   Prob (F-statistic):           3.69e-45\n",
       "Time:                        13:49:23   Log-Likelihood:                -1251.3\n",
       "No. Observations:                 100   AIC:                             2505.\n",
       "Df Residuals:                      99   BIC:                             2507.\n",
       "Df Model:                           1                                         \n",
       "Covariance Type:            nonrobust                                         \n",
       "==============================================================================\n",
       "                 coef    std err          t      P>|t|      [0.025      0.975]\n",
       "------------------------------------------------------------------------------\n",
       "FloorArea     17.8086      0.701     25.402      0.000      16.418      19.200\n",
       "==============================================================================\n",
       "Omnibus:                        5.147   Durbin-Watson:                   2.092\n",
       "Prob(Omnibus):                  0.076   Jarque-Bera (JB):                5.113\n",
       "Skew:                           0.334   Prob(JB):                       0.0776\n",
       "Kurtosis:                       3.884   Cond. No.                         1.00\n",
       "==============================================================================\n",
       "\n",
       "Warnings:\n",
       "[1] Standard Errors assume that the covariance matrix of the errors is correctly specified.\n",
       "\"\"\""
      ]
     },
     "execution_count": 5,
     "metadata": {},
     "output_type": "execute_result"
    }
   ],
   "source": [
    "# Create the Model\n",
    "#\n",
    "model = sm.OLS(y,X)\n",
    "\n",
    "# Train the model on the training set\n",
    "#\n",
    "results = model.fit()\n",
    "\n",
    "# Print the summary results\n",
    "#\n",
    "results.summary()"
   ]
  },
  {
   "cell_type": "markdown",
   "metadata": {},
   "source": [
    "There are many results of the `model.fit()` step. However, the results to know are:\n",
    "- `Dep Variable`, `No. Observations`, `R-Squared` and \n",
    "\n",
    "- `coef`, `t` and `P>|t|`."
   ]
  },
  {
   "cell_type": "markdown",
   "metadata": {},
   "source": [
    "### PREDICT ON TRAINING SET (Drawing the fitted line)\n",
    "\n",
    "We now attempt to plot the fitted line for the training set. Use `results.fittedvalues` to get the predicted `SalePrice` for all houses in the training set."
   ]
  },
  {
   "cell_type": "code",
   "execution_count": 6,
   "metadata": {
    "ExecuteTime": {
     "end_time": "2019-06-01T05:49:23.301780Z",
     "start_time": "2019-06-01T05:49:23.292359Z"
    }
   },
   "outputs": [
    {
     "data": {
      "text/plain": [
       "0    34,726.80\n",
       "1   129,148.09\n",
       "2    75,330.45\n",
       "3   160,277.55\n",
       "4    29,918.48\n",
       "dtype: float64"
      ]
     },
     "execution_count": 6,
     "metadata": {},
     "output_type": "execute_result"
    }
   ],
   "source": [
    "# Use results.fittedvalues to retrieve the fitted values \n",
    "#\n",
    "results.fittedvalues.head()"
   ]
  },
  {
   "cell_type": "markdown",
   "metadata": {},
   "source": [
    "Add this as a column in the original `df`."
   ]
  },
  {
   "cell_type": "code",
   "execution_count": 7,
   "metadata": {
    "ExecuteTime": {
     "end_time": "2019-06-01T05:49:23.310453Z",
     "start_time": "2019-06-01T05:49:23.304930Z"
    }
   },
   "outputs": [],
   "source": [
    "# Add the fitted values as a column in the df\n",
    "#\n",
    "df['fitted_SalePrice'] = results.fittedvalues"
   ]
  },
  {
   "cell_type": "markdown",
   "metadata": {},
   "source": [
    "Finally, plot the dataset and the fitted line."
   ]
  },
  {
   "cell_type": "code",
   "execution_count": 8,
   "metadata": {
    "ExecuteTime": {
     "end_time": "2019-06-01T05:49:23.606288Z",
     "start_time": "2019-06-01T05:49:23.314394Z"
    },
    "scrolled": false
   },
   "outputs": [
    {
     "data": {
      "image/png": "[encoded data removed]",
      "text/plain": [
       "<Figure size 576x576 with 1 Axes>"
      ]
     },
     "metadata": {},
     "output_type": "display_data"
    }
   ],
   "source": [
    "fig = plt.figure(figsize=(8,8))\n",
    "ax = fig.add_subplot(111)\n",
    "\n",
    "# Exercise: Plot the scatterplot for FloorArea and SalePrice\n",
    "#\n",
    "df.plot(kind='scatter', x='FloorArea', y='SalePrice', ax=ax)\n",
    "df.plot(kind='line', x='FloorArea', y='fitted_SalePrice', ax=ax, color='red')\n",
    "\n",
    "# Additional parameters are given to you.\n",
    "ax.set_title(\"Floor Area vs. Sale Price of Housing\", fontsize=14)\n",
    "ax.legend(['Fitted Line', 'Raw Values'])\n",
    "ax.set_title(\"Housing Price & Sales Data, raw data & fitted line\")\n",
    "ax.set_xlim(0, 25000, 250)\n",
    "ax.set_ylim(0, 400001, 25000)\n",
    "plt.show()"
   ]
  },
  {
   "cell_type": "markdown",
   "metadata": {},
   "source": [
    "### PREDICT\n",
    "**Q: ** If the floor area of a house is $20000$, what is the expected price of the house?\n",
    "\n",
    "First, create `X2`, containing the new values you want to use to predict."
   ]
  },
  {
   "cell_type": "code",
   "execution_count": 9,
   "metadata": {
    "ExecuteTime": {
     "end_time": "2019-06-01T05:49:23.619824Z",
     "start_time": "2019-06-01T05:49:23.609334Z"
    },
    "scrolled": true
   },
   "outputs": [
    {
     "data": {
      "text/html": [
       "<div>\n",
       "<style scoped>\n",
       "    .dataframe tbody tr th:only-of-type {\n",
       "        vertical-align: middle;\n",
       "    }\n",
       "\n",
       "    .dataframe tbody tr th {\n",
       "        vertical-align: top;\n",
       "    }\n",
       "\n",
       "    .dataframe thead th {\n",
       "        text-align: right;\n",
       "    }\n",
       "</style>\n",
       "<table border=\"1\" class=\"dataframe\">\n",
       "  <thead>\n",
       "    <tr style=\"text-align: right;\">\n",
       "      <th></th>\n",
       "      <th>FloorArea</th>\n",
       "    </tr>\n",
       "  </thead>\n",
       "  <tbody>\n",
       "    <tr>\n",
       "      <th>0</th>\n",
       "      <td>11000</td>\n",
       "    </tr>\n",
       "  </tbody>\n",
       "</table>\n",
       "</div>"
      ],
      "text/plain": [
       "   FloorArea\n",
       "0      11000"
      ]
     },
     "execution_count": 9,
     "metadata": {},
     "output_type": "execute_result"
    }
   ],
   "source": [
    "# First create X2 to represent the new house\n",
    "#\n",
    "X2 = pd.DataFrame({'FloorArea' : [11000]})\n",
    "X2"
   ]
  },
  {
   "cell_type": "markdown",
   "metadata": {},
   "source": [
    "Then, predict the price of this house using `results.predict()`."
   ]
  },
  {
   "cell_type": "code",
   "execution_count": 10,
   "metadata": {
    "ExecuteTime": {
     "end_time": "2019-06-01T05:49:23.631167Z",
     "start_time": "2019-06-01T05:49:23.622939Z"
    },
    "scrolled": true
   },
   "outputs": [
    {
     "data": {
      "text/plain": [
       "195894.7833791834"
      ]
     },
     "execution_count": 10,
     "metadata": {},
     "output_type": "execute_result"
    }
   ],
   "source": [
    "# Use results.predict(X2) to get the predicted house price\n",
    "#\n",
    "results.predict(X2).iloc[0]"
   ]
  },
  {
   "cell_type": "markdown",
   "metadata": {},
   "source": [
    "**Q: ** What is the expected price of a house with a floor area of $30000$?"
   ]
  },
  {
   "cell_type": "code",
   "execution_count": 11,
   "metadata": {
    "ExecuteTime": {
     "end_time": "2019-06-01T05:49:23.642585Z",
     "start_time": "2019-06-01T05:49:23.634063Z"
    },
    "scrolled": false
   },
   "outputs": [
    {
     "data": {
      "text/plain": [
       "534258.5001250457"
      ]
     },
     "execution_count": 11,
     "metadata": {},
     "output_type": "execute_result"
    }
   ],
   "source": [
    "# Exercise: What is the expected price of a house with floor area 30000?\n",
    "#\n",
    "X3 = pd.DataFrame({'FloorArea' : [30000]})\n",
    "results.predict(X3).iloc[0]"
   ]
  },
  {
   "cell_type": "markdown",
   "metadata": {},
   "source": [
    "<hr>\n",
    "<center>$\\diamond$</center>"
   ]
  },
  {
   "cell_type": "markdown",
   "metadata": {},
   "source": [
    "### Further Exploration - GOOG and AAPL Prices Best Fit Line\n",
    "\n",
    "Use the results of `sm.OLS()` to find the coefficients of the best fit line in Week 3's GOOG and AAPL scatter plot example."
   ]
  },
  {
   "cell_type": "code",
   "execution_count": 12,
   "metadata": {
    "ExecuteTime": {
     "end_time": "2019-06-01T05:49:23.660449Z",
     "start_time": "2019-06-01T05:49:23.645877Z"
    }
   },
   "outputs": [],
   "source": [
    "# Read from CSV\n",
    "goog_df, aapl_df = pd.read_csv('goog-close.csv'), pd.read_csv('aapl-close.csv') # Read from CSV\n",
    "merged_df = goog_df.merge(aapl_df, on='Date') # Create the merged DF, X and y\n",
    "stock_X, stock_Y = merged_df[['GOOG_Close']], merged_df['AAPL_Close']\n",
    "\n",
    "# Write the OLS fit step here\n",
    "#\n",
    "model2 = sm.OLS(stock_Y, stock_X) # Train model and get the fitted values\n",
    "merged_df['Predicted_AAPL_Close'] = model2.fit().fittedvalues"
   ]
  },
  {
   "cell_type": "code",
   "execution_count": 13,
   "metadata": {
    "ExecuteTime": {
     "end_time": "2019-06-01T05:49:24.019978Z",
     "start_time": "2019-06-01T05:49:23.662651Z"
    }
   },
   "outputs": [
    {
     "data": {
      "text/plain": [
       "Text(0.5,1,'GOOG Closing Price vs. AAPL Closing Price, Fitted & Actual')"
      ]
     },
     "execution_count": 13,
     "metadata": {},
     "output_type": "execute_result"
    },
    {
     "data": {
      "image/png": "[encoded data removed]",
      "text/plain": [
       "<Figure size 720x576 with 1 Axes>"
      ]
     },
     "metadata": {},
     "output_type": "display_data"
    }
   ],
   "source": [
    "# Plot the dataset and the fitted line for GOOG vs. AAPL here\n",
    "#\n",
    "fig = plt.figure(figsize=(10, 8))\n",
    "ax1 = fig.add_subplot(111)\n",
    "\n",
    "# Plot the scatter plot & fitted line\n",
    "merged_df.plot(kind='scatter', x='GOOG_Close', y='AAPL_Close', ax=ax1)\n",
    "merged_df.plot(kind='line', x='GOOG_Close', y='Predicted_AAPL_Close', ax=ax1, color='tomato')\n",
    "\n",
    "# Update the legend and add a title\n",
    "ax1.legend(['Fitted Line', 'Raw Values'])\n",
    "plt.title(\"GOOG Closing Price vs. AAPL Closing Price, Fitted & Actual\")"
   ]
  },
  {
   "cell_type": "markdown",
   "metadata": {},
   "source": [
    "### Further Exploration - Multivariate Regression\n",
    "\n",
    "In this example, you can extend the `ols` functionality to perform multivariate regression."
   ]
  },
  {
   "cell_type": "code",
   "execution_count": 14,
   "metadata": {
    "ExecuteTime": {
     "end_time": "2019-06-01T05:49:24.040046Z",
     "start_time": "2019-06-01T05:49:24.023179Z"
    },
    "scrolled": true
   },
   "outputs": [],
   "source": [
    "# Read from CSV the following files: KX_train, KX_test, Ky_train, Ky_test\n",
    "KX_train = pd.read_csv('KX_train.csv')\n",
    "KX_test = pd.read_csv('KX_test.csv')\n",
    "Ky_train = pd.read_csv('Ky_train.csv')\n",
    "Ky_test = pd.read_csv('Ky_test.csv')"
   ]
  },
  {
   "cell_type": "markdown",
   "metadata": {},
   "source": [
    "We believe that the price of a house is affected by the its size, whether it has a view and the age of the house. For both `KX_train` and `KX_test`, create a new column `age` where it is calculated using `2018 - df['yr_built']`."
   ]
  },
  {
   "cell_type": "code",
   "execution_count": 15,
   "metadata": {
    "ExecuteTime": {
     "end_time": "2019-06-01T05:49:24.050178Z",
     "start_time": "2019-06-01T05:49:24.042554Z"
    }
   },
   "outputs": [],
   "source": [
    "# Create the 'age' column for KX_train and KX_test\n",
    "#\n",
    "KX_train['age'] =  2018 - KX_train['yr_built'] \n",
    "KX_test['age'] = 2018 - KX_test['yr_built'] "
   ]
  },
  {
   "cell_type": "markdown",
   "metadata": {},
   "source": [
    "### TRAIN\n",
    "Now, build the multivariate regression model. There are 4 variables that will affect the price of the house:\n",
    "\n",
    "$$\n",
    "price = \\beta_1\\times sqft\\_living_i - \\beta_2\\times age_i + \\beta_3\\times floors_i + \\epsilon_i\n",
    "$$"
   ]
  },
  {
   "cell_type": "code",
   "execution_count": 16,
   "metadata": {
    "ExecuteTime": {
     "end_time": "2019-06-01T05:49:24.060956Z",
     "start_time": "2019-06-01T05:49:24.052767Z"
    }
   },
   "outputs": [],
   "source": [
    "feature_list = ['sqft_living', 'age', 'floors']\n",
    "\n",
    "# Build the X variables from KX_train and feature_list as the column list\n",
    "#\n",
    "KX_train = KX_train[feature_list]\n",
    "\n",
    "# Build the y variable\n",
    "#\n",
    "Ky_train = Ky_train['price']"
   ]
  },
  {
   "cell_type": "markdown",
   "metadata": {},
   "source": [
    "Create the model. In this case, similarly, parse the `X` and the `y` into the `sm.OLS()` function. Then print the summary results."
   ]
  },
  {
   "cell_type": "code",
   "execution_count": 17,
   "metadata": {
    "ExecuteTime": {
     "end_time": "2019-06-01T05:49:24.085097Z",
     "start_time": "2019-06-01T05:49:24.063165Z"
    },
    "scrolled": true
   },
   "outputs": [
    {
     "data": {
      "text/html": [
       "<table class=\"simpletable\">\n",
       "<caption>OLS Regression Results</caption>\n",
       "<tr>\n",
       "  <th>Dep. Variable:</th>          <td>price</td>      <th>  R-squared:         </th> <td>   0.851</td> \n",
       "</tr>\n",
       "<tr>\n",
       "  <th>Model:</th>                   <td>OLS</td>       <th>  Adj. R-squared:    </th> <td>   0.851</td> \n",
       "</tr>\n",
       "<tr>\n",
       "  <th>Method:</th>             <td>Least Squares</td>  <th>  F-statistic:       </th> <td>   7631.</td> \n",
       "</tr>\n",
       "<tr>\n",
       "  <th>Date:</th>             <td>Sat, 01 Jun 2019</td> <th>  Prob (F-statistic):</th>  <td>  0.00</td>  \n",
       "</tr>\n",
       "<tr>\n",
       "  <th>Time:</th>                 <td>13:49:24</td>     <th>  Log-Likelihood:    </th> <td> -55327.</td> \n",
       "</tr>\n",
       "<tr>\n",
       "  <th>No. Observations:</th>      <td>  4000</td>      <th>  AIC:               </th> <td>1.107e+05</td>\n",
       "</tr>\n",
       "<tr>\n",
       "  <th>Df Residuals:</th>          <td>  3997</td>      <th>  BIC:               </th> <td>1.107e+05</td>\n",
       "</tr>\n",
       "<tr>\n",
       "  <th>Df Model:</th>              <td>     3</td>      <th>                     </th>     <td> </td>    \n",
       "</tr>\n",
       "<tr>\n",
       "  <th>Covariance Type:</th>      <td>nonrobust</td>    <th>                     </th>     <td> </td>    \n",
       "</tr>\n",
       "</table>\n",
       "<table class=\"simpletable\">\n",
       "<tr>\n",
       "       <td></td>          <th>coef</th>     <th>std err</th>      <th>t</th>      <th>P>|t|</th>  <th>[0.025</th>    <th>0.975]</th>  \n",
       "</tr>\n",
       "<tr>\n",
       "  <th>sqft_living</th> <td>  247.9057</td> <td>    4.292</td> <td>   57.764</td> <td> 0.000</td> <td>  239.492</td> <td>  256.320</td>\n",
       "</tr>\n",
       "<tr>\n",
       "  <th>age</th>         <td> 1117.3410</td> <td>  101.420</td> <td>   11.017</td> <td> 0.000</td> <td>  918.502</td> <td> 1316.180</td>\n",
       "</tr>\n",
       "<tr>\n",
       "  <th>floors</th>      <td> -1.33e+04</td> <td> 6145.872</td> <td>   -2.164</td> <td> 0.031</td> <td>-2.53e+04</td> <td>-1248.879</td>\n",
       "</tr>\n",
       "</table>\n",
       "<table class=\"simpletable\">\n",
       "<tr>\n",
       "  <th>Omnibus:</th>       <td>2504.146</td> <th>  Durbin-Watson:     </th> <td>   1.979</td> \n",
       "</tr>\n",
       "<tr>\n",
       "  <th>Prob(Omnibus):</th>  <td> 0.000</td>  <th>  Jarque-Bera (JB):  </th> <td>47299.541</td>\n",
       "</tr>\n",
       "<tr>\n",
       "  <th>Skew:</th>           <td> 2.656</td>  <th>  Prob(JB):          </th> <td>    0.00</td> \n",
       "</tr>\n",
       "<tr>\n",
       "  <th>Kurtosis:</th>       <td>18.987</td>  <th>  Cond. No.          </th> <td>3.58e+03</td> \n",
       "</tr>\n",
       "</table><br/><br/>Warnings:<br/>[1] Standard Errors assume that the covariance matrix of the errors is correctly specified.<br/>[2] The condition number is large, 3.58e+03. This might indicate that there are<br/>strong multicollinearity or other numerical problems."
      ],
      "text/plain": [
       "<class 'statsmodels.iolib.summary.Summary'>\n",
       "\"\"\"\n",
       "                            OLS Regression Results                            \n",
       "==============================================================================\n",
       "Dep. Variable:                  price   R-squared:                       0.851\n",
       "Model:                            OLS   Adj. R-squared:                  0.851\n",
       "Method:                 Least Squares   F-statistic:                     7631.\n",
       "Date:                Sat, 01 Jun 2019   Prob (F-statistic):               0.00\n",
       "Time:                        13:49:24   Log-Likelihood:                -55327.\n",
       "No. Observations:                4000   AIC:                         1.107e+05\n",
       "Df Residuals:                    3997   BIC:                         1.107e+05\n",
       "Df Model:                           3                                         \n",
       "Covariance Type:            nonrobust                                         \n",
       "===============================================================================\n",
       "                  coef    std err          t      P>|t|      [0.025      0.975]\n",
       "-------------------------------------------------------------------------------\n",
       "sqft_living   247.9057      4.292     57.764      0.000     239.492     256.320\n",
       "age          1117.3410    101.420     11.017      0.000     918.502    1316.180\n",
       "floors       -1.33e+04   6145.872     -2.164      0.031   -2.53e+04   -1248.879\n",
       "==============================================================================\n",
       "Omnibus:                     2504.146   Durbin-Watson:                   1.979\n",
       "Prob(Omnibus):                  0.000   Jarque-Bera (JB):            47299.541\n",
       "Skew:                           2.656   Prob(JB):                         0.00\n",
       "Kurtosis:                      18.987   Cond. No.                     3.58e+03\n",
       "==============================================================================\n",
       "\n",
       "Warnings:\n",
       "[1] Standard Errors assume that the covariance matrix of the errors is correctly specified.\n",
       "[2] The condition number is large, 3.58e+03. This might indicate that there are\n",
       "strong multicollinearity or other numerical problems.\n",
       "\"\"\""
      ]
     },
     "execution_count": 17,
     "metadata": {},
     "output_type": "execute_result"
    }
   ],
   "source": [
    "# Create the Model\n",
    "#\n",
    "k_model = sm.OLS(Ky_train, KX_train)\n",
    "\n",
    "# Fit the dataset\n",
    "#\n",
    "k_results = k_model.fit()\n",
    "\n",
    "# Print the summary results\n",
    "#\n",
    "k_results.summary()"
   ]
  },
  {
   "cell_type": "markdown",
   "metadata": {},
   "source": [
    "### TEST\n",
    "\n",
    "From the model, you can now see the predictions by the coefficients. You can now perform predictions on a new house you have not seen before."
   ]
  },
  {
   "cell_type": "code",
   "execution_count": 18,
   "metadata": {
    "ExecuteTime": {
     "end_time": "2019-06-01T05:49:24.094737Z",
     "start_time": "2019-06-01T05:49:24.088056Z"
    },
    "scrolled": true
   },
   "outputs": [
    {
     "name": "stdout",
     "output_type": "stream",
     "text": [
      "sqft_living   2,110.00\n",
      "floors            1.00\n",
      "yr_built      2,013.00\n",
      "age               5.00\n",
      "Name: 499, dtype: float64\n",
      "\n"
     ]
    }
   ],
   "source": [
    "# Randomly pick a sample from KX_test\n",
    "#\n",
    "test_sample_index = np.random.randint(0, 999)\n",
    "print(KX_test.iloc[test_sample_index])\n",
    "print()"
   ]
  },
  {
   "cell_type": "code",
   "execution_count": 19,
   "metadata": {
    "ExecuteTime": {
     "end_time": "2019-06-01T05:49:24.106893Z",
     "start_time": "2019-06-01T05:49:24.097668Z"
    }
   },
   "outputs": [
    {
     "name": "stdout",
     "output_type": "stream",
     "text": [
      "499   515,369.52\n",
      "dtype: float64\n"
     ]
    }
   ],
   "source": [
    "# Print the predicted price of the house\n",
    "#\n",
    "Ky_predict = k_results.predict(pd.DataFrame(KX_test.iloc[test_sample_index][feature_list]).transpose())\n",
    "print(Ky_predict)"
   ]
  },
  {
   "cell_type": "code",
   "execution_count": 20,
   "metadata": {
    "ExecuteTime": {
     "end_time": "2019-06-01T05:49:24.115447Z",
     "start_time": "2019-06-01T05:49:24.110059Z"
    }
   },
   "outputs": [
    {
     "name": "stdout",
     "output_type": "stream",
     "text": [
      "604950\n"
     ]
    }
   ],
   "source": [
    "# Print the observed price of the house\n",
    "#\n",
    "print(Ky_test.iloc[test_sample_index]['price'])"
   ]
  },
  {
   "cell_type": "markdown",
   "metadata": {},
   "source": [
    "**Credits:**\n",
    "- https://www.kaggle.com/c/house-prices-advanced-regression-techniques/data\n",
    "- https://www.kaggle.com/andres111mejia/king-county-house-sales-split-dataset/kernels"
   ]
  }
 ],
 "metadata": {
  "kernelspec": {
   "display_name": "Python 3",
   "language": "python",
   "name": "python3"
  },
  "language_info": {
   "codemirror_mode": {
    "name": "ipython",
    "version": 3
   },
   "file_extension": ".py",
   "mimetype": "text/x-python",
   "name": "python",
   "nbconvert_exporter": "python",
   "pygments_lexer": "ipython3",
   "version": "3.7.3"
  }
 },
 "nbformat": 4,
 "nbformat_minor": 2
}
