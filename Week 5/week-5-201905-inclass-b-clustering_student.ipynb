{
 "cells": [
  {
   "cell_type": "markdown",
   "metadata": {},
   "source": [
    "### DS102 | In Class Practice Week 5B - Clustering Algorithms\n",
    "<hr>\n",
    "\n",
    "## Learning Objectives\n",
    "At the end of the lesson, you will be able to:\n",
    "\n",
    "- apply $k$-means algorithm to form clusters\n",
    "\n",
    "**Datasets required:**\n",
    "\n",
    "- `spotify-30.csv` from [Kaggle/Spotify](https://www.kaggle.com/nadintamer/top-tracks-of-2017)"
   ]
  },
  {
   "cell_type": "markdown",
   "metadata": {},
   "source": [
    "Import the libraries."
   ]
  },
  {
   "cell_type": "code",
   "execution_count": 1,
   "metadata": {
    "ExecuteTime": {
     "end_time": "2019-06-01T05:50:14.948256Z",
     "start_time": "2019-06-01T05:50:13.871159Z"
    }
   },
   "outputs": [],
   "source": [
    "import pandas as pd\n",
    "import matplotlib.pyplot as plt\n",
    "\n",
    "from sklearn.cluster import KMeans"
   ]
  },
  {
   "cell_type": "markdown",
   "metadata": {},
   "source": [
    "### Read from CSV File & Exploratory Data Analysis\n",
    "Read `spotify-30.csv` into `df`."
   ]
  },
  {
   "cell_type": "code",
   "execution_count": 3,
   "metadata": {
    "ExecuteTime": {
     "end_time": "2019-06-01T05:50:15.038293Z",
     "start_time": "2019-06-01T05:50:14.950596Z"
    },
    "scrolled": false
   },
   "outputs": [
    {
     "data": {
      "text/html": [
       "<div>\n",
       "<style scoped>\n",
       "    .dataframe tbody tr th:only-of-type {\n",
       "        vertical-align: middle;\n",
       "    }\n",
       "\n",
       "    .dataframe tbody tr th {\n",
       "        vertical-align: top;\n",
       "    }\n",
       "\n",
       "    .dataframe thead th {\n",
       "        text-align: right;\n",
       "    }\n",
       "</style>\n",
       "<table border=\"1\" class=\"dataframe\">\n",
       "  <thead>\n",
       "    <tr style=\"text-align: right;\">\n",
       "      <th></th>\n",
       "      <th>id</th>\n",
       "      <th>name</th>\n",
       "      <th>artists</th>\n",
       "      <th>danceability</th>\n",
       "      <th>energy</th>\n",
       "    </tr>\n",
       "  </thead>\n",
       "  <tbody>\n",
       "    <tr>\n",
       "      <th>0</th>\n",
       "      <td>6gBFPUFcJLzWGx4lenP6h</td>\n",
       "      <td>goosebumps</td>\n",
       "      <td>Travis Scott</td>\n",
       "      <td>0.841</td>\n",
       "      <td>0.728</td>\n",
       "    </tr>\n",
       "    <tr>\n",
       "      <th>1</th>\n",
       "      <td>6PCUP3dWmTjcTtXY02oFd</td>\n",
       "      <td>Castle on the Hill</td>\n",
       "      <td>Ed Sheeran</td>\n",
       "      <td>0.461</td>\n",
       "      <td>0.834</td>\n",
       "    </tr>\n",
       "    <tr>\n",
       "      <th>2</th>\n",
       "      <td>3eR23VReFzcdmS7TYCrhC</td>\n",
       "      <td>It Ain't Me (with Selena Gomez)</td>\n",
       "      <td>Kygo</td>\n",
       "      <td>0.640</td>\n",
       "      <td>0.533</td>\n",
       "    </tr>\n",
       "    <tr>\n",
       "      <th>3</th>\n",
       "      <td>0tKcYR2II1VCQWT79i5Nr</td>\n",
       "      <td>Thunder</td>\n",
       "      <td>Imagine Dragons</td>\n",
       "      <td>0.600</td>\n",
       "      <td>0.810</td>\n",
       "    </tr>\n",
       "    <tr>\n",
       "      <th>4</th>\n",
       "      <td>6DNtNfH8hXkqOX1sjqmI7</td>\n",
       "      <td>Cold Water (feat. Justin Bieber &amp; MØ)</td>\n",
       "      <td>Major Lazer</td>\n",
       "      <td>0.608</td>\n",
       "      <td>0.798</td>\n",
       "    </tr>\n",
       "  </tbody>\n",
       "</table>\n",
       "</div>"
      ],
      "text/plain": [
       "                      id                                   name  \\\n",
       "0  6gBFPUFcJLzWGx4lenP6h                             goosebumps   \n",
       "1  6PCUP3dWmTjcTtXY02oFd                     Castle on the Hill   \n",
       "2  3eR23VReFzcdmS7TYCrhC        It Ain't Me (with Selena Gomez)   \n",
       "3  0tKcYR2II1VCQWT79i5Nr                                Thunder   \n",
       "4  6DNtNfH8hXkqOX1sjqmI7  Cold Water (feat. Justin Bieber & MØ)   \n",
       "\n",
       "           artists  danceability  energy  \n",
       "0     Travis Scott         0.841   0.728  \n",
       "1       Ed Sheeran         0.461   0.834  \n",
       "2             Kygo         0.640   0.533  \n",
       "3  Imagine Dragons         0.600   0.810  \n",
       "4      Major Lazer         0.608   0.798  "
      ]
     },
     "metadata": {},
     "output_type": "display_data"
    },
    {
     "name": "stdout",
     "output_type": "stream",
     "text": [
      "<class 'pandas.core.frame.DataFrame'>\n",
      "RangeIndex: 30 entries, 0 to 29\n",
      "Data columns (total 5 columns):\n",
      "id              30 non-null object\n",
      "name            30 non-null object\n",
      "artists         30 non-null object\n",
      "danceability    30 non-null float64\n",
      "energy          30 non-null float64\n",
      "dtypes: float64(2), object(3)\n",
      "memory usage: 1.2+ KB\n",
      "None\n"
     ]
    },
    {
     "data": {
      "text/html": [
       "<div>\n",
       "<style scoped>\n",
       "    .dataframe tbody tr th:only-of-type {\n",
       "        vertical-align: middle;\n",
       "    }\n",
       "\n",
       "    .dataframe tbody tr th {\n",
       "        vertical-align: top;\n",
       "    }\n",
       "\n",
       "    .dataframe thead th {\n",
       "        text-align: right;\n",
       "    }\n",
       "</style>\n",
       "<table border=\"1\" class=\"dataframe\">\n",
       "  <thead>\n",
       "    <tr style=\"text-align: right;\">\n",
       "      <th></th>\n",
       "      <th>id</th>\n",
       "      <th>name</th>\n",
       "      <th>artists</th>\n",
       "      <th>danceability</th>\n",
       "      <th>energy</th>\n",
       "    </tr>\n",
       "  </thead>\n",
       "  <tbody>\n",
       "    <tr>\n",
       "      <th>count</th>\n",
       "      <td>30</td>\n",
       "      <td>30</td>\n",
       "      <td>30</td>\n",
       "      <td>30.000000</td>\n",
       "      <td>30.00000</td>\n",
       "    </tr>\n",
       "    <tr>\n",
       "      <th>unique</th>\n",
       "      <td>30</td>\n",
       "      <td>30</td>\n",
       "      <td>25</td>\n",
       "      <td>NaN</td>\n",
       "      <td>NaN</td>\n",
       "    </tr>\n",
       "    <tr>\n",
       "      <th>top</th>\n",
       "      <td>4pdPtRcBmOSQDlJ3Fk945</td>\n",
       "      <td>Passionfruit</td>\n",
       "      <td>Ed Sheeran</td>\n",
       "      <td>NaN</td>\n",
       "      <td>NaN</td>\n",
       "    </tr>\n",
       "    <tr>\n",
       "      <th>freq</th>\n",
       "      <td>1</td>\n",
       "      <td>1</td>\n",
       "      <td>3</td>\n",
       "      <td>NaN</td>\n",
       "      <td>NaN</td>\n",
       "    </tr>\n",
       "    <tr>\n",
       "      <th>mean</th>\n",
       "      <td>NaN</td>\n",
       "      <td>NaN</td>\n",
       "      <td>NaN</td>\n",
       "      <td>0.692400</td>\n",
       "      <td>0.65710</td>\n",
       "    </tr>\n",
       "    <tr>\n",
       "      <th>std</th>\n",
       "      <td>NaN</td>\n",
       "      <td>NaN</td>\n",
       "      <td>NaN</td>\n",
       "      <td>0.172497</td>\n",
       "      <td>0.13114</td>\n",
       "    </tr>\n",
       "    <tr>\n",
       "      <th>min</th>\n",
       "      <td>NaN</td>\n",
       "      <td>NaN</td>\n",
       "      <td>NaN</td>\n",
       "      <td>0.258000</td>\n",
       "      <td>0.43700</td>\n",
       "    </tr>\n",
       "    <tr>\n",
       "      <th>25%</th>\n",
       "      <td>NaN</td>\n",
       "      <td>NaN</td>\n",
       "      <td>NaN</td>\n",
       "      <td>0.599250</td>\n",
       "      <td>0.54425</td>\n",
       "    </tr>\n",
       "    <tr>\n",
       "      <th>50%</th>\n",
       "      <td>NaN</td>\n",
       "      <td>NaN</td>\n",
       "      <td>NaN</td>\n",
       "      <td>0.638500</td>\n",
       "      <td>0.65850</td>\n",
       "    </tr>\n",
       "    <tr>\n",
       "      <th>75%</th>\n",
       "      <td>NaN</td>\n",
       "      <td>NaN</td>\n",
       "      <td>NaN</td>\n",
       "      <td>0.838750</td>\n",
       "      <td>0.79150</td>\n",
       "    </tr>\n",
       "    <tr>\n",
       "      <th>max</th>\n",
       "      <td>NaN</td>\n",
       "      <td>NaN</td>\n",
       "      <td>NaN</td>\n",
       "      <td>0.927000</td>\n",
       "      <td>0.83400</td>\n",
       "    </tr>\n",
       "  </tbody>\n",
       "</table>\n",
       "</div>"
      ],
      "text/plain": [
       "                           id          name     artists  danceability  \\\n",
       "count                      30            30          30     30.000000   \n",
       "unique                     30            30          25           NaN   \n",
       "top     4pdPtRcBmOSQDlJ3Fk945  Passionfruit  Ed Sheeran           NaN   \n",
       "freq                        1             1           3           NaN   \n",
       "mean                      NaN           NaN         NaN      0.692400   \n",
       "std                       NaN           NaN         NaN      0.172497   \n",
       "min                       NaN           NaN         NaN      0.258000   \n",
       "25%                       NaN           NaN         NaN      0.599250   \n",
       "50%                       NaN           NaN         NaN      0.638500   \n",
       "75%                       NaN           NaN         NaN      0.838750   \n",
       "max                       NaN           NaN         NaN      0.927000   \n",
       "\n",
       "          energy  \n",
       "count   30.00000  \n",
       "unique       NaN  \n",
       "top          NaN  \n",
       "freq         NaN  \n",
       "mean     0.65710  \n",
       "std      0.13114  \n",
       "min      0.43700  \n",
       "25%      0.54425  \n",
       "50%      0.65850  \n",
       "75%      0.79150  \n",
       "max      0.83400  "
      ]
     },
     "metadata": {},
     "output_type": "display_data"
    }
   ],
   "source": [
    "df = pd.read_csv('spotify-30.csv')\n",
    "display(df.head())\n",
    "print(df.info())\n",
    "display(df.describe(include='all'))"
   ]
  },
  {
   "cell_type": "markdown",
   "metadata": {},
   "source": [
    "**Revision Exercise**: Plot a scatter plot where the $x$-axis is `danceability` and the $y$-axis is `energy`."
   ]
  },
  {
   "cell_type": "code",
   "execution_count": 5,
   "metadata": {
    "ExecuteTime": {
     "end_time": "2019-06-01T05:50:15.364069Z",
     "start_time": "2019-06-01T05:50:15.041927Z"
    },
    "scrolled": false
   },
   "outputs": [
    {
     "data": {
      "image/png": "[encoded data removed]",
      "text/plain": [
       "<Figure size 576x576 with 1 Axes>"
      ]
     },
     "metadata": {
      "needs_background": "light"
     },
     "output_type": "display_data"
    }
   ],
   "source": [
    "fig = plt.figure(figsize=(8,8))\n",
    "ax = fig.add_subplot(111)\n",
    "\n",
    "# Exercise: Plot the scatterplot for danceability and energy\n",
    "df.plot(kind = 'scatter', x = 'danceability', y = 'energy', ax=ax)\n",
    "\n",
    "# Additional parameters are given to you.\n",
    "ax.set_title(\"Danceability & Energy score of Spotify Songs\", fontsize=14)\n",
    "ax.grid(which='both')\n",
    "plt.show()"
   ]
  },
  {
   "cell_type": "markdown",
   "metadata": {},
   "source": [
    "<hr>\n",
    "It seems that there are 2 distinct clusters, one on the left and one on the right.  We are now ready to perform the training of the model."
   ]
  },
  {
   "cell_type": "markdown",
   "metadata": {
    "ExecuteTime": {
     "end_time": "2019-06-01T02:20:15.331532Z",
     "start_time": "2019-06-01T02:20:15.321559Z"
    }
   },
   "source": [
    "### $k$-means Clustering: Problem Statement\n",
    "\n",
    "Given the `danceability` and `energy` of songs from the top 100 list of Spotify songs, attempt to cluster them into 2 groups."
   ]
  },
  {
   "cell_type": "markdown",
   "metadata": {},
   "source": [
    "### Create $\\textbf{X}$\n",
    "\n",
    "Declare `X` to represent $\\textbf{X}$ the input variables. This is an unsupervised training algorithm. Hence there is no target variable $\\textbf{y}$."
   ]
  },
  {
   "cell_type": "code",
   "execution_count": 6,
   "metadata": {
    "ExecuteTime": {
     "end_time": "2019-06-01T05:50:15.376939Z",
     "start_time": "2019-06-01T05:50:15.369594Z"
    }
   },
   "outputs": [
    {
     "data": {
      "text/html": [
       "<div>\n",
       "<style scoped>\n",
       "    .dataframe tbody tr th:only-of-type {\n",
       "        vertical-align: middle;\n",
       "    }\n",
       "\n",
       "    .dataframe tbody tr th {\n",
       "        vertical-align: top;\n",
       "    }\n",
       "\n",
       "    .dataframe thead th {\n",
       "        text-align: right;\n",
       "    }\n",
       "</style>\n",
       "<table border=\"1\" class=\"dataframe\">\n",
       "  <thead>\n",
       "    <tr style=\"text-align: right;\">\n",
       "      <th></th>\n",
       "      <th>danceability</th>\n",
       "      <th>energy</th>\n",
       "    </tr>\n",
       "  </thead>\n",
       "  <tbody>\n",
       "    <tr>\n",
       "      <th>0</th>\n",
       "      <td>0.841</td>\n",
       "      <td>0.728</td>\n",
       "    </tr>\n",
       "    <tr>\n",
       "      <th>1</th>\n",
       "      <td>0.461</td>\n",
       "      <td>0.834</td>\n",
       "    </tr>\n",
       "    <tr>\n",
       "      <th>2</th>\n",
       "      <td>0.640</td>\n",
       "      <td>0.533</td>\n",
       "    </tr>\n",
       "  </tbody>\n",
       "</table>\n",
       "</div>"
      ],
      "text/plain": [
       "   danceability  energy\n",
       "0         0.841   0.728\n",
       "1         0.461   0.834\n",
       "2         0.640   0.533"
      ]
     },
     "execution_count": 6,
     "metadata": {},
     "output_type": "execute_result"
    }
   ],
   "source": [
    "input_cols = ['danceability','energy']\n",
    "# Declare X. Use input_cols to help you.\n",
    "X = df[input_cols]\n",
    "X.head(3)"
   ]
  },
  {
   "cell_type": "markdown",
   "metadata": {},
   "source": [
    "### TRAIN\n",
    "Use `model = KMeans(n_clusters=2, random_state=0)` to instantiate the model. Since 2 clusters are needed, set `n_clusters=2`. Next, use `model.fit(X)` to perform the clustering. "
   ]
  },
  {
   "cell_type": "code",
   "execution_count": 7,
   "metadata": {
    "ExecuteTime": {
     "end_time": "2019-06-01T05:50:15.422413Z",
     "start_time": "2019-06-01T05:50:15.386017Z"
    },
    "scrolled": true
   },
   "outputs": [
    {
     "name": "stdout",
     "output_type": "stream",
     "text": [
      "KMeans(algorithm='auto', copy_x=True, init='k-means++', max_iter=300,\n",
      "    n_clusters=2, n_init=10, n_jobs=None, precompute_distances='auto',\n",
      "    random_state=0, tol=0.0001, verbose=0)\n"
     ]
    }
   ],
   "source": [
    "# Create the model\n",
    "model = KMeans(n_clusters=2, random_state = 0)\n",
    "\n",
    "# Use the fit() function to get the assigninment using the 2 clusters\n",
    "results=model.fit(X)\n",
    "\n",
    "# print() the result in kmeans\n",
    "print(results)"
   ]
  },
  {
   "cell_type": "markdown",
   "metadata": {},
   "source": [
    "Use `kmeans.labels_` to get the cluster label for every classified song in the training set."
   ]
  },
  {
   "cell_type": "code",
   "execution_count": 8,
   "metadata": {
    "ExecuteTime": {
     "end_time": "2019-06-01T05:50:15.436552Z",
     "start_time": "2019-06-01T05:50:15.427620Z"
    }
   },
   "outputs": [
    {
     "data": {
      "text/plain": [
       "array([0, 1, 1, 1, 1, 0, 1, 0, 1, 1, 1, 0, 0, 1, 0, 0, 1, 0, 0, 0, 1, 1,\n",
       "       0, 1, 0, 1, 0, 1, 1, 0])"
      ]
     },
     "execution_count": 8,
     "metadata": {},
     "output_type": "execute_result"
    }
   ],
   "source": [
    "# print() kmeans.labels_ to see the clustering output for every observation\n",
    "results.labels_"
   ]
  },
  {
   "cell_type": "markdown",
   "metadata": {},
   "source": [
    "The above is the results of the clustering. Now, attach these cluster labels back to a copy of the `df`. Create a copy of the `df` called `X_results`. In `X_results`, create a new column called `label` and store the resultant label in this column."
   ]
  },
  {
   "cell_type": "code",
   "execution_count": 10,
   "metadata": {
    "ExecuteTime": {
     "end_time": "2019-06-01T05:52:34.455829Z",
     "start_time": "2019-06-01T05:52:34.451305Z"
    }
   },
   "outputs": [
    {
     "data": {
      "text/html": [
       "<div>\n",
       "<style scoped>\n",
       "    .dataframe tbody tr th:only-of-type {\n",
       "        vertical-align: middle;\n",
       "    }\n",
       "\n",
       "    .dataframe tbody tr th {\n",
       "        vertical-align: top;\n",
       "    }\n",
       "\n",
       "    .dataframe thead th {\n",
       "        text-align: right;\n",
       "    }\n",
       "</style>\n",
       "<table border=\"1\" class=\"dataframe\">\n",
       "  <thead>\n",
       "    <tr style=\"text-align: right;\">\n",
       "      <th></th>\n",
       "      <th>predicted_label</th>\n",
       "    </tr>\n",
       "  </thead>\n",
       "  <tbody>\n",
       "    <tr>\n",
       "      <th>0</th>\n",
       "      <td>0</td>\n",
       "    </tr>\n",
       "    <tr>\n",
       "      <th>1</th>\n",
       "      <td>1</td>\n",
       "    </tr>\n",
       "    <tr>\n",
       "      <th>2</th>\n",
       "      <td>1</td>\n",
       "    </tr>\n",
       "  </tbody>\n",
       "</table>\n",
       "</div>"
      ],
      "text/plain": [
       "   predicted_label\n",
       "0                0\n",
       "1                1\n",
       "2                1"
      ]
     },
     "metadata": {},
     "output_type": "display_data"
    },
    {
     "data": {
      "text/html": [
       "<div>\n",
       "<style scoped>\n",
       "    .dataframe tbody tr th:only-of-type {\n",
       "        vertical-align: middle;\n",
       "    }\n",
       "\n",
       "    .dataframe tbody tr th {\n",
       "        vertical-align: top;\n",
       "    }\n",
       "\n",
       "    .dataframe thead th {\n",
       "        text-align: right;\n",
       "    }\n",
       "</style>\n",
       "<table border=\"1\" class=\"dataframe\">\n",
       "  <thead>\n",
       "    <tr style=\"text-align: right;\">\n",
       "      <th></th>\n",
       "      <th>id</th>\n",
       "      <th>name</th>\n",
       "      <th>artists</th>\n",
       "      <th>danceability</th>\n",
       "      <th>energy</th>\n",
       "    </tr>\n",
       "  </thead>\n",
       "  <tbody>\n",
       "    <tr>\n",
       "      <th>0</th>\n",
       "      <td>6gBFPUFcJLzWGx4lenP6h</td>\n",
       "      <td>goosebumps</td>\n",
       "      <td>Travis Scott</td>\n",
       "      <td>0.841</td>\n",
       "      <td>0.728</td>\n",
       "    </tr>\n",
       "    <tr>\n",
       "      <th>1</th>\n",
       "      <td>6PCUP3dWmTjcTtXY02oFd</td>\n",
       "      <td>Castle on the Hill</td>\n",
       "      <td>Ed Sheeran</td>\n",
       "      <td>0.461</td>\n",
       "      <td>0.834</td>\n",
       "    </tr>\n",
       "    <tr>\n",
       "      <th>2</th>\n",
       "      <td>3eR23VReFzcdmS7TYCrhC</td>\n",
       "      <td>It Ain't Me (with Selena Gomez)</td>\n",
       "      <td>Kygo</td>\n",
       "      <td>0.640</td>\n",
       "      <td>0.533</td>\n",
       "    </tr>\n",
       "  </tbody>\n",
       "</table>\n",
       "</div>"
      ],
      "text/plain": [
       "                      id                             name       artists  \\\n",
       "0  6gBFPUFcJLzWGx4lenP6h                       goosebumps  Travis Scott   \n",
       "1  6PCUP3dWmTjcTtXY02oFd               Castle on the Hill    Ed Sheeran   \n",
       "2  3eR23VReFzcdmS7TYCrhC  It Ain't Me (with Selena Gomez)          Kygo   \n",
       "\n",
       "   danceability  energy  \n",
       "0         0.841   0.728  \n",
       "1         0.461   0.834  \n",
       "2         0.640   0.533  "
      ]
     },
     "metadata": {},
     "output_type": "display_data"
    }
   ],
   "source": [
    "# Create a df with one column 'label', and its values are kmeans.labels_\n",
    "df_labels = pd.DataFrame({'predicted_label' : results.labels_})\n",
    "display(df_labels.head(3))\n",
    "display(df.head(3))"
   ]
  },
  {
   "cell_type": "markdown",
   "metadata": {},
   "source": [
    "We can merge the results in `X_results` with the original `df` to check the respective label of each song."
   ]
  },
  {
   "cell_type": "code",
   "execution_count": 12,
   "metadata": {
    "ExecuteTime": {
     "end_time": "2019-06-01T05:52:41.957753Z",
     "start_time": "2019-06-01T05:52:41.939415Z"
    },
    "scrolled": false
   },
   "outputs": [],
   "source": [
    "df['predicted_label'] = results.labels_\n"
   ]
  },
  {
   "cell_type": "markdown",
   "metadata": {},
   "source": [
    "**Exercise**: Filter for all songs with label $0$. Do the same for label $1$."
   ]
  },
  {
   "cell_type": "code",
   "execution_count": 17,
   "metadata": {
    "ExecuteTime": {
     "end_time": "2019-06-01T05:54:26.986937Z",
     "start_time": "2019-06-01T05:54:26.966207Z"
    }
   },
   "outputs": [
    {
     "data": {
      "text/html": [
       "<div>\n",
       "<style scoped>\n",
       "    .dataframe tbody tr th:only-of-type {\n",
       "        vertical-align: middle;\n",
       "    }\n",
       "\n",
       "    .dataframe tbody tr th {\n",
       "        vertical-align: top;\n",
       "    }\n",
       "\n",
       "    .dataframe thead th {\n",
       "        text-align: right;\n",
       "    }\n",
       "</style>\n",
       "<table border=\"1\" class=\"dataframe\">\n",
       "  <thead>\n",
       "    <tr style=\"text-align: right;\">\n",
       "      <th></th>\n",
       "      <th>id</th>\n",
       "      <th>name</th>\n",
       "      <th>artists</th>\n",
       "      <th>danceability</th>\n",
       "      <th>energy</th>\n",
       "      <th>predicted_label</th>\n",
       "    </tr>\n",
       "  </thead>\n",
       "  <tbody>\n",
       "    <tr>\n",
       "      <th>0</th>\n",
       "      <td>6gBFPUFcJLzWGx4lenP6h</td>\n",
       "      <td>goosebumps</td>\n",
       "      <td>Travis Scott</td>\n",
       "      <td>0.841</td>\n",
       "      <td>0.728</td>\n",
       "      <td>0</td>\n",
       "    </tr>\n",
       "    <tr>\n",
       "      <th>5</th>\n",
       "      <td>1a5Yu5L18qNxVhXx38njO</td>\n",
       "      <td>Hear Me Now</td>\n",
       "      <td>Alok</td>\n",
       "      <td>0.789</td>\n",
       "      <td>0.442</td>\n",
       "      <td>0</td>\n",
       "    </tr>\n",
       "    <tr>\n",
       "      <th>7</th>\n",
       "      <td>79cuOz3SPQTuFrp8WgftA</td>\n",
       "      <td>There's Nothing Holdin' Me Back</td>\n",
       "      <td>Shawn Mendes</td>\n",
       "      <td>0.857</td>\n",
       "      <td>0.800</td>\n",
       "      <td>0</td>\n",
       "    </tr>\n",
       "    <tr>\n",
       "      <th>11</th>\n",
       "      <td>0KKkJNfGyhkQ5aFogxQAP</td>\n",
       "      <td>That's What I Like</td>\n",
       "      <td>Bruno Mars</td>\n",
       "      <td>0.853</td>\n",
       "      <td>0.560</td>\n",
       "      <td>0</td>\n",
       "    </tr>\n",
       "    <tr>\n",
       "      <th>12</th>\n",
       "      <td>3QwBODjSEzelZyVjxPOHd</td>\n",
       "      <td>Otra Vez (feat. J Balvin)</td>\n",
       "      <td>Zion &amp; Lennox</td>\n",
       "      <td>0.832</td>\n",
       "      <td>0.772</td>\n",
       "      <td>0</td>\n",
       "    </tr>\n",
       "  </tbody>\n",
       "</table>\n",
       "</div>"
      ],
      "text/plain": [
       "                       id                             name        artists  \\\n",
       "0   6gBFPUFcJLzWGx4lenP6h                       goosebumps   Travis Scott   \n",
       "5   1a5Yu5L18qNxVhXx38njO                      Hear Me Now           Alok   \n",
       "7   79cuOz3SPQTuFrp8WgftA  There's Nothing Holdin' Me Back   Shawn Mendes   \n",
       "11  0KKkJNfGyhkQ5aFogxQAP               That's What I Like     Bruno Mars   \n",
       "12  3QwBODjSEzelZyVjxPOHd        Otra Vez (feat. J Balvin)  Zion & Lennox   \n",
       "\n",
       "    danceability  energy  predicted_label  \n",
       "0          0.841   0.728                0  \n",
       "5          0.789   0.442                0  \n",
       "7          0.857   0.800                0  \n",
       "11         0.853   0.560                0  \n",
       "12         0.832   0.772                0  "
      ]
     },
     "metadata": {},
     "output_type": "display_data"
    }
   ],
   "source": [
    "# Exercise: Display all songs in class 0\n",
    "display(df[df['predicted_label'] == 0].head())"
   ]
  },
  {
   "cell_type": "code",
   "execution_count": 18,
   "metadata": {
    "ExecuteTime": {
     "end_time": "2019-06-01T05:54:30.851473Z",
     "start_time": "2019-06-01T05:54:30.829264Z"
    },
    "scrolled": true
   },
   "outputs": [
    {
     "data": {
      "text/html": [
       "<div>\n",
       "<style scoped>\n",
       "    .dataframe tbody tr th:only-of-type {\n",
       "        vertical-align: middle;\n",
       "    }\n",
       "\n",
       "    .dataframe tbody tr th {\n",
       "        vertical-align: top;\n",
       "    }\n",
       "\n",
       "    .dataframe thead th {\n",
       "        text-align: right;\n",
       "    }\n",
       "</style>\n",
       "<table border=\"1\" class=\"dataframe\">\n",
       "  <thead>\n",
       "    <tr style=\"text-align: right;\">\n",
       "      <th></th>\n",
       "      <th>id</th>\n",
       "      <th>name</th>\n",
       "      <th>artists</th>\n",
       "      <th>danceability</th>\n",
       "      <th>energy</th>\n",
       "      <th>predicted_label</th>\n",
       "    </tr>\n",
       "  </thead>\n",
       "  <tbody>\n",
       "    <tr>\n",
       "      <th>1</th>\n",
       "      <td>6PCUP3dWmTjcTtXY02oFd</td>\n",
       "      <td>Castle on the Hill</td>\n",
       "      <td>Ed Sheeran</td>\n",
       "      <td>0.461</td>\n",
       "      <td>0.834</td>\n",
       "      <td>1</td>\n",
       "    </tr>\n",
       "    <tr>\n",
       "      <th>2</th>\n",
       "      <td>3eR23VReFzcdmS7TYCrhC</td>\n",
       "      <td>It Ain't Me (with Selena Gomez)</td>\n",
       "      <td>Kygo</td>\n",
       "      <td>0.640</td>\n",
       "      <td>0.533</td>\n",
       "      <td>1</td>\n",
       "    </tr>\n",
       "    <tr>\n",
       "      <th>3</th>\n",
       "      <td>0tKcYR2II1VCQWT79i5Nr</td>\n",
       "      <td>Thunder</td>\n",
       "      <td>Imagine Dragons</td>\n",
       "      <td>0.600</td>\n",
       "      <td>0.810</td>\n",
       "      <td>1</td>\n",
       "    </tr>\n",
       "    <tr>\n",
       "      <th>4</th>\n",
       "      <td>6DNtNfH8hXkqOX1sjqmI7</td>\n",
       "      <td>Cold Water (feat. Justin Bieber &amp; MØ)</td>\n",
       "      <td>Major Lazer</td>\n",
       "      <td>0.608</td>\n",
       "      <td>0.798</td>\n",
       "      <td>1</td>\n",
       "    </tr>\n",
       "    <tr>\n",
       "      <th>6</th>\n",
       "      <td>5tz69p7tJuGPeMGwNTxYu</td>\n",
       "      <td>1-800-273-8255</td>\n",
       "      <td>Logic</td>\n",
       "      <td>0.629</td>\n",
       "      <td>0.572</td>\n",
       "      <td>1</td>\n",
       "    </tr>\n",
       "  </tbody>\n",
       "</table>\n",
       "</div>"
      ],
      "text/plain": [
       "                      id                                   name  \\\n",
       "1  6PCUP3dWmTjcTtXY02oFd                     Castle on the Hill   \n",
       "2  3eR23VReFzcdmS7TYCrhC        It Ain't Me (with Selena Gomez)   \n",
       "3  0tKcYR2II1VCQWT79i5Nr                                Thunder   \n",
       "4  6DNtNfH8hXkqOX1sjqmI7  Cold Water (feat. Justin Bieber & MØ)   \n",
       "6  5tz69p7tJuGPeMGwNTxYu                         1-800-273-8255   \n",
       "\n",
       "           artists  danceability  energy  predicted_label  \n",
       "1       Ed Sheeran         0.461   0.834                1  \n",
       "2             Kygo         0.640   0.533                1  \n",
       "3  Imagine Dragons         0.600   0.810                1  \n",
       "4      Major Lazer         0.608   0.798                1  \n",
       "6            Logic         0.629   0.572                1  "
      ]
     },
     "metadata": {},
     "output_type": "display_data"
    }
   ],
   "source": [
    "# Exercise: Display all songs in class 1\n",
    "display(df[df['predicted_label'] == 1].head())"
   ]
  },
  {
   "cell_type": "markdown",
   "metadata": {},
   "source": [
    "### PREDICT\n",
    "Finally, given a new song from the Spotify 100 list, predict the class of this song."
   ]
  },
  {
   "cell_type": "code",
   "execution_count": 21,
   "metadata": {
    "ExecuteTime": {
     "end_time": "2019-06-01T05:54:33.938447Z",
     "start_time": "2019-06-01T05:54:33.911398Z"
    },
    "scrolled": true
   },
   "outputs": [
    {
     "data": {
      "text/html": [
       "<div>\n",
       "<style scoped>\n",
       "    .dataframe tbody tr th:only-of-type {\n",
       "        vertical-align: middle;\n",
       "    }\n",
       "\n",
       "    .dataframe tbody tr th {\n",
       "        vertical-align: top;\n",
       "    }\n",
       "\n",
       "    .dataframe thead th {\n",
       "        text-align: right;\n",
       "    }\n",
       "</style>\n",
       "<table border=\"1\" class=\"dataframe\">\n",
       "  <thead>\n",
       "    <tr style=\"text-align: right;\">\n",
       "      <th></th>\n",
       "      <th>danceability</th>\n",
       "      <th>energy</th>\n",
       "      <th>name</th>\n",
       "    </tr>\n",
       "  </thead>\n",
       "  <tbody>\n",
       "    <tr>\n",
       "      <th>0</th>\n",
       "      <td>0.855</td>\n",
       "      <td>0.624</td>\n",
       "      <td>Your Song</td>\n",
       "    </tr>\n",
       "  </tbody>\n",
       "</table>\n",
       "</div>"
      ],
      "text/plain": [
       "   danceability  energy       name\n",
       "0         0.855   0.624  Your Song"
      ]
     },
     "metadata": {},
     "output_type": "display_data"
    },
    {
     "data": {
      "text/plain": [
       "array([0])"
      ]
     },
     "execution_count": 21,
     "metadata": {},
     "output_type": "execute_result"
    }
   ],
   "source": [
    "X_P = pd.DataFrame([{'name' : 'Your Song',\n",
    "                    'danceability' : 0.855,\n",
    "                    'energy' : 0.624}])\n",
    "display(X_P)\n",
    "# Predict result of a song using kmeans.predict()\n",
    "results.predict(X_P[['danceability','energy']])"
   ]
  },
  {
   "cell_type": "markdown",
   "metadata": {},
   "source": [
    "<hr>\n",
    "<center>$\\diamond$</center>"
   ]
  },
  {
   "cell_type": "markdown",
   "metadata": {},
   "source": [
    "### Further Exploration - Finding the centroids & plotting the scatterplot\n",
    "\n",
    "The centroids of the model can be found using `kmeans.cluster_centers_`."
   ]
  },
  {
   "cell_type": "code",
   "execution_count": 23,
   "metadata": {
    "ExecuteTime": {
     "end_time": "2019-06-01T05:50:15.819446Z",
     "start_time": "2019-06-01T05:50:13.942Z"
    }
   },
   "outputs": [
    {
     "name": "stdout",
     "output_type": "stream",
     "text": [
      "[[0.8535     0.63835714]\n",
      " [0.5514375  0.6735    ]]\n"
     ]
    },
    {
     "data": {
      "text/html": [
       "<div>\n",
       "<style scoped>\n",
       "    .dataframe tbody tr th:only-of-type {\n",
       "        vertical-align: middle;\n",
       "    }\n",
       "\n",
       "    .dataframe tbody tr th {\n",
       "        vertical-align: top;\n",
       "    }\n",
       "\n",
       "    .dataframe thead th {\n",
       "        text-align: right;\n",
       "    }\n",
       "</style>\n",
       "<table border=\"1\" class=\"dataframe\">\n",
       "  <thead>\n",
       "    <tr style=\"text-align: right;\">\n",
       "      <th></th>\n",
       "      <th>danceability</th>\n",
       "      <th>energy</th>\n",
       "      <th>label</th>\n",
       "    </tr>\n",
       "  </thead>\n",
       "  <tbody>\n",
       "    <tr>\n",
       "      <th>0</th>\n",
       "      <td>0.853500</td>\n",
       "      <td>0.638357</td>\n",
       "      <td>0</td>\n",
       "    </tr>\n",
       "    <tr>\n",
       "      <th>1</th>\n",
       "      <td>0.551438</td>\n",
       "      <td>0.673500</td>\n",
       "      <td>1</td>\n",
       "    </tr>\n",
       "  </tbody>\n",
       "</table>\n",
       "</div>"
      ],
      "text/plain": [
       "   danceability    energy  label\n",
       "0      0.853500  0.638357      0\n",
       "1      0.551438  0.673500      1"
      ]
     },
     "metadata": {},
     "output_type": "display_data"
    }
   ],
   "source": [
    "# print() the cluster centers\n",
    "#\n",
    "print(results.cluster_centers_)\n",
    "centroid_df_cols = [\"danceability\", \"energy\"]\n",
    "centroids_df = pd.DataFrame(results.cluster_centers_, \n",
    "                            columns=centroid_df_cols)\n",
    "centroids_df['label'] = centroids_df.index\n",
    "display(centroids_df)"
   ]
  },
  {
   "cell_type": "markdown",
   "metadata": {},
   "source": [
    "Plot the training set with their associated labels, and with the centroids."
   ]
  },
  {
   "cell_type": "code",
   "execution_count": 24,
   "metadata": {
    "ExecuteTime": {
     "end_time": "2019-06-01T05:50:15.821580Z",
     "start_time": "2019-06-01T05:50:13.947Z"
    },
    "scrolled": false
   },
   "outputs": [
    {
     "ename": "NameError",
     "evalue": "name 'new_df' is not defined",
     "output_type": "error",
     "traceback": [
      "\u001b[1;31m---------------------------------------------------------------------------\u001b[0m",
      "\u001b[1;31mNameError\u001b[0m                                 Traceback (most recent call last)",
      "\u001b[1;32m<ipython-input-24-f036fae32cca>\u001b[0m in \u001b[0;36m<module>\u001b[1;34m\u001b[0m\n\u001b[0;32m      7\u001b[0m \u001b[1;31m# s represents the size of the marker.\u001b[0m\u001b[1;33m\u001b[0m\u001b[1;33m\u001b[0m\u001b[1;33m\u001b[0m\u001b[0m\n\u001b[0;32m      8\u001b[0m \u001b[1;31m#\u001b[0m\u001b[1;33m\u001b[0m\u001b[1;33m\u001b[0m\u001b[1;33m\u001b[0m\u001b[0m\n\u001b[1;32m----> 9\u001b[1;33m new_df.plot(kind='scatter', x='danceability', \n\u001b[0m\u001b[0;32m     10\u001b[0m                \u001b[0my\u001b[0m\u001b[1;33m=\u001b[0m\u001b[1;34m'energy'\u001b[0m\u001b[1;33m,\u001b[0m \u001b[0mc\u001b[0m\u001b[1;33m=\u001b[0m\u001b[1;34m'label'\u001b[0m\u001b[1;33m,\u001b[0m \u001b[0mcolormap\u001b[0m\u001b[1;33m=\u001b[0m\u001b[1;34m'autumn'\u001b[0m\u001b[1;33m,\u001b[0m \u001b[0max\u001b[0m\u001b[1;33m=\u001b[0m\u001b[0max1\u001b[0m\u001b[1;33m\u001b[0m\u001b[1;33m\u001b[0m\u001b[0m\n\u001b[0;32m     11\u001b[0m               ,marker=\"o\", s=120)\n",
      "\u001b[1;31mNameError\u001b[0m: name 'new_df' is not defined"
     ]
    },
    {
     "data": {
      "image/png": "[encoded data removed]",
      "text/plain": [
       "<Figure size 720x576 with 1 Axes>"
      ]
     },
     "metadata": {
      "needs_background": "light"
     },
     "output_type": "display_data"
    }
   ],
   "source": [
    "# Plot the results in a scatter plot, and add in the centroids\n",
    "#\n",
    "fig = plt.figure(figsize=(10, 8))\n",
    "ax1 = fig.add_subplot(111)\n",
    "\n",
    "# Write the scatter plot here for the labels, Use s=120, where\n",
    "# s represents the size of the marker.\n",
    "#\n",
    "new_df.plot(kind='scatter', x='danceability', \n",
    "               y='energy', c='label', colormap='autumn', ax=ax1\n",
    "              ,marker=\"o\", s=120)\n",
    "\n",
    "# Write the scatter plot here for the centroids Use s=120, where\n",
    "# s represents the size of the marker.\n",
    "#\n",
    "centroids_df.plot(kind='scatter', x='danceability', \n",
    "               y='energy', color='gray', ax=ax1,\n",
    "                marker=\"X\", s=120,)\n",
    "\n",
    "# The following is given to you.\n",
    "ax1.set_title(\"Spotify songs by danceability & energy, after k-means clustering\")\n",
    "plt.xticks(rotation=90)\n",
    "plt.show()"
   ]
  },
  {
   "cell_type": "markdown",
   "metadata": {},
   "source": [
    "### Further Exploration - Side-by-Side Before & After Plot\n",
    "\n",
    "Now that we have the above plot, let's plot this result and the initial plot (before clustering) side by side."
   ]
  },
  {
   "cell_type": "code",
   "execution_count": null,
   "metadata": {
    "ExecuteTime": {
     "end_time": "2019-06-01T05:50:15.823541Z",
     "start_time": "2019-06-01T05:50:13.951Z"
    }
   },
   "outputs": [],
   "source": [
    "# Plot the initial plot and plot after k-means side-by-side\n",
    "fig = plt.figure(figsize=(14, 12))\n",
    "ax1 = fig.add_subplot(221)\n",
    "\n",
    "# Plot the initial plot here.\n",
    "df.plot(kind='scatter', x='danceability', y='energy', ax=ax1)\n",
    "ax1.set_title(\"Danceability & Energy score of Spotify Songs\")\n",
    "\n",
    "ax2 = fig.add_subplot(222)\n",
    "# Plot the plot with the clustered data here.\n",
    "new_df.plot(kind='scatter', x='danceability', \n",
    "               y='energy', c='label', colormap='autumn', ax=ax2\n",
    "              ,marker=\"o\", s=80)\n",
    "centroids_df.plot(kind='scatter', x='danceability', \n",
    "               y='energy', color='gray', ax=ax2,\n",
    "                marker=\"X\", s=80,)\n",
    "ax2.set_title(\"After k-means clustering\")\n",
    "\n",
    "plt.xticks(rotation=90)\n",
    "plt.show()"
   ]
  },
  {
   "cell_type": "markdown",
   "metadata": {},
   "source": [
    "### Further Exploration - Predict for another song"
   ]
  },
  {
   "cell_type": "code",
   "execution_count": null,
   "metadata": {
    "ExecuteTime": {
     "end_time": "2019-06-01T05:50:15.825737Z",
     "start_time": "2019-06-01T05:50:13.955Z"
    }
   },
   "outputs": [],
   "source": [
    "# Exercise: Pick another song from the Spotify 100 charts. \n",
    "# What is the predicted class of your selected song?\n",
    "#"
   ]
  },
  {
   "cell_type": "markdown",
   "metadata": {},
   "source": [
    "**Credits:**\n",
    "- https://www.kaggle.com/nadintamer/top-tracks-of-2017"
   ]
  }
 ],
 "metadata": {
  "kernelspec": {
   "display_name": "Python 3",
   "language": "python",
   "name": "python3"
  },
  "language_info": {
   "codemirror_mode": {
    "name": "ipython",
    "version": 3
   },
   "file_extension": ".py",
   "mimetype": "text/x-python",
   "name": "python",
   "nbconvert_exporter": "python",
   "pygments_lexer": "ipython3",
   "version": "3.7.3"
  }
 },
 "nbformat": 4,
 "nbformat_minor": 2
}
