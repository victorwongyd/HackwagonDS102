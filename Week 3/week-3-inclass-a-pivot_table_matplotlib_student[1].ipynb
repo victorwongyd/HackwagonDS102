{
 "cells": [
  {
   "cell_type": "markdown",
   "metadata": {},
   "source": [
    "### DS102 | In Class Practice Week 3A - Pivot Table & Matplotlib Introduction\n",
    "<hr>\n",
    "At the end of the lesson, you will be able to:\n",
    "\n",
    "- Use the Pivot Table function from the pandas library\n",
    "- Understand how matplotlib plots work\n",
    "- How to read documentation on pandas and matplotlib\n"
   ]
  },
  {
   "cell_type": "markdown",
   "metadata": {},
   "source": [
    "### Pivot Table\n",
    "https://pandas.pydata.org/pandas-docs/stable/reference/api/pandas.pivot_table.html"
   ]
  },
  {
   "cell_type": "code",
   "execution_count": 1,
   "metadata": {
    "ExecuteTime": {
     "end_time": "2019-05-22T13:00:04.621804Z",
     "start_time": "2019-05-22T13:00:04.287109Z"
    }
   },
   "outputs": [],
   "source": [
    "import pandas as pd\n",
    "import numpy as np\n",
    "import matplotlib.pyplot as plt\n",
    "%matplotlib inline"
   ]
  },
  {
   "cell_type": "code",
   "execution_count": 8,
   "metadata": {
    "ExecuteTime": {
     "end_time": "2019-05-22T13:00:35.297242Z",
     "start_time": "2019-05-22T13:00:35.235215Z"
    }
   },
   "outputs": [
    {
     "data": {
      "text/html": [
       "<div>\n",
       "<style scoped>\n",
       "    .dataframe tbody tr th:only-of-type {\n",
       "        vertical-align: middle;\n",
       "    }\n",
       "\n",
       "    .dataframe tbody tr th {\n",
       "        vertical-align: top;\n",
       "    }\n",
       "\n",
       "    .dataframe thead th {\n",
       "        text-align: right;\n",
       "    }\n",
       "</style>\n",
       "<table border=\"1\" class=\"dataframe\">\n",
       "  <thead>\n",
       "    <tr style=\"text-align: right;\">\n",
       "      <th></th>\n",
       "      <th>classid</th>\n",
       "      <th>classtype</th>\n",
       "      <th>coordinating_ta</th>\n",
       "      <th>instructor</th>\n",
       "      <th>rating</th>\n",
       "    </tr>\n",
       "  </thead>\n",
       "  <tbody>\n",
       "    <tr>\n",
       "      <th>0</th>\n",
       "      <td>1</td>\n",
       "      <td>101</td>\n",
       "      <td>ta1</td>\n",
       "      <td>instructor1</td>\n",
       "      <td>8</td>\n",
       "    </tr>\n",
       "    <tr>\n",
       "      <th>1</th>\n",
       "      <td>2</td>\n",
       "      <td>101</td>\n",
       "      <td>ta1</td>\n",
       "      <td>instructor1</td>\n",
       "      <td>7</td>\n",
       "    </tr>\n",
       "    <tr>\n",
       "      <th>2</th>\n",
       "      <td>3</td>\n",
       "      <td>102</td>\n",
       "      <td>ta2</td>\n",
       "      <td>instructor1</td>\n",
       "      <td>9</td>\n",
       "    </tr>\n",
       "    <tr>\n",
       "      <th>3</th>\n",
       "      <td>4</td>\n",
       "      <td>102</td>\n",
       "      <td>ta2</td>\n",
       "      <td>instructor2</td>\n",
       "      <td>9</td>\n",
       "    </tr>\n",
       "    <tr>\n",
       "      <th>4</th>\n",
       "      <td>5</td>\n",
       "      <td>101</td>\n",
       "      <td>ta1</td>\n",
       "      <td>instructor2</td>\n",
       "      <td>10</td>\n",
       "    </tr>\n",
       "  </tbody>\n",
       "</table>\n",
       "</div>"
      ],
      "text/plain": [
       "   classid classtype coordinating_ta   instructor  rating\n",
       "0        1       101             ta1  instructor1       8\n",
       "1        2       101             ta1  instructor1       7\n",
       "2        3       102             ta2  instructor1       9\n",
       "3        4       102             ta2  instructor2       9\n",
       "4        5       101             ta1  instructor2      10"
      ]
     },
     "execution_count": 8,
     "metadata": {},
     "output_type": "execute_result"
    }
   ],
   "source": [
    "feedback = [\n",
    "    {\n",
    "        'classid':1,\n",
    "        'instructor': 'instructor1',\n",
    "        'coordinating_ta':'ta1',\n",
    "        'rating':8,\n",
    "        'classtype':'101'\n",
    "    },\n",
    "    {\n",
    "        'classid':2,\n",
    "        'instructor': 'instructor1',\n",
    "        'coordinating_ta':'ta1',\n",
    "        'rating':7,\n",
    "        'classtype':'101'\n",
    "    },\n",
    "     {\n",
    "        'classid':3,\n",
    "        'instructor': 'instructor1',\n",
    "        'coordinating_ta':'ta2',\n",
    "        'rating':9,\n",
    "        'classtype':'102'\n",
    "    },\n",
    "    {\n",
    "        'classid':4,\n",
    "        'instructor': 'instructor2',\n",
    "        'coordinating_ta':'ta2',\n",
    "        'rating':9,\n",
    "        'classtype':'102'\n",
    "    },\n",
    "    {\n",
    "        'classid':5,\n",
    "        'instructor': 'instructor2',\n",
    "        'coordinating_ta':'ta1',\n",
    "        'rating':10,\n",
    "        'classtype':'101'\n",
    "    },\n",
    "]\n",
    "\n",
    "# create a dataframe from the feedback list (of dictionaries). Each dictionary represents one row.\n",
    "feedback_df = pd.DataFrame(feedback)\n",
    "feedback_df"
   ]
  },
  {
   "cell_type": "code",
   "execution_count": 11,
   "metadata": {
    "ExecuteTime": {
     "end_time": "2019-05-22T13:01:42.359062Z",
     "start_time": "2019-05-22T13:01:42.241858Z"
    }
   },
   "outputs": [
    {
     "data": {
      "text/html": [
       "<div>\n",
       "<style scoped>\n",
       "    .dataframe tbody tr th:only-of-type {\n",
       "        vertical-align: middle;\n",
       "    }\n",
       "\n",
       "    .dataframe tbody tr th {\n",
       "        vertical-align: top;\n",
       "    }\n",
       "\n",
       "    .dataframe thead th {\n",
       "        text-align: right;\n",
       "    }\n",
       "</style>\n",
       "<table border=\"1\" class=\"dataframe\">\n",
       "  <thead>\n",
       "    <tr style=\"text-align: right;\">\n",
       "      <th>coordinating_ta</th>\n",
       "      <th>ta1</th>\n",
       "      <th>ta2</th>\n",
       "    </tr>\n",
       "    <tr>\n",
       "      <th>instructor</th>\n",
       "      <th></th>\n",
       "      <th></th>\n",
       "    </tr>\n",
       "  </thead>\n",
       "  <tbody>\n",
       "    <tr>\n",
       "      <th>instructor1</th>\n",
       "      <td>15</td>\n",
       "      <td>9</td>\n",
       "    </tr>\n",
       "    <tr>\n",
       "      <th>instructor2</th>\n",
       "      <td>10</td>\n",
       "      <td>9</td>\n",
       "    </tr>\n",
       "  </tbody>\n",
       "</table>\n",
       "</div>"
      ],
      "text/plain": [
       "coordinating_ta  ta1  ta2\n",
       "instructor               \n",
       "instructor1       15    9\n",
       "instructor2       10    9"
      ]
     },
     "execution_count": 11,
     "metadata": {},
     "output_type": "execute_result"
    }
   ],
   "source": [
    "# create a pivot table from feedback df (fill in index, columns and values variables)\n",
    "\n",
    "pivot_table_result = pd.pivot_table(feedback_df, \n",
    "                                    index = [\"instructor\"], \n",
    "                                    columns = [\"coordinating_ta\"], \n",
    "                                    values = \"rating\",\n",
    "                                   aggfunc = np.sum)\n",
    "pivot_table_result"
   ]
  },
  {
   "cell_type": "code",
   "execution_count": 12,
   "metadata": {
    "ExecuteTime": {
     "end_time": "2019-05-19T04:31:21.156212Z",
     "start_time": "2019-05-19T04:31:21.039153Z"
    }
   },
   "outputs": [],
   "source": [
    "?pd.pivot_table"
   ]
  },
  {
   "cell_type": "markdown",
   "metadata": {},
   "source": [
    "<div class=\"alert alert-info\">\n",
    "    <div><b>When to use pivot table vs. groupby?</b></div><br/>\n",
    "    <div>Pivot tables are powerful, and are a familiar interface for those that have experience with Excel. It is useful as a finished product of your analysis, because they are harder to manipulate. If you expect to do further analysis, groupby and aggregations may be more convenient instead.</div>\n",
    "</div>"
   ]
  },
  {
   "cell_type": "markdown",
   "metadata": {},
   "source": [
    "### Matplotlib Introduction"
   ]
  },
  {
   "cell_type": "markdown",
   "metadata": {},
   "source": [
    "Matplotlib is one of the first and many visualisation libraries like Seaborn use the similar syntax. \n",
    "\n",
    "Pros:\n",
    "1. Provides a standard for other visualisation libraries\n",
    "2. Leveraged by many other libraries\n",
    "\n",
    "Cons:\n",
    "1. Documentation that is difficult to understand\n",
    "2. Restrictive syntax\n",
    "\n",
    "<img src=\"https://i.imgur.com/uYYgeZ3.png\" width=\"300\">\n",
    "\n",
    "https://matplotlib.org/gallery/index.html"
   ]
  },
  {
   "cell_type": "code",
   "execution_count": 13,
   "metadata": {
    "ExecuteTime": {
     "end_time": "2019-05-19T14:06:23.523691Z",
     "start_time": "2019-05-19T14:06:23.488109Z"
    }
   },
   "outputs": [],
   "source": [
    "import random\n",
    "def create_random_numbers():\n",
    "    results = []\n",
    "    for i in range(10):\n",
    "        random_number = random.randrange(1, 101)\n",
    "        results.append(random_number)\n",
    "    return results"
   ]
  },
  {
   "cell_type": "code",
   "execution_count": 21,
   "metadata": {
    "ExecuteTime": {
     "end_time": "2019-05-19T14:06:47.616271Z",
     "start_time": "2019-05-19T14:06:47.562976Z"
    }
   },
   "outputs": [
    {
     "name": "stdout",
     "output_type": "stream",
     "text": [
      "x is [8, 33, 34, 38, 41, 63, 68, 80, 82, 96]\n",
      "y is [13, 25, 54, 72, 81, 86, 89, 93, 95, 97]\n"
     ]
    }
   ],
   "source": [
    "# create two series of random numbers\n",
    "x = create_random_numbers()\n",
    "y = create_random_numbers()\n",
    "\n",
    "\n",
    "x.sort()\n",
    "y.sort()\n",
    "print('x is ' + str(x))\n",
    "print('y is ' + str(y))\n",
    "# sort and print both series"
   ]
  },
  {
   "cell_type": "code",
   "execution_count": 31,
   "metadata": {
    "ExecuteTime": {
     "end_time": "2019-05-19T14:06:54.575392Z",
     "start_time": "2019-05-19T14:06:54.508772Z"
    }
   },
   "outputs": [
    {
     "data": {
      "text/html": [
       "<div>\n",
       "<style scoped>\n",
       "    .dataframe tbody tr th:only-of-type {\n",
       "        vertical-align: middle;\n",
       "    }\n",
       "\n",
       "    .dataframe tbody tr th {\n",
       "        vertical-align: top;\n",
       "    }\n",
       "\n",
       "    .dataframe thead th {\n",
       "        text-align: right;\n",
       "    }\n",
       "</style>\n",
       "<table border=\"1\" class=\"dataframe\">\n",
       "  <thead>\n",
       "    <tr style=\"text-align: right;\">\n",
       "      <th></th>\n",
       "      <th>x_values</th>\n",
       "      <th>y_values</th>\n",
       "    </tr>\n",
       "  </thead>\n",
       "  <tbody>\n",
       "    <tr>\n",
       "      <th>0</th>\n",
       "      <td>8</td>\n",
       "      <td>13</td>\n",
       "    </tr>\n",
       "    <tr>\n",
       "      <th>1</th>\n",
       "      <td>33</td>\n",
       "      <td>25</td>\n",
       "    </tr>\n",
       "    <tr>\n",
       "      <th>2</th>\n",
       "      <td>34</td>\n",
       "      <td>54</td>\n",
       "    </tr>\n",
       "    <tr>\n",
       "      <th>3</th>\n",
       "      <td>38</td>\n",
       "      <td>72</td>\n",
       "    </tr>\n",
       "    <tr>\n",
       "      <th>4</th>\n",
       "      <td>41</td>\n",
       "      <td>81</td>\n",
       "    </tr>\n",
       "  </tbody>\n",
       "</table>\n",
       "</div>"
      ],
      "text/plain": [
       "   x_values  y_values\n",
       "0         8        13\n",
       "1        33        25\n",
       "2        34        54\n",
       "3        38        72\n",
       "4        41        81"
      ]
     },
     "execution_count": 31,
     "metadata": {},
     "output_type": "execute_result"
    }
   ],
   "source": [
    "data = {\n",
    "    'x_values': x, # each key-value pair denotes one df column\n",
    "    'y_values': y\n",
    "}\n",
    "random_df = pd.DataFrame(data)\n",
    "random_df.head()\n"
   ]
  },
  {
   "cell_type": "code",
   "execution_count": 32,
   "metadata": {
    "ExecuteTime": {
     "end_time": "2019-05-19T04:39:30.884042Z",
     "start_time": "2019-05-19T04:39:30.684985Z"
    }
   },
   "outputs": [
    {
     "data": {
      "text/plain": [
       "<function matplotlib.pyplot.show(*args, **kw)>"
      ]
     },
     "execution_count": 32,
     "metadata": {},
     "output_type": "execute_result"
    },
    {
     "data": {
      "image/png": "[encoded data removed]",
      "text/plain": [
       "<Figure size 432x288 with 1 Axes>"
      ]
     },
     "metadata": {
      "needs_background": "light"
     },
     "output_type": "display_data"
    }
   ],
   "source": [
    "# Method 1: Use vanilla matplotlib (before pandas' df.plot() came along)\n",
    "# Create a scatter plot\n",
    "plt.scatter(x=x, y=y)\n",
    "plt.show"
   ]
  },
  {
   "cell_type": "code",
   "execution_count": 40,
   "metadata": {},
   "outputs": [
    {
     "data": {
      "text/plain": [
       "<matplotlib.axes._subplots.AxesSubplot at 0x20c7fcca898>"
      ]
     },
     "execution_count": 40,
     "metadata": {},
     "output_type": "execute_result"
    },
    {
     "data": {
      "image/png": "[encoded data removed]",
      "text/plain": [
       "<Figure size 432x288 with 1 Axes>"
      ]
     },
     "metadata": {
      "needs_background": "light"
     },
     "output_type": "display_data"
    }
   ],
   "source": [
    "# Method 2: Use pandas DataFrame.plot()\n",
    "\n",
    "random_df.plot(x='x_values', y='y_values', kind='scatter')"
   ]
  },
  {
   "cell_type": "code",
   "execution_count": 52,
   "metadata": {
    "ExecuteTime": {
     "end_time": "2019-05-19T04:40:51.028241Z",
     "start_time": "2019-05-19T04:40:50.836761Z"
    }
   },
   "outputs": [
    {
     "data": {
      "image/png": "[encoded data removed]",
      "text/plain": [
       "<Figure size 576x432 with 1 Axes>"
      ]
     },
     "metadata": {
      "needs_background": "light"
     },
     "output_type": "display_data"
    }
   ],
   "source": [
    "# And now, using matplotlib subplots and axes\n",
    "\n",
    "# Create the figure\n",
    "fig_dimensions=(8, 6)\n",
    "fig = plt.figure(figsize = fig_dimensions)\n",
    "\n",
    "# Add one plot\n",
    "ax = fig.add_subplot(111)\n",
    "random_df.plot(x='x_values', y='y_values', ax=ax, kind='scatter')\n",
    "\n",
    "# Additional configuration\n",
    "ax.set_title('Scatter plot')\n",
    "ax.legend([\"Randomly generated series\"], fontsize=12)\n",
    "\n",
    "plt.show()"
   ]
  },
  {
   "cell_type": "markdown",
   "metadata": {},
   "source": [
    "https://matplotlib.org/api/axes_api.html#axis-labels-title-and-legend"
   ]
  },
  {
   "cell_type": "markdown",
   "metadata": {},
   "source": [
    "### Introduction to the matplotlib layout\n",
    "\n",
    "<img src=\"https://i.imgur.com/JrukTTS.png\" width=\"300\">"
   ]
  },
  {
   "cell_type": "code",
   "execution_count": 65,
   "metadata": {
    "ExecuteTime": {
     "end_time": "2019-05-19T14:10:39.213346Z",
     "start_time": "2019-05-19T14:10:38.442181Z"
    }
   },
   "outputs": [
    {
     "data": {
      "image/png": "[encoded data removed]",
      "text/plain": [
       "<Figure size 1152x576 with 3 Axes>"
      ]
     },
     "metadata": {
      "needs_background": "light"
     },
     "output_type": "display_data"
    }
   ],
   "source": [
    "# Create the figure\n",
    "fig_dimensions=(16, 8)\n",
    "fig = plt.figure(figsize = fig_dimensions)\n",
    "\n",
    "# Add one subplot\n",
    "ax1 = fig.add_subplot(2,2,1)\n",
    "random_df.plot(x='x_values', y = 'y_values', ax=ax1, kind = 'scatter')\n",
    "ax1.set_title('Scatter Plot')\n",
    "ax1.legend(['Randomly generated series'], fontsize=12)\n",
    "\n",
    "\n",
    "# Add another subplot\n",
    "ax2 = fig.add_subplot(2,2,2)\n",
    "random_df.plot(x='x_values', y = 'y_values', ax=ax2, kind = 'line')\n",
    "ax2.set_title('Line Plot')\n",
    "ax2.legend(['Randomly generated series'], fontsize=12)\n",
    "\n",
    "# Add third subplot beneath\n",
    "ax3 = fig.add_subplot(2,1,2)\n",
    "random_df.plot(x='x_values', y = 'y_values', ax=ax3, kind = 'bar')\n",
    "ax3.set_title('Bar Plot')\n",
    "ax3.legend(['Randomly generated series'], fontsize=12)\n",
    "\n",
    "\n",
    "plt.show()"
   ]
  },
  {
   "cell_type": "markdown",
   "metadata": {},
   "source": [
    "### Self-Study\n",
    "\n",
    "Want to customise or allocate spacing between subplots? \n",
    "\n",
    "To explore further, see matplotlib documentation for `.subplots_adjust()` [here](https://matplotlib.org/api/_as_gen/matplotlib.pyplot.subplots_adjust.html). The parameters of interest are `hspace` and `wspace`."
   ]
  },
  {
   "cell_type": "code",
   "execution_count": null,
   "metadata": {
    "ExecuteTime": {
     "end_time": "2019-05-19T04:31:21.586894Z",
     "start_time": "2019-05-19T04:31:20.822Z"
    }
   },
   "outputs": [],
   "source": [
    "# Add this line between figure creation and subplot addition\n",
    "# plt.subplots_adjust(hspace=0.3, wspace=0.3)"
   ]
  }
 ],
 "metadata": {
  "kernelspec": {
   "display_name": "Python 3",
   "language": "python",
   "name": "python3"
  },
  "language_info": {
   "codemirror_mode": {
    "name": "ipython",
    "version": 3
   },
   "file_extension": ".py",
   "mimetype": "text/x-python",
   "name": "python",
   "nbconvert_exporter": "python",
   "pygments_lexer": "ipython3",
   "version": "3.7.3"
  },
  "toc": {
   "base_numbering": 1,
   "nav_menu": {},
   "number_sections": true,
   "sideBar": true,
   "skip_h1_title": false,
   "title_cell": "Table of Contents",
   "title_sidebar": "Contents",
   "toc_cell": false,
   "toc_position": {
    "height": "calc(100% - 180px)",
    "left": "10px",
    "top": "150px",
    "width": "359.594px"
   },
   "toc_section_display": true,
   "toc_window_display": true
  }
 },
 "nbformat": 4,
 "nbformat_minor": 2
}
