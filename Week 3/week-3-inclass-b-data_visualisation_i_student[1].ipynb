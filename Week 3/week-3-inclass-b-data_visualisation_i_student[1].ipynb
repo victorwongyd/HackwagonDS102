{
 "cells": [
  {
   "cell_type": "markdown",
   "metadata": {},
   "source": [
    "# DS102 | In Class Practice Week 3B - Data Visualisation I\n",
    "<hr>\n",
    "\n",
    "## Learning Objectives\n",
    "At the end of the lesson, you will be able to:\n",
    "\n",
    "- identify key features of a chart including its title, $x$-axis, $y$-axis, tickers and legend\n",
    "\n",
    "- understand `matplotlib` plotting concepts including `Figure` and `Axes`\n",
    "\n",
    "- create a **line graph** using one `Series` with `matplotlib` library and `seaborn` library\n",
    "\n",
    "- create a **scatterplot** using one `DataFrame` with `matplotlib` and `seaborn` library\n",
    "\n",
    "- create a **bar graph** using one `DataFrame` with `matplotlib` library and `seaborn` library\n",
    "\n",
    "- create a **clustered bar graph** from one `DataFrame` with multiple columns\n",
    "\n",
    "- create a **boxplot** using numerical data with `matplotlib` library and `seaborn` library\n",
    "\n",
    "- `DataFrame.merge()` two dataframes together with a common column name\n",
    "\n",
    "- use `Series.corr()` to find the correlation coefficient between two `Series`\n",
    "\n",
    "## Datasets Required for this In Class\n",
    "\n",
    "In the order they are introduced: \n",
    "1. `korea-tourist-arrivals.csv`\n",
    "\n",
    "2. `sgp-births.csv`\n",
    "\n",
    "3. `patient-admissions.csv`\n",
    "\n",
    "4. `patient-admissions-by-gender.csv`\n",
    "\n",
    "5. `wages-by-occupation.csv`\n",
    "\n",
    "6. `goog-close.csv`\n",
    "\n",
    "7. `aapl-close.csv`\n",
    "\n",
    "8. `kor-tourist-departures.csv`\n"
   ]
  },
  {
   "cell_type": "markdown",
   "metadata": {},
   "source": [
    "## Import libraries & settings"
   ]
  },
  {
   "cell_type": "code",
   "execution_count": 3,
   "metadata": {
    "ExecuteTime": {
     "end_time": "2018-10-14T03:41:49.625995Z",
     "start_time": "2018-10-14T03:41:48.622716Z"
    }
   },
   "outputs": [],
   "source": [
    "import pandas as pd\n",
    "import numpy as np\n",
    "import matplotlib.pyplot as plt\n",
    "# Display all floats rounded off to 1 decimal place\n",
    "pd.options.display.float_format = '{:,.1f}'.format\n",
    "# Plot inline in Jupyter notebook\n",
    "%matplotlib inline\n",
    "# Width = 16, Height = 6\n",
    "DIMS=(16, 6)"
   ]
  },
  {
   "cell_type": "markdown",
   "metadata": {},
   "source": [
    "## Identify Key Features of a Graph\n",
    "\n",
    "A good graph should contain the following features so it can easy to read and interpret:\n",
    "\n",
    "- Title\n",
    "- Legend\n",
    "- Axes Labels for both the horizontal or $x$-axis and the vertical or $y$-axis\n",
    "- Reasonable tick values\n",
    "\n",
    "https://matplotlib.org/api/_as_gen/matplotlib.axes.Axes.set_xticks.html\n",
    "\n",
    "https://matplotlib.org/api/_as_gen/matplotlib.pyplot.xticks.html"
   ]
  },
  {
   "cell_type": "code",
   "execution_count": 4,
   "metadata": {
    "ExecuteTime": {
     "end_time": "2018-10-14T03:41:49.670302Z",
     "start_time": "2018-10-14T03:41:49.629531Z"
    }
   },
   "outputs": [
    {
     "name": "stdout",
     "output_type": "stream",
     "text": [
      "         year  visitor_arrivals\n",
      "count    19.0              19.0\n",
      "mean  2,005.0       6,964,907.6\n",
      "std       5.6       2,967,252.1\n",
      "min   1,996.0       3,683,779.0\n",
      "25%   2,000.5       4,949,983.0\n",
      "50%   2,005.0       6,022,752.0\n",
      "75%   2,009.5       8,307,595.5\n",
      "max   2,014.0      14,201,516.0\n",
      "\n",
      "         year  visitor_arrivals  visitor_arrivals_m\n",
      "count    19.0              19.0                19.0\n",
      "mean  2,005.0       6,964,907.6                 7.0\n",
      "std       5.6       2,967,252.1                 3.0\n",
      "min   1,996.0       3,683,779.0                 3.7\n",
      "25%   2,000.5       4,949,983.0                 4.9\n",
      "50%   2,005.0       6,022,752.0                 6.0\n",
      "75%   2,009.5       8,307,595.5                 8.3\n",
      "max   2,014.0      14,201,516.0                14.2\n"
     ]
    },
    {
     "data": {
      "text/html": [
       "<div>\n",
       "<style scoped>\n",
       "    .dataframe tbody tr th:only-of-type {\n",
       "        vertical-align: middle;\n",
       "    }\n",
       "\n",
       "    .dataframe tbody tr th {\n",
       "        vertical-align: top;\n",
       "    }\n",
       "\n",
       "    .dataframe thead th {\n",
       "        text-align: right;\n",
       "    }\n",
       "</style>\n",
       "<table border=\"1\" class=\"dataframe\">\n",
       "  <thead>\n",
       "    <tr style=\"text-align: right;\">\n",
       "      <th></th>\n",
       "      <th>year</th>\n",
       "      <th>visitor_arrivals</th>\n",
       "      <th>visitor_arrivals_m</th>\n",
       "    </tr>\n",
       "  </thead>\n",
       "  <tbody>\n",
       "    <tr>\n",
       "      <th>0</th>\n",
       "      <td>1996</td>\n",
       "      <td>3683779</td>\n",
       "      <td>3.7</td>\n",
       "    </tr>\n",
       "    <tr>\n",
       "      <th>1</th>\n",
       "      <td>1997</td>\n",
       "      <td>3908140</td>\n",
       "      <td>3.9</td>\n",
       "    </tr>\n",
       "    <tr>\n",
       "      <th>2</th>\n",
       "      <td>1998</td>\n",
       "      <td>4250216</td>\n",
       "      <td>4.3</td>\n",
       "    </tr>\n",
       "    <tr>\n",
       "      <th>3</th>\n",
       "      <td>1999</td>\n",
       "      <td>4659785</td>\n",
       "      <td>4.7</td>\n",
       "    </tr>\n",
       "    <tr>\n",
       "      <th>4</th>\n",
       "      <td>2000</td>\n",
       "      <td>5321792</td>\n",
       "      <td>5.3</td>\n",
       "    </tr>\n",
       "  </tbody>\n",
       "</table>\n",
       "</div>"
      ],
      "text/plain": [
       "   year  visitor_arrivals  visitor_arrivals_m\n",
       "0  1996           3683779                 3.7\n",
       "1  1997           3908140                 3.9\n",
       "2  1998           4250216                 4.3\n",
       "3  1999           4659785                 4.7\n",
       "4  2000           5321792                 5.3"
      ]
     },
     "execution_count": 4,
     "metadata": {},
     "output_type": "execute_result"
    }
   ],
   "source": [
    "## Dataset 1: Credits at the end of the notebook\n",
    "kto_arr_df = pd.read_csv('kor-tourist-arrivals.csv')\n",
    "\n",
    "print(kto_arr_df.describe())\n",
    "print()\n",
    "\n",
    "# Exercise: What does this line do?\n",
    "\n",
    "kto_arr_df['visitor_arrivals_m'] = kto_arr_df['visitor_arrivals'].apply(lambda x : x/1000000)\n",
    "print(kto_arr_df.describe())\n",
    "kto_arr_df.head()"
   ]
  },
  {
   "cell_type": "code",
   "execution_count": 5,
   "metadata": {
    "ExecuteTime": {
     "end_time": "2018-10-14T03:41:50.187750Z",
     "start_time": "2018-10-14T03:41:49.672876Z"
    },
    "scrolled": false
   },
   "outputs": [
    {
     "data": {
      "image/png": "[encoded data removed]",
      "text/plain": [
       "<Figure size 1152x432 with 1 Axes>"
      ]
     },
     "metadata": {
      "needs_background": "light"
     },
     "output_type": "display_data"
    }
   ],
   "source": [
    "# Identify features of a plot. Run this code to see the plot.\n",
    "# In this example, we want to visualize the relationship between the year and number of visitor arrivals.\n",
    "fig = plt.figure(figsize = DIMS)\n",
    "ax = fig.add_subplot(111)\n",
    "\n",
    "# Create your fig and axes\n",
    "ax.set_title(\"Year vs. number of arrivals 1995-2016\", fontsize=20)\n",
    "\n",
    "# Set the title of the subplot\n",
    "kto_arr_df.plot(x='year', y='visitor_arrivals_m', kind = 'line', ax = ax)\n",
    "\n",
    "# Plot from the df\n",
    "\n",
    "# Configure the ticks and labels of the x-axis...\n",
    "# Let's configure it to show labels from 1996-2016\n",
    "plt.xticks(range(1996,2016))\n",
    "plt.xlabel(\"Year\", fontsize = 14)\n",
    "\n",
    "# ...and y-axis from 0-17M\n",
    "plt.yticks(range(0,18))\n",
    "plt.ylabel(\"Visitor Arrivals\", fontsize=14)\n",
    "\n",
    "# Add the legend\n",
    "ax.legend(['Visitor Arrivals in millions'])\n",
    "\n",
    "plt.show()"
   ]
  },
  {
   "cell_type": "markdown",
   "metadata": {},
   "source": [
    "In this example, the **title** is present and explains the purpose of the graph. We are looking at trends of tourist arrivals in S Korea over 20 years. The **$x$ and $y$ axes** are labelled and, where necessary, the **unit** is also appropriately specified. For each year, the corresponding number of arrivals is stated (in millions). Finally, the **legend** is at the top-right hand corner. The blue line is stated. "
   ]
  },
  {
   "cell_type": "markdown",
   "metadata": {},
   "source": [
    "## Line Graph\n",
    "\n",
    "A line graph is used to show **a trend in data over time**, or **time-series** data. The $x$-axis will have the various time periods (year, month, day, quarter etc.) and the $y$-axis will show the metric. "
   ]
  },
  {
   "cell_type": "code",
   "execution_count": 6,
   "metadata": {
    "ExecuteTime": {
     "end_time": "2018-10-14T03:41:50.198504Z",
     "start_time": "2018-10-14T03:41:50.190316Z"
    },
    "scrolled": true
   },
   "outputs": [
    {
     "data": {
      "text/html": [
       "<div>\n",
       "<style scoped>\n",
       "    .dataframe tbody tr th:only-of-type {\n",
       "        vertical-align: middle;\n",
       "    }\n",
       "\n",
       "    .dataframe tbody tr th {\n",
       "        vertical-align: top;\n",
       "    }\n",
       "\n",
       "    .dataframe thead th {\n",
       "        text-align: right;\n",
       "    }\n",
       "</style>\n",
       "<table border=\"1\" class=\"dataframe\">\n",
       "  <thead>\n",
       "    <tr style=\"text-align: right;\">\n",
       "      <th></th>\n",
       "      <th>Year</th>\n",
       "      <th>Total Live-births</th>\n",
       "      <th>1st Live-birth</th>\n",
       "    </tr>\n",
       "  </thead>\n",
       "  <tbody>\n",
       "    <tr>\n",
       "      <th>0</th>\n",
       "      <td>1977</td>\n",
       "      <td>38364</td>\n",
       "      <td>16138</td>\n",
       "    </tr>\n",
       "    <tr>\n",
       "      <th>1</th>\n",
       "      <td>1978</td>\n",
       "      <td>39441</td>\n",
       "      <td>16424</td>\n",
       "    </tr>\n",
       "    <tr>\n",
       "      <th>2</th>\n",
       "      <td>1979</td>\n",
       "      <td>40779</td>\n",
       "      <td>17253</td>\n",
       "    </tr>\n",
       "    <tr>\n",
       "      <th>3</th>\n",
       "      <td>1980</td>\n",
       "      <td>41217</td>\n",
       "      <td>17968</td>\n",
       "    </tr>\n",
       "    <tr>\n",
       "      <th>4</th>\n",
       "      <td>1981</td>\n",
       "      <td>42250</td>\n",
       "      <td>18599</td>\n",
       "    </tr>\n",
       "  </tbody>\n",
       "</table>\n",
       "</div>"
      ],
      "text/plain": [
       "   Year  Total Live-births  1st Live-birth\n",
       "0  1977              38364           16138\n",
       "1  1978              39441           16424\n",
       "2  1979              40779           17253\n",
       "3  1980              41217           17968\n",
       "4  1981              42250           18599"
      ]
     },
     "execution_count": 6,
     "metadata": {},
     "output_type": "execute_result"
    }
   ],
   "source": [
    "## Dataset 2: Credits at the end of the notebook\n",
    "births_df = pd.read_csv('sgp-births.csv')\n",
    "births_df.head()"
   ]
  },
  {
   "cell_type": "markdown",
   "metadata": {},
   "source": [
    "To plot a line graph, simply use the `df` variable's `plot` function. Specify the following parameters: \n",
    "- the `kind` of graph to plot: `'line'` in this case\n",
    "\n",
    "- `x` for the `Series` representing the $x$-axis\n",
    "\n",
    "- `y` for the `Series` representing the $y$-axis \n",
    "\n",
    "- `marker` to denote the shape of each coordinate on the chart. `'D'` to represent a shaded diamond\n",
    "\n",
    "- `figsize` which is a tuple representing the `(width, height)` of the plot image."
   ]
  },
  {
   "cell_type": "code",
   "execution_count": 7,
   "metadata": {
    "ExecuteTime": {
     "end_time": "2018-10-14T03:41:50.597480Z",
     "start_time": "2018-10-14T03:41:50.201490Z"
    },
    "scrolled": false
   },
   "outputs": [
    {
     "data": {
      "text/plain": [
       "<matplotlib.axes._subplots.AxesSubplot at 0x1a7bbec4dd8>"
      ]
     },
     "execution_count": 7,
     "metadata": {},
     "output_type": "execute_result"
    },
    {
     "data": {
      "image/png": "[encoded data removed]",
      "text/plain": [
       "<Figure size 1152x432 with 1 Axes>"
      ]
     },
     "metadata": {
      "needs_background": "light"
     },
     "output_type": "display_data"
    }
   ],
   "source": [
    "# Plot a line graph using df.plot(). \n",
    "# Specify the x, y, kind, marker and figsize parameter.\n",
    "\n",
    "births_df.plot(x='Year', y='Total Live-births', kind='line', marker='D', figsize=DIMS)"
   ]
  },
  {
   "cell_type": "markdown",
   "metadata": {},
   "source": [
    "We now have our plot. However, some key features are missing from the plot. The **$y$-axis is not labelled**. Also, the **title is missing**. Use `ax1.set_ylabel()` and `ax1.set_title()` respectively to add them. Set the label of the $y$-axis after plotting.\n",
    "\n",
    "Also, it is useful to adjust the `xticks` and `yticks`. Use `ax1.set_xticks()` and `ax1.set_yticks()`. The parameter is an `numpy.arange(min, max, step)`, all `int`s. The first two values represent the lower and upper limits of your graph. The last value represents the frequency of each tick. The smaller the frequency, the more \"ticks\" you see on the graph."
   ]
  },
  {
   "cell_type": "code",
   "execution_count": 9,
   "metadata": {
    "ExecuteTime": {
     "end_time": "2018-10-14T03:41:51.110138Z",
     "start_time": "2018-10-14T03:41:50.600911Z"
    },
    "scrolled": false
   },
   "outputs": [
    {
     "data": {
      "image/png": "[encoded data removed]",
      "text/plain": [
       "<Figure size 1152x432 with 1 Axes>"
      ]
     },
     "metadata": {
      "needs_background": "light"
     },
     "output_type": "display_data"
    }
   ],
   "source": [
    "# Always start by creating a figure and adding (empty) subplots.\n",
    "fig = plt.figure(figsize=DIMS)\n",
    "ax1 = fig.add_subplot(111)\n",
    "\n",
    "# Set the title here\n",
    "ax1.set_title(\"Total Births per Year in Singapore, 1977 - 2016\", fontsize= 20)\n",
    "\n",
    "# Plot the df here. specify the kind, x, y, figsize, marker='X' and ax params\n",
    "births_df.plot(x='Year', y='Total Live-births', kind='line', ax=ax1 , marker='D', figsize=DIMS)\n",
    "\n",
    "# Adjust the ticks for both x and y axes\n",
    "ax1.set_xticks(range(1977,2018,2))\n",
    "\n",
    "# Set the y axis label here\n",
    "ax1.set_yticks(range(34000,55000,2000))\n",
    "\n",
    "\n",
    "plt.show()"
   ]
  },
  {
   "cell_type": "markdown",
   "metadata": {},
   "source": [
    "\n",
    "After completing the plot, attempt to write a conclusion with it. Do this in Markdown.\n",
    "conclusion: total births grew rapidly from 1977 to 1988, where it reached a maximum of about 53000.\n",
    "Then it experienced a decline to an average of 40000 births from 2007 to 2016.\n",
    "\n",
    "https://github.com/adam-p/markdown-here/wiki/Markdown-Cheatsheet"
   ]
  },
  {
   "cell_type": "markdown",
   "metadata": {
    "ExecuteTime": {
     "end_time": "2018-10-14T01:40:41.105690Z",
     "start_time": "2018-10-14T01:40:41.101950Z"
    }
   },
   "source": [
    "Conclusion: Total births grew rapidly from 1977 to 1988, where it reached a maximum of about 53000. \n",
    "\n",
    "Then, it experienced a decline to an average of 40000 births from 2007 to 2016."
   ]
  },
  {
   "cell_type": "markdown",
   "metadata": {},
   "source": [
    "## Bar Graph\n",
    "\n",
    "Bar graphs are used to examine **cross-sectional** or **categorical** data. This involves looking at different **segments** of the population at **one point in time**. It could mean observations at a certain year, quarter or month."
   ]
  },
  {
   "cell_type": "code",
   "execution_count": 10,
   "metadata": {
    "ExecuteTime": {
     "end_time": "2018-10-14T03:41:51.129999Z",
     "start_time": "2018-10-14T03:41:51.113490Z"
    }
   },
   "outputs": [
    {
     "data": {
      "text/html": [
       "<div>\n",
       "<style scoped>\n",
       "    .dataframe tbody tr th:only-of-type {\n",
       "        vertical-align: middle;\n",
       "    }\n",
       "\n",
       "    .dataframe tbody tr th {\n",
       "        vertical-align: top;\n",
       "    }\n",
       "\n",
       "    .dataframe thead th {\n",
       "        text-align: right;\n",
       "    }\n",
       "</style>\n",
       "<table border=\"1\" class=\"dataframe\">\n",
       "  <thead>\n",
       "    <tr style=\"text-align: right;\">\n",
       "      <th></th>\n",
       "      <th>year</th>\n",
       "      <th>gender</th>\n",
       "      <th>age</th>\n",
       "      <th>percentage</th>\n",
       "    </tr>\n",
       "  </thead>\n",
       "  <tbody>\n",
       "    <tr>\n",
       "      <th>0</th>\n",
       "      <td>2014</td>\n",
       "      <td>Male</td>\n",
       "      <td>0 - 14</td>\n",
       "      <td>18.6</td>\n",
       "    </tr>\n",
       "    <tr>\n",
       "      <th>1</th>\n",
       "      <td>2014</td>\n",
       "      <td>Male</td>\n",
       "      <td>15 - 64</td>\n",
       "      <td>51.6</td>\n",
       "    </tr>\n",
       "    <tr>\n",
       "      <th>2</th>\n",
       "      <td>2014</td>\n",
       "      <td>Male</td>\n",
       "      <td>65 and above</td>\n",
       "      <td>29.8</td>\n",
       "    </tr>\n",
       "    <tr>\n",
       "      <th>3</th>\n",
       "      <td>2014</td>\n",
       "      <td>Female</td>\n",
       "      <td>0 - 14</td>\n",
       "      <td>13.9</td>\n",
       "    </tr>\n",
       "    <tr>\n",
       "      <th>4</th>\n",
       "      <td>2014</td>\n",
       "      <td>Female</td>\n",
       "      <td>15 - 64</td>\n",
       "      <td>57.9</td>\n",
       "    </tr>\n",
       "    <tr>\n",
       "      <th>5</th>\n",
       "      <td>2014</td>\n",
       "      <td>Female</td>\n",
       "      <td>65 and above</td>\n",
       "      <td>28.2</td>\n",
       "    </tr>\n",
       "  </tbody>\n",
       "</table>\n",
       "</div>"
      ],
      "text/plain": [
       "   year  gender           age  percentage\n",
       "0  2014    Male        0 - 14        18.6\n",
       "1  2014    Male       15 - 64        51.6\n",
       "2  2014    Male  65 and above        29.8\n",
       "3  2014  Female        0 - 14        13.9\n",
       "4  2014  Female       15 - 64        57.9\n",
       "5  2014  Female  65 and above        28.2"
      ]
     },
     "execution_count": 10,
     "metadata": {},
     "output_type": "execute_result"
    }
   ],
   "source": [
    "## Dataset 3: Credits at the end of the notebook\n",
    "# Read patient-admissions.csv into admissions_df\n",
    "admissions_df = pd.read_csv('patient-admissions.csv')\n",
    "admissions_df"
   ]
  },
  {
   "cell_type": "code",
   "execution_count": 11,
   "metadata": {
    "ExecuteTime": {
     "end_time": "2018-10-14T03:41:51.139984Z",
     "start_time": "2018-10-14T03:41:51.132866Z"
    }
   },
   "outputs": [
    {
     "data": {
      "text/html": [
       "<div>\n",
       "<style scoped>\n",
       "    .dataframe tbody tr th:only-of-type {\n",
       "        vertical-align: middle;\n",
       "    }\n",
       "\n",
       "    .dataframe tbody tr th {\n",
       "        vertical-align: top;\n",
       "    }\n",
       "\n",
       "    .dataframe thead th {\n",
       "        text-align: right;\n",
       "    }\n",
       "</style>\n",
       "<table border=\"1\" class=\"dataframe\">\n",
       "  <thead>\n",
       "    <tr style=\"text-align: right;\">\n",
       "      <th></th>\n",
       "      <th>year</th>\n",
       "      <th>gender</th>\n",
       "      <th>age</th>\n",
       "      <th>percentage</th>\n",
       "    </tr>\n",
       "  </thead>\n",
       "  <tbody>\n",
       "    <tr>\n",
       "      <th>3</th>\n",
       "      <td>2014</td>\n",
       "      <td>Female</td>\n",
       "      <td>0 - 14</td>\n",
       "      <td>13.9</td>\n",
       "    </tr>\n",
       "    <tr>\n",
       "      <th>4</th>\n",
       "      <td>2014</td>\n",
       "      <td>Female</td>\n",
       "      <td>15 - 64</td>\n",
       "      <td>57.9</td>\n",
       "    </tr>\n",
       "    <tr>\n",
       "      <th>5</th>\n",
       "      <td>2014</td>\n",
       "      <td>Female</td>\n",
       "      <td>65 and above</td>\n",
       "      <td>28.2</td>\n",
       "    </tr>\n",
       "  </tbody>\n",
       "</table>\n",
       "</div>"
      ],
      "text/plain": [
       "   year  gender           age  percentage\n",
       "3  2014  Female        0 - 14        13.9\n",
       "4  2014  Female       15 - 64        57.9\n",
       "5  2014  Female  65 and above        28.2"
      ]
     },
     "execution_count": 11,
     "metadata": {},
     "output_type": "execute_result"
    }
   ],
   "source": [
    "# Create a copy of the df\n",
    "admissions_g_df = admissions_df.copy()\n",
    "\n",
    "# Perform the filtering: create dataset of only Male, or Female patients\n",
    "admissions_g_df = admissions_g_df[admissions_g_df[\"gender\"]==\"Female\"]\n",
    "admissions_g_df"
   ]
  },
  {
   "cell_type": "markdown",
   "metadata": {},
   "source": [
    "If you have only 1 plot, you can use `fig, ax = plt.subplots()` to get the `fig` and `ax` variables. \n",
    "\n",
    "**Note:** In Python, a function can have multiple return variables. The order of the return variables **must be adhered to**."
   ]
  },
  {
   "cell_type": "code",
   "execution_count": 52,
   "metadata": {
    "ExecuteTime": {
     "end_time": "2018-10-14T03:41:51.516194Z",
     "start_time": "2018-10-14T03:41:51.142918Z"
    }
   },
   "outputs": [
    {
     "data": {
      "image/png": "[encoded data removed]",
      "text/plain": [
       "<Figure size 1152x432 with 1 Axes>"
      ]
     },
     "metadata": {
      "needs_background": "light"
     },
     "output_type": "display_data"
    }
   ],
   "source": [
    "fig, ax = plt.subplots()\n",
    "# fig = plt.figure()\n",
    "# ax = fig.add_subplot(111)\n",
    "\n",
    "# Your turn: Plot a bar plot describing the percent of patient admissions per age group.\n",
    "# Specify the kind, x, y, figsize, ax and color='skyblue' params\n",
    "admissions_g_df.plot(x='age', y='percentage', kind='bar', ax=ax , color='skyblue', figsize=DIMS)\n",
    "\n",
    "\n",
    "# Add the ylabel using ax.set_ylabel() and the title using ax.set_title()\n",
    "ax.set_title(\"Patient Admissions (Girls)\")\n",
    "ax.set_ylabel(\"Percentage of Admissions\")\n",
    "ax.set_xlabel(\"Age Range\")\n",
    "\n",
    "\n",
    "plt.show()"
   ]
  },
  {
   "cell_type": "markdown",
   "metadata": {},
   "source": [
    "## Clustered Bar Graph\n",
    "\n",
    "To show comparisons **within a cohort**, use a clustered bar graph. This will show the differences within groups, across the segments determined by the $x$-axis. "
   ]
  },
  {
   "cell_type": "code",
   "execution_count": 54,
   "metadata": {
    "ExecuteTime": {
     "end_time": "2018-10-14T03:41:51.538073Z",
     "start_time": "2018-10-14T03:41:51.519105Z"
    },
    "scrolled": false
   },
   "outputs": [
    {
     "data": {
      "text/html": [
       "<div>\n",
       "<style scoped>\n",
       "    .dataframe tbody tr th:only-of-type {\n",
       "        vertical-align: middle;\n",
       "    }\n",
       "\n",
       "    .dataframe tbody tr th {\n",
       "        vertical-align: top;\n",
       "    }\n",
       "\n",
       "    .dataframe thead th {\n",
       "        text-align: right;\n",
       "    }\n",
       "</style>\n",
       "<table border=\"1\" class=\"dataframe\">\n",
       "  <thead>\n",
       "    <tr style=\"text-align: right;\">\n",
       "      <th></th>\n",
       "      <th>year</th>\n",
       "      <th>age</th>\n",
       "      <th>male_percentage</th>\n",
       "      <th>female_percentage</th>\n",
       "    </tr>\n",
       "  </thead>\n",
       "  <tbody>\n",
       "    <tr>\n",
       "      <th>0</th>\n",
       "      <td>2014</td>\n",
       "      <td>0 - 14</td>\n",
       "      <td>18.6</td>\n",
       "      <td>13.9</td>\n",
       "    </tr>\n",
       "    <tr>\n",
       "      <th>1</th>\n",
       "      <td>2014</td>\n",
       "      <td>15 - 64</td>\n",
       "      <td>51.6</td>\n",
       "      <td>57.9</td>\n",
       "    </tr>\n",
       "    <tr>\n",
       "      <th>2</th>\n",
       "      <td>2014</td>\n",
       "      <td>65 and above</td>\n",
       "      <td>29.8</td>\n",
       "      <td>28.2</td>\n",
       "    </tr>\n",
       "  </tbody>\n",
       "</table>\n",
       "</div>"
      ],
      "text/plain": [
       "   year           age  male_percentage  female_percentage\n",
       "0  2014        0 - 14             18.6               13.9\n",
       "1  2014       15 - 64             51.6               57.9\n",
       "2  2014  65 and above             29.8               28.2"
      ]
     },
     "execution_count": 54,
     "metadata": {},
     "output_type": "execute_result"
    }
   ],
   "source": [
    "## Dataset 3: Credits at the end of the notebook\n",
    "# Read patient-admissions-by-gender.csv into admissions_df\n",
    "admissions_by_gender_df = pd.read_csv('patient-admissions-by-gender.csv')\n",
    "admissions_by_gender_df"
   ]
  },
  {
   "cell_type": "markdown",
   "metadata": {},
   "source": [
    "To plot a clustered bar plot, add **both** `Series` to the same subplot. Use `ax=ax` to for this. For the `position` parameter, the **rightmost bar is the smallest number**, starting from `1`. The `width` of the bar needs to be adjusted too. Finally, for the `color` value, use [this link](https://python-graph-gallery.com/100-calling-a-color-with-seaborn/) to find good color representations that are soothing for the eye.\n",
    "\n",
    "https://pandas.pydata.org/pandas-docs/version/0.23/generated/pandas.DataFrame.plot.html#pandas.DataFrame.plot\n",
    "\n",
    "https://matplotlib.org/api/_as_gen/matplotlib.pyplot.bar.html"
   ]
  },
  {
   "cell_type": "code",
   "execution_count": 72,
   "metadata": {
    "ExecuteTime": {
     "end_time": "2018-10-14T03:41:51.971750Z",
     "start_time": "2018-10-14T03:41:51.541678Z"
    },
    "scrolled": false
   },
   "outputs": [
    {
     "data": {
      "image/png": "[encoded data removed]",
      "text/plain": [
       "<Figure size 1152x432 with 1 Axes>"
      ]
     },
     "metadata": {
      "needs_background": "light"
     },
     "output_type": "display_data"
    }
   ],
   "source": [
    "width=0.20 # what is this parameter for?\n",
    "\n",
    "# Create the figure\n",
    "fig = plt.figure(figsize=DIMS)\n",
    "# Add the subplot\n",
    "ax = fig.add_subplot(111)\n",
    "\n",
    "# Plot the values for 'male_percentage' Specify position=1, color='steelblue' and width\n",
    "admissions_by_gender_df.plot(kind='bar', x='age', y='male_percentage', \n",
    "                             ax=ax, position=0, width=width, color='steelblue')\n",
    "\n",
    "# Plot the values for 'female_percentage' Specify position=2\n",
    "admissions_by_gender_df.plot(kind='bar', x='age', y='female_percentage', \n",
    "                             ax=ax, position=1, width=width, color='orange')\n",
    "\n",
    "# Your turn: Add the title of the plot and set y axis\n",
    "ax.set_title('Patient Admissions', fontsize = 20)\n",
    "ax.set_ylabel('Age Percentage of Gender')\n",
    "ax.set_xlabel('Age Range')\n",
    "\n",
    "plt.xticks(rotation= 'horizontal')\n",
    "\n",
    "\n",
    "plt.show()"
   ]
  },
  {
   "cell_type": "markdown",
   "metadata": {},
   "source": [
    "## Boxplot\n",
    "\n",
    "A boxplot is useful to check for outliers in a dataset. To plot a boxplot, simply use `plot(kind='box')` for the `Series`."
   ]
  },
  {
   "cell_type": "code",
   "execution_count": 76,
   "metadata": {
    "ExecuteTime": {
     "end_time": "2018-10-14T03:41:51.996598Z",
     "start_time": "2018-10-14T03:41:51.975258Z"
    }
   },
   "outputs": [
    {
     "name": "stdout",
     "output_type": "stream",
     "text": [
      "       Weekly_Wage_USD\n",
      "count            141.0\n",
      "mean             921.9\n",
      "std              369.9\n",
      "min              391.0\n",
      "25%              619.0\n",
      "50%              901.0\n",
      "75%            1,165.0\n",
      "max            2,041.0\n"
     ]
    },
    {
     "data": {
      "text/html": [
       "<div>\n",
       "<style scoped>\n",
       "    .dataframe tbody tr th:only-of-type {\n",
       "        vertical-align: middle;\n",
       "    }\n",
       "\n",
       "    .dataframe tbody tr th {\n",
       "        vertical-align: top;\n",
       "    }\n",
       "\n",
       "    .dataframe thead th {\n",
       "        text-align: right;\n",
       "    }\n",
       "</style>\n",
       "<table border=\"1\" class=\"dataframe\">\n",
       "  <thead>\n",
       "    <tr style=\"text-align: right;\">\n",
       "      <th></th>\n",
       "      <th>Occupation</th>\n",
       "      <th>Weekly_Wage_USD</th>\n",
       "    </tr>\n",
       "  </thead>\n",
       "  <tbody>\n",
       "    <tr>\n",
       "      <th>0</th>\n",
       "      <td>MANAGEMENT</td>\n",
       "      <td>1351</td>\n",
       "    </tr>\n",
       "    <tr>\n",
       "      <th>1</th>\n",
       "      <td>CHIEF EXECUTIVES</td>\n",
       "      <td>2041</td>\n",
       "    </tr>\n",
       "    <tr>\n",
       "      <th>2</th>\n",
       "      <td>GENERAL AND OPERATIONS MANAGERS</td>\n",
       "      <td>1260</td>\n",
       "    </tr>\n",
       "    <tr>\n",
       "      <th>3</th>\n",
       "      <td>MARKETING AND SALES MANAGERS</td>\n",
       "      <td>1462</td>\n",
       "    </tr>\n",
       "    <tr>\n",
       "      <th>4</th>\n",
       "      <td>ADMINISTRATIVE SERVICES MANAGERS</td>\n",
       "      <td>1191</td>\n",
       "    </tr>\n",
       "  </tbody>\n",
       "</table>\n",
       "</div>"
      ],
      "text/plain": [
       "                         Occupation  Weekly_Wage_USD\n",
       "0                        MANAGEMENT             1351\n",
       "1                  CHIEF EXECUTIVES             2041\n",
       "2   GENERAL AND OPERATIONS MANAGERS             1260\n",
       "3      MARKETING AND SALES MANAGERS             1462\n",
       "4  ADMINISTRATIVE SERVICES MANAGERS             1191"
      ]
     },
     "execution_count": 76,
     "metadata": {},
     "output_type": "execute_result"
    }
   ],
   "source": [
    "## Dataset 4: Credits at the end of the notebook\n",
    "# Read 'wages-by-occupation.csv' into a df called wages_df. Then use describe() to understand more about wages_df.\n",
    "wages_df = pd.read_csv('wages-by-occupation.csv')\n",
    "print(wages_df.describe())\n",
    "wages_df.head()"
   ]
  },
  {
   "cell_type": "code",
   "execution_count": 79,
   "metadata": {
    "ExecuteTime": {
     "end_time": "2019-05-19T14:45:01.794485Z",
     "start_time": "2019-05-19T14:45:01.731141Z"
    }
   },
   "outputs": [
    {
     "data": {
      "image/png": "[encoded data removed]",
      "text/plain": [
       "<Figure size 216x432 with 1 Axes>"
      ]
     },
     "metadata": {
      "needs_background": "light"
     },
     "output_type": "display_data"
    }
   ],
   "source": [
    "# For box plots, you can only plot using a Series.\n",
    "fig = plt.figure()\n",
    "ax = fig.add_subplot(111)\n",
    "\n",
    "# Plot the boxplot. On top of kind, title and ax parameters, try using figsize=(3,6)\n",
    "# Here, we are calling the plot() function on a Series, not a DataFrame.\n",
    "wages_df['Weekly_Wage_USD'].plot(kind = 'box', title = 'Weekly Wage USD boxplot', figsize = (3,6))\n",
    "\n",
    "# Set the label of the y-axis\n",
    "\n",
    "\n",
    "plt.show()"
   ]
  },
  {
   "cell_type": "markdown",
   "metadata": {},
   "source": [
    "The box plot shown has many useful features. The bottom and top of the box represents the 25th percentile and the 75th percentile respectively. The line in the middle of the box is the 50th percentile or median. The whiskers represent the lower and upper bound calculated by adding and subtracting $1.5\\times IQR$ from the first and third quartile respectively. Any value outside the whiskers are outliers. You can validate this using `df.describe()`."
   ]
  },
  {
   "cell_type": "markdown",
   "metadata": {},
   "source": [
    "## Scatterplot\n",
    "A scatter graph can be used to **spot relationships between variables**. Each axis represents a variable, and each coordinate represents the *joint observation* of both variables. The closer all the points are closer to some defined line (linear, quadratic, exponential etc.), the stronger the correlation between the variables *based on that function*."
   ]
  },
  {
   "cell_type": "code",
   "execution_count": 80,
   "metadata": {
    "ExecuteTime": {
     "end_time": "2018-10-14T03:41:52.278593Z",
     "start_time": "2018-10-14T03:41:52.262136Z"
    },
    "scrolled": true
   },
   "outputs": [
    {
     "name": "stdout",
     "output_type": "stream",
     "text": [
      "         Date  GOOG_Close\n",
      "0  2017-10-09       989.7\n",
      "1  2017-10-16       988.2\n",
      "2  2017-10-23     1,019.3\n",
      "3  2017-10-30     1,032.5\n",
      "4  2017-11-06     1,028.1\n",
      "         Date  AAPL_Close\n",
      "0  2017-10-09       157.0\n",
      "1  2017-10-16       156.2\n",
      "2  2017-10-23       163.1\n",
      "3  2017-10-30       172.5\n",
      "4  2017-11-06       174.7\n"
     ]
    }
   ],
   "source": [
    "## Dataset 5 & 6: Credits at the end of the notebook\n",
    "# Your turn: read goog-close.csv to goog_df and read aapl-close.csv into aapl_df\n",
    "#\n",
    "goog_df = pd.read_csv('goog-close.csv')\n",
    "aapl_df = pd.read_csv('aapl-close.csv')\n",
    "print(goog_df.head())\n",
    "print(aapl_df.head())"
   ]
  },
  {
   "cell_type": "markdown",
   "metadata": {},
   "source": [
    "### A small detour: `df.merge()`\n",
    "Use `DataFrame.merge(df)` to combine 2 `df`s with a common column to just one, with the individual columns preserved. The `on` parameter takes a list of columns which is common in **both** `DataFrame`s.\n",
    "\n",
    "https://pandas.pydata.org/pandas-docs/stable/reference/api/pandas.DataFrame.merge.html"
   ]
  },
  {
   "cell_type": "code",
   "execution_count": 81,
   "metadata": {
    "ExecuteTime": {
     "end_time": "2018-10-14T03:41:52.290865Z",
     "start_time": "2018-10-14T03:41:52.283362Z"
    }
   },
   "outputs": [],
   "source": [
    "# Use df.merge to combine into 1 df called tech_shares_df\n",
    "# Specify on='Date'\n",
    "tech_shares_df = goog_df.merge(aapl_df, on = 'Date')\n",
    "\n",
    "# Note: The order of the df is not important. This is an associative operation"
   ]
  },
  {
   "cell_type": "code",
   "execution_count": 82,
   "metadata": {
    "ExecuteTime": {
     "end_time": "2018-10-14T03:41:52.329748Z",
     "start_time": "2018-10-14T03:41:52.294272Z"
    },
    "scrolled": false
   },
   "outputs": [
    {
     "data": {
      "text/html": [
       "<div>\n",
       "<style scoped>\n",
       "    .dataframe tbody tr th:only-of-type {\n",
       "        vertical-align: middle;\n",
       "    }\n",
       "\n",
       "    .dataframe tbody tr th {\n",
       "        vertical-align: top;\n",
       "    }\n",
       "\n",
       "    .dataframe thead th {\n",
       "        text-align: right;\n",
       "    }\n",
       "</style>\n",
       "<table border=\"1\" class=\"dataframe\">\n",
       "  <thead>\n",
       "    <tr style=\"text-align: right;\">\n",
       "      <th></th>\n",
       "      <th>GOOG_Close</th>\n",
       "      <th>AAPL_Close</th>\n",
       "    </tr>\n",
       "  </thead>\n",
       "  <tbody>\n",
       "    <tr>\n",
       "      <th>count</th>\n",
       "      <td>54.0</td>\n",
       "      <td>54.0</td>\n",
       "    </tr>\n",
       "    <tr>\n",
       "      <th>mean</th>\n",
       "      <td>1,105.4</td>\n",
       "      <td>185.5</td>\n",
       "    </tr>\n",
       "    <tr>\n",
       "      <th>std</th>\n",
       "      <td>70.2</td>\n",
       "      <td>20.7</td>\n",
       "    </tr>\n",
       "    <tr>\n",
       "      <th>min</th>\n",
       "      <td>988.2</td>\n",
       "      <td>156.2</td>\n",
       "    </tr>\n",
       "    <tr>\n",
       "      <th>25%</th>\n",
       "      <td>1,038.5</td>\n",
       "      <td>171.2</td>\n",
       "    </tr>\n",
       "    <tr>\n",
       "      <th>50%</th>\n",
       "      <td>1,110.1</td>\n",
       "      <td>178.2</td>\n",
       "    </tr>\n",
       "    <tr>\n",
       "      <th>75%</th>\n",
       "      <td>1,159.4</td>\n",
       "      <td>191.4</td>\n",
       "    </tr>\n",
       "    <tr>\n",
       "      <th>max</th>\n",
       "      <td>1,238.5</td>\n",
       "      <td>227.6</td>\n",
       "    </tr>\n",
       "  </tbody>\n",
       "</table>\n",
       "</div>"
      ],
      "text/plain": [
       "       GOOG_Close  AAPL_Close\n",
       "count        54.0        54.0\n",
       "mean      1,105.4       185.5\n",
       "std          70.2        20.7\n",
       "min         988.2       156.2\n",
       "25%       1,038.5       171.2\n",
       "50%       1,110.1       178.2\n",
       "75%       1,159.4       191.4\n",
       "max       1,238.5       227.6"
      ]
     },
     "execution_count": 82,
     "metadata": {},
     "output_type": "execute_result"
    }
   ],
   "source": [
    "tech_shares_df.describe()"
   ]
  },
  {
   "cell_type": "code",
   "execution_count": 84,
   "metadata": {},
   "outputs": [
    {
     "data": {
      "text/html": [
       "<div>\n",
       "<style scoped>\n",
       "    .dataframe tbody tr th:only-of-type {\n",
       "        vertical-align: middle;\n",
       "    }\n",
       "\n",
       "    .dataframe tbody tr th {\n",
       "        vertical-align: top;\n",
       "    }\n",
       "\n",
       "    .dataframe thead th {\n",
       "        text-align: right;\n",
       "    }\n",
       "</style>\n",
       "<table border=\"1\" class=\"dataframe\">\n",
       "  <thead>\n",
       "    <tr style=\"text-align: right;\">\n",
       "      <th></th>\n",
       "      <th>Date</th>\n",
       "      <th>GOOG_Close</th>\n",
       "      <th>AAPL_Close</th>\n",
       "    </tr>\n",
       "  </thead>\n",
       "  <tbody>\n",
       "    <tr>\n",
       "      <th>0</th>\n",
       "      <td>2017-10-09</td>\n",
       "      <td>989.7</td>\n",
       "      <td>157.0</td>\n",
       "    </tr>\n",
       "    <tr>\n",
       "      <th>1</th>\n",
       "      <td>2017-10-16</td>\n",
       "      <td>988.2</td>\n",
       "      <td>156.2</td>\n",
       "    </tr>\n",
       "    <tr>\n",
       "      <th>2</th>\n",
       "      <td>2017-10-23</td>\n",
       "      <td>1,019.3</td>\n",
       "      <td>163.1</td>\n",
       "    </tr>\n",
       "    <tr>\n",
       "      <th>3</th>\n",
       "      <td>2017-10-30</td>\n",
       "      <td>1,032.5</td>\n",
       "      <td>172.5</td>\n",
       "    </tr>\n",
       "    <tr>\n",
       "      <th>4</th>\n",
       "      <td>2017-11-06</td>\n",
       "      <td>1,028.1</td>\n",
       "      <td>174.7</td>\n",
       "    </tr>\n",
       "  </tbody>\n",
       "</table>\n",
       "</div>"
      ],
      "text/plain": [
       "         Date  GOOG_Close  AAPL_Close\n",
       "0  2017-10-09       989.7       157.0\n",
       "1  2017-10-16       988.2       156.2\n",
       "2  2017-10-23     1,019.3       163.1\n",
       "3  2017-10-30     1,032.5       172.5\n",
       "4  2017-11-06     1,028.1       174.7"
      ]
     },
     "execution_count": 84,
     "metadata": {},
     "output_type": "execute_result"
    }
   ],
   "source": [
    "tech_shares_df.head()"
   ]
  },
  {
   "cell_type": "markdown",
   "metadata": {},
   "source": [
    "Note that all the columns now have numeric datatypes, which means they can be plotted."
   ]
  },
  {
   "cell_type": "markdown",
   "metadata": {},
   "source": [
    "To plot a scatter plot, use `df.plot()`. Fill in `kind='scatter'` to indicate a scatter plot. Specify the $x$ and $y$ axes using the name of the columns. Also, specify the `title`. For both axes, the axis label is the name of the column."
   ]
  },
  {
   "cell_type": "code",
   "execution_count": 86,
   "metadata": {
    "ExecuteTime": {
     "end_time": "2018-10-14T03:41:52.753903Z",
     "start_time": "2018-10-14T03:41:52.343914Z"
    },
    "scrolled": false
   },
   "outputs": [
    {
     "data": {
      "image/png": "[encoded data removed]",
      "text/plain": [
       "<Figure size 504x504 with 1 Axes>"
      ]
     },
     "metadata": {
      "needs_background": "light"
     },
     "output_type": "display_data"
    }
   ],
   "source": [
    "tech_shares_df.plot(kind='scatter', x='AAPL_Close', y='GOOG_Close', figsize=(7, 7),\n",
    "                    title=\"Scatterplot of AAPL Closing Price vs. GOOG Closing Price, 2017 Oct - 2018 Oct\")\n",
    "plt.show()"
   ]
  },
  {
   "cell_type": "markdown",
   "metadata": {},
   "source": [
    "Also, it is useful to see how related the datasets are using `df['colname'].corr()`.\n",
    "\n",
    "https://pandas.pydata.org/pandas-docs/stable/reference/api/pandas.DataFrame.corr.html"
   ]
  },
  {
   "cell_type": "code",
   "execution_count": 2,
   "metadata": {
    "ExecuteTime": {
     "end_time": "2018-10-14T03:41:52.765690Z",
     "start_time": "2018-10-14T03:41:52.756608Z"
    }
   },
   "outputs": [
    {
     "ename": "NameError",
     "evalue": "name 'tech_shares_df' is not defined",
     "output_type": "error",
     "traceback": [
      "\u001b[0;31m---------------------------------------------------------------------------\u001b[0m",
      "\u001b[0;31mNameError\u001b[0m                                 Traceback (most recent call last)",
      "\u001b[0;32m<ipython-input-2-5b7ff2f4291c>\u001b[0m in \u001b[0;36m<module>\u001b[0;34m\u001b[0m\n\u001b[0;32m----> 1\u001b[0;31m \u001b[0mtech_shares_df\u001b[0m\u001b[0;34m[\u001b[0m\u001b[0;34m'GOOG_Close'\u001b[0m\u001b[0;34m]\u001b[0m\u001b[0;34m.\u001b[0m\u001b[0mcorr\u001b[0m\u001b[0;34m(\u001b[0m\u001b[0mtech_shares_df\u001b[0m\u001b[0;34m[\u001b[0m\u001b[0;34m'AAPL_Close'\u001b[0m\u001b[0;34m]\u001b[0m\u001b[0;34m)\u001b[0m\u001b[0;34m\u001b[0m\u001b[0;34m\u001b[0m\u001b[0m\n\u001b[0m",
      "\u001b[0;31mNameError\u001b[0m: name 'tech_shares_df' is not defined"
     ]
    }
   ],
   "source": [
    "tech_shares_df['GOOG_Close'].corr(tech_shares_df['AAPL_Close'])"
   ]
  },
  {
   "cell_type": "raw",
   "metadata": {},
   "source": [
    "**Conclusion**: With a (Pearson) correlation $\\rho=0.732$, the closing price of GOOG and AAPL have strong correlation. Note that strong correlation does **not imply** causation, which means the change in one variable directly causes the change in another variable. In this case, closing price of AAPL does **not necessarily directly impact** the closing price of GOOG. Additional research needs to be performed to ascertain this relationship.\n",
    "\n",
    "<div class=\"alert alert-info\">\n",
    "<b>DS102 Learning Guidelines: Additionally, </b> $\\rho = r$. Hence, if you intend to perform linear regression on these two security closing prices, you can find $r^2$ by taking the square of the correlation. Linear regression will be covered in Week 5.\n",
    "</div>"
   ]
  },
  {
   "cell_type": "markdown",
   "metadata": {},
   "source": [
    "**Exercise**\n",
    "\n",
    "You are given the departures of South Koreans per year in the file `kor-tourist-departures.csv`. Using the data, plot a line graph showing the trend of departures in S Korea in the time period. All the features of the graph **must be shown**. "
   ]
  },
  {
   "cell_type": "code",
   "execution_count": null,
   "metadata": {
    "ExecuteTime": {
     "end_time": "2018-10-14T03:41:52.776800Z",
     "start_time": "2018-10-14T03:41:52.768716Z"
    }
   },
   "outputs": [],
   "source": [
    "## Dataset 7: Credits at the end of the notebook\n",
    "# Exercise: Read kor-tourist-departures.csv into a df called kto_depart_df\n",
    "#\n",
    "kto_depart_df = pd.read_csv('kor-tourist-departures.csv')\n",
    "\n",
    "# Exercise: Add a column called 'visitor_departures_m'. This is the column 'visitor_departures'\n",
    "# divided by 1000000\n",
    "#\n",
    "kto_depart_df['visitor_departures_m'] = kto_depart_df['visitor_departures'].apply(lambda n : n/1000000)"
   ]
  },
  {
   "cell_type": "code",
   "execution_count": null,
   "metadata": {
    "ExecuteTime": {
     "end_time": "2018-10-14T03:41:53.401124Z",
     "start_time": "2018-10-14T03:41:52.779881Z"
    },
    "scrolled": false
   },
   "outputs": [],
   "source": [
    "# Plot the line graph where the x-axis is the year and the y-axis is the no. of tourists, in millions\n",
    "fig = plt.figure(figsize=DIMS)\n",
    "ax1 = fig.add_subplot(111)\n",
    "\n",
    "# Your turn: add your code below\n"
   ]
  },
  {
   "cell_type": "markdown",
   "metadata": {},
   "source": [
    "**Libraries**\n",
    "- [matplotlib](https://matplotlib.org/gallery/index.html)\n",
    "- [seaborn](https://seaborn.pydata.org/examples/index.html)\n",
    "\n",
    "**Credits**\n",
    "- [Korea Tourism Organisation](https://kto.visitkorea.or.kr/eng/tourismStatics/keyFacts/visitorArrivals.kto) for Dataset 1 & 7\n",
    "- [Singstat](https://www.singstat.gov.sg/find-data/search-by-theme/population/births-and-fertility/latest-data) for Dataset 2\n",
    "- [data.gov.sg](https://data.gov.sg/dataset/hospital-admissions) for Dataset 3\n",
    "- [Kaggle](https://www.kaggle.com/monkeasy/exploring-gender-equality-in-us-wages/data) for Dataset 4\n",
    "- [Yahoo Finance GOOG](https://finance.yahoo.com/quote/GOOG) and [Yahoo Finance AAPL](https://finance.yahoo.com/quote/AAPL) for Dataset 5 & 6\n",
    "\n",
    "\n",
    "**Liability Disclaimer**\n",
    "<p style=\"font-size:10px\">Notwithstanding any other provision of other agreements between Hackwagon and its trainees, in no event shall any party be liable to another party for any loss of anticipated profits or other consequential, special or indirect loss or damage of any nature arising at any time, whether arising under contract, tort (including negligence), strict liability or for any other cause whatsoever. The trainee understands and agrees that algorithms taught for financial markets are volatile and unpredictable in nature and that no warranty, either express or implied, is made by the company with respect thereto. By continuing with the lesson, the trainee agrees implicitly with the statements prior.</p>"
   ]
  }
 ],
 "metadata": {
  "kernelspec": {
   "display_name": "Python 3",
   "language": "python",
   "name": "python3"
  },
  "language_info": {
   "codemirror_mode": {
    "name": "ipython",
    "version": 3
   },
   "file_extension": ".py",
   "mimetype": "text/x-python",
   "name": "python",
   "nbconvert_exporter": "python",
   "pygments_lexer": "ipython3",
   "version": "3.7.3"
  },
  "toc": {
   "base_numbering": 1,
   "nav_menu": {},
   "number_sections": true,
   "sideBar": true,
   "skip_h1_title": false,
   "title_cell": "Table of Contents",
   "title_sidebar": "Contents",
   "toc_cell": false,
   "toc_position": {
    "height": "calc(100% - 180px)",
    "left": "10px",
    "top": "150px",
    "width": "359.594px"
   },
   "toc_section_display": true,
   "toc_window_display": true
  }
 },
 "nbformat": 4,
 "nbformat_minor": 2
}
