{
 "cells": [
  {
   "cell_type": "markdown",
   "metadata": {},
   "source": [
    "# DS102 | In Class Practice Week 3C - Data Visualisation II\n",
    "<hr>\n",
    "\n",
    "## Learning Objectives\n",
    "At the end of the lesson, you will be able to:\n",
    "\n",
    "- create histograms using `matplotlib` library and `seaborn` library\n",
    "\n",
    "- use `pd.cut()` to store values in each bin and use the result to interpret a histogram plot\n",
    "\n",
    "- create a stacked bar chart using `matplotlib` library and `seaborn` library\n",
    "\n",
    "- create multiple plots in the same diagram using `add_subplot()`\n",
    "\n",
    "- create a wordcloud using the `wordcloud` library\n",
    "\n",
    "- plot a `jointplot` to show the joint distributions of 2 metrics\n",
    "\n",
    "\n",
    "## Datasets Required for this In Class\n",
    "\n",
    "In the order they are introduced: \n",
    "1. `loans-25k.csv`\n",
    "\n",
    "2. `loans-descs-100.csv`"
   ]
  },
  {
   "cell_type": "code",
   "execution_count": null,
   "metadata": {
    "ExecuteTime": {
     "end_time": "2019-05-19T15:37:08.735890Z",
     "start_time": "2019-05-19T15:37:07.775372Z"
    }
   },
   "outputs": [],
   "source": [
    "import re\n",
    "import pandas as pd\n",
    "import numpy as np\n",
    "import seaborn as sns\n",
    "import matplotlib.pyplot as plt\n",
    "from wordcloud import WordCloud\n",
    "\n",
    "# Display all floats rounded off to 1 decimal place\n",
    "pd.options.display.float_format = '{:,.2f}'.format\n",
    "# Plot inline in Jupyter notebook\n",
    "%matplotlib inline\n",
    "# Settings throughout the notebook\n",
    "sns.set()\n",
    "# Width = 16, Height = 6\n",
    "DIMS=(16, 6)\n",
    "\n",
    "import warnings\n",
    "warnings.filterwarnings('ignore')"
   ]
  },
  {
   "cell_type": "markdown",
   "metadata": {},
   "source": [
    "Read from `loans-25k.csv` into `loans_df`. Find the properties of the `loans_df`."
   ]
  },
  {
   "cell_type": "code",
   "execution_count": null,
   "metadata": {
    "ExecuteTime": {
     "end_time": "2019-05-19T15:37:10.141121Z",
     "start_time": "2019-05-19T15:37:09.981770Z"
    },
    "scrolled": false
   },
   "outputs": [],
   "source": [
    "## Dataset 1: Credits at the end of the notebook\n",
    "loans_df = pd.read_csv('loans-25k.csv')\n",
    "display(loans_df.describe())\n",
    "display(loans_df.info())"
   ]
  },
  {
   "cell_type": "markdown",
   "metadata": {},
   "source": [
    "## Histogram\n",
    "\n",
    "A histogram is used to plot the **count** of individual observations within a bin. Each bin has **a specified range** as determined by the position and width of the bar.\n",
    "\n",
    "Note: If you see the warning `The 'normed' kwarg is deprecated, and has been replaced by the 'density' kwarg.`, you can ignore it.\n",
    "\n",
    "https://seaborn.pydata.org/generated/seaborn.distplot.html"
   ]
  },
  {
   "cell_type": "code",
   "execution_count": null,
   "metadata": {
    "ExecuteTime": {
     "end_time": "2019-05-19T15:38:04.709505Z",
     "start_time": "2019-05-19T15:38:04.384328Z"
    },
    "scrolled": false
   },
   "outputs": [],
   "source": [
    "fig = plt.figure(figsize=(18, 8))\n",
    "ax1 = fig.add_subplot(111)\n",
    "\n",
    "# Plot a histogram for 'loan_amnt'. Use 15 bins.\n",
    "# Use sns.distplot here. Also, set kde=False as we do not need the Kernel Density Estimate plot shape.\n",
    "# Remember to pass in the axes object.\n",
    "\n",
    "# Set the title and y-axis label.\n",
    "ax1.set_title(\"Histogram of loan amount (USD), 15 bins\", fontsize=16)\n",
    "ax1.set_ylabel(\"No. of borrowers\")\n",
    "\n",
    "plt.show()"
   ]
  },
  {
   "cell_type": "markdown",
   "metadata": {},
   "source": [
    "To understand the left and right limits of each bin, use `pd.cut(Series, bins=bins)`. Store the output in a new column `loan_amnt_bin`. "
   ]
  },
  {
   "cell_type": "code",
   "execution_count": null,
   "metadata": {
    "ExecuteTime": {
     "end_time": "2018-10-14T03:40:29.262709Z",
     "start_time": "2018-10-14T03:40:29.228648Z"
    },
    "scrolled": false
   },
   "outputs": [],
   "source": [
    "# Fill in parameters for pd.cut(), applying it on 'loan_amnt' column. Use 15 bins.\n",
    "loans_df_bin = loans_df.copy()\n",
    "loans_df_bin['loan_amnt_bin'] = pd.cut(...)\n",
    "loans_df_bin.head()"
   ]
  },
  {
   "cell_type": "markdown",
   "metadata": {},
   "source": [
    "Counting the number of observations in each bin, gives the height of each bar in the histogram. The limits of each bin determine the position and width of the bar in the histogram. Use `df.groupby()` and `size()` to get the number of observations in each bin. "
   ]
  },
  {
   "cell_type": "code",
   "execution_count": null,
   "metadata": {
    "ExecuteTime": {
     "end_time": "2018-10-14T03:40:29.291441Z",
     "start_time": "2018-10-14T03:40:29.266305Z"
    }
   },
   "outputs": [],
   "source": [
    "df_bins_count = loans_df_bin.groupby('loan_amnt_bin').size().reset_index(name='n')\n",
    "df_bins_count"
   ]
  },
  {
   "cell_type": "markdown",
   "metadata": {},
   "source": [
    "## Stacked Bar Chart\n",
    "\n",
    "A stacked bar chart can be used to see the number of observations within a cohort, and the cohort's cumulative sum. In this case, we want to see how many loans belonging to each grade divided by its different loan terms. Hence, we group the data by these 2 columns. Use `df.groupby()` and `size()` to perform this counting. Note that `df.groupby()` can take also take in a `list` as its parameter."
   ]
  },
  {
   "cell_type": "code",
   "execution_count": null,
   "metadata": {
    "ExecuteTime": {
     "end_time": "2019-05-19T15:12:00.034896Z",
     "start_time": "2019-05-19T15:11:59.704210Z"
    },
    "scrolled": true
   },
   "outputs": [],
   "source": [
    "term_grade_loans_df = loans_df.copy()\n",
    "term_grade_loans_df = term_grade_loans_df[['id', 'term', 'grade']]\n",
    "\n",
    "# This line uses groupby() to count the number of loans belonging to each term and grade\n",
    "term_grade_loans_agg = term_grade_loans_df.groupby(['term', 'grade']).size().reset_index(name=\"No. of Loans\")\n",
    "term_grade_loans_agg"
   ]
  },
  {
   "cell_type": "markdown",
   "metadata": {},
   "source": [
    "With the aggregated `term_grade_loans_df`, now, represent each `term` as one column. Then, have one column for `36 months` and one column for `60 months` respectively. Additionally, add a column for `grade`. Use `pd.pivot_table()` for this step."
   ]
  },
  {
   "cell_type": "code",
   "execution_count": null,
   "metadata": {
    "ExecuteTime": {
     "end_time": "2018-10-14T03:40:29.363224Z",
     "start_time": "2018-10-14T03:40:29.329717Z"
    },
    "scrolled": true
   },
   "outputs": [],
   "source": [
    "# Complete the pivot_table() method so that rows and columns and 'grade' and 'term' respectively. \n",
    "# Here, we are interested in the total number of loans for each grade and term\n",
    "term_grade_loans_pivot = pd.pivot_table(term_grade_loans_agg, index=[''], columns=[''],\n",
    "                                        values='', aggfunc=)\n",
    "\n",
    "# This chunk resets the index and set the column names to: 'grade', '36 months', '60 months'\n",
    "term_grade_loans_pivot = term_grade_loans_pivot.reset_index()\n",
    "term_grade_loans_pivot.columns = ['grade', '36_months', '60_months']\n",
    "term_grade_loans_pivot"
   ]
  },
  {
   "cell_type": "markdown",
   "metadata": {},
   "source": [
    "### A Small Detour: Multiple subplots\n",
    "\n",
    "Before plotting the stacked bar graph, plot the individual bar graphs. To have the same plots side-by-side, use `fig.add_subplot()`.\n",
    "\n",
    "There are 3 parameters for this function, all as `int`s. The first is the number of rows, the second is number of columns and the last is the position of the plot. From the top-left, the plots are numbered from 1 and increase as you move right, when the rightmost plot is reached, go to the next row and start from the left again. \n",
    "\n",
    "In this example, there is 1 row and 2 columns. The first plot (position `1`) is the plot on the left and the second plot (position `2`) is the plot on the right. Each of them will be assigned to an `AxePlot` with variables `ax1` and `ax2`.\n",
    "\n",
    "Note that when you create individual plots, set the `ax` parameter to the `ax1` or `ax2` variable. \n",
    "\n",
    "Also, when plots are side-by-side, **the $y$-axis should reflect the same scale**.\n",
    "\n",
    "https://seaborn.pydata.org/generated/seaborn.barplot.html"
   ]
  },
  {
   "cell_type": "code",
   "execution_count": null,
   "metadata": {
    "ExecuteTime": {
     "end_time": "2018-10-14T03:40:29.938958Z",
     "start_time": "2018-10-14T03:40:29.368585Z"
    },
    "scrolled": false
   },
   "outputs": [],
   "source": [
    "fig = plt.figure(figsize=(16, 7))\n",
    "\n",
    "# Recap: explanation for fig.add_subplot()\n",
    "# The first number is the no. of rows. \n",
    "# The second number is the no. of columns.\n",
    "# The third number is the plot number. Count right, then count down.\n",
    "ax1 = fig.add_subplot(1,2,1)\n",
    "ax2 = fig.add_subplot(1,2,2)\n",
    "\n",
    "# Complete sns.barplot() to plot for 36 months with color 'tomato'\n",
    "sns.barplot(x=, y=, ax=, color='tomato')\n",
    "ax1.set_ylabel(\"No. of Loans\")\n",
    "ax1.set_title(\"No. of Loans by Grade, 36 Months Term\")\n",
    "\n",
    "# Complete sns.barplot() to plot for 60 months with color 'skyblue'\n",
    "sns.barplot(x=, y=, ax=, data=, color='skyblue')\n",
    "ax2.set_title(\"No. of Loans by Grade, 60 Months Term\")\n",
    "ax2.set_ylabel(\"No. of Loans\")\n",
    "\n",
    "# Set the scale of the plots to be the same.\n",
    "ax1.set_yticks(np.arange(0, 7500, 1000))\n",
    "ax2.set_yticks(np.arange(0, 7500, 1000))\n",
    "\n",
    "# Show the graph\n",
    "plt.show()"
   ]
  },
  {
   "cell_type": "markdown",
   "metadata": {},
   "source": [
    "To plot the stacked bar graph, simply use `stacked=True` when you plot the graph from the `DataFrame`. Note that for this, the column that you would like to be the $x$-axis **needs** to be the index. Set the index by using `set_index`."
   ]
  },
  {
   "cell_type": "code",
   "execution_count": null,
   "metadata": {
    "ExecuteTime": {
     "end_time": "2018-10-14T03:40:29.967630Z",
     "start_time": "2018-10-14T03:40:29.943445Z"
    }
   },
   "outputs": [],
   "source": [
    "term_grade_loans_pivot_grade_i = term_grade_loans_pivot.set_index('grade')\n",
    "term_grade_loans_pivot_grade_i"
   ]
  },
  {
   "cell_type": "code",
   "execution_count": null,
   "metadata": {
    "ExecuteTime": {
     "end_time": "2018-10-14T03:40:30.422044Z",
     "start_time": "2018-10-14T03:40:29.971401Z"
    },
    "scrolled": false
   },
   "outputs": [],
   "source": [
    "# Run this chunk to plot the stacked bar chart here. Note that stacked=True\n",
    "fig, ax1 = plt.subplots()\n",
    "term_grade_loans_pivot_grade_i.plot(kind='bar', stacked=True, figsize=DIMS, \n",
    "                                    title=\"No. of Loans by Grade\", ax=ax1)\n",
    "ax1.set_ylabel(\"No. of Loans\")\n",
    "plt.show()"
   ]
  },
  {
   "cell_type": "markdown",
   "metadata": {},
   "source": [
    "## Wordcloud\n",
    "\n",
    "A wordcloud is useful to find out what are common words in a corpus of texts. A corpus is simply a collection of text documents. Before building a wordcloud, first collect all the texts.\n",
    "\n",
    "https://amueller.github.io/word_cloud/auto_examples/colored.html"
   ]
  },
  {
   "cell_type": "code",
   "execution_count": null,
   "metadata": {
    "ExecuteTime": {
     "end_time": "2018-10-14T03:40:30.455555Z",
     "start_time": "2018-10-14T03:40:30.428748Z"
    }
   },
   "outputs": [],
   "source": [
    "# Dataset 2: Credits at the end of the notebook\n",
    "desc_df = pd.read_csv('loans-descs-100.csv', sep='|')\n",
    "desc_df.sample(3) # Sample 3 of the records"
   ]
  },
  {
   "cell_type": "code",
   "execution_count": null,
   "metadata": {},
   "outputs": [],
   "source": [
    "descriptions_series = desc_df['desc']"
   ]
  },
  {
   "cell_type": "code",
   "execution_count": null,
   "metadata": {
    "ExecuteTime": {
     "end_time": "2018-10-14T03:40:30.476684Z",
     "start_time": "2018-10-14T03:40:30.467961Z"
    }
   },
   "outputs": [],
   "source": [
    "# Repeatedly execute this cell to look at the text of each desc.\n",
    "descriptions_series.sample(1).iloc[0]"
   ]
  },
  {
   "cell_type": "markdown",
   "metadata": {},
   "source": [
    "To build a wordcloud, all the descriptions need to be connected to form a long string. But, some cleaning needs to be done first. The next steps are used to collect these words:\n",
    "\n",
    "1. Remove `Borrower added on.. >` in the beginning of the string\n",
    "2. Remove HTML tags from the descriptions\n",
    "3. Remove special characters from the descriptions. Remove trailing and leading spaces, convert all words to lower case"
   ]
  },
  {
   "cell_type": "code",
   "execution_count": null,
   "metadata": {
    "ExecuteTime": {
     "end_time": "2018-10-14T03:40:30.486297Z",
     "start_time": "2018-10-14T03:40:30.480744Z"
    }
   },
   "outputs": [],
   "source": [
    "descriptions_list = descriptions_series.tolist() # convert series to list\n",
    "descriptions_list[0:5]"
   ]
  },
  {
   "cell_type": "code",
   "execution_count": null,
   "metadata": {
    "ExecuteTime": {
     "end_time": "2018-10-14T03:40:30.499164Z",
     "start_time": "2018-10-14T03:40:30.490115Z"
    }
   },
   "outputs": [],
   "source": [
    "clean_descriptions = []\n",
    "for desc in descriptions_list:\n",
    "    # Remove the first bunch of letters\n",
    "    desc = re.sub('Borrower added on (\\d/?)+\\s>', '', desc)\n",
    "    \n",
    "    # Remove HTML tags\n",
    "    desc = re.sub('<[a-z]+/?>', '', desc)\n",
    "    \n",
    "    # Remove special characters\n",
    "    desc = re.sub('[-_,$&!.;%]', '', desc)\n",
    "    \n",
    "    # Convert to lower case, remove leading and trailing spaces\n",
    "    desc = desc.strip().lower()\n",
    "    \n",
    "    clean_descriptions.append(desc)\n",
    "\n",
    "clean_descriptions[0:5]"
   ]
  },
  {
   "cell_type": "markdown",
   "metadata": {},
   "source": [
    "Finally when all the words are cleaned, concatenate them to form a long string. Finally, use `WordCloud` to plot the wordcloud. Note that the larger the word, the more commmon the word appears in the corpus."
   ]
  },
  {
   "cell_type": "code",
   "execution_count": null,
   "metadata": {
    "ExecuteTime": {
     "end_time": "2018-10-14T03:40:30.508462Z",
     "start_time": "2018-10-14T03:40:30.503039Z"
    }
   },
   "outputs": [],
   "source": [
    "long_str_descriptions = \" \".join(clean_descriptions)\n",
    "long_str_descriptions[:500]"
   ]
  },
  {
   "cell_type": "markdown",
   "metadata": {},
   "source": [
    "Now, we are ready to use our preprocessed text data to create a wordcloud!\n",
    "\n",
    "https://amueller.github.io/word_cloud/generated/wordcloud.WordCloud.html#wordcloud.WordCloud\n",
    "\n",
    "https://matplotlib.org/api/_as_gen/matplotlib.pyplot.imshow.html"
   ]
  },
  {
   "cell_type": "code",
   "execution_count": null,
   "metadata": {
    "ExecuteTime": {
     "end_time": "2018-10-14T03:40:31.181215Z",
     "start_time": "2018-10-14T03:40:30.511832Z"
    },
    "scrolled": false
   },
   "outputs": [],
   "source": [
    "plt.figure(figsize=(15,8))\n",
    "\n",
    "# create wordcloud here\n",
    "plt.figure(figsize=(15,8))\n",
    "wc = WordCloud(width=400, height=150, background_color=\"white\", max_words=150, relative_scaling=)\n",
    "desc_wordcloud = wc.generate(...)\n",
    "\n",
    "plt.imshow(...)\n",
    "plt.axis(\"off\")\n",
    "plt.title(\"Wordcloud of loan descriptions\", fontsize=20)\n",
    "plt.show()"
   ]
  },
  {
   "cell_type": "markdown",
   "metadata": {},
   "source": [
    "## Self-Study: Jointplot\n",
    "\n",
    "A jointplot is used to see the **joint observation** of datapoints. One axis will show the distribution of one metric while the other axis will show the distribution of the other metric. \n",
    "\n",
    "Each hexagon **exists in a 2 dimensional space** that represents a bin corresponding to the **<u>concurrent</u> observation of $X=x$ and $Y=y$**. In this plot, the darker the hexagon, the more observations are in that bin.\n",
    "\n",
    "https://seaborn.pydata.org/generated/seaborn.jointplot.html"
   ]
  },
  {
   "cell_type": "code",
   "execution_count": null,
   "metadata": {
    "ExecuteTime": {
     "end_time": "2018-10-14T03:40:31.239097Z",
     "start_time": "2018-10-14T03:40:31.185447Z"
    }
   },
   "outputs": [],
   "source": [
    "## Dataset 1: Credits at the end of the notebook\n",
    "loans_df = pd.read_csv('loans-25k.csv')\n",
    "loans_df.head()"
   ]
  },
  {
   "cell_type": "code",
   "execution_count": null,
   "metadata": {
    "ExecuteTime": {
     "end_time": "2018-10-14T03:40:32.391168Z",
     "start_time": "2018-10-14T03:40:31.242023Z"
    }
   },
   "outputs": [],
   "source": [
    "fig = plt.figure()\n",
    "# Plot the joint plot here. Set the x, y and kind='hex' parameter\n",
    "g = sns.jointplot(data=loans_df, x = 'loan_amnt', y = 'int_rate', kind='hex')\n",
    "# Set the size of the plot and the title.\n",
    "g.fig.suptitle('Loan Amount vs. Interest Rate of loans')\n",
    "g.fig.set_size_inches(8,8)\n",
    "# Shrink the plot by 10% so the title is visible.\n",
    "plt.subplots_adjust(top=0.9)"
   ]
  },
  {
   "cell_type": "markdown",
   "metadata": {},
   "source": [
    "# Additional Exercises\n",
    "## Exercise 1\n",
    "\n",
    "Given `loans_df` which reads from the same dataset, plot a histogram where the $x$-axis represents the different types of `home_ownership` and the $y$-axis represents the number of loans whose members have that particular home ownership. Filter only for `home_ownership` with the values `'MORTGAGE', 'OWN', 'RENT'`."
   ]
  },
  {
   "cell_type": "code",
   "execution_count": null,
   "metadata": {
    "ExecuteTime": {
     "end_time": "2018-10-14T03:40:32.852883Z",
     "start_time": "2018-10-14T03:40:32.395309Z"
    },
    "scrolled": false
   },
   "outputs": [],
   "source": [
    "# Exercise 1\n",
    "# Write your code here\n",
    "l_df = pd.read_csv('loans-25k.csv')\n",
    "l_df = l_df[l_df['home_ownership'].isin(['MORTGAGE', 'OWN', 'RENT'])]\n",
    "l_df_agg = l_df.groupby('home_ownership').size().reset_index(name='No. of Loans')\n",
    "ax = l_df_agg.plot(kind='bar', x='home_ownership', y='No. of Loans', \n",
    "              title=\"No. of Loans by Home Ownership\", figsize=DIMS)\n",
    "plt.ylabel(\"No. of Loans\")\n",
    "plt.xlabel(\"Type of Home Ownership\")\n",
    "plt.show()"
   ]
  },
  {
   "cell_type": "markdown",
   "metadata": {},
   "source": [
    "## Exercise 2\n",
    "\n",
    "Given `term_grade_loans_pivot` which has the number of loans in each grade, per term, plot a clustered bar graph where each cluster on the $x$-axis represents a grade and the $y$-axis represents the number of loans."
   ]
  },
  {
   "cell_type": "code",
   "execution_count": null,
   "metadata": {
    "ExecuteTime": {
     "end_time": "2018-10-14T03:40:32.939133Z",
     "start_time": "2018-10-14T03:40:32.855972Z"
    }
   },
   "outputs": [],
   "source": [
    "# l_df_agg_pivot is given to you.\n",
    "l_df = pd.read_csv('loans-25k.csv')\n",
    "l_df_agg = l_df.groupby(['term', 'grade']).size().reset_index(name=\"No. of Loans\")\n",
    "# Create the term_grade_loans_pivot where the index is grade and the columns are the different terms\n",
    "l_df_agg_pivot = pd.pivot_table(l_df_agg, \n",
    "                                index=['grade'], columns=['term'],\n",
    "                                values='No. of Loans', aggfunc=np.sum)\n",
    "# Then reset the index and set the columns to be 3 columns: 'grade', '36 months', '60 months'\n",
    "l_df_agg_pivot = l_df_agg_pivot.reset_index()\n",
    "l_df_agg_pivot.columns = ['grade', '36 months', '60 months']\n",
    "print(l_df_agg_pivot)"
   ]
  },
  {
   "cell_type": "code",
   "execution_count": null,
   "metadata": {
    "ExecuteTime": {
     "end_time": "2018-10-14T03:40:33.528692Z",
     "start_time": "2018-10-14T03:40:32.942355Z"
    }
   },
   "outputs": [],
   "source": [
    "# Exercise 2 - Plot the clustered bar plot. \n",
    "# Hint: Refer to Data Visualisation I to get the code for the clustered bar plot.\n",
    "width=0.20\n",
    "\n",
    "#Create the figure\n",
    "fig = plt.figure(figsize=DIMS)\n",
    "\n",
    "#Add the subplot\n",
    "ax = fig.add_subplot(111)\n",
    "\n",
    "#Plot the values\n",
    "term_grade_loans_pivot.plot(kind='bar', x='grade', y='36 months', \n",
    "                            ax=ax, position=1, width=width, color='steelblue')\n",
    "term_grade_loans_pivot.plot(kind='bar', x='grade', y='60 months', \n",
    "                            ax=ax, position=2, width=width, color='tomato')\n",
    "\n",
    "# Your turn: Add the title of the plot\n",
    "ax.set_title(\"No. of loans by grade, by term\")\n",
    "\n",
    "#Finally, show the plot\n",
    "plt.show()"
   ]
  },
  {
   "cell_type": "markdown",
   "metadata": {},
   "source": [
    "**Credits**\n",
    "- [Kaggle](https://www.kaggle.com/wendykan/lending-club-loan-data) for Dataset 1 & 2\n",
    "- [Kaggle](https://www.kaggle.com/monkeasy/exploring-gender-equality-in-us-wages/data) for Dataset 3"
   ]
  }
 ],
 "metadata": {
  "kernelspec": {
   "display_name": "Python 3",
   "language": "python",
   "name": "python3"
  },
  "language_info": {
   "codemirror_mode": {
    "name": "ipython",
    "version": 3
   },
   "file_extension": ".py",
   "mimetype": "text/x-python",
   "name": "python",
   "nbconvert_exporter": "python",
   "pygments_lexer": "ipython3",
   "version": "3.7.3"
  },
  "toc": {
   "base_numbering": 1,
   "nav_menu": {},
   "number_sections": true,
   "sideBar": true,
   "skip_h1_title": false,
   "title_cell": "Table of Contents",
   "title_sidebar": "Contents",
   "toc_cell": false,
   "toc_position": {},
   "toc_section_display": true,
   "toc_window_display": true
  }
 },
 "nbformat": 4,
 "nbformat_minor": 2
}
