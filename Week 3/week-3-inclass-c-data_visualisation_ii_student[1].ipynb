{
 "cells": [
  {
   "cell_type": "markdown",
   "metadata": {},
   "source": [
    "# DS102 | In Class Practice Week 3C - Data Visualisation II\n",
    "<hr>\n",
    "\n",
    "## Learning Objectives\n",
    "At the end of the lesson, you will be able to:\n",
    "\n",
    "- create histograms using `matplotlib` library and `seaborn` library\n",
    "\n",
    "- use `pd.cut()` to store values in each bin and use the result to interpret a histogram plot\n",
    "\n",
    "- create a stacked bar chart using `matplotlib` library and `seaborn` library\n",
    "\n",
    "- create multiple plots in the same diagram using `add_subplot()`\n",
    "\n",
    "- create a wordcloud using the `wordcloud` library\n",
    "\n",
    "- plot a `jointplot` to show the joint distributions of 2 metrics\n",
    "\n",
    "\n",
    "## Datasets Required for this In Class\n",
    "\n",
    "In the order they are introduced: \n",
    "1. `loans-25k.csv`\n",
    "\n",
    "2. `loans-descs-100.csv`"
   ]
  },
  {
   "cell_type": "code",
   "execution_count": 6,
   "metadata": {
    "ExecuteTime": {
     "end_time": "2019-05-19T15:37:08.735890Z",
     "start_time": "2019-05-19T15:37:07.775372Z"
    }
   },
   "outputs": [],
   "source": [
    "import re\n",
    "import pandas as pd\n",
    "import numpy as np\n",
    "import seaborn as sns\n",
    "import matplotlib.pyplot as plt\n",
    "from wordcloud import WordCloud\n",
    "\n",
    "# Display all floats rounded off to 1 decimal place\n",
    "pd.options.display.float_format = '{:,.2f}'.format\n",
    "# Plot inline in Jupyter notebook\n",
    "%matplotlib inline\n",
    "# Settings throughout the notebook\n",
    "sns.set()\n",
    "# Width = 16, Height = 6\n",
    "DIMS=(16, 6)\n",
    "\n",
    "import warnings\n",
    "warnings.filterwarnings('ignore')"
   ]
  },
  {
   "cell_type": "code",
   "execution_count": 7,
   "metadata": {},
   "outputs": [
    {
     "name": "stdout",
     "output_type": "stream",
     "text": [
      "Requirement already satisfied: wordcloud in c:\\users\\victo\\anaconda3\\lib\\site-packages (1.5.0)\n",
      "Requirement already satisfied: pillow in c:\\users\\victo\\anaconda3\\lib\\site-packages (from wordcloud) (5.4.1)\n",
      "Requirement already satisfied: numpy>=1.6.1 in c:\\users\\victo\\anaconda3\\lib\\site-packages (from wordcloud) (1.16.2)\n"
     ]
    }
   ],
   "source": [
    "!pip install wordcloud"
   ]
  },
  {
   "cell_type": "markdown",
   "metadata": {},
   "source": [
    "Read from `loans-25k.csv` into `loans_df`. Find the properties of the `loans_df`."
   ]
  },
  {
   "cell_type": "code",
   "execution_count": 10,
   "metadata": {
    "ExecuteTime": {
     "end_time": "2019-05-19T15:37:10.141121Z",
     "start_time": "2019-05-19T15:37:09.981770Z"
    },
    "scrolled": false
   },
   "outputs": [
    {
     "data": {
      "text/html": [
       "<div>\n",
       "<style scoped>\n",
       "    .dataframe tbody tr th:only-of-type {\n",
       "        vertical-align: middle;\n",
       "    }\n",
       "\n",
       "    .dataframe tbody tr th {\n",
       "        vertical-align: top;\n",
       "    }\n",
       "\n",
       "    .dataframe thead th {\n",
       "        text-align: right;\n",
       "    }\n",
       "</style>\n",
       "<table border=\"1\" class=\"dataframe\">\n",
       "  <thead>\n",
       "    <tr style=\"text-align: right;\">\n",
       "      <th></th>\n",
       "      <th>id</th>\n",
       "      <th>member_id</th>\n",
       "      <th>annual_inc</th>\n",
       "      <th>loan_amnt</th>\n",
       "      <th>int_rate</th>\n",
       "    </tr>\n",
       "  </thead>\n",
       "  <tbody>\n",
       "    <tr>\n",
       "      <th>count</th>\n",
       "      <td>25,000.00</td>\n",
       "      <td>25,000.00</td>\n",
       "      <td>25,000.00</td>\n",
       "      <td>25,000.00</td>\n",
       "      <td>25,000.00</td>\n",
       "    </tr>\n",
       "    <tr>\n",
       "      <th>mean</th>\n",
       "      <td>32,487,958.73</td>\n",
       "      <td>35,026,395.76</td>\n",
       "      <td>74,928.08</td>\n",
       "      <td>14,696.63</td>\n",
       "      <td>13.23</td>\n",
       "    </tr>\n",
       "    <tr>\n",
       "      <th>std</th>\n",
       "      <td>22,836,729.65</td>\n",
       "      <td>24,123,577.50</td>\n",
       "      <td>53,596.50</td>\n",
       "      <td>8,445.25</td>\n",
       "      <td>4.36</td>\n",
       "    </tr>\n",
       "    <tr>\n",
       "      <th>min</th>\n",
       "      <td>57,245.00</td>\n",
       "      <td>98,268.00</td>\n",
       "      <td>0.00</td>\n",
       "      <td>500.00</td>\n",
       "      <td>5.32</td>\n",
       "    </tr>\n",
       "    <tr>\n",
       "      <th>25%</th>\n",
       "      <td>9,252,315.00</td>\n",
       "      <td>11,030,127.75</td>\n",
       "      <td>45,000.00</td>\n",
       "      <td>8,000.00</td>\n",
       "      <td>9.99</td>\n",
       "    </tr>\n",
       "    <tr>\n",
       "      <th>50%</th>\n",
       "      <td>34,423,708.50</td>\n",
       "      <td>37,086,239.00</td>\n",
       "      <td>64,000.00</td>\n",
       "      <td>12,837.50</td>\n",
       "      <td>12.99</td>\n",
       "    </tr>\n",
       "    <tr>\n",
       "      <th>75%</th>\n",
       "      <td>54,931,015.75</td>\n",
       "      <td>58,484,786.50</td>\n",
       "      <td>90,000.00</td>\n",
       "      <td>20,000.00</td>\n",
       "      <td>16.20</td>\n",
       "    </tr>\n",
       "    <tr>\n",
       "      <th>max</th>\n",
       "      <td>68,616,060.00</td>\n",
       "      <td>73,518,868.00</td>\n",
       "      <td>2,548,000.00</td>\n",
       "      <td>35,000.00</td>\n",
       "      <td>28.99</td>\n",
       "    </tr>\n",
       "  </tbody>\n",
       "</table>\n",
       "</div>"
      ],
      "text/plain": [
       "                 id     member_id   annual_inc  loan_amnt  int_rate\n",
       "count     25,000.00     25,000.00    25,000.00  25,000.00 25,000.00\n",
       "mean  32,487,958.73 35,026,395.76    74,928.08  14,696.63     13.23\n",
       "std   22,836,729.65 24,123,577.50    53,596.50   8,445.25      4.36\n",
       "min       57,245.00     98,268.00         0.00     500.00      5.32\n",
       "25%    9,252,315.00 11,030,127.75    45,000.00   8,000.00      9.99\n",
       "50%   34,423,708.50 37,086,239.00    64,000.00  12,837.50     12.99\n",
       "75%   54,931,015.75 58,484,786.50    90,000.00  20,000.00     16.20\n",
       "max   68,616,060.00 73,518,868.00 2,548,000.00  35,000.00     28.99"
      ]
     },
     "metadata": {},
     "output_type": "display_data"
    },
    {
     "name": "stdout",
     "output_type": "stream",
     "text": [
      "<class 'pandas.core.frame.DataFrame'>\n",
      "RangeIndex: 25000 entries, 0 to 24999\n",
      "Data columns (total 9 columns):\n",
      "id                25000 non-null int64\n",
      "member_id         25000 non-null int64\n",
      "annual_inc        25000 non-null float64\n",
      "home_ownership    25000 non-null object\n",
      "purpose           25000 non-null object\n",
      "loan_amnt         25000 non-null float64\n",
      "int_rate          25000 non-null float64\n",
      "term              25000 non-null object\n",
      "grade             25000 non-null object\n",
      "dtypes: float64(3), int64(2), object(4)\n",
      "memory usage: 1.7+ MB\n"
     ]
    },
    {
     "data": {
      "text/plain": [
       "None"
      ]
     },
     "metadata": {},
     "output_type": "display_data"
    },
    {
     "data": {
      "text/html": [
       "<div>\n",
       "<style scoped>\n",
       "    .dataframe tbody tr th:only-of-type {\n",
       "        vertical-align: middle;\n",
       "    }\n",
       "\n",
       "    .dataframe tbody tr th {\n",
       "        vertical-align: top;\n",
       "    }\n",
       "\n",
       "    .dataframe thead th {\n",
       "        text-align: right;\n",
       "    }\n",
       "</style>\n",
       "<table border=\"1\" class=\"dataframe\">\n",
       "  <thead>\n",
       "    <tr style=\"text-align: right;\">\n",
       "      <th></th>\n",
       "      <th>id</th>\n",
       "      <th>member_id</th>\n",
       "      <th>annual_inc</th>\n",
       "      <th>home_ownership</th>\n",
       "      <th>purpose</th>\n",
       "      <th>loan_amnt</th>\n",
       "      <th>int_rate</th>\n",
       "      <th>term</th>\n",
       "      <th>grade</th>\n",
       "    </tr>\n",
       "  </thead>\n",
       "  <tbody>\n",
       "    <tr>\n",
       "      <th>0</th>\n",
       "      <td>63459002</td>\n",
       "      <td>67801839</td>\n",
       "      <td>131,000.00</td>\n",
       "      <td>MORTGAGE</td>\n",
       "      <td>credit_card</td>\n",
       "      <td>35,000.00</td>\n",
       "      <td>8.18</td>\n",
       "      <td>36 months</td>\n",
       "      <td>B</td>\n",
       "    </tr>\n",
       "    <tr>\n",
       "      <th>1</th>\n",
       "      <td>2224979</td>\n",
       "      <td>2637150</td>\n",
       "      <td>125,000.00</td>\n",
       "      <td>MORTGAGE</td>\n",
       "      <td>debt_consolidation</td>\n",
       "      <td>29,700.00</td>\n",
       "      <td>15.31</td>\n",
       "      <td>60 months</td>\n",
       "      <td>C</td>\n",
       "    </tr>\n",
       "    <tr>\n",
       "      <th>2</th>\n",
       "      <td>5979460</td>\n",
       "      <td>7451906</td>\n",
       "      <td>36,070.00</td>\n",
       "      <td>MORTGAGE</td>\n",
       "      <td>debt_consolidation</td>\n",
       "      <td>6,700.00</td>\n",
       "      <td>7.90</td>\n",
       "      <td>36 months</td>\n",
       "      <td>A</td>\n",
       "    </tr>\n",
       "    <tr>\n",
       "      <th>3</th>\n",
       "      <td>57126822</td>\n",
       "      <td>60829645</td>\n",
       "      <td>90,000.00</td>\n",
       "      <td>RENT</td>\n",
       "      <td>credit_card</td>\n",
       "      <td>18,000.00</td>\n",
       "      <td>8.18</td>\n",
       "      <td>60 months</td>\n",
       "      <td>B</td>\n",
       "    </tr>\n",
       "    <tr>\n",
       "      <th>4</th>\n",
       "      <td>1445209</td>\n",
       "      <td>1697667</td>\n",
       "      <td>90,000.00</td>\n",
       "      <td>MORTGAGE</td>\n",
       "      <td>small_business</td>\n",
       "      <td>18,000.00</td>\n",
       "      <td>7.62</td>\n",
       "      <td>36 months</td>\n",
       "      <td>A</td>\n",
       "    </tr>\n",
       "  </tbody>\n",
       "</table>\n",
       "</div>"
      ],
      "text/plain": [
       "         id  member_id  annual_inc home_ownership             purpose  \\\n",
       "0  63459002   67801839  131,000.00       MORTGAGE         credit_card   \n",
       "1   2224979    2637150  125,000.00       MORTGAGE  debt_consolidation   \n",
       "2   5979460    7451906   36,070.00       MORTGAGE  debt_consolidation   \n",
       "3  57126822   60829645   90,000.00           RENT         credit_card   \n",
       "4   1445209    1697667   90,000.00       MORTGAGE      small_business   \n",
       "\n",
       "   loan_amnt  int_rate        term grade  \n",
       "0  35,000.00      8.18   36 months     B  \n",
       "1  29,700.00     15.31   60 months     C  \n",
       "2   6,700.00      7.90   36 months     A  \n",
       "3  18,000.00      8.18   60 months     B  \n",
       "4  18,000.00      7.62   36 months     A  "
      ]
     },
     "metadata": {},
     "output_type": "display_data"
    }
   ],
   "source": [
    "## Dataset 1: Credits at the end of the notebook\n",
    "loans_df = pd.read_csv('loans-25k.csv')\n",
    "display(loans_df.describe())\n",
    "display(loans_df.info())\n",
    "display(loans_df.head())"
   ]
  },
  {
   "cell_type": "markdown",
   "metadata": {},
   "source": [
    "## Histogram\n",
    "\n",
    "A histogram is used to plot the **count** of individual observations within a bin. Each bin has **a specified range** as determined by the position and width of the bar.\n",
    "\n",
    "Note: If you see the warning `The 'normed' kwarg is deprecated, and has been replaced by the 'density' kwarg.`, you can ignore it.\n",
    "\n",
    "https://seaborn.pydata.org/generated/seaborn.distplot.html"
   ]
  },
  {
   "cell_type": "code",
   "execution_count": 19,
   "metadata": {
    "ExecuteTime": {
     "end_time": "2019-05-19T15:38:04.709505Z",
     "start_time": "2019-05-19T15:38:04.384328Z"
    },
    "scrolled": false
   },
   "outputs": [
    {
     "data": {
      "image/png": "[encoded data removed]",
      "text/plain": [
       "<Figure size 1296x576 with 1 Axes>"
      ]
     },
     "metadata": {},
     "output_type": "display_data"
    }
   ],
   "source": [
    "fig = plt.figure(figsize=(18, 8))\n",
    "ax1 = fig.add_subplot(111)\n",
    "\n",
    "# Plot a histogram for 'loan_amnt'. Use 15 bins.\n",
    "# Use sns.distplot here. Also, set kde=False as we do not need the Kernel Density Estimate plot shape.\n",
    "# Remember to pass in the axes object.\n",
    "sns.distplot(loans_df['loan_amnt'], kde=False, ax=ax1, bins=15)\n",
    "\n",
    "# Set the title and y-axis label.\n",
    "ax1.set_title(\"Histogram of loan amount (USD), 15 bins\", fontsize=16)\n",
    "ax1.set_ylabel(\"No. of borrowers\")\n",
    "\n",
    "plt.show()"
   ]
  },
  {
   "cell_type": "markdown",
   "metadata": {},
   "source": [
    "To understand the left and right limits of each bin, use `pd.cut(Series, bins=bins)`. Store the output in a new column `loan_amnt_bin`. "
   ]
  },
  {
   "cell_type": "code",
   "execution_count": 28,
   "metadata": {
    "ExecuteTime": {
     "end_time": "2018-10-14T03:40:29.262709Z",
     "start_time": "2018-10-14T03:40:29.228648Z"
    },
    "scrolled": false
   },
   "outputs": [
    {
     "data": {
      "text/html": [
       "<div>\n",
       "<style scoped>\n",
       "    .dataframe tbody tr th:only-of-type {\n",
       "        vertical-align: middle;\n",
       "    }\n",
       "\n",
       "    .dataframe tbody tr th {\n",
       "        vertical-align: top;\n",
       "    }\n",
       "\n",
       "    .dataframe thead th {\n",
       "        text-align: right;\n",
       "    }\n",
       "</style>\n",
       "<table border=\"1\" class=\"dataframe\">\n",
       "  <thead>\n",
       "    <tr style=\"text-align: right;\">\n",
       "      <th></th>\n",
       "      <th>id</th>\n",
       "      <th>member_id</th>\n",
       "      <th>annual_inc</th>\n",
       "      <th>home_ownership</th>\n",
       "      <th>purpose</th>\n",
       "      <th>loan_amnt</th>\n",
       "      <th>int_rate</th>\n",
       "      <th>term</th>\n",
       "      <th>grade</th>\n",
       "      <th>loan_amnt_bin</th>\n",
       "    </tr>\n",
       "  </thead>\n",
       "  <tbody>\n",
       "    <tr>\n",
       "      <th>0</th>\n",
       "      <td>63459002</td>\n",
       "      <td>67801839</td>\n",
       "      <td>131,000.00</td>\n",
       "      <td>MORTGAGE</td>\n",
       "      <td>credit_card</td>\n",
       "      <td>35,000.00</td>\n",
       "      <td>8.18</td>\n",
       "      <td>36 months</td>\n",
       "      <td>B</td>\n",
       "      <td>(32700.0, 35000.0]</td>\n",
       "    </tr>\n",
       "    <tr>\n",
       "      <th>1</th>\n",
       "      <td>2224979</td>\n",
       "      <td>2637150</td>\n",
       "      <td>125,000.00</td>\n",
       "      <td>MORTGAGE</td>\n",
       "      <td>debt_consolidation</td>\n",
       "      <td>29,700.00</td>\n",
       "      <td>15.31</td>\n",
       "      <td>60 months</td>\n",
       "      <td>C</td>\n",
       "      <td>(28100.0, 30400.0]</td>\n",
       "    </tr>\n",
       "    <tr>\n",
       "      <th>2</th>\n",
       "      <td>5979460</td>\n",
       "      <td>7451906</td>\n",
       "      <td>36,070.00</td>\n",
       "      <td>MORTGAGE</td>\n",
       "      <td>debt_consolidation</td>\n",
       "      <td>6,700.00</td>\n",
       "      <td>7.90</td>\n",
       "      <td>36 months</td>\n",
       "      <td>A</td>\n",
       "      <td>(5100.0, 7400.0]</td>\n",
       "    </tr>\n",
       "    <tr>\n",
       "      <th>3</th>\n",
       "      <td>57126822</td>\n",
       "      <td>60829645</td>\n",
       "      <td>90,000.00</td>\n",
       "      <td>RENT</td>\n",
       "      <td>credit_card</td>\n",
       "      <td>18,000.00</td>\n",
       "      <td>8.18</td>\n",
       "      <td>60 months</td>\n",
       "      <td>B</td>\n",
       "      <td>(16600.0, 18900.0]</td>\n",
       "    </tr>\n",
       "    <tr>\n",
       "      <th>4</th>\n",
       "      <td>1445209</td>\n",
       "      <td>1697667</td>\n",
       "      <td>90,000.00</td>\n",
       "      <td>MORTGAGE</td>\n",
       "      <td>small_business</td>\n",
       "      <td>18,000.00</td>\n",
       "      <td>7.62</td>\n",
       "      <td>36 months</td>\n",
       "      <td>A</td>\n",
       "      <td>(16600.0, 18900.0]</td>\n",
       "    </tr>\n",
       "  </tbody>\n",
       "</table>\n",
       "</div>"
      ],
      "text/plain": [
       "         id  member_id  annual_inc home_ownership             purpose  \\\n",
       "0  63459002   67801839  131,000.00       MORTGAGE         credit_card   \n",
       "1   2224979    2637150  125,000.00       MORTGAGE  debt_consolidation   \n",
       "2   5979460    7451906   36,070.00       MORTGAGE  debt_consolidation   \n",
       "3  57126822   60829645   90,000.00           RENT         credit_card   \n",
       "4   1445209    1697667   90,000.00       MORTGAGE      small_business   \n",
       "\n",
       "   loan_amnt  int_rate        term grade       loan_amnt_bin  \n",
       "0  35,000.00      8.18   36 months     B  (32700.0, 35000.0]  \n",
       "1  29,700.00     15.31   60 months     C  (28100.0, 30400.0]  \n",
       "2   6,700.00      7.90   36 months     A    (5100.0, 7400.0]  \n",
       "3  18,000.00      8.18   60 months     B  (16600.0, 18900.0]  \n",
       "4  18,000.00      7.62   36 months     A  (16600.0, 18900.0]  "
      ]
     },
     "execution_count": 28,
     "metadata": {},
     "output_type": "execute_result"
    }
   ],
   "source": [
    "# Fill in parameters for pd.cut(), applying it on 'loan_amnt' column. Use 15 bins.\n",
    "loans_df_bin = loans_df.copy()\n",
    "loans_df_bin['loan_amnt_bin'] = pd.cut(loans_df_bin['loan_amnt'], bins = 15)\n",
    "loans_df_bin.head()"
   ]
  },
  {
   "cell_type": "markdown",
   "metadata": {},
   "source": [
    "Counting the number of observations in each bin, gives the height of each bar in the histogram. The limits of each bin determine the position and width of the bar in the histogram. Use `df.groupby()` and `size()` to get the number of observations in each bin. "
   ]
  },
  {
   "cell_type": "code",
   "execution_count": 29,
   "metadata": {
    "ExecuteTime": {
     "end_time": "2018-10-14T03:40:29.291441Z",
     "start_time": "2018-10-14T03:40:29.266305Z"
    }
   },
   "outputs": [
    {
     "data": {
      "text/html": [
       "<div>\n",
       "<style scoped>\n",
       "    .dataframe tbody tr th:only-of-type {\n",
       "        vertical-align: middle;\n",
       "    }\n",
       "\n",
       "    .dataframe tbody tr th {\n",
       "        vertical-align: top;\n",
       "    }\n",
       "\n",
       "    .dataframe thead th {\n",
       "        text-align: right;\n",
       "    }\n",
       "</style>\n",
       "<table border=\"1\" class=\"dataframe\">\n",
       "  <thead>\n",
       "    <tr style=\"text-align: right;\">\n",
       "      <th></th>\n",
       "      <th>loan_amnt_bin</th>\n",
       "      <th>n</th>\n",
       "    </tr>\n",
       "  </thead>\n",
       "  <tbody>\n",
       "    <tr>\n",
       "      <th>0</th>\n",
       "      <td>(465.5, 2800.0]</td>\n",
       "      <td>755</td>\n",
       "    </tr>\n",
       "    <tr>\n",
       "      <th>1</th>\n",
       "      <td>(2800.0, 5100.0]</td>\n",
       "      <td>2162</td>\n",
       "    </tr>\n",
       "    <tr>\n",
       "      <th>2</th>\n",
       "      <td>(5100.0, 7400.0]</td>\n",
       "      <td>2419</td>\n",
       "    </tr>\n",
       "    <tr>\n",
       "      <th>3</th>\n",
       "      <td>(7400.0, 9700.0]</td>\n",
       "      <td>2367</td>\n",
       "    </tr>\n",
       "    <tr>\n",
       "      <th>4</th>\n",
       "      <td>(9700.0, 12000.0]</td>\n",
       "      <td>4436</td>\n",
       "    </tr>\n",
       "    <tr>\n",
       "      <th>5</th>\n",
       "      <td>(12000.0, 14300.0]</td>\n",
       "      <td>1340</td>\n",
       "    </tr>\n",
       "    <tr>\n",
       "      <th>6</th>\n",
       "      <td>(14300.0, 16600.0]</td>\n",
       "      <td>2743</td>\n",
       "    </tr>\n",
       "    <tr>\n",
       "      <th>7</th>\n",
       "      <td>(16600.0, 18900.0]</td>\n",
       "      <td>1400</td>\n",
       "    </tr>\n",
       "    <tr>\n",
       "      <th>8</th>\n",
       "      <td>(18900.0, 21200.0]</td>\n",
       "      <td>2373</td>\n",
       "    </tr>\n",
       "    <tr>\n",
       "      <th>9</th>\n",
       "      <td>(21200.0, 23500.0]</td>\n",
       "      <td>596</td>\n",
       "    </tr>\n",
       "    <tr>\n",
       "      <th>10</th>\n",
       "      <td>(23500.0, 25800.0]</td>\n",
       "      <td>1615</td>\n",
       "    </tr>\n",
       "    <tr>\n",
       "      <th>11</th>\n",
       "      <td>(25800.0, 28100.0]</td>\n",
       "      <td>732</td>\n",
       "    </tr>\n",
       "    <tr>\n",
       "      <th>12</th>\n",
       "      <td>(28100.0, 30400.0]</td>\n",
       "      <td>681</td>\n",
       "    </tr>\n",
       "    <tr>\n",
       "      <th>13</th>\n",
       "      <td>(30400.0, 32700.0]</td>\n",
       "      <td>205</td>\n",
       "    </tr>\n",
       "    <tr>\n",
       "      <th>14</th>\n",
       "      <td>(32700.0, 35000.0]</td>\n",
       "      <td>1176</td>\n",
       "    </tr>\n",
       "  </tbody>\n",
       "</table>\n",
       "</div>"
      ],
      "text/plain": [
       "         loan_amnt_bin     n\n",
       "0      (465.5, 2800.0]   755\n",
       "1     (2800.0, 5100.0]  2162\n",
       "2     (5100.0, 7400.0]  2419\n",
       "3     (7400.0, 9700.0]  2367\n",
       "4    (9700.0, 12000.0]  4436\n",
       "5   (12000.0, 14300.0]  1340\n",
       "6   (14300.0, 16600.0]  2743\n",
       "7   (16600.0, 18900.0]  1400\n",
       "8   (18900.0, 21200.0]  2373\n",
       "9   (21200.0, 23500.0]   596\n",
       "10  (23500.0, 25800.0]  1615\n",
       "11  (25800.0, 28100.0]   732\n",
       "12  (28100.0, 30400.0]   681\n",
       "13  (30400.0, 32700.0]   205\n",
       "14  (32700.0, 35000.0]  1176"
      ]
     },
     "execution_count": 29,
     "metadata": {},
     "output_type": "execute_result"
    }
   ],
   "source": [
    "df_bins_count = loans_df_bin.groupby('loan_amnt_bin').size().reset_index(name='n')\n",
    "df_bins_count"
   ]
  },
  {
   "cell_type": "markdown",
   "metadata": {},
   "source": [
    "## Stacked Bar Chart\n",
    "\n",
    "A stacked bar chart can be used to see the number of observations within a cohort, and the cohort's cumulative sum. In this case, we want to see how many loans belonging to each grade divided by its different loan terms. Hence, we group the data by these 2 columns. Use `df.groupby()` and `size()` to perform this counting. Note that `df.groupby()` can take also take in a `list` as its parameter."
   ]
  },
  {
   "cell_type": "code",
   "execution_count": 30,
   "metadata": {
    "ExecuteTime": {
     "end_time": "2019-05-19T15:12:00.034896Z",
     "start_time": "2019-05-19T15:11:59.704210Z"
    },
    "scrolled": true
   },
   "outputs": [
    {
     "data": {
      "text/html": [
       "<div>\n",
       "<style scoped>\n",
       "    .dataframe tbody tr th:only-of-type {\n",
       "        vertical-align: middle;\n",
       "    }\n",
       "\n",
       "    .dataframe tbody tr th {\n",
       "        vertical-align: top;\n",
       "    }\n",
       "\n",
       "    .dataframe thead th {\n",
       "        text-align: right;\n",
       "    }\n",
       "</style>\n",
       "<table border=\"1\" class=\"dataframe\">\n",
       "  <thead>\n",
       "    <tr style=\"text-align: right;\">\n",
       "      <th></th>\n",
       "      <th>term</th>\n",
       "      <th>grade</th>\n",
       "      <th>No. of Loans</th>\n",
       "    </tr>\n",
       "  </thead>\n",
       "  <tbody>\n",
       "    <tr>\n",
       "      <th>0</th>\n",
       "      <td>36 months</td>\n",
       "      <td>A</td>\n",
       "      <td>4033</td>\n",
       "    </tr>\n",
       "    <tr>\n",
       "      <th>1</th>\n",
       "      <td>36 months</td>\n",
       "      <td>B</td>\n",
       "      <td>6015</td>\n",
       "    </tr>\n",
       "    <tr>\n",
       "      <th>2</th>\n",
       "      <td>36 months</td>\n",
       "      <td>C</td>\n",
       "      <td>4582</td>\n",
       "    </tr>\n",
       "    <tr>\n",
       "      <th>3</th>\n",
       "      <td>36 months</td>\n",
       "      <td>D</td>\n",
       "      <td>2183</td>\n",
       "    </tr>\n",
       "    <tr>\n",
       "      <th>4</th>\n",
       "      <td>36 months</td>\n",
       "      <td>E</td>\n",
       "      <td>626</td>\n",
       "    </tr>\n",
       "  </tbody>\n",
       "</table>\n",
       "</div>"
      ],
      "text/plain": [
       "         term grade  No. of Loans\n",
       "0   36 months     A          4033\n",
       "1   36 months     B          6015\n",
       "2   36 months     C          4582\n",
       "3   36 months     D          2183\n",
       "4   36 months     E           626"
      ]
     },
     "execution_count": 30,
     "metadata": {},
     "output_type": "execute_result"
    }
   ],
   "source": [
    "term_grade_loans_df = loans_df.copy()\n",
    "term_grade_loans_df = term_grade_loans_df[['id', 'term', 'grade']]\n",
    "\n",
    "# This line uses groupby() to count the number of loans belonging to each term and grade\n",
    "term_grade_loans_agg = term_grade_loans_df.groupby(['term', 'grade']).size().reset_index(name=\"No. of Loans\")\n",
    "term_grade_loans_agg.head()"
   ]
  },
  {
   "cell_type": "markdown",
   "metadata": {},
   "source": [
    "With the aggregated `term_grade_loans_df`, now, represent each `term` as one column. Then, have one column for `36 months` and one column for `60 months` respectively. Additionally, add a column for `grade`. Use `pd.pivot_table()` for this step."
   ]
  },
  {
   "cell_type": "code",
   "execution_count": 33,
   "metadata": {
    "ExecuteTime": {
     "end_time": "2018-10-14T03:40:29.363224Z",
     "start_time": "2018-10-14T03:40:29.329717Z"
    },
    "scrolled": true
   },
   "outputs": [
    {
     "data": {
      "text/html": [
       "<div>\n",
       "<style scoped>\n",
       "    .dataframe tbody tr th:only-of-type {\n",
       "        vertical-align: middle;\n",
       "    }\n",
       "\n",
       "    .dataframe tbody tr th {\n",
       "        vertical-align: top;\n",
       "    }\n",
       "\n",
       "    .dataframe thead th {\n",
       "        text-align: right;\n",
       "    }\n",
       "</style>\n",
       "<table border=\"1\" class=\"dataframe\">\n",
       "  <thead>\n",
       "    <tr style=\"text-align: right;\">\n",
       "      <th></th>\n",
       "      <th>grade</th>\n",
       "      <th>36_months</th>\n",
       "      <th>60_months</th>\n",
       "    </tr>\n",
       "  </thead>\n",
       "  <tbody>\n",
       "    <tr>\n",
       "      <th>0</th>\n",
       "      <td>A</td>\n",
       "      <td>4033</td>\n",
       "      <td>139</td>\n",
       "    </tr>\n",
       "    <tr>\n",
       "      <th>1</th>\n",
       "      <td>B</td>\n",
       "      <td>6015</td>\n",
       "      <td>1179</td>\n",
       "    </tr>\n",
       "    <tr>\n",
       "      <th>2</th>\n",
       "      <td>C</td>\n",
       "      <td>4582</td>\n",
       "      <td>2371</td>\n",
       "    </tr>\n",
       "    <tr>\n",
       "      <th>3</th>\n",
       "      <td>D</td>\n",
       "      <td>2183</td>\n",
       "      <td>1737</td>\n",
       "    </tr>\n",
       "    <tr>\n",
       "      <th>4</th>\n",
       "      <td>E</td>\n",
       "      <td>626</td>\n",
       "      <td>1379</td>\n",
       "    </tr>\n",
       "    <tr>\n",
       "      <th>5</th>\n",
       "      <td>F</td>\n",
       "      <td>108</td>\n",
       "      <td>504</td>\n",
       "    </tr>\n",
       "    <tr>\n",
       "      <th>6</th>\n",
       "      <td>G</td>\n",
       "      <td>19</td>\n",
       "      <td>125</td>\n",
       "    </tr>\n",
       "  </tbody>\n",
       "</table>\n",
       "</div>"
      ],
      "text/plain": [
       "  grade  36_months  60_months\n",
       "0     A       4033        139\n",
       "1     B       6015       1179\n",
       "2     C       4582       2371\n",
       "3     D       2183       1737\n",
       "4     E        626       1379\n",
       "5     F        108        504\n",
       "6     G         19        125"
      ]
     },
     "execution_count": 33,
     "metadata": {},
     "output_type": "execute_result"
    }
   ],
   "source": [
    "# Complete the pivot_table() method so that rows and columns and 'grade' and 'term' respectively. \n",
    "# Here, we are interested in the total number of loans for each grade and term\n",
    "term_grade_loans_pivot = pd.pivot_table(term_grade_loans_agg, index=['grade'], columns=['term'],\n",
    "                                        values='No. of Loans', aggfunc= np.sum)\n",
    "\n",
    "# This chunk resets the index and set the column names to: 'grade', '36 months', '60 months'\n",
    "term_grade_loans_pivot = term_grade_loans_pivot.reset_index()\n",
    "term_grade_loans_pivot.columns = ['grade', '36_months', '60_months']\n",
    "term_grade_loans_pivot"
   ]
  },
  {
   "cell_type": "markdown",
   "metadata": {},
   "source": [
    "### A Small Detour: Multiple subplots\n",
    "\n",
    "Before plotting the stacked bar graph, plot the individual bar graphs. To have the same plots side-by-side, use `fig.add_subplot()`.\n",
    "\n",
    "There are 3 parameters for this function, all as `int`s. The first is the number of rows, the second is number of columns and the last is the position of the plot. From the top-left, the plots are numbered from 1 and increase as you move right, when the rightmost plot is reached, go to the next row and start from the left again. \n",
    "\n",
    "In this example, there is 1 row and 2 columns. The first plot (position `1`) is the plot on the left and the second plot (position `2`) is the plot on the right. Each of them will be assigned to an `AxePlot` with variables `ax1` and `ax2`.\n",
    "\n",
    "Note that when you create individual plots, set the `ax` parameter to the `ax1` or `ax2` variable. \n",
    "\n",
    "Also, when plots are side-by-side, **the $y$-axis should reflect the same scale**.\n",
    "\n",
    "https://seaborn.pydata.org/generated/seaborn.barplot.html"
   ]
  },
  {
   "cell_type": "code",
   "execution_count": 35,
   "metadata": {
    "ExecuteTime": {
     "end_time": "2018-10-14T03:40:29.938958Z",
     "start_time": "2018-10-14T03:40:29.368585Z"
    },
    "scrolled": false
   },
   "outputs": [
    {
     "data": {
      "image/png": "[encoded data removed]",
      "text/plain": [
       "<Figure size 1152x504 with 2 Axes>"
      ]
     },
     "metadata": {},
     "output_type": "display_data"
    }
   ],
   "source": [
    "fig = plt.figure(figsize=(16, 7))\n",
    "\n",
    "# Recap: explanation for fig.add_subplot()\n",
    "# The first number is the no. of rows. \n",
    "# The second number is the no. of columns.\n",
    "# The third number is the plot number. Count right, then count down.\n",
    "ax1 = fig.add_subplot(1,2,1)\n",
    "ax2 = fig.add_subplot(1,2,2)\n",
    "\n",
    "# Complete sns.barplot() to plot for 36 months with color 'tomato'\n",
    "sns.barplot(x=term_grade_loans_pivot['grade'], y=term_grade_loans_pivot['36_months'], ax=ax1, color='tomato')\n",
    "ax1.set_ylabel(\"No. of Loans\")\n",
    "ax1.set_title(\"No. of Loans by Grade, 36 Months Term\")\n",
    "\n",
    "# Complete sns.barplot() to plot for 60 months with color 'skyblue'\n",
    "sns.barplot(x='grade', y='60_months', ax=ax2, data=term_grade_loans_pivot, color='skyblue')\n",
    "ax2.set_title(\"No. of Loans by Grade, 60 Months Term\")\n",
    "ax2.set_ylabel(\"No. of Loans\")\n",
    "\n",
    "# Set the scale of the plots to be the same.\n",
    "ax1.set_yticks(np.arange(0, 7500, 1000))\n",
    "ax2.set_yticks(np.arange(0, 7500, 1000))\n",
    "\n",
    "# Show the graph\n",
    "plt.show()"
   ]
  },
  {
   "cell_type": "markdown",
   "metadata": {},
   "source": [
    "To plot the stacked bar graph, simply use `stacked=True` when you plot the graph from the `DataFrame`. Note that for this, the column that you would like to be the $x$-axis **needs** to be the index. Set the index by using `set_index`."
   ]
  },
  {
   "cell_type": "code",
   "execution_count": 36,
   "metadata": {
    "ExecuteTime": {
     "end_time": "2018-10-14T03:40:29.967630Z",
     "start_time": "2018-10-14T03:40:29.943445Z"
    }
   },
   "outputs": [
    {
     "data": {
      "text/html": [
       "<div>\n",
       "<style scoped>\n",
       "    .dataframe tbody tr th:only-of-type {\n",
       "        vertical-align: middle;\n",
       "    }\n",
       "\n",
       "    .dataframe tbody tr th {\n",
       "        vertical-align: top;\n",
       "    }\n",
       "\n",
       "    .dataframe thead th {\n",
       "        text-align: right;\n",
       "    }\n",
       "</style>\n",
       "<table border=\"1\" class=\"dataframe\">\n",
       "  <thead>\n",
       "    <tr style=\"text-align: right;\">\n",
       "      <th></th>\n",
       "      <th>36_months</th>\n",
       "      <th>60_months</th>\n",
       "    </tr>\n",
       "    <tr>\n",
       "      <th>grade</th>\n",
       "      <th></th>\n",
       "      <th></th>\n",
       "    </tr>\n",
       "  </thead>\n",
       "  <tbody>\n",
       "    <tr>\n",
       "      <th>A</th>\n",
       "      <td>4033</td>\n",
       "      <td>139</td>\n",
       "    </tr>\n",
       "    <tr>\n",
       "      <th>B</th>\n",
       "      <td>6015</td>\n",
       "      <td>1179</td>\n",
       "    </tr>\n",
       "    <tr>\n",
       "      <th>C</th>\n",
       "      <td>4582</td>\n",
       "      <td>2371</td>\n",
       "    </tr>\n",
       "    <tr>\n",
       "      <th>D</th>\n",
       "      <td>2183</td>\n",
       "      <td>1737</td>\n",
       "    </tr>\n",
       "    <tr>\n",
       "      <th>E</th>\n",
       "      <td>626</td>\n",
       "      <td>1379</td>\n",
       "    </tr>\n",
       "    <tr>\n",
       "      <th>F</th>\n",
       "      <td>108</td>\n",
       "      <td>504</td>\n",
       "    </tr>\n",
       "    <tr>\n",
       "      <th>G</th>\n",
       "      <td>19</td>\n",
       "      <td>125</td>\n",
       "    </tr>\n",
       "  </tbody>\n",
       "</table>\n",
       "</div>"
      ],
      "text/plain": [
       "       36_months  60_months\n",
       "grade                      \n",
       "A           4033        139\n",
       "B           6015       1179\n",
       "C           4582       2371\n",
       "D           2183       1737\n",
       "E            626       1379\n",
       "F            108        504\n",
       "G             19        125"
      ]
     },
     "execution_count": 36,
     "metadata": {},
     "output_type": "execute_result"
    }
   ],
   "source": [
    "term_grade_loans_pivot_grade_i = term_grade_loans_pivot.set_index('grade')\n",
    "term_grade_loans_pivot_grade_i"
   ]
  },
  {
   "cell_type": "code",
   "execution_count": 37,
   "metadata": {
    "ExecuteTime": {
     "end_time": "2018-10-14T03:40:30.422044Z",
     "start_time": "2018-10-14T03:40:29.971401Z"
    },
    "scrolled": false
   },
   "outputs": [
    {
     "data": {
      "image/png": "[encoded data removed]",
      "text/plain": [
       "<Figure size 1152x432 with 1 Axes>"
      ]
     },
     "metadata": {},
     "output_type": "display_data"
    }
   ],
   "source": [
    "# Run this chunk to plot the stacked bar chart here. Note that stacked=True\n",
    "fig, ax1 = plt.subplots()\n",
    "term_grade_loans_pivot_grade_i.plot(kind='bar', stacked=True, figsize=DIMS, \n",
    "                                    title=\"No. of Loans by Grade\", ax=ax1)\n",
    "ax1.set_ylabel(\"No. of Loans\")\n",
    "plt.show()"
   ]
  },
  {
   "cell_type": "markdown",
   "metadata": {},
   "source": [
    "## Wordcloud\n",
    "\n",
    "A wordcloud is useful to find out what are common words in a corpus of texts. A corpus is simply a collection of text documents. Before building a wordcloud, first collect all the texts.\n",
    "\n",
    "https://amueller.github.io/word_cloud/auto_examples/colored.html"
   ]
  },
  {
   "cell_type": "code",
   "execution_count": 38,
   "metadata": {
    "ExecuteTime": {
     "end_time": "2018-10-14T03:40:30.455555Z",
     "start_time": "2018-10-14T03:40:30.428748Z"
    }
   },
   "outputs": [
    {
     "data": {
      "text/html": [
       "<div>\n",
       "<style scoped>\n",
       "    .dataframe tbody tr th:only-of-type {\n",
       "        vertical-align: middle;\n",
       "    }\n",
       "\n",
       "    .dataframe tbody tr th {\n",
       "        vertical-align: top;\n",
       "    }\n",
       "\n",
       "    .dataframe thead th {\n",
       "        text-align: right;\n",
       "    }\n",
       "</style>\n",
       "<table border=\"1\" class=\"dataframe\">\n",
       "  <thead>\n",
       "    <tr style=\"text-align: right;\">\n",
       "      <th></th>\n",
       "      <th>id</th>\n",
       "      <th>member_id</th>\n",
       "      <th>loan_amnt</th>\n",
       "      <th>grade</th>\n",
       "      <th>desc</th>\n",
       "    </tr>\n",
       "  </thead>\n",
       "  <tbody>\n",
       "    <tr>\n",
       "      <th>97</th>\n",
       "      <td>8876088</td>\n",
       "      <td>6787526</td>\n",
       "      <td>10,000.00</td>\n",
       "      <td>C</td>\n",
       "      <td>Borrower added on 11/11/13 &gt; this loan is to...</td>\n",
       "    </tr>\n",
       "    <tr>\n",
       "      <th>21</th>\n",
       "      <td>10607404</td>\n",
       "      <td>12479401</td>\n",
       "      <td>12,000.00</td>\n",
       "      <td>B</td>\n",
       "      <td>Borrower added on 01/15/14 &gt; MY LOAN WILL BE...</td>\n",
       "    </tr>\n",
       "    <tr>\n",
       "      <th>93</th>\n",
       "      <td>1279431</td>\n",
       "      <td>1522096</td>\n",
       "      <td>17,600.00</td>\n",
       "      <td>D</td>\n",
       "      <td>Borrower added on 05/04/12 &gt; Trying to elimi...</td>\n",
       "    </tr>\n",
       "  </tbody>\n",
       "</table>\n",
       "</div>"
      ],
      "text/plain": [
       "          id  member_id  loan_amnt grade  \\\n",
       "97   8876088    6787526  10,000.00     C   \n",
       "21  10607404   12479401  12,000.00     B   \n",
       "93   1279431    1522096  17,600.00     D   \n",
       "\n",
       "                                                 desc  \n",
       "97    Borrower added on 11/11/13 > this loan is to...  \n",
       "21    Borrower added on 01/15/14 > MY LOAN WILL BE...  \n",
       "93    Borrower added on 05/04/12 > Trying to elimi...  "
      ]
     },
     "execution_count": 38,
     "metadata": {},
     "output_type": "execute_result"
    }
   ],
   "source": [
    "# Dataset 2: Credits at the end of the notebook\n",
    "desc_df = pd.read_csv('loans-descs-100.csv', sep='|')\n",
    "desc_df.sample(3) # Sample 3 of the records"
   ]
  },
  {
   "cell_type": "code",
   "execution_count": 39,
   "metadata": {},
   "outputs": [],
   "source": [
    "descriptions_series = desc_df['desc']"
   ]
  },
  {
   "cell_type": "code",
   "execution_count": 40,
   "metadata": {
    "ExecuteTime": {
     "end_time": "2018-10-14T03:40:30.476684Z",
     "start_time": "2018-10-14T03:40:30.467961Z"
    }
   },
   "outputs": [
    {
     "data": {
      "text/plain": [
       "\"  Borrower added on 11/06/12 > I have too many credit card accounts.  It's like someone (me) kicked over a barrel full of squirrels.  I believe it is hurting my efforts to pay down debt.  This consolidation loan will be a huge blessing for me.  I am grateful for you consideration.<br><br>  Borrower added on 11/06/12 > I have too many credit card accounts. It's like someone (me) kicked over a barrel full of squirrels. I believe it is hurting my efforts to pay down debt. This consolidation loan will be a huge blessing for me. I am grateful for your consideration.<br>\""
      ]
     },
     "execution_count": 40,
     "metadata": {},
     "output_type": "execute_result"
    }
   ],
   "source": [
    "# Repeatedly execute this cell to look at the text of each desc.\n",
    "descriptions_series.sample(1).iloc[0]"
   ]
  },
  {
   "cell_type": "markdown",
   "metadata": {},
   "source": [
    "To build a wordcloud, all the descriptions need to be connected to form a long string. But, some cleaning needs to be done first. The next steps are used to collect these words:\n",
    "\n",
    "1. Remove `Borrower added on.. >` in the beginning of the string\n",
    "2. Remove HTML tags from the descriptions\n",
    "3. Remove special characters from the descriptions. Remove trailing and leading spaces, convert all words to lower case"
   ]
  },
  {
   "cell_type": "code",
   "execution_count": 41,
   "metadata": {
    "ExecuteTime": {
     "end_time": "2018-10-14T03:40:30.486297Z",
     "start_time": "2018-10-14T03:40:30.480744Z"
    }
   },
   "outputs": [
    {
     "data": {
      "text/plain": [
       "['  Borrower added on 06/25/12 > I will use this loan to pay off credit cards and some other loans i have occured in the remodel of my house.<br>',\n",
       " '  Borrower added on 01/30/14 > This loan will be used for debt consolidation.<br>',\n",
       " '  Borrower added on 08/17/12 > Tell your story. What is your loan for?<br><br> Borrower added on 08/17/12 > Tell your story. What is your loan for?<br><br> Borrower added on 08/17/12 > paying  my  creditcards<br>',\n",
       " '  Borrower added on 05/29/13 > I wanted to pay off  all credit debt with low interest rate.<br>Thank you for your offer.<br>',\n",
       " '  Borrower added on 01/31/14 > consolidate my debt an get my life back on track.<br>']"
      ]
     },
     "execution_count": 41,
     "metadata": {},
     "output_type": "execute_result"
    }
   ],
   "source": [
    "descriptions_list = descriptions_series.tolist() # convert series to list\n",
    "descriptions_list[0:5]"
   ]
  },
  {
   "cell_type": "code",
   "execution_count": 42,
   "metadata": {
    "ExecuteTime": {
     "end_time": "2018-10-14T03:40:30.499164Z",
     "start_time": "2018-10-14T03:40:30.490115Z"
    }
   },
   "outputs": [
    {
     "data": {
      "text/plain": [
       "['i will use this loan to pay off credit cards and some other loans i have occured in the remodel of my house',\n",
       " 'this loan will be used for debt consolidation',\n",
       " 'tell your story what is your loan for?  tell your story what is your loan for?  paying  my  creditcards',\n",
       " 'i wanted to pay off  all credit debt with low interest ratethank you for your offer',\n",
       " 'consolidate my debt an get my life back on track']"
      ]
     },
     "execution_count": 42,
     "metadata": {},
     "output_type": "execute_result"
    }
   ],
   "source": [
    "clean_descriptions = []\n",
    "for desc in descriptions_list:\n",
    "    # Remove the first bunch of letters\n",
    "    desc = re.sub('Borrower added on (\\d/?)+\\s>', '', desc)\n",
    "    \n",
    "    # Remove HTML tags\n",
    "    desc = re.sub('<[a-z]+/?>', '', desc)\n",
    "    \n",
    "    # Remove special characters\n",
    "    desc = re.sub('[-_,$&!.;%]', '', desc)\n",
    "    \n",
    "    # Convert to lower case, remove leading and trailing spaces\n",
    "    desc = desc.strip().lower()\n",
    "    \n",
    "    clean_descriptions.append(desc)\n",
    "\n",
    "clean_descriptions[0:5]"
   ]
  },
  {
   "cell_type": "markdown",
   "metadata": {},
   "source": [
    "Finally when all the words are cleaned, concatenate them to form a long string. Finally, use `WordCloud` to plot the wordcloud. Note that the larger the word, the more commmon the word appears in the corpus."
   ]
  },
  {
   "cell_type": "code",
   "execution_count": 43,
   "metadata": {
    "ExecuteTime": {
     "end_time": "2018-10-14T03:40:30.508462Z",
     "start_time": "2018-10-14T03:40:30.503039Z"
    }
   },
   "outputs": [
    {
     "data": {
      "text/plain": [
       "'i will use this loan to pay off credit cards and some other loans i have occured in the remodel of my house this loan will be used for debt consolidation tell your story what is your loan for?  tell your story what is your loan for?  paying  my  creditcards i wanted to pay off  all credit debt with low interest ratethank you for your offer consolidate my debt an get my life back on track the loan will be used to payoff credit cardsmy total minimum monthly payment on all cards is 357 the interest'"
      ]
     },
     "execution_count": 43,
     "metadata": {},
     "output_type": "execute_result"
    }
   ],
   "source": [
    "long_str_descriptions = \" \".join(clean_descriptions)\n",
    "long_str_descriptions[:500]"
   ]
  },
  {
   "cell_type": "markdown",
   "metadata": {},
   "source": [
    "Now, we are ready to use our preprocessed text data to create a wordcloud!\n",
    "\n",
    "https://amueller.github.io/word_cloud/generated/wordcloud.WordCloud.html#wordcloud.WordCloud\n",
    "\n",
    "https://matplotlib.org/api/_as_gen/matplotlib.pyplot.imshow.html"
   ]
  },
  {
   "cell_type": "code",
   "execution_count": 48,
   "metadata": {
    "ExecuteTime": {
     "end_time": "2018-10-14T03:40:31.181215Z",
     "start_time": "2018-10-14T03:40:30.511832Z"
    },
    "scrolled": false
   },
   "outputs": [
    {
     "data": {
      "text/plain": [
       "<Figure size 1080x576 with 0 Axes>"
      ]
     },
     "metadata": {},
     "output_type": "display_data"
    },
    {
     "data": {
      "image/png": "[encoded data removed]",
      "text/plain": [
       "<Figure size 1080x576 with 1 Axes>"
      ]
     },
     "metadata": {},
     "output_type": "display_data"
    }
   ],
   "source": [
    "plt.figure(figsize=(15,8))\n",
    "\n",
    "# create wordcloud here\n",
    "plt.figure(figsize=(15,8))\n",
    "wc = WordCloud(width=400, height=150, background_color=\"white\", max_words=150, relative_scaling=0.5)\n",
    "desc_wordcloud = wc.generate(long_str_descriptions)\n",
    "\n",
    "plt.imshow(desc_wordcloud)\n",
    "plt.axis(\"off\")\n",
    "plt.title(\"Wordcloud of loan descriptions\", fontsize=20)\n",
    "plt.show()"
   ]
  },
  {
   "cell_type": "markdown",
   "metadata": {},
   "source": [
    "## Self-Study: Jointplot\n",
    "\n",
    "A jointplot is used to see the **joint observation** of datapoints. One axis will show the distribution of one metric while the other axis will show the distribution of the other metric. \n",
    "\n",
    "Each hexagon **exists in a 2 dimensional space** that represents a bin corresponding to the **<u>concurrent</u> observation of $X=x$ and $Y=y$**. In this plot, the darker the hexagon, the more observations are in that bin.\n",
    "\n",
    "https://seaborn.pydata.org/generated/seaborn.jointplot.html"
   ]
  },
  {
   "cell_type": "code",
   "execution_count": null,
   "metadata": {
    "ExecuteTime": {
     "end_time": "2018-10-14T03:40:31.239097Z",
     "start_time": "2018-10-14T03:40:31.185447Z"
    }
   },
   "outputs": [],
   "source": [
    "## Dataset 1: Credits at the end of the notebook\n",
    "loans_df = pd.read_csv('loans-25k.csv')\n",
    "loans_df.head()"
   ]
  },
  {
   "cell_type": "code",
   "execution_count": null,
   "metadata": {
    "ExecuteTime": {
     "end_time": "2018-10-14T03:40:32.391168Z",
     "start_time": "2018-10-14T03:40:31.242023Z"
    }
   },
   "outputs": [],
   "source": [
    "fig = plt.figure()\n",
    "# Plot the joint plot here. Set the x, y and kind='hex' parameter\n",
    "g = sns.jointplot(data=loans_df, x = 'loan_amnt', y = 'int_rate', kind='hex')\n",
    "# Set the size of the plot and the title.\n",
    "g.fig.suptitle('Loan Amount vs. Interest Rate of loans')\n",
    "g.fig.set_size_inches(8,8)\n",
    "# Shrink the plot by 10% so the title is visible.\n",
    "plt.subplots_adjust(top=0.9)"
   ]
  },
  {
   "cell_type": "markdown",
   "metadata": {},
   "source": [
    "# Additional Exercises\n",
    "## Exercise 1\n",
    "\n",
    "Given `loans_df` which reads from the same dataset, plot a histogram where the $x$-axis represents the different types of `home_ownership` and the $y$-axis represents the number of loans whose members have that particular home ownership. Filter only for `home_ownership` with the values `'MORTGAGE', 'OWN', 'RENT'`."
   ]
  },
  {
   "cell_type": "code",
   "execution_count": null,
   "metadata": {
    "ExecuteTime": {
     "end_time": "2018-10-14T03:40:32.852883Z",
     "start_time": "2018-10-14T03:40:32.395309Z"
    },
    "scrolled": false
   },
   "outputs": [],
   "source": [
    "# Exercise 1\n",
    "# Write your code here\n",
    "l_df = pd.read_csv('loans-25k.csv')\n",
    "l_df = l_df[l_df['home_ownership'].isin(['MORTGAGE', 'OWN', 'RENT'])]\n",
    "l_df_agg = l_df.groupby('home_ownership').size().reset_index(name='No. of Loans')\n",
    "ax = l_df_agg.plot(kind='bar', x='home_ownership', y='No. of Loans', \n",
    "              title=\"No. of Loans by Home Ownership\", figsize=DIMS)\n",
    "plt.ylabel(\"No. of Loans\")\n",
    "plt.xlabel(\"Type of Home Ownership\")\n",
    "plt.show()"
   ]
  },
  {
   "cell_type": "markdown",
   "metadata": {},
   "source": [
    "## Exercise 2\n",
    "\n",
    "Given `term_grade_loans_pivot` which has the number of loans in each grade, per term, plot a clustered bar graph where each cluster on the $x$-axis represents a grade and the $y$-axis represents the number of loans."
   ]
  },
  {
   "cell_type": "code",
   "execution_count": null,
   "metadata": {
    "ExecuteTime": {
     "end_time": "2018-10-14T03:40:32.939133Z",
     "start_time": "2018-10-14T03:40:32.855972Z"
    }
   },
   "outputs": [],
   "source": [
    "# l_df_agg_pivot is given to you.\n",
    "l_df = pd.read_csv('loans-25k.csv')\n",
    "l_df_agg = l_df.groupby(['term', 'grade']).size().reset_index(name=\"No. of Loans\")\n",
    "# Create the term_grade_loans_pivot where the index is grade and the columns are the different terms\n",
    "l_df_agg_pivot = pd.pivot_table(l_df_agg, \n",
    "                                index=['grade'], columns=['term'],\n",
    "                                values='No. of Loans', aggfunc=np.sum)\n",
    "# Then reset the index and set the columns to be 3 columns: 'grade', '36 months', '60 months'\n",
    "l_df_agg_pivot = l_df_agg_pivot.reset_index()\n",
    "l_df_agg_pivot.columns = ['grade', '36 months', '60 months']\n",
    "print(l_df_agg_pivot)"
   ]
  },
  {
   "cell_type": "code",
   "execution_count": null,
   "metadata": {
    "ExecuteTime": {
     "end_time": "2018-10-14T03:40:33.528692Z",
     "start_time": "2018-10-14T03:40:32.942355Z"
    }
   },
   "outputs": [],
   "source": [
    "# Exercise 2 - Plot the clustered bar plot. \n",
    "# Hint: Refer to Data Visualisation I to get the code for the clustered bar plot.\n",
    "width=0.20\n",
    "\n",
    "#Create the figure\n",
    "fig = plt.figure(figsize=DIMS)\n",
    "\n",
    "#Add the subplot\n",
    "ax = fig.add_subplot(111)\n",
    "\n",
    "#Plot the values\n",
    "term_grade_loans_pivot.plot(kind='bar', x='grade', y='36 months', \n",
    "                            ax=ax, position=1, width=width, color='steelblue')\n",
    "term_grade_loans_pivot.plot(kind='bar', x='grade', y='60 months', \n",
    "                            ax=ax, position=2, width=width, color='tomato')\n",
    "\n",
    "# Your turn: Add the title of the plot\n",
    "ax.set_title(\"No. of loans by grade, by term\")\n",
    "\n",
    "#Finally, show the plot\n",
    "plt.show()"
   ]
  },
  {
   "cell_type": "markdown",
   "metadata": {},
   "source": [
    "**Credits**\n",
    "- [Kaggle](https://www.kaggle.com/wendykan/lending-club-loan-data) for Dataset 1 & 2\n",
    "- [Kaggle](https://www.kaggle.com/monkeasy/exploring-gender-equality-in-us-wages/data) for Dataset 3"
   ]
  }
 ],
 "metadata": {
  "kernelspec": {
   "display_name": "Python 3",
   "language": "python",
   "name": "python3"
  },
  "language_info": {
   "codemirror_mode": {
    "name": "ipython",
    "version": 3
   },
   "file_extension": ".py",
   "mimetype": "text/x-python",
   "name": "python",
   "nbconvert_exporter": "python",
   "pygments_lexer": "ipython3",
   "version": "3.7.3"
  },
  "toc": {
   "base_numbering": 1,
   "nav_menu": {},
   "number_sections": true,
   "sideBar": true,
   "skip_h1_title": false,
   "title_cell": "Table of Contents",
   "title_sidebar": "Contents",
   "toc_cell": false,
   "toc_position": {},
   "toc_section_display": true,
   "toc_window_display": true
  }
 },
 "nbformat": 4,
 "nbformat_minor": 2
}
