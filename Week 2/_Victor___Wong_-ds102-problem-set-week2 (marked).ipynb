{
 "cells": [
  {
   "cell_type": "markdown",
   "metadata": {},
   "source": [
    "<center><h2>DS102 Problem Set - Week 2</h2></center>\n",
    "**Hackwagon Academy**\n",
    "\n",
    "`HWA-DS102-PS2-201810`\n",
    "<hr>\n",
    "\n",
    "If you have any questions to the Problem Set, feel free to send a message to your TAs or Instructors in the Telegram chat. You are encouraged to also discuss the problem sets within your own groups.\n",
    "\n",
    "<div class=\"alert alert-success\">\n",
    "Before you start, fill in your details for this notebook and rename the notebook to `<First_Name>_<Last_Name>-problem-set-week-2`, for example `jane-doe-problem-set-week-2`.</div>"
   ]
  },
  {
   "cell_type": "code",
   "execution_count": 24,
   "metadata": {
    "ExecuteTime": {
     "end_time": "2018-09-25T00:58:20.475435Z",
     "start_time": "2018-09-25T00:58:20.464145Z"
    }
   },
   "outputs": [],
   "source": [
    "# Rename the notebook. Then, fill in your details here.\n",
    "# Name  : Victor Wong\n",
    "# Class :  DS102 Thursday 7pm\n",
    "\n",
    "# 100/100"
   ]
  },
  {
   "cell_type": "markdown",
   "metadata": {},
   "source": [
    "#### Datasets Required:\n",
    "\n",
    "- `employees-200.csv`\n",
    "\n",
    "- `PASSNYC-schools.csv`"
   ]
  },
  {
   "cell_type": "markdown",
   "metadata": {},
   "source": [
    "### Part 1 (7 Marks)\n",
    "\n",
    "You are a Human Resource (HR) analyst in a large company. The income for all your employees is given to you in `employees-200.csv`. This is taken from the [Lending Club Loan Data](https://www.kaggle.com/wendykan/lending-club-loan-data) dataset. The details of each column is as follows:\n",
    "\n",
    "<p></p>\n",
    "<center>`employees-200.csv`</center>\n",
    "\n",
    "| col name | definition | datatype | example |\n",
    "| -------- | ---------- | -------- | ------- |\n",
    "| employee_id | The unique ID assigned to an employee| int | 4428518 |\n",
    "| annual_inc | The annual income of the employee, in USD| float | 104000.0 |\n",
    "\n",
    "Using the dataset, answer the following questions. Mark breakdowns are stated in the question e.g. **`[1]`**. <span style=\"color:darkblue\">**Where stated, both the <u>code</u> and <u>typed answers</u> must be provided to receive full credit.**</span>"
   ]
  },
  {
   "cell_type": "code",
   "execution_count": 25,
   "metadata": {
    "ExecuteTime": {
     "end_time": "2018-09-25T00:58:21.232743Z",
     "start_time": "2018-09-25T00:58:20.487224Z"
    }
   },
   "outputs": [],
   "source": [
    "# import the relevant packages\n",
    "import pandas as pd\n",
    "import numpy as np\n",
    "# additional options\n",
    "pd.options.display.float_format = '{:,.1f}'.format "
   ]
  },
  {
   "cell_type": "markdown",
   "metadata": {},
   "source": [
    "** Read from CSV to `df`**\n",
    "\n",
    "Read the data from the `employees-200.csv` CSV file into a `DataFrame` called `emp_df`."
   ]
  },
  {
   "cell_type": "code",
   "execution_count": 26,
   "metadata": {
    "ExecuteTime": {
     "end_time": "2018-09-25T00:58:21.246612Z",
     "start_time": "2018-09-25T00:58:21.236069Z"
    },
    "scrolled": true
   },
   "outputs": [],
   "source": [
    "# Read the data from the CSV file to emp_df. \n",
    "# Write your code here\n",
    "emp_df = pd.read_csv('employees-200.csv')"
   ]
  },
  {
   "cell_type": "markdown",
   "metadata": {},
   "source": [
    "**1A**.\n",
    "\n",
    "**i)** Use `describe()` to get the summary statistics of the dataset.  **`[0.5]`**"
   ]
  },
  {
   "cell_type": "code",
   "execution_count": 27,
   "metadata": {
    "ExecuteTime": {
     "end_time": "2018-09-25T00:58:21.317185Z",
     "start_time": "2018-09-25T00:58:21.253644Z"
    },
    "scrolled": true
   },
   "outputs": [
    {
     "data": {
      "text/html": [
       "<div>\n",
       "<style scoped>\n",
       "    .dataframe tbody tr th:only-of-type {\n",
       "        vertical-align: middle;\n",
       "    }\n",
       "\n",
       "    .dataframe tbody tr th {\n",
       "        vertical-align: top;\n",
       "    }\n",
       "\n",
       "    .dataframe thead th {\n",
       "        text-align: right;\n",
       "    }\n",
       "</style>\n",
       "<table border=\"1\" class=\"dataframe\">\n",
       "  <thead>\n",
       "    <tr style=\"text-align: right;\">\n",
       "      <th></th>\n",
       "      <th>employee_id</th>\n",
       "      <th>annual_inc</th>\n",
       "    </tr>\n",
       "  </thead>\n",
       "  <tbody>\n",
       "    <tr>\n",
       "      <th>count</th>\n",
       "      <td>200.0</td>\n",
       "      <td>200.0</td>\n",
       "    </tr>\n",
       "    <tr>\n",
       "      <th>mean</th>\n",
       "      <td>31,894,096.2</td>\n",
       "      <td>73,486.1</td>\n",
       "    </tr>\n",
       "    <tr>\n",
       "      <th>std</th>\n",
       "      <td>23,817,072.2</td>\n",
       "      <td>40,056.2</td>\n",
       "    </tr>\n",
       "    <tr>\n",
       "      <th>min</th>\n",
       "      <td>240,443.0</td>\n",
       "      <td>16,000.0</td>\n",
       "    </tr>\n",
       "    <tr>\n",
       "      <th>25%</th>\n",
       "      <td>9,582,660.5</td>\n",
       "      <td>50,000.0</td>\n",
       "    </tr>\n",
       "    <tr>\n",
       "      <th>50%</th>\n",
       "      <td>26,327,490.0</td>\n",
       "      <td>64,250.0</td>\n",
       "    </tr>\n",
       "    <tr>\n",
       "      <th>75%</th>\n",
       "      <td>55,890,970.5</td>\n",
       "      <td>85,000.0</td>\n",
       "    </tr>\n",
       "    <tr>\n",
       "      <th>max</th>\n",
       "      <td>73,089,928.0</td>\n",
       "      <td>250,000.0</td>\n",
       "    </tr>\n",
       "  </tbody>\n",
       "</table>\n",
       "</div>"
      ],
      "text/plain": [
       "       employee_id  annual_inc\n",
       "count        200.0       200.0\n",
       "mean  31,894,096.2    73,486.1\n",
       "std   23,817,072.2    40,056.2\n",
       "min      240,443.0    16,000.0\n",
       "25%    9,582,660.5    50,000.0\n",
       "50%   26,327,490.0    64,250.0\n",
       "75%   55,890,970.5    85,000.0\n",
       "max   73,089,928.0   250,000.0"
      ]
     },
     "execution_count": 27,
     "metadata": {},
     "output_type": "execute_result"
    }
   ],
   "source": [
    "# Use describe() to get the summary statistics of the dataset.\n",
    "# Write your code here\n",
    "emp_df.describe()"
   ]
  },
  {
   "cell_type": "markdown",
   "metadata": {},
   "source": [
    "Using the result of `describe()`, answer the following questions:\n",
    "\n",
    "**ii) ** What is the $25$th percentile of the `annual_inc` column? **`[0.5]`**"
   ]
  },
  {
   "cell_type": "code",
   "execution_count": 28,
   "metadata": {
    "ExecuteTime": {
     "end_time": "2018-09-25T00:58:21.324736Z",
     "start_time": "2018-09-25T00:58:21.320565Z"
    }
   },
   "outputs": [],
   "source": [
    "# What is the 25th percentile of annual_inc?\n",
    "# Code is not required.\n",
    "\n",
    "# (Type your answer here)\n",
    "# 50,000 (from .describe())"
   ]
  },
  {
   "cell_type": "markdown",
   "metadata": {},
   "source": [
    "**iii) ** What is the $75$th percentile of the `annual_inc` column?**`[0.5]`**"
   ]
  },
  {
   "cell_type": "code",
   "execution_count": 29,
   "metadata": {
    "ExecuteTime": {
     "end_time": "2018-09-25T00:58:21.339790Z",
     "start_time": "2018-09-25T00:58:21.335443Z"
    }
   },
   "outputs": [],
   "source": [
    "# What is the 75th percentile of annual_inc?\n",
    "# Code is not required.\n",
    "# (Type your answer here)\n",
    "# 85,000 (from .describe())"
   ]
  },
  {
   "cell_type": "markdown",
   "metadata": {},
   "source": [
    "**iv) ** Another way to find the $25$th percentile of `annual_inc` is to use the `percentile` function from the `numpy` library. It has already been `import`ed for you. Using [this StackOverflow answer](https://stackoverflow.com/questions/23228244/how-do-you-find-the-iqr-in-numpy) to help you or otherwise, assign the $25$th percentile and $75$th percentile of `annual_inc` to two variables, `p25` and `p75` respectively. \n",
    "\n",
    "Hint: The code for `p25` is already completed for you. **`[0.5]`**"
   ]
  },
  {
   "cell_type": "code",
   "execution_count": 30,
   "metadata": {
    "ExecuteTime": {
     "end_time": "2018-09-25T00:58:21.362911Z",
     "start_time": "2018-09-25T00:58:21.348747Z"
    }
   },
   "outputs": [
    {
     "name": "stdout",
     "output_type": "stream",
     "text": [
      "50000.0\n",
      "85000.0\n"
     ]
    }
   ],
   "source": [
    "# The code for p25 is already completed for you.\n",
    "p25 = np.percentile(emp_df['annual_inc'], 25)\n",
    "print(p25)\n",
    "\n",
    "# Write your code for p75 here\n",
    "p75 = np.percentile(emp_df['annual_inc'], 75)\n",
    "print(p75)"
   ]
  },
  {
   "cell_type": "markdown",
   "metadata": {},
   "source": [
    "**v) ** Using the solution to **iv)** or otherwise, find the interquartile range of the `annual_inc` column. **`[1]`**"
   ]
  },
  {
   "cell_type": "code",
   "execution_count": 31,
   "metadata": {
    "ExecuteTime": {
     "end_time": "2018-09-25T00:58:21.376574Z",
     "start_time": "2018-09-25T00:58:21.367083Z"
    }
   },
   "outputs": [
    {
     "name": "stdout",
     "output_type": "stream",
     "text": [
      "35000.0\n"
     ]
    }
   ],
   "source": [
    "# What is the interquartile range\n",
    "# of the annual_inc column?\n",
    "# Write your code here.\n",
    "iqr = p75 - p25\n",
    "print(iqr)\n",
    "\n",
    "# (Type your answer here)\n",
    "# 35000"
   ]
  },
  {
   "cell_type": "markdown",
   "metadata": {},
   "source": [
    "**1B**. \n",
    "\n",
    "**i)** An **income tax** is imposed on the annual income of all employees. The tax is calculated as follows:\n",
    "\n",
    "- if the employee's annual income is $\\$65,000$ or less, the employee does not need to pay tax\n",
    "- if the employee's annual income is more than $\\$65,000$ the employee needs to pay a tax equal to $7.5\\%$ of his/her annual income\n",
    "\n",
    "Mathematically, for an employee with an income of $\\$annual\\_income$, the amount of tax the employee needs to pay, or the $\\$tax$ is:\n",
    "\n",
    "$$\n",
    "tax = \\begin{cases}\n",
    "0 & \\text{ if } annual\\_income \\leq 65000\\\\\n",
    "0.075 \\times annual\\_income & \\text{ if } annual\\_income > 65000\\\\\\end{cases}\n",
    "$$\n",
    "\n",
    "Using the information above, answer the following questions:\n",
    "\n",
    "- What is the $tax$ if $annual\\_income=84200.0$?\n",
    "- What is the $tax$ if $annual\\_income=60000.0$?\n",
    "- What is the $tax$ if $annual\\_income=127000.0$?\n",
    "\n",
    "**`[1]`**"
   ]
  },
  {
   "cell_type": "code",
   "execution_count": 32,
   "metadata": {
    "ExecuteTime": {
     "end_time": "2018-09-25T00:58:21.384988Z",
     "start_time": "2018-09-25T00:58:21.380676Z"
    }
   },
   "outputs": [
    {
     "data": {
      "text/plain": [
       "9525.0"
      ]
     },
     "execution_count": 32,
     "metadata": {},
     "output_type": "execute_result"
    }
   ],
   "source": [
    "# Code is not required. However, you could use this line of code to help you\n",
    "# 0.075*65000\n",
    "\n",
    "# What is the tax if annual_income = 84200.0?  \n",
    "0.075 * 84200\n",
    "\n",
    "# (Type your answer here)\n",
    "# $6315\n",
    "\n",
    "# What is the tax if annual_income = 60000.0? \n",
    "# (Type your answer here)\n",
    "# $0\n",
    "\n",
    "# What is the tax if annual_income = 127000.0? \n",
    "0.075 * 127000\n",
    "\n",
    "# (Type your answer here)\n",
    "# $9525"
   ]
  },
  {
   "cell_type": "markdown",
   "metadata": {},
   "source": [
    "**ii)** The function `calculate_income_tax(annual_inc)` is given to you. It takes in `annual_inc` as a `float()` and `return`s the tax payable based on the annual income, according to the logic given by **i)**. \n",
    "\n",
    "`calculate_income_tax` has errors in the logic of the code. Debug the function `calculate_income_tax(annual_inc)` so that the correct tax is calculated and `return`ed. \n",
    "\n",
    "Hint: test the logic of the code using `calculate_income_tax(84200.0)`. It should match the answers you have given in **i)**. **`[0.5]`**"
   ]
  },
  {
   "cell_type": "code",
   "execution_count": 33,
   "metadata": {
    "ExecuteTime": {
     "end_time": "2018-09-25T00:58:21.396408Z",
     "start_time": "2018-09-25T00:58:21.388568Z"
    }
   },
   "outputs": [
    {
     "name": "stdout",
     "output_type": "stream",
     "text": [
      "6315.0\n"
     ]
    }
   ],
   "source": [
    "# Debug calculate_income_tax(annual_inc) so that the correct tax is calculated and returned\n",
    "def calculate_income_tax(annual_inc):\n",
    "    if annual_inc > 65000:\n",
    "        return annual_inc * 0.075\n",
    "    else:\n",
    "        return 0\n",
    "    \n",
    "    \n",
    "# Use the following lines of code to help you validate your answer.\n",
    "print(calculate_income_tax(84200))"
   ]
  },
  {
   "cell_type": "markdown",
   "metadata": {},
   "source": [
    "**iii)** Using the solution to **ii)** or otherwise, create a new column `tax` in `emp_df` which contains the tax calculated based on the employer's annual income. \n",
    "\n",
    "Hint: Use `df.apply()`. **`[1]`**"
   ]
  },
  {
   "cell_type": "code",
   "execution_count": 35,
   "metadata": {
    "ExecuteTime": {
     "end_time": "2018-09-25T00:58:21.452283Z",
     "start_time": "2018-09-25T00:58:21.424936Z"
    }
   },
   "outputs": [
    {
     "data": {
      "text/html": [
       "<div>\n",
       "<style scoped>\n",
       "    .dataframe tbody tr th:only-of-type {\n",
       "        vertical-align: middle;\n",
       "    }\n",
       "\n",
       "    .dataframe tbody tr th {\n",
       "        vertical-align: top;\n",
       "    }\n",
       "\n",
       "    .dataframe thead th {\n",
       "        text-align: right;\n",
       "    }\n",
       "</style>\n",
       "<table border=\"1\" class=\"dataframe\">\n",
       "  <thead>\n",
       "    <tr style=\"text-align: right;\">\n",
       "      <th></th>\n",
       "      <th>employee_id</th>\n",
       "      <th>annual_inc</th>\n",
       "      <th>Tax</th>\n",
       "    </tr>\n",
       "  </thead>\n",
       "  <tbody>\n",
       "    <tr>\n",
       "      <th>0</th>\n",
       "      <td>32718328</td>\n",
       "      <td>84,200.0</td>\n",
       "      <td>6,315.0</td>\n",
       "    </tr>\n",
       "    <tr>\n",
       "      <th>1</th>\n",
       "      <td>4428518</td>\n",
       "      <td>60,000.0</td>\n",
       "      <td>0.0</td>\n",
       "    </tr>\n",
       "    <tr>\n",
       "      <th>2</th>\n",
       "      <td>11031023</td>\n",
       "      <td>127,000.0</td>\n",
       "      <td>9,525.0</td>\n",
       "    </tr>\n",
       "    <tr>\n",
       "      <th>3</th>\n",
       "      <td>44276470</td>\n",
       "      <td>75,000.0</td>\n",
       "      <td>5,625.0</td>\n",
       "    </tr>\n",
       "    <tr>\n",
       "      <th>4</th>\n",
       "      <td>64547736</td>\n",
       "      <td>104,000.0</td>\n",
       "      <td>7,800.0</td>\n",
       "    </tr>\n",
       "    <tr>\n",
       "      <th>5</th>\n",
       "      <td>7417960</td>\n",
       "      <td>48,000.0</td>\n",
       "      <td>0.0</td>\n",
       "    </tr>\n",
       "    <tr>\n",
       "      <th>6</th>\n",
       "      <td>32888938</td>\n",
       "      <td>85,000.0</td>\n",
       "      <td>6,375.0</td>\n",
       "    </tr>\n",
       "    <tr>\n",
       "      <th>7</th>\n",
       "      <td>4419452</td>\n",
       "      <td>90,000.0</td>\n",
       "      <td>6,750.0</td>\n",
       "    </tr>\n",
       "    <tr>\n",
       "      <th>8</th>\n",
       "      <td>4153263</td>\n",
       "      <td>85,000.0</td>\n",
       "      <td>6,375.0</td>\n",
       "    </tr>\n",
       "    <tr>\n",
       "      <th>9</th>\n",
       "      <td>25466112</td>\n",
       "      <td>58,000.0</td>\n",
       "      <td>0.0</td>\n",
       "    </tr>\n",
       "    <tr>\n",
       "      <th>10</th>\n",
       "      <td>66692274</td>\n",
       "      <td>127,000.0</td>\n",
       "      <td>9,525.0</td>\n",
       "    </tr>\n",
       "    <tr>\n",
       "      <th>11</th>\n",
       "      <td>48063881</td>\n",
       "      <td>31,500.0</td>\n",
       "      <td>0.0</td>\n",
       "    </tr>\n",
       "    <tr>\n",
       "      <th>12</th>\n",
       "      <td>59429348</td>\n",
       "      <td>145,000.0</td>\n",
       "      <td>10,875.0</td>\n",
       "    </tr>\n",
       "    <tr>\n",
       "      <th>13</th>\n",
       "      <td>539049</td>\n",
       "      <td>51,996.0</td>\n",
       "      <td>0.0</td>\n",
       "    </tr>\n",
       "    <tr>\n",
       "      <th>14</th>\n",
       "      <td>22363030</td>\n",
       "      <td>78,000.0</td>\n",
       "      <td>5,850.0</td>\n",
       "    </tr>\n",
       "    <tr>\n",
       "      <th>15</th>\n",
       "      <td>9044906</td>\n",
       "      <td>70,000.0</td>\n",
       "      <td>5,250.0</td>\n",
       "    </tr>\n",
       "    <tr>\n",
       "      <th>16</th>\n",
       "      <td>16170322</td>\n",
       "      <td>60,000.0</td>\n",
       "      <td>0.0</td>\n",
       "    </tr>\n",
       "    <tr>\n",
       "      <th>17</th>\n",
       "      <td>1075130</td>\n",
       "      <td>148,500.0</td>\n",
       "      <td>11,137.5</td>\n",
       "    </tr>\n",
       "    <tr>\n",
       "      <th>18</th>\n",
       "      <td>14258048</td>\n",
       "      <td>55,000.0</td>\n",
       "      <td>0.0</td>\n",
       "    </tr>\n",
       "    <tr>\n",
       "      <th>19</th>\n",
       "      <td>57779211</td>\n",
       "      <td>185,000.0</td>\n",
       "      <td>13,875.0</td>\n",
       "    </tr>\n",
       "    <tr>\n",
       "      <th>20</th>\n",
       "      <td>35002597</td>\n",
       "      <td>40,000.0</td>\n",
       "      <td>0.0</td>\n",
       "    </tr>\n",
       "    <tr>\n",
       "      <th>21</th>\n",
       "      <td>62464110</td>\n",
       "      <td>50,400.0</td>\n",
       "      <td>0.0</td>\n",
       "    </tr>\n",
       "    <tr>\n",
       "      <th>22</th>\n",
       "      <td>40573856</td>\n",
       "      <td>16,000.0</td>\n",
       "      <td>0.0</td>\n",
       "    </tr>\n",
       "    <tr>\n",
       "      <th>23</th>\n",
       "      <td>19015223</td>\n",
       "      <td>55,000.0</td>\n",
       "      <td>0.0</td>\n",
       "    </tr>\n",
       "    <tr>\n",
       "      <th>24</th>\n",
       "      <td>12457271</td>\n",
       "      <td>57,000.0</td>\n",
       "      <td>0.0</td>\n",
       "    </tr>\n",
       "    <tr>\n",
       "      <th>25</th>\n",
       "      <td>41302161</td>\n",
       "      <td>38,000.0</td>\n",
       "      <td>0.0</td>\n",
       "    </tr>\n",
       "    <tr>\n",
       "      <th>26</th>\n",
       "      <td>14958083</td>\n",
       "      <td>130,000.0</td>\n",
       "      <td>9,750.0</td>\n",
       "    </tr>\n",
       "    <tr>\n",
       "      <th>27</th>\n",
       "      <td>14638919</td>\n",
       "      <td>56,000.0</td>\n",
       "      <td>0.0</td>\n",
       "    </tr>\n",
       "    <tr>\n",
       "      <th>28</th>\n",
       "      <td>10799787</td>\n",
       "      <td>68,000.0</td>\n",
       "      <td>5,100.0</td>\n",
       "    </tr>\n",
       "    <tr>\n",
       "      <th>29</th>\n",
       "      <td>68439586</td>\n",
       "      <td>16,000.0</td>\n",
       "      <td>0.0</td>\n",
       "    </tr>\n",
       "    <tr>\n",
       "      <th>...</th>\n",
       "      <td>...</td>\n",
       "      <td>...</td>\n",
       "      <td>...</td>\n",
       "    </tr>\n",
       "    <tr>\n",
       "      <th>170</th>\n",
       "      <td>24043936</td>\n",
       "      <td>75,000.0</td>\n",
       "      <td>5,625.0</td>\n",
       "    </tr>\n",
       "    <tr>\n",
       "      <th>171</th>\n",
       "      <td>4672272</td>\n",
       "      <td>80,000.0</td>\n",
       "      <td>6,000.0</td>\n",
       "    </tr>\n",
       "    <tr>\n",
       "      <th>172</th>\n",
       "      <td>10761172</td>\n",
       "      <td>117,478.4</td>\n",
       "      <td>8,810.9</td>\n",
       "    </tr>\n",
       "    <tr>\n",
       "      <th>173</th>\n",
       "      <td>4431101</td>\n",
       "      <td>160,000.0</td>\n",
       "      <td>12,000.0</td>\n",
       "    </tr>\n",
       "    <tr>\n",
       "      <th>174</th>\n",
       "      <td>16682779</td>\n",
       "      <td>32,000.0</td>\n",
       "      <td>0.0</td>\n",
       "    </tr>\n",
       "    <tr>\n",
       "      <th>175</th>\n",
       "      <td>45440822</td>\n",
       "      <td>108,000.0</td>\n",
       "      <td>8,100.0</td>\n",
       "    </tr>\n",
       "    <tr>\n",
       "      <th>176</th>\n",
       "      <td>14978604</td>\n",
       "      <td>60,000.0</td>\n",
       "      <td>0.0</td>\n",
       "    </tr>\n",
       "    <tr>\n",
       "      <th>177</th>\n",
       "      <td>8449957</td>\n",
       "      <td>38,937.6</td>\n",
       "      <td>0.0</td>\n",
       "    </tr>\n",
       "    <tr>\n",
       "      <th>178</th>\n",
       "      <td>25986418</td>\n",
       "      <td>82,000.0</td>\n",
       "      <td>6,150.0</td>\n",
       "    </tr>\n",
       "    <tr>\n",
       "      <th>179</th>\n",
       "      <td>65452929</td>\n",
       "      <td>39,000.0</td>\n",
       "      <td>0.0</td>\n",
       "    </tr>\n",
       "    <tr>\n",
       "      <th>180</th>\n",
       "      <td>55328571</td>\n",
       "      <td>66,000.0</td>\n",
       "      <td>4,950.0</td>\n",
       "    </tr>\n",
       "    <tr>\n",
       "      <th>181</th>\n",
       "      <td>72648159</td>\n",
       "      <td>84,840.0</td>\n",
       "      <td>6,363.0</td>\n",
       "    </tr>\n",
       "    <tr>\n",
       "      <th>182</th>\n",
       "      <td>63385929</td>\n",
       "      <td>100,000.0</td>\n",
       "      <td>7,500.0</td>\n",
       "    </tr>\n",
       "    <tr>\n",
       "      <th>183</th>\n",
       "      <td>12649364</td>\n",
       "      <td>80,000.0</td>\n",
       "      <td>6,000.0</td>\n",
       "    </tr>\n",
       "    <tr>\n",
       "      <th>184</th>\n",
       "      <td>8083256</td>\n",
       "      <td>40,000.0</td>\n",
       "      <td>0.0</td>\n",
       "    </tr>\n",
       "    <tr>\n",
       "      <th>185</th>\n",
       "      <td>60828625</td>\n",
       "      <td>39,000.0</td>\n",
       "      <td>0.0</td>\n",
       "    </tr>\n",
       "    <tr>\n",
       "      <th>186</th>\n",
       "      <td>8477585</td>\n",
       "      <td>70,000.0</td>\n",
       "      <td>5,250.0</td>\n",
       "    </tr>\n",
       "    <tr>\n",
       "      <th>187</th>\n",
       "      <td>11927992</td>\n",
       "      <td>120,000.0</td>\n",
       "      <td>9,000.0</td>\n",
       "    </tr>\n",
       "    <tr>\n",
       "      <th>188</th>\n",
       "      <td>12097315</td>\n",
       "      <td>50,000.0</td>\n",
       "      <td>0.0</td>\n",
       "    </tr>\n",
       "    <tr>\n",
       "      <th>189</th>\n",
       "      <td>32888170</td>\n",
       "      <td>45,058.0</td>\n",
       "      <td>0.0</td>\n",
       "    </tr>\n",
       "    <tr>\n",
       "      <th>190</th>\n",
       "      <td>4673031</td>\n",
       "      <td>53,000.0</td>\n",
       "      <td>0.0</td>\n",
       "    </tr>\n",
       "    <tr>\n",
       "      <th>191</th>\n",
       "      <td>43985353</td>\n",
       "      <td>48,000.0</td>\n",
       "      <td>0.0</td>\n",
       "    </tr>\n",
       "    <tr>\n",
       "      <th>192</th>\n",
       "      <td>39042336</td>\n",
       "      <td>62,000.0</td>\n",
       "      <td>0.0</td>\n",
       "    </tr>\n",
       "    <tr>\n",
       "      <th>193</th>\n",
       "      <td>63009914</td>\n",
       "      <td>85,000.0</td>\n",
       "      <td>6,375.0</td>\n",
       "    </tr>\n",
       "    <tr>\n",
       "      <th>194</th>\n",
       "      <td>73030174</td>\n",
       "      <td>94,500.0</td>\n",
       "      <td>7,087.5</td>\n",
       "    </tr>\n",
       "    <tr>\n",
       "      <th>195</th>\n",
       "      <td>10296814</td>\n",
       "      <td>74,000.0</td>\n",
       "      <td>5,550.0</td>\n",
       "    </tr>\n",
       "    <tr>\n",
       "      <th>196</th>\n",
       "      <td>62695297</td>\n",
       "      <td>160,000.0</td>\n",
       "      <td>12,000.0</td>\n",
       "    </tr>\n",
       "    <tr>\n",
       "      <th>197</th>\n",
       "      <td>43818420</td>\n",
       "      <td>52,000.0</td>\n",
       "      <td>0.0</td>\n",
       "    </tr>\n",
       "    <tr>\n",
       "      <th>198</th>\n",
       "      <td>27238924</td>\n",
       "      <td>60,000.0</td>\n",
       "      <td>0.0</td>\n",
       "    </tr>\n",
       "    <tr>\n",
       "      <th>199</th>\n",
       "      <td>15078641</td>\n",
       "      <td>63,000.0</td>\n",
       "      <td>0.0</td>\n",
       "    </tr>\n",
       "  </tbody>\n",
       "</table>\n",
       "<p>200 rows × 3 columns</p>\n",
       "</div>"
      ],
      "text/plain": [
       "     employee_id  annual_inc      Tax\n",
       "0       32718328    84,200.0  6,315.0\n",
       "1        4428518    60,000.0      0.0\n",
       "2       11031023   127,000.0  9,525.0\n",
       "3       44276470    75,000.0  5,625.0\n",
       "4       64547736   104,000.0  7,800.0\n",
       "5        7417960    48,000.0      0.0\n",
       "6       32888938    85,000.0  6,375.0\n",
       "7        4419452    90,000.0  6,750.0\n",
       "8        4153263    85,000.0  6,375.0\n",
       "9       25466112    58,000.0      0.0\n",
       "10      66692274   127,000.0  9,525.0\n",
       "11      48063881    31,500.0      0.0\n",
       "12      59429348   145,000.0 10,875.0\n",
       "13        539049    51,996.0      0.0\n",
       "14      22363030    78,000.0  5,850.0\n",
       "15       9044906    70,000.0  5,250.0\n",
       "16      16170322    60,000.0      0.0\n",
       "17       1075130   148,500.0 11,137.5\n",
       "18      14258048    55,000.0      0.0\n",
       "19      57779211   185,000.0 13,875.0\n",
       "20      35002597    40,000.0      0.0\n",
       "21      62464110    50,400.0      0.0\n",
       "22      40573856    16,000.0      0.0\n",
       "23      19015223    55,000.0      0.0\n",
       "24      12457271    57,000.0      0.0\n",
       "25      41302161    38,000.0      0.0\n",
       "26      14958083   130,000.0  9,750.0\n",
       "27      14638919    56,000.0      0.0\n",
       "28      10799787    68,000.0  5,100.0\n",
       "29      68439586    16,000.0      0.0\n",
       "..           ...         ...      ...\n",
       "170     24043936    75,000.0  5,625.0\n",
       "171      4672272    80,000.0  6,000.0\n",
       "172     10761172   117,478.4  8,810.9\n",
       "173      4431101   160,000.0 12,000.0\n",
       "174     16682779    32,000.0      0.0\n",
       "175     45440822   108,000.0  8,100.0\n",
       "176     14978604    60,000.0      0.0\n",
       "177      8449957    38,937.6      0.0\n",
       "178     25986418    82,000.0  6,150.0\n",
       "179     65452929    39,000.0      0.0\n",
       "180     55328571    66,000.0  4,950.0\n",
       "181     72648159    84,840.0  6,363.0\n",
       "182     63385929   100,000.0  7,500.0\n",
       "183     12649364    80,000.0  6,000.0\n",
       "184      8083256    40,000.0      0.0\n",
       "185     60828625    39,000.0      0.0\n",
       "186      8477585    70,000.0  5,250.0\n",
       "187     11927992   120,000.0  9,000.0\n",
       "188     12097315    50,000.0      0.0\n",
       "189     32888170    45,058.0      0.0\n",
       "190      4673031    53,000.0      0.0\n",
       "191     43985353    48,000.0      0.0\n",
       "192     39042336    62,000.0      0.0\n",
       "193     63009914    85,000.0  6,375.0\n",
       "194     73030174    94,500.0  7,087.5\n",
       "195     10296814    74,000.0  5,550.0\n",
       "196     62695297   160,000.0 12,000.0\n",
       "197     43818420    52,000.0      0.0\n",
       "198     27238924    60,000.0      0.0\n",
       "199     15078641    63,000.0      0.0\n",
       "\n",
       "[200 rows x 3 columns]"
      ]
     },
     "execution_count": 35,
     "metadata": {},
     "output_type": "execute_result"
    }
   ],
   "source": [
    "# Create a new column 'tax' in emp_df which is the tax calculated on the annual income.\n",
    "\n",
    "# Write your code here\n",
    "emp_df['Tax'] = emp_df['annual_inc'].apply(calculate_income_tax)\n",
    "emp_df\n"
   ]
  },
  {
   "cell_type": "markdown",
   "metadata": {},
   "source": [
    "**iv) ** Using your solution from **iii)** or otherwise, find the total amount of tax collected from all employees in the dataset? **`[0.5]`**"
   ]
  },
  {
   "cell_type": "code",
   "execution_count": 36,
   "metadata": {
    "ExecuteTime": {
     "end_time": "2018-10-06T05:15:14.519706Z",
     "start_time": "2018-10-06T05:15:14.515074Z"
    }
   },
   "outputs": [
    {
     "data": {
      "text/plain": [
       "720110.88"
      ]
     },
     "execution_count": 36,
     "metadata": {},
     "output_type": "execute_result"
    }
   ],
   "source": [
    "# What is the total amount of tax collected from all employees in the dataset?\n",
    "# Write your code here\n",
    "emp_df['Tax'].sum()\n",
    "\n",
    "# (Type your answer here)\n",
    "# 720110.88"
   ]
  },
  {
   "cell_type": "markdown",
   "metadata": {},
   "source": [
    "**v) ** Using your solution from **iii)** or otherwise, find out how many percent of the **total** annual income  of all employees which was tax. **`[0.5]`**\n",
    "\n",
    "Hint: the calculation is $\\frac{\\text{total income tax paid by all employees}}{\\text{total income earned by all employees}}$."
   ]
  },
  {
   "cell_type": "code",
   "execution_count": 37,
   "metadata": {
    "ExecuteTime": {
     "end_time": "2018-09-25T00:58:21.475728Z",
     "start_time": "2018-09-25T00:58:21.467348Z"
    }
   },
   "outputs": [
    {
     "data": {
      "text/plain": [
       "0.04899640147994902"
      ]
     },
     "execution_count": 37,
     "metadata": {},
     "output_type": "execute_result"
    }
   ],
   "source": [
    "# How many percent of the total annual income of all employees was income tax?\n",
    "# Write your code here\n",
    "emp_df['Tax'].sum()/emp_df['annual_inc'].sum()\n",
    "\n",
    "# (Type your answer here)\n",
    "# 4.90%"
   ]
  },
  {
   "cell_type": "markdown",
   "metadata": {},
   "source": [
    "**vi) ** Using your solution from **iii)** or otherwise, find out the number of employees who did not have to pay any tax. **`[0.5]`**"
   ]
  },
  {
   "cell_type": "code",
   "execution_count": 44,
   "metadata": {
    "ExecuteTime": {
     "end_time": "2018-09-25T00:58:21.487716Z",
     "start_time": "2018-09-25T00:58:21.479544Z"
    }
   },
   "outputs": [
    {
     "data": {
      "text/plain": [
       "106"
      ]
     },
     "execution_count": 44,
     "metadata": {},
     "output_type": "execute_result"
    }
   ],
   "source": [
    "# How many employees did not have to pay any tax, or their tax was $0.0?\n",
    "# Write your code here\n",
    "# emp_df.groupby('Tax').size().reset_index(name = 'Freq').head()\n",
    "\n",
    "#OR\n",
    "# emp_df[emp_df['tax'] == 0]['employee_id'].count()\n",
    "# np.sum(emp_df['Tax'] == 0)\n",
    "\n",
    "# (Type your answer here)\n",
    "# 106"
   ]
  },
  {
   "cell_type": "markdown",
   "metadata": {},
   "source": [
    "<div class=\"alert alert-success\">\n",
    "**Checkpoint**: When you have completed Part 1, upload your progress to eLearn. eLearn only accepts the latest notebooks so if you have an existing notebook, your latest upload will **override** it.\n",
    "</div>\n",
    "\n",
    "### Part 2 (5 Marks)\n",
    "\n",
    "The dataset `PASSNYC-schools.csv` is given to you. This is taken from the [PASSNYC: Data Science for Good](https://www.kaggle.com/passnyc/data-science-for-good/home) dataset.  The definition of each column is as follows:\n",
    "\n",
    "<p></p>\n",
    "<center>`PASSNYC-schools.csv`</center>\n",
    "\n",
    "| col name | definition | datatype | example |\n",
    "| -------- | ---------- | -------- | ------- |\n",
    "| School Name | The name of a school | str | ICAHN CHARTER SCHOOL 2\t |\n",
    "| Location Code | The location code of a school | str | 84X378 |\n",
    "| District | The district code of a school | int | 8 |\n",
    "| New? | An indicator of whether the school is new. `Y` indicates that the school is new while `N` indicates that the school is not new  | str | `Y` |\n",
    "\n",
    "\n",
    "Using the dataset, answer the following questions. Mark breakdowns are stated in the question e.g. **`[1]`**. <span style=\"color:darkblue\">**Where stated, both the <u>code</u> and <u>typed answers</u> must be provided to receive full credit.**</span>"
   ]
  },
  {
   "cell_type": "markdown",
   "metadata": {},
   "source": [
    "Read the dataset into a `DataFrame` called `schools_df`."
   ]
  },
  {
   "cell_type": "code",
   "execution_count": 45,
   "metadata": {
    "ExecuteTime": {
     "end_time": "2018-09-25T00:58:21.534532Z",
     "start_time": "2018-09-25T00:58:21.510105Z"
    }
   },
   "outputs": [],
   "source": [
    "# Read the data from the CSV file to schools_df. \n",
    "# Write your code here\n",
    "schools_df = pd.read_csv('PASSNYC-schools.csv')"
   ]
  },
  {
   "cell_type": "code",
   "execution_count": 46,
   "metadata": {
    "ExecuteTime": {
     "end_time": "2018-09-25T00:58:21.560908Z",
     "start_time": "2018-09-25T00:58:21.539038Z"
    },
    "scrolled": true
   },
   "outputs": [
    {
     "name": "stdout",
     "output_type": "stream",
     "text": [
      "                              School Name Location Code  District New?\n",
      "0               P.S. 015 ROBERTO CLEMENTE        01M015         1    Y\n",
      "1                     P.S. 019 ASHER LEVY        01M019         1    Y\n",
      "2                    P.S. 020 ANNA SILVER        01M020         1    Y\n",
      "3          P.S. 034 FRANKLIN D. ROOSEVELT        01M034         1    Y\n",
      "4               THE STAR ACADEMY - P.S.63        01M063         1    Y\n",
      "5                   P.S. 064 ROBERT SIMON        01M064         1    Y\n",
      "6           P.S. 110 FLORENCE NIGHTINGALE        01M110         1    Y\n",
      "7                P.S. 134 HENRIETTA SZOLD        01M134         1    Y\n",
      "8                  P.S. 140 NATHAN STRAUS        01M140         1    Y\n",
      "9                  P.S. 142 AMALIA CASTRO        01M142         1    Y\n",
      "10                   P.S. 184M SHUANG WEN        01M184         1    Y\n",
      "11             P.S. 188 THE ISLAND SCHOOL        01M188         1    Y\n",
      "12             ORCHARD COLLEGIATE ACADEMY        01M292         1    Y\n",
      "13  TECHNOLOGY, ARTS, AND SCIENCES STUDIO        01M301         1    Y\n",
      "14      THE EAST VILLAGE COMMUNITY SCHOOL        01M315         1    Y\n"
     ]
    }
   ],
   "source": [
    "# Optional: modify the value of h so that the first 15 records in the dataset is displayed\n",
    "\n",
    "h = 15\n",
    "print(schools_df.head(h))"
   ]
  },
  {
   "cell_type": "markdown",
   "metadata": {},
   "source": [
    "**2A.** \n",
    "\n",
    "**(i)** Using `Series.unique()` or otherwise, find all the unique `District`s in the dataset. **`[0.5]`**"
   ]
  },
  {
   "cell_type": "code",
   "execution_count": 47,
   "metadata": {
    "ExecuteTime": {
     "end_time": "2018-09-25T00:58:21.575919Z",
     "start_time": "2018-09-25T00:58:21.566477Z"
    }
   },
   "outputs": [
    {
     "data": {
      "text/plain": [
       "array([ 1,  2,  3,  4,  5,  6,  7,  8,  9, 10, 11, 12, 13, 14, 15, 16, 17,\n",
       "       23, 18, 19, 20, 21, 22, 24, 25, 26, 27, 28, 29, 30, 31, 32],\n",
       "      dtype=int64)"
      ]
     },
     "execution_count": 47,
     "metadata": {},
     "output_type": "execute_result"
    }
   ],
   "source": [
    "# Write the code to show the unique Districts here.\n",
    "schools_df['District'].unique()"
   ]
  },
  {
   "cell_type": "markdown",
   "metadata": {},
   "source": [
    "**(ii)** How many unique `Districts` are there? **`[0.5]`**"
   ]
  },
  {
   "cell_type": "code",
   "execution_count": 48,
   "metadata": {
    "ExecuteTime": {
     "end_time": "2018-09-25T00:58:21.587443Z",
     "start_time": "2018-09-25T00:58:21.580466Z"
    }
   },
   "outputs": [
    {
     "data": {
      "text/plain": [
       "32"
      ]
     },
     "execution_count": 48,
     "metadata": {},
     "output_type": "execute_result"
    }
   ],
   "source": [
    "# How many unique Districts are there in the dataset?\n",
    "# You might write any code to help you here.\n",
    "len(schools_df['District'].unique())\n",
    "\n",
    "# (Type your answer here)\n",
    "#  32"
   ]
  },
  {
   "cell_type": "markdown",
   "metadata": {},
   "source": [
    "**(iii)** Using `df.groupby()` or otherwise, create a new `df` with two columns. The first column labelled `District` and contains the District number. The second column is called `Number of Schools` and contains the number of schools in the disctrict. Do this for **only** schools in `District` numbers `1`, `2`, `3`, `4` and `5`. **`[1]`**"
   ]
  },
  {
   "cell_type": "code",
   "execution_count": 50,
   "metadata": {
    "ExecuteTime": {
     "end_time": "2018-09-25T00:58:21.620814Z",
     "start_time": "2018-09-25T00:58:21.591281Z"
    },
    "scrolled": false
   },
   "outputs": [
    {
     "data": {
      "text/html": [
       "<div>\n",
       "<style scoped>\n",
       "    .dataframe tbody tr th:only-of-type {\n",
       "        vertical-align: middle;\n",
       "    }\n",
       "\n",
       "    .dataframe tbody tr th {\n",
       "        vertical-align: top;\n",
       "    }\n",
       "\n",
       "    .dataframe thead th {\n",
       "        text-align: right;\n",
       "    }\n",
       "</style>\n",
       "<table border=\"1\" class=\"dataframe\">\n",
       "  <thead>\n",
       "    <tr style=\"text-align: right;\">\n",
       "      <th></th>\n",
       "      <th>District</th>\n",
       "      <th>Number of Schools</th>\n",
       "    </tr>\n",
       "  </thead>\n",
       "  <tbody>\n",
       "    <tr>\n",
       "      <th>0</th>\n",
       "      <td>1</td>\n",
       "      <td>27</td>\n",
       "    </tr>\n",
       "    <tr>\n",
       "      <th>1</th>\n",
       "      <td>2</td>\n",
       "      <td>53</td>\n",
       "    </tr>\n",
       "    <tr>\n",
       "      <th>2</th>\n",
       "      <td>3</td>\n",
       "      <td>41</td>\n",
       "    </tr>\n",
       "    <tr>\n",
       "      <th>3</th>\n",
       "      <td>4</td>\n",
       "      <td>33</td>\n",
       "    </tr>\n",
       "    <tr>\n",
       "      <th>4</th>\n",
       "      <td>5</td>\n",
       "      <td>36</td>\n",
       "    </tr>\n",
       "  </tbody>\n",
       "</table>\n",
       "</div>"
      ],
      "text/plain": [
       "   District  Number of Schools\n",
       "0         1                 27\n",
       "1         2                 53\n",
       "2         3                 41\n",
       "3         4                 33\n",
       "4         5                 36"
      ]
     },
     "execution_count": 50,
     "metadata": {},
     "output_type": "execute_result"
    }
   ],
   "source": [
    "# Write your code here to create the aggregated df.\n",
    "required_schools_df = schools_df.copy()\n",
    "required_district = ['1', '2', '3', '4', '5']\n",
    "required_schools_df = required_schools_df[required_schools_df['District'].isin(required_district)]\n",
    "\n",
    "required_schools_df.groupby('District').size().reset_index(name = 'Number of Schools')"
   ]
  },
  {
   "cell_type": "markdown",
   "metadata": {},
   "source": [
    "**2B.** What is the interpretation of the the pivot table given to you in the code? **`[2]`**"
   ]
  },
  {
   "cell_type": "code",
   "execution_count": 51,
   "metadata": {
    "ExecuteTime": {
     "end_time": "2018-09-25T00:58:21.670346Z",
     "start_time": "2018-09-25T00:58:21.625655Z"
    }
   },
   "outputs": [
    {
     "data": {
      "text/html": [
       "<div>\n",
       "<style scoped>\n",
       "    .dataframe tbody tr th:only-of-type {\n",
       "        vertical-align: middle;\n",
       "    }\n",
       "\n",
       "    .dataframe tbody tr th {\n",
       "        vertical-align: top;\n",
       "    }\n",
       "\n",
       "    .dataframe thead th {\n",
       "        text-align: right;\n",
       "    }\n",
       "</style>\n",
       "<table border=\"1\" class=\"dataframe\">\n",
       "  <thead>\n",
       "    <tr style=\"text-align: right;\">\n",
       "      <th>New?</th>\n",
       "      <th>N</th>\n",
       "      <th>Y</th>\n",
       "    </tr>\n",
       "    <tr>\n",
       "      <th>District</th>\n",
       "      <th></th>\n",
       "      <th></th>\n",
       "    </tr>\n",
       "  </thead>\n",
       "  <tbody>\n",
       "    <tr>\n",
       "      <th>1</th>\n",
       "      <td>0</td>\n",
       "      <td>27</td>\n",
       "    </tr>\n",
       "    <tr>\n",
       "      <th>2</th>\n",
       "      <td>4</td>\n",
       "      <td>49</td>\n",
       "    </tr>\n",
       "    <tr>\n",
       "      <th>3</th>\n",
       "      <td>2</td>\n",
       "      <td>39</td>\n",
       "    </tr>\n",
       "    <tr>\n",
       "      <th>4</th>\n",
       "      <td>1</td>\n",
       "      <td>32</td>\n",
       "    </tr>\n",
       "    <tr>\n",
       "      <th>5</th>\n",
       "      <td>1</td>\n",
       "      <td>35</td>\n",
       "    </tr>\n",
       "    <tr>\n",
       "      <th>6</th>\n",
       "      <td>1</td>\n",
       "      <td>42</td>\n",
       "    </tr>\n",
       "    <tr>\n",
       "      <th>7</th>\n",
       "      <td>3</td>\n",
       "      <td>38</td>\n",
       "    </tr>\n",
       "    <tr>\n",
       "      <th>8</th>\n",
       "      <td>1</td>\n",
       "      <td>42</td>\n",
       "    </tr>\n",
       "    <tr>\n",
       "      <th>9</th>\n",
       "      <td>0</td>\n",
       "      <td>62</td>\n",
       "    </tr>\n",
       "    <tr>\n",
       "      <th>10</th>\n",
       "      <td>1</td>\n",
       "      <td>60</td>\n",
       "    </tr>\n",
       "    <tr>\n",
       "      <th>11</th>\n",
       "      <td>1</td>\n",
       "      <td>49</td>\n",
       "    </tr>\n",
       "    <tr>\n",
       "      <th>12</th>\n",
       "      <td>0</td>\n",
       "      <td>40</td>\n",
       "    </tr>\n",
       "    <tr>\n",
       "      <th>13</th>\n",
       "      <td>1</td>\n",
       "      <td>35</td>\n",
       "    </tr>\n",
       "    <tr>\n",
       "      <th>14</th>\n",
       "      <td>1</td>\n",
       "      <td>34</td>\n",
       "    </tr>\n",
       "    <tr>\n",
       "      <th>15</th>\n",
       "      <td>2</td>\n",
       "      <td>40</td>\n",
       "    </tr>\n",
       "    <tr>\n",
       "      <th>16</th>\n",
       "      <td>0</td>\n",
       "      <td>27</td>\n",
       "    </tr>\n",
       "    <tr>\n",
       "      <th>17</th>\n",
       "      <td>3</td>\n",
       "      <td>38</td>\n",
       "    </tr>\n",
       "    <tr>\n",
       "      <th>18</th>\n",
       "      <td>2</td>\n",
       "      <td>27</td>\n",
       "    </tr>\n",
       "    <tr>\n",
       "      <th>19</th>\n",
       "      <td>1</td>\n",
       "      <td>43</td>\n",
       "    </tr>\n",
       "    <tr>\n",
       "      <th>20</th>\n",
       "      <td>0</td>\n",
       "      <td>39</td>\n",
       "    </tr>\n",
       "    <tr>\n",
       "      <th>21</th>\n",
       "      <td>0</td>\n",
       "      <td>31</td>\n",
       "    </tr>\n",
       "    <tr>\n",
       "      <th>22</th>\n",
       "      <td>0</td>\n",
       "      <td>33</td>\n",
       "    </tr>\n",
       "    <tr>\n",
       "      <th>23</th>\n",
       "      <td>0</td>\n",
       "      <td>32</td>\n",
       "    </tr>\n",
       "    <tr>\n",
       "      <th>24</th>\n",
       "      <td>1</td>\n",
       "      <td>39</td>\n",
       "    </tr>\n",
       "    <tr>\n",
       "      <th>25</th>\n",
       "      <td>0</td>\n",
       "      <td>35</td>\n",
       "    </tr>\n",
       "    <tr>\n",
       "      <th>26</th>\n",
       "      <td>0</td>\n",
       "      <td>28</td>\n",
       "    </tr>\n",
       "    <tr>\n",
       "      <th>27</th>\n",
       "      <td>0</td>\n",
       "      <td>50</td>\n",
       "    </tr>\n",
       "    <tr>\n",
       "      <th>28</th>\n",
       "      <td>1</td>\n",
       "      <td>38</td>\n",
       "    </tr>\n",
       "    <tr>\n",
       "      <th>29</th>\n",
       "      <td>0</td>\n",
       "      <td>38</td>\n",
       "    </tr>\n",
       "    <tr>\n",
       "      <th>30</th>\n",
       "      <td>0</td>\n",
       "      <td>41</td>\n",
       "    </tr>\n",
       "    <tr>\n",
       "      <th>31</th>\n",
       "      <td>0</td>\n",
       "      <td>60</td>\n",
       "    </tr>\n",
       "    <tr>\n",
       "      <th>32</th>\n",
       "      <td>0</td>\n",
       "      <td>22</td>\n",
       "    </tr>\n",
       "  </tbody>\n",
       "</table>\n",
       "</div>"
      ],
      "text/plain": [
       "New?      N   Y\n",
       "District       \n",
       "1         0  27\n",
       "2         4  49\n",
       "3         2  39\n",
       "4         1  32\n",
       "5         1  35\n",
       "6         1  42\n",
       "7         3  38\n",
       "8         1  42\n",
       "9         0  62\n",
       "10        1  60\n",
       "11        1  49\n",
       "12        0  40\n",
       "13        1  35\n",
       "14        1  34\n",
       "15        2  40\n",
       "16        0  27\n",
       "17        3  38\n",
       "18        2  27\n",
       "19        1  43\n",
       "20        0  39\n",
       "21        0  31\n",
       "22        0  33\n",
       "23        0  32\n",
       "24        1  39\n",
       "25        0  35\n",
       "26        0  28\n",
       "27        0  50\n",
       "28        1  38\n",
       "29        0  38\n",
       "30        0  41\n",
       "31        0  60\n",
       "32        0  22"
      ]
     },
     "execution_count": 51,
     "metadata": {},
     "output_type": "execute_result"
    }
   ],
   "source": [
    "# Uncomment the following lines of code to show the pivot table.\n",
    "pivot_tbl_df = pd.pivot_table(schools_df[['District', 'New?']], \n",
    "                index='District', \n",
    "                columns=['New?'], \n",
    "                aggfunc=len).fillna(0)\n",
    "pivot_tbl_df['N'] = pivot_tbl_df['N'].apply(np.int)\n",
    "pivot_tbl_df['Y'] = pivot_tbl_df['Y'].apply(np.int)\n",
    "pivot_tbl_df\n",
    "\n",
    "# What is the interpretation of the the pivot table?\n",
    "# (Type your answer here)\n",
    "# Each row represents a district\n",
    "# Each column represents the schools that are new or old in a district\n",
    "# Each cell represents the number of schools that are new/old in each district"
   ]
  },
  {
   "cell_type": "markdown",
   "metadata": {},
   "source": [
    "**2C.** In which districts are the number of schools more than the **mean** number of schools per district? **`[1]`**"
   ]
  },
  {
   "cell_type": "code",
   "execution_count": 52,
   "metadata": {
    "ExecuteTime": {
     "end_time": "2018-09-25T00:58:21.691360Z",
     "start_time": "2018-09-25T00:58:21.673661Z"
    }
   },
   "outputs": [
    {
     "data": {
      "text/plain": [
       "[2, 3, 6, 7, 8, 9, 10, 11, 12, 15, 17, 19, 24, 27, 30, 31]"
      ]
     },
     "execution_count": 52,
     "metadata": {},
     "output_type": "execute_result"
    }
   ],
   "source": [
    "# In which districts are the number of schools more than \n",
    "# the mean number of schools of all districts in the dataset?\n",
    "# Write your code here\n",
    "number_of_districts = schools_df['District'].nunique()\n",
    "number_of_schools = schools_df['School Name'].nunique()\n",
    "\n",
    "mean = number_of_schools / number_of_districts\n",
    "\n",
    "num_schools_df = schools_df.groupby('District').size().reset_index(name = 'Number of Schools')\n",
    "num_schools_df = num_schools_df[num_schools_df['Number of Schools'] > mean]\n",
    "list_of_districts = list(num_schools_df['District'])\n",
    "list_of_districts\n",
    "\n",
    "# (Type your answer here)\n",
    "# [2, 3, 6, 7, 8, 9, 10, 11, 12, 15, 17, 19, 24, 27, 30, 31]"
   ]
  },
  {
   "cell_type": "markdown",
   "metadata": {},
   "source": [
    "<div class=\"alert alert-success\">\n",
    "**Checkpoint**: When you have completed Part 2, upload your progress to eLearn. eLearn only accepts the latest notebooks so if you have an existing notebook, your latest upload will **override** it.\n",
    "</div>"
   ]
  }
 ],
 "metadata": {
  "kernelspec": {
   "display_name": "Python 3",
   "language": "python",
   "name": "python3"
  },
  "language_info": {
   "codemirror_mode": {
    "name": "ipython",
    "version": 3
   },
   "file_extension": ".py",
   "mimetype": "text/x-python",
   "name": "python",
   "nbconvert_exporter": "python",
   "pygments_lexer": "ipython3",
   "version": "3.7.6"
  }
 },
 "nbformat": 4,
 "nbformat_minor": 2
}
