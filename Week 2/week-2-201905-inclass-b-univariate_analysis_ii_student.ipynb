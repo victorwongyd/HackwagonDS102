{
 "cells": [
  {
   "cell_type": "markdown",
   "metadata": {},
   "source": [
    "### DS102 | In Class Practice Week 2B - Univariate Analysis II\n",
    "<hr>\n",
    "## Learning Objectives\n",
    "At the end of the lesson, you will be able to:\n",
    "\n",
    "- use `DataFrame.describe()` to view summary statistics of a dataset\n",
    "\n",
    "- understand **quartiles** and **percentiles** and use them to identify the **interquartile range (IQR)**\n",
    "\n",
    "- **identify outliers** using the interquartile range\n",
    "\n",
    "### Datasets Required for this In Class\n",
    "1. `seattle-wages-2k.csv`"
   ]
  },
  {
   "cell_type": "markdown",
   "metadata": {},
   "source": [
    "#### Import the libraries"
   ]
  },
  {
   "cell_type": "code",
   "execution_count": 2,
   "metadata": {
    "ExecuteTime": {
     "end_time": "2019-03-09T07:50:50.237392Z",
     "start_time": "2019-03-09T07:50:49.724955Z"
    }
   },
   "outputs": [],
   "source": [
    "# Import libraries\n",
    "import pandas as pd\n",
    "import numpy as np\n",
    "import matplotlib.pyplot as plt\n",
    "import seaborn as sns"
   ]
  },
  {
   "cell_type": "markdown",
   "metadata": {},
   "source": [
    "#### Read from CSV to `df`\n",
    "\n",
    "Read the dataset `seattle-wages-2k.csv` into a `df`."
   ]
  },
  {
   "cell_type": "code",
   "execution_count": 3,
   "metadata": {
    "ExecuteTime": {
     "end_time": "2019-03-09T07:50:50.265579Z",
     "start_time": "2019-03-09T07:50:50.242075Z"
    }
   },
   "outputs": [
    {
     "data": {
      "text/html": [
       "<div>\n",
       "<style scoped>\n",
       "    .dataframe tbody tr th:only-of-type {\n",
       "        vertical-align: middle;\n",
       "    }\n",
       "\n",
       "    .dataframe tbody tr th {\n",
       "        vertical-align: top;\n",
       "    }\n",
       "\n",
       "    .dataframe thead th {\n",
       "        text-align: right;\n",
       "    }\n",
       "</style>\n",
       "<table border=\"1\" class=\"dataframe\">\n",
       "  <thead>\n",
       "    <tr style=\"text-align: right;\">\n",
       "      <th></th>\n",
       "      <th>Department</th>\n",
       "      <th>Job_Title</th>\n",
       "      <th>Hourly_Rate</th>\n",
       "    </tr>\n",
       "  </thead>\n",
       "  <tbody>\n",
       "    <tr>\n",
       "      <th>0</th>\n",
       "      <td>Seattle Public Utilities</td>\n",
       "      <td>Civil Engrng Spec,Assoc</td>\n",
       "      <td>38.67</td>\n",
       "    </tr>\n",
       "    <tr>\n",
       "      <th>1</th>\n",
       "      <td>Seattle Dept of Transportation</td>\n",
       "      <td>Bridge Elecl Maint Supv</td>\n",
       "      <td>46.15</td>\n",
       "    </tr>\n",
       "    <tr>\n",
       "      <th>2</th>\n",
       "      <td>City Light</td>\n",
       "      <td>Plng&amp;Dev Spec II</td>\n",
       "      <td>40.93</td>\n",
       "    </tr>\n",
       "    <tr>\n",
       "      <th>3</th>\n",
       "      <td>Seattle Center</td>\n",
       "      <td>Stage Tech *</td>\n",
       "      <td>30.42</td>\n",
       "    </tr>\n",
       "    <tr>\n",
       "      <th>4</th>\n",
       "      <td>Mayor's Office</td>\n",
       "      <td>Executive2</td>\n",
       "      <td>67.50</td>\n",
       "    </tr>\n",
       "  </tbody>\n",
       "</table>\n",
       "</div>"
      ],
      "text/plain": [
       "                       Department                Job_Title  Hourly_Rate\n",
       "0        Seattle Public Utilities  Civil Engrng Spec,Assoc        38.67\n",
       "1  Seattle Dept of Transportation  Bridge Elecl Maint Supv        46.15\n",
       "2                      City Light         Plng&Dev Spec II        40.93\n",
       "3                  Seattle Center             Stage Tech *        30.42\n",
       "4                  Mayor's Office               Executive2        67.50"
      ]
     },
     "execution_count": 3,
     "metadata": {},
     "output_type": "execute_result"
    }
   ],
   "source": [
    "# Exercise: Read seattle-wages-2k.csv to a df.\n",
    "df = pd.read_csv('seattle-wages-2k.csv')\n",
    "df.head()"
   ]
  },
  {
   "cell_type": "markdown",
   "metadata": {},
   "source": [
    "### Use `describe()` to find summary statistics of a `DataFrame`"
   ]
  },
  {
   "cell_type": "markdown",
   "metadata": {},
   "source": [
    "Use `df.describe()` to find out summary statistics of each of the columns in a `df`. You will be able to see the **number of records**, **arithmetic mean / average** of the dataset, the **standard deviation** of the dataset, the **minimum value**, **25th percentile or first quartile**, **50th percentile or median**, **75th percentile or 3rd quartile** and **maximum value** of the numerical dataset."
   ]
  },
  {
   "cell_type": "code",
   "execution_count": 4,
   "metadata": {},
   "outputs": [
    {
     "name": "stdout",
     "output_type": "stream",
     "text": [
      "<class 'pandas.core.frame.DataFrame'>\n",
      "RangeIndex: 2000 entries, 0 to 1999\n",
      "Data columns (total 3 columns):\n",
      "Department     2000 non-null object\n",
      "Job_Title      2000 non-null object\n",
      "Hourly_Rate    2000 non-null float64\n",
      "dtypes: float64(1), object(2)\n",
      "memory usage: 47.0+ KB\n"
     ]
    }
   ],
   "source": [
    "df.info()"
   ]
  },
  {
   "cell_type": "code",
   "execution_count": 5,
   "metadata": {
    "ExecuteTime": {
     "end_time": "2019-03-09T07:50:50.316303Z",
     "start_time": "2019-03-09T07:50:50.274072Z"
    },
    "scrolled": true
   },
   "outputs": [
    {
     "data": {
      "text/html": [
       "<div>\n",
       "<style scoped>\n",
       "    .dataframe tbody tr th:only-of-type {\n",
       "        vertical-align: middle;\n",
       "    }\n",
       "\n",
       "    .dataframe tbody tr th {\n",
       "        vertical-align: top;\n",
       "    }\n",
       "\n",
       "    .dataframe thead th {\n",
       "        text-align: right;\n",
       "    }\n",
       "</style>\n",
       "<table border=\"1\" class=\"dataframe\">\n",
       "  <thead>\n",
       "    <tr style=\"text-align: right;\">\n",
       "      <th></th>\n",
       "      <th>Department</th>\n",
       "      <th>Job_Title</th>\n",
       "      <th>Hourly_Rate</th>\n",
       "    </tr>\n",
       "  </thead>\n",
       "  <tbody>\n",
       "    <tr>\n",
       "      <th>count</th>\n",
       "      <td>2000</td>\n",
       "      <td>2000</td>\n",
       "      <td>2000.000000</td>\n",
       "    </tr>\n",
       "    <tr>\n",
       "      <th>unique</th>\n",
       "      <td>34</td>\n",
       "      <td>533</td>\n",
       "      <td>NaN</td>\n",
       "    </tr>\n",
       "    <tr>\n",
       "      <th>top</th>\n",
       "      <td>Police Department</td>\n",
       "      <td>Pol Ofcr-Patrl</td>\n",
       "      <td>NaN</td>\n",
       "    </tr>\n",
       "    <tr>\n",
       "      <th>freq</th>\n",
       "      <td>296</td>\n",
       "      <td>81</td>\n",
       "      <td>NaN</td>\n",
       "    </tr>\n",
       "    <tr>\n",
       "      <th>mean</th>\n",
       "      <td>NaN</td>\n",
       "      <td>NaN</td>\n",
       "      <td>38.930690</td>\n",
       "    </tr>\n",
       "    <tr>\n",
       "      <th>std</th>\n",
       "      <td>NaN</td>\n",
       "      <td>NaN</td>\n",
       "      <td>13.925579</td>\n",
       "    </tr>\n",
       "    <tr>\n",
       "      <th>min</th>\n",
       "      <td>NaN</td>\n",
       "      <td>NaN</td>\n",
       "      <td>5.530000</td>\n",
       "    </tr>\n",
       "    <tr>\n",
       "      <th>25%</th>\n",
       "      <td>NaN</td>\n",
       "      <td>NaN</td>\n",
       "      <td>29.090000</td>\n",
       "    </tr>\n",
       "    <tr>\n",
       "      <th>50%</th>\n",
       "      <td>NaN</td>\n",
       "      <td>NaN</td>\n",
       "      <td>38.600000</td>\n",
       "    </tr>\n",
       "    <tr>\n",
       "      <th>75%</th>\n",
       "      <td>NaN</td>\n",
       "      <td>NaN</td>\n",
       "      <td>47.977500</td>\n",
       "    </tr>\n",
       "    <tr>\n",
       "      <th>max</th>\n",
       "      <td>NaN</td>\n",
       "      <td>NaN</td>\n",
       "      <td>109.580000</td>\n",
       "    </tr>\n",
       "  </tbody>\n",
       "</table>\n",
       "</div>"
      ],
      "text/plain": [
       "               Department       Job_Title  Hourly_Rate\n",
       "count                2000            2000  2000.000000\n",
       "unique                 34             533          NaN\n",
       "top     Police Department  Pol Ofcr-Patrl          NaN\n",
       "freq                  296              81          NaN\n",
       "mean                  NaN             NaN    38.930690\n",
       "std                   NaN             NaN    13.925579\n",
       "min                   NaN             NaN     5.530000\n",
       "25%                   NaN             NaN    29.090000\n",
       "50%                   NaN             NaN    38.600000\n",
       "75%                   NaN             NaN    47.977500\n",
       "max                   NaN             NaN   109.580000"
      ]
     },
     "execution_count": 5,
     "metadata": {},
     "output_type": "execute_result"
    }
   ],
   "source": [
    "# Use df.describe() to find the summary statistics of the df.\n",
    "df.describe(include = 'all')"
   ]
  },
  {
   "cell_type": "markdown",
   "metadata": {},
   "source": [
    "### Quartiles and Inter-Quartile Range\n",
    "\n",
    "`Hourly_Rate` is a numeric dataset. It contains $2000$ records. \n",
    "\n",
    "If the values are arranged from the lowest to the highest, \n",
    "- the **first quartile** is the value where $25\\%$ of values are below the value. It is also called the $25\\text{th}$ percentile\n",
    "- the **second quartile** is the value where $50\\%$ of values are below the value. It is also called the $50\\text{th}$ percentile or the median\n",
    "- the **third quartile** is the value where $75\\%$ of values are below the value. It is also called the $75\\text{th}$ percentile\n",
    "\n",
    "Besides `describe()` as seen above, you can also use `numpy.percentile(Series, n)` to get the `n`th percentile of the distribution."
   ]
  },
  {
   "cell_type": "code",
   "execution_count": 6,
   "metadata": {
    "ExecuteTime": {
     "end_time": "2019-03-09T07:50:50.330189Z",
     "start_time": "2019-03-09T07:50:50.322239Z"
    }
   },
   "outputs": [
    {
     "data": {
      "text/plain": [
       "29.09"
      ]
     },
     "execution_count": 6,
     "metadata": {},
     "output_type": "execute_result"
    }
   ],
   "source": [
    "# use np.percentile(Series, 25) to get the 25th percentile of the distribution\n",
    "#\n",
    "np.percentile(df['Hourly_Rate'], 25)"
   ]
  },
  {
   "cell_type": "code",
   "execution_count": 7,
   "metadata": {
    "ExecuteTime": {
     "end_time": "2019-03-09T07:50:50.346503Z",
     "start_time": "2019-03-09T07:50:50.333459Z"
    }
   },
   "outputs": [
    {
     "data": {
      "text/plain": [
       "38.6"
      ]
     },
     "execution_count": 7,
     "metadata": {},
     "output_type": "execute_result"
    }
   ],
   "source": [
    "# use np.percentile() to get the 50th percentile of the distribution\n",
    "#\n",
    "np.percentile(df['Hourly_Rate'], 50)"
   ]
  },
  {
   "cell_type": "code",
   "execution_count": 8,
   "metadata": {
    "ExecuteTime": {
     "end_time": "2019-03-09T07:50:50.364577Z",
     "start_time": "2019-03-09T07:50:50.353748Z"
    }
   },
   "outputs": [
    {
     "data": {
      "text/plain": [
       "47.9775"
      ]
     },
     "execution_count": 8,
     "metadata": {},
     "output_type": "execute_result"
    }
   ],
   "source": [
    "# Exercise: Get the 75th percentile of the Hourly_Rate values\n",
    "np.percentile(df['Hourly_Rate'], 75)"
   ]
  },
  {
   "cell_type": "markdown",
   "metadata": {
    "ExecuteTime": {
     "end_time": "2019-03-09T07:36:18.708852Z",
     "start_time": "2019-03-09T07:36:18.702303Z"
    }
   },
   "source": [
    "Fill in the blanks. \n",
    "\n",
    "- The first quartile or 25th percentile is 29.09. \n",
    "\n",
    "- The second quartile, 50th percentile or median is 38.6.\n",
    "\n",
    "- The third quartile or 75th percentile is 47.9775."
   ]
  },
  {
   "cell_type": "markdown",
   "metadata": {},
   "source": [
    "The interquartile range, $IQR$ is calculated as:\n",
    "\n",
    "$$\\text{interquartile range, }IQR = \\text{third quartile} - \\text{first quartile}$$\n",
    "\n",
    "This value is used to determine outliers. Let $Q1$ be the first quartile and $Q3$ be the third quartile. Also, let $IQR$ be the inter-quartile range. Outliers are values that lie outside the range:\n",
    "\n",
    "$$\n",
    "[(Q1-1.5\\times IQR), (Q3+1.5\\times IQR)]\n",
    "$$\n",
    "\n",
    "**Q: ** Determine the $IQR$ of the `Hourly_Rate` of all employees."
   ]
  },
  {
   "cell_type": "code",
   "execution_count": 9,
   "metadata": {
    "ExecuteTime": {
     "end_time": "2019-03-09T07:50:50.378991Z",
     "start_time": "2019-03-09T07:50:50.368642Z"
    },
    "scrolled": true
   },
   "outputs": [
    {
     "data": {
      "text/plain": [
       "18.8875"
      ]
     },
     "execution_count": 9,
     "metadata": {},
     "output_type": "execute_result"
    }
   ],
   "source": [
    "# Exercise: assign the 25th percentile and 75th percentile to the \n",
    "# variables quartile_1 and quartile_3 respectively\n",
    "quartile_1 = np.percentile(df['Hourly_Rate'], 25)\n",
    "quartile_3 = np.percentile(df['Hourly_Rate'], 75)\n",
    "\n",
    "\n",
    "# Determine the IQR of the dataset and assign it to the variable iqr\n",
    "iqr = quartile_3 - quartile_1\n",
    "iqr"
   ]
  },
  {
   "cell_type": "markdown",
   "metadata": {},
   "source": [
    "**Q: ** Using the formula above and the $IQR$, calculate the lower bound and upper bound of the `Hourly_Rate` of all employees."
   ]
  },
  {
   "cell_type": "code",
   "execution_count": 10,
   "metadata": {
    "ExecuteTime": {
     "end_time": "2019-03-09T07:50:50.400994Z",
     "start_time": "2019-03-09T07:50:50.384008Z"
    },
    "scrolled": true
   },
   "outputs": [
    {
     "name": "stdout",
     "output_type": "stream",
     "text": [
      "The lower bound is 0.7587500000000027\n",
      "The upper bound is 76.30875\n"
     ]
    }
   ],
   "source": [
    "# Using the formula above and the iqr, calculate the lower bound and upper bound of Hourly_Rate\n",
    "lower_bound = quartile_1 - (1.5 * iqr)\n",
    "upper_bound = quartile_3 + (1.5 * iqr)\n",
    "\n",
    "print(\"The lower bound is \" + str(lower_bound))\n",
    "print(\"The upper bound is \" + str(upper_bound))"
   ]
  },
  {
   "cell_type": "markdown",
   "metadata": {},
   "source": [
    "**Q: ** Finally, find all employees who are outliers, based on their `Hourly_Rate`."
   ]
  },
  {
   "cell_type": "code",
   "execution_count": 11,
   "metadata": {
    "ExecuteTime": {
     "end_time": "2019-03-09T07:50:50.438221Z",
     "start_time": "2019-03-09T07:50:50.408641Z"
    }
   },
   "outputs": [
    {
     "data": {
      "text/html": [
       "<div>\n",
       "<style scoped>\n",
       "    .dataframe tbody tr th:only-of-type {\n",
       "        vertical-align: middle;\n",
       "    }\n",
       "\n",
       "    .dataframe tbody tr th {\n",
       "        vertical-align: top;\n",
       "    }\n",
       "\n",
       "    .dataframe thead th {\n",
       "        text-align: right;\n",
       "    }\n",
       "</style>\n",
       "<table border=\"1\" class=\"dataframe\">\n",
       "  <thead>\n",
       "    <tr style=\"text-align: right;\">\n",
       "      <th></th>\n",
       "      <th>Department</th>\n",
       "      <th>Job_Title</th>\n",
       "      <th>Hourly_Rate</th>\n",
       "    </tr>\n",
       "  </thead>\n",
       "  <tbody>\n",
       "    <tr>\n",
       "      <th>5</th>\n",
       "      <td>Office for Civil Rights</td>\n",
       "      <td>Executive2</td>\n",
       "      <td>77.12</td>\n",
       "    </tr>\n",
       "    <tr>\n",
       "      <th>25</th>\n",
       "      <td>Fire Department</td>\n",
       "      <td>Executive4</td>\n",
       "      <td>102.08</td>\n",
       "    </tr>\n",
       "    <tr>\n",
       "      <th>293</th>\n",
       "      <td>Planning and Community Develop</td>\n",
       "      <td>Executive3</td>\n",
       "      <td>82.01</td>\n",
       "    </tr>\n",
       "    <tr>\n",
       "      <th>353</th>\n",
       "      <td>Seattle Dept of Transportation</td>\n",
       "      <td>Executive3</td>\n",
       "      <td>78.54</td>\n",
       "    </tr>\n",
       "    <tr>\n",
       "      <th>550</th>\n",
       "      <td>City Budget Office</td>\n",
       "      <td>Executive4</td>\n",
       "      <td>86.83</td>\n",
       "    </tr>\n",
       "    <tr>\n",
       "      <th>577</th>\n",
       "      <td>City Light</td>\n",
       "      <td>Electric Util Exec 2</td>\n",
       "      <td>105.00</td>\n",
       "    </tr>\n",
       "    <tr>\n",
       "      <th>759</th>\n",
       "      <td>Seattle Dept of Transportation</td>\n",
       "      <td>Executive3</td>\n",
       "      <td>83.83</td>\n",
       "    </tr>\n",
       "    <tr>\n",
       "      <th>858</th>\n",
       "      <td>Fire Department</td>\n",
       "      <td>Fire Chief,Dep-80 Hrs</td>\n",
       "      <td>78.48</td>\n",
       "    </tr>\n",
       "    <tr>\n",
       "      <th>922</th>\n",
       "      <td>City Employees Retirement Syst</td>\n",
       "      <td>Executive4 *</td>\n",
       "      <td>107.07</td>\n",
       "    </tr>\n",
       "    <tr>\n",
       "      <th>949</th>\n",
       "      <td>City Light</td>\n",
       "      <td>Electric Util Exec 3,Dir</td>\n",
       "      <td>93.88</td>\n",
       "    </tr>\n",
       "    <tr>\n",
       "      <th>991</th>\n",
       "      <td>Dept of Education &amp; Early Lrng</td>\n",
       "      <td>Executive3</td>\n",
       "      <td>81.05</td>\n",
       "    </tr>\n",
       "    <tr>\n",
       "      <th>1015</th>\n",
       "      <td>City Light</td>\n",
       "      <td>Electric Util Exec 3,Dir</td>\n",
       "      <td>96.97</td>\n",
       "    </tr>\n",
       "    <tr>\n",
       "      <th>1045</th>\n",
       "      <td>City Light</td>\n",
       "      <td>Electric Util Exec 3,Dir</td>\n",
       "      <td>109.58</td>\n",
       "    </tr>\n",
       "    <tr>\n",
       "      <th>1086</th>\n",
       "      <td>Fire Department</td>\n",
       "      <td>Executive4</td>\n",
       "      <td>107.84</td>\n",
       "    </tr>\n",
       "    <tr>\n",
       "      <th>1104</th>\n",
       "      <td>City Light</td>\n",
       "      <td>Executive2</td>\n",
       "      <td>76.86</td>\n",
       "    </tr>\n",
       "    <tr>\n",
       "      <th>1154</th>\n",
       "      <td>Police Department</td>\n",
       "      <td>Pol Capt</td>\n",
       "      <td>82.54</td>\n",
       "    </tr>\n",
       "    <tr>\n",
       "      <th>1315</th>\n",
       "      <td>Dept of Finance &amp; Admn Svc</td>\n",
       "      <td>Executive4</td>\n",
       "      <td>93.15</td>\n",
       "    </tr>\n",
       "    <tr>\n",
       "      <th>1359</th>\n",
       "      <td>Seattle Information Technology</td>\n",
       "      <td>Executive4</td>\n",
       "      <td>85.26</td>\n",
       "    </tr>\n",
       "    <tr>\n",
       "      <th>1556</th>\n",
       "      <td>City Light</td>\n",
       "      <td>Executive3</td>\n",
       "      <td>88.56</td>\n",
       "    </tr>\n",
       "    <tr>\n",
       "      <th>1581</th>\n",
       "      <td>Police Department</td>\n",
       "      <td>Executive2</td>\n",
       "      <td>78.78</td>\n",
       "    </tr>\n",
       "    <tr>\n",
       "      <th>1610</th>\n",
       "      <td>Police Department</td>\n",
       "      <td>Executive4</td>\n",
       "      <td>99.55</td>\n",
       "    </tr>\n",
       "    <tr>\n",
       "      <th>1731</th>\n",
       "      <td>Seattle Dept of Transportation</td>\n",
       "      <td>Executive2</td>\n",
       "      <td>77.35</td>\n",
       "    </tr>\n",
       "    <tr>\n",
       "      <th>1891</th>\n",
       "      <td>Fire Department</td>\n",
       "      <td>Fire Chief,Dep-80 Hrs</td>\n",
       "      <td>78.48</td>\n",
       "    </tr>\n",
       "    <tr>\n",
       "      <th>1901</th>\n",
       "      <td>Police Department</td>\n",
       "      <td>Pol Capt - Violent Crime</td>\n",
       "      <td>85.44</td>\n",
       "    </tr>\n",
       "  </tbody>\n",
       "</table>\n",
       "</div>"
      ],
      "text/plain": [
       "                          Department                 Job_Title  Hourly_Rate\n",
       "5            Office for Civil Rights                Executive2        77.12\n",
       "25                   Fire Department                Executive4       102.08\n",
       "293   Planning and Community Develop                Executive3        82.01\n",
       "353   Seattle Dept of Transportation                Executive3        78.54\n",
       "550               City Budget Office                Executive4        86.83\n",
       "577                       City Light      Electric Util Exec 2       105.00\n",
       "759   Seattle Dept of Transportation                Executive3        83.83\n",
       "858                  Fire Department     Fire Chief,Dep-80 Hrs        78.48\n",
       "922   City Employees Retirement Syst              Executive4 *       107.07\n",
       "949                       City Light  Electric Util Exec 3,Dir        93.88\n",
       "991   Dept of Education & Early Lrng                Executive3        81.05\n",
       "1015                      City Light  Electric Util Exec 3,Dir        96.97\n",
       "1045                      City Light  Electric Util Exec 3,Dir       109.58\n",
       "1086                 Fire Department                Executive4       107.84\n",
       "1104                      City Light                Executive2        76.86\n",
       "1154               Police Department                  Pol Capt        82.54\n",
       "1315      Dept of Finance & Admn Svc                Executive4        93.15\n",
       "1359  Seattle Information Technology                Executive4        85.26\n",
       "1556                      City Light                Executive3        88.56\n",
       "1581               Police Department                Executive2        78.78\n",
       "1610               Police Department                Executive4        99.55\n",
       "1731  Seattle Dept of Transportation                Executive2        77.35\n",
       "1891                 Fire Department     Fire Chief,Dep-80 Hrs        78.48\n",
       "1901               Police Department  Pol Capt - Violent Crime        85.44"
      ]
     },
     "execution_count": 11,
     "metadata": {},
     "output_type": "execute_result"
    }
   ],
   "source": [
    "# Find all employees who are outliers, based on Hourly_Rate\n",
    "lower_bound_cond = df['Hourly_Rate'] < lower_bound\n",
    "upper_bound_cond = df['Hourly_Rate'] > upper_bound\n",
    "\n",
    "df[lower_bound_cond | upper_bound_cond]"
   ]
  },
  {
   "cell_type": "markdown",
   "metadata": {},
   "source": [
    "Observe how the IQR and outliers determine the whiskers in the box plot.\n",
    "Validate the value above against the against the aggregation result and histogram plot below.\n",
    "<div class=\"alert alert-info\">\n",
    "<b>DS102 Learning Guidelines: </b> Plotting will only be covered in Week 3. You are only expected to <b>interpret</b> the results.\n",
    "</div>"
   ]
  },
  {
   "cell_type": "code",
   "execution_count": 34,
   "metadata": {
    "ExecuteTime": {
     "end_time": "2019-03-09T07:52:04.367775Z",
     "start_time": "2019-03-09T07:52:04.114923Z"
    },
    "scrolled": false
   },
   "outputs": [
    {
     "data": {
      "image/png": "[encoded data removed]",
      "text/plain": [
       "<Figure size 1224x288 with 1 Axes>"
      ]
     },
     "metadata": {
      "needs_background": "light"
     },
     "output_type": "display_data"
    }
   ],
   "source": [
    "fig = plt.figure(figsize=(17, 4))\n",
    "ax1 = fig.add_subplot(111)\n",
    "\n",
    "# Plot the boxplot and add the relevant features of the plot\n",
    "sns.boxplot(df['Hourly_Rate'], ax=ax1)\n",
    "ax1.set_ylabel('Employees')\n",
    "ax1.set_title('Box plot for Hourly_Rate', fontsize=20)\n",
    "ax1.set_xticks(np.arange(0, 121, 5))\n",
    "ax1.set_xlabel('Hourly_Rate', fontsize=14)\n",
    "# Use grid to show the gridlines in the plot\n",
    "ax1.xaxis.grid(True, linestyle='-', color='grey', alpha=0.5)"
   ]
  },
  {
   "cell_type": "code",
   "execution_count": 35,
   "metadata": {},
   "outputs": [
    {
     "name": "stdout",
     "output_type": "stream",
     "text": [
      "count    2000.000000\n",
      "mean       38.930690\n",
      "std        13.925579\n",
      "min         5.530000\n",
      "25%        29.090000\n",
      "50%        38.600000\n",
      "75%        47.977500\n",
      "max       109.580000\n",
      "Name: Hourly_Rate, dtype: float64\n"
     ]
    }
   ],
   "source": [
    "# Check the boxplot results against the summary statistics\n",
    "print(df['Hourly_Rate'].describe())"
   ]
  },
  {
   "cell_type": "markdown",
   "metadata": {},
   "source": [
    "Notes on reading the box plot:\n",
    "- At the lower bound, the whisker is the **higher** of the range and the minimum value.\n",
    "- At the upper bound, the whisker is the **lower** of the 75th percentile value and the observed value."
   ]
  },
  {
   "cell_type": "markdown",
   "metadata": {},
   "source": [
    "**Credits**\n",
    "- [City of Seattle Wage Data](https://data.seattle.gov/City-Business/City-of-Seattle-Wage-Data/2khk-5ukd) for the dataset\n",
    "<hr>\n",
    "`HWA-DS102-INCLASS-2B-201903`"
   ]
  }
 ],
 "metadata": {
  "kernelspec": {
   "display_name": "Python 3",
   "language": "python",
   "name": "python3"
  },
  "language_info": {
   "codemirror_mode": {
    "name": "ipython",
    "version": 3
   },
   "file_extension": ".py",
   "mimetype": "text/x-python",
   "name": "python",
   "nbconvert_exporter": "python",
   "pygments_lexer": "ipython3",
   "version": "3.7.3"
  }
 },
 "nbformat": 4,
 "nbformat_minor": 2
}
