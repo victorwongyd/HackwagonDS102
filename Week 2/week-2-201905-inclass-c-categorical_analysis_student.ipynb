{
 "cells": [
  {
   "cell_type": "markdown",
   "metadata": {},
   "source": [
    "### DS102 | In Class Practice Week 2C - Categorical Analysis\n",
    "<hr>\n",
    "## Learning Objectives\n",
    "At the end of the lesson, you will be able to:\n",
    "\n",
    "### In Class Content\n",
    "At the end of the lesson, you will be able to:\n",
    "\n",
    "- use a `GroupBy` object to aggregate data, retrieving the `size()` of aggregated records\n",
    "\n",
    "- create a `GroupBy` object, aggregating two columns\n",
    "\n",
    "- use `rename()` to change the name of columns\n",
    "\n",
    "- perform data cleaning using `replace()`\n",
    "\n",
    "- use `apply()` on `numpy` functions like `numpy.int` and `numpy.float`\n",
    "\n",
    "- use `drop` to remove one column from a `DataFrame`\n",
    "\n",
    "### Self Study Content\n",
    "At the end of your self-study, you will be able to:\n",
    "\n",
    "- create a pivot table using  `pandas.pivot_table` to see aggregates in rows and columns\n",
    "\n",
    "- update column names using `pandas.Index`\n",
    "\n",
    "### Datasets Required for this In Class\n",
    "1. `travel-expenses.csv`"
   ]
  },
  {
   "cell_type": "markdown",
   "metadata": {},
   "source": [
    "#### import `pandas` and `numpy`"
   ]
  },
  {
   "cell_type": "code",
   "execution_count": 1,
   "metadata": {
    "ExecuteTime": {
     "end_time": "2019-03-09T07:49:58.615687Z",
     "start_time": "2019-03-09T07:49:58.106436Z"
    }
   },
   "outputs": [],
   "source": [
    "# Import the libraries\n",
    "import pandas as pd\n",
    "import numpy as np"
   ]
  },
  {
   "cell_type": "markdown",
   "metadata": {},
   "source": [
    "#### read from CSV to `df`\n",
    "Read the dataset `travel-expenses.csv` into a `df`."
   ]
  },
  {
   "cell_type": "code",
   "execution_count": 2,
   "metadata": {
    "ExecuteTime": {
     "end_time": "2019-03-09T07:49:58.631598Z",
     "start_time": "2019-03-09T07:49:58.619349Z"
    }
   },
   "outputs": [],
   "source": [
    "# Read the dataset into a df\n",
    "df = pd.read_csv('travel-expenses.csv')"
   ]
  },
  {
   "cell_type": "markdown",
   "metadata": {},
   "source": [
    "Use `df.info()` and `df.head()` to get key properties of the `df`."
   ]
  },
  {
   "cell_type": "code",
   "execution_count": 7,
   "metadata": {
    "ExecuteTime": {
     "end_time": "2019-03-09T07:49:58.656790Z",
     "start_time": "2019-03-09T07:49:58.635917Z"
    },
    "scrolled": false
   },
   "outputs": [
    {
     "data": {
      "text/html": [
       "<div>\n",
       "<style scoped>\n",
       "    .dataframe tbody tr th:only-of-type {\n",
       "        vertical-align: middle;\n",
       "    }\n",
       "\n",
       "    .dataframe tbody tr th {\n",
       "        vertical-align: top;\n",
       "    }\n",
       "\n",
       "    .dataframe thead th {\n",
       "        text-align: right;\n",
       "    }\n",
       "</style>\n",
       "<table border=\"1\" class=\"dataframe\">\n",
       "  <thead>\n",
       "    <tr style=\"text-align: right;\">\n",
       "      <th></th>\n",
       "      <th>Name</th>\n",
       "      <th>Start date of trip</th>\n",
       "      <th>Duration of Visit</th>\n",
       "      <th>Destination</th>\n",
       "      <th>Purpose of trip</th>\n",
       "      <th>Mode of transport</th>\n",
       "      <th>Class of travel</th>\n",
       "      <th>Accomodation/Meals</th>\n",
       "      <th>Other (including hospitality given)</th>\n",
       "      <th>Total cost, including all visas, accommodation, travel, meals etc. (£)</th>\n",
       "      <th>Total Cost of Use of Official Secure Car</th>\n",
       "    </tr>\n",
       "  </thead>\n",
       "  <tbody>\n",
       "    <tr>\n",
       "      <th>count</th>\n",
       "      <td>147</td>\n",
       "      <td>147</td>\n",
       "      <td>147</td>\n",
       "      <td>147</td>\n",
       "      <td>147</td>\n",
       "      <td>147</td>\n",
       "      <td>147</td>\n",
       "      <td>147</td>\n",
       "      <td>147</td>\n",
       "      <td>147</td>\n",
       "      <td>147</td>\n",
       "    </tr>\n",
       "    <tr>\n",
       "      <th>unique</th>\n",
       "      <td>42</td>\n",
       "      <td>63</td>\n",
       "      <td>12</td>\n",
       "      <td>92</td>\n",
       "      <td>120</td>\n",
       "      <td>12</td>\n",
       "      <td>19</td>\n",
       "      <td>62</td>\n",
       "      <td>36</td>\n",
       "      <td>136</td>\n",
       "      <td>2</td>\n",
       "    </tr>\n",
       "    <tr>\n",
       "      <th>top</th>\n",
       "      <td>Angus Lapsley</td>\n",
       "      <td>2018-03-15</td>\n",
       "      <td>2</td>\n",
       "      <td>Brussels</td>\n",
       "      <td>Nil Return</td>\n",
       "      <td>Air</td>\n",
       "      <td>Economy</td>\n",
       "      <td>Nil Return</td>\n",
       "      <td>Nil Return</td>\n",
       "      <td>Nil Return</td>\n",
       "      <td>Nil Return</td>\n",
       "    </tr>\n",
       "    <tr>\n",
       "      <th>freq</th>\n",
       "      <td>11</td>\n",
       "      <td>15</td>\n",
       "      <td>54</td>\n",
       "      <td>14</td>\n",
       "      <td>8</td>\n",
       "      <td>72</td>\n",
       "      <td>81</td>\n",
       "      <td>79</td>\n",
       "      <td>107</td>\n",
       "      <td>8</td>\n",
       "      <td>142</td>\n",
       "    </tr>\n",
       "  </tbody>\n",
       "</table>\n",
       "</div>"
      ],
      "text/plain": [
       "                 Name Start date of trip Duration of Visit Destination  \\\n",
       "count             147                147               147         147   \n",
       "unique             42                 63                12          92   \n",
       "top     Angus Lapsley         2018-03-15                 2    Brussels   \n",
       "freq               11                 15                54          14   \n",
       "\n",
       "       Purpose of trip Mode of transport Class of travel Accomodation/Meals  \\\n",
       "count              147               147             147                147   \n",
       "unique             120                12              19                 62   \n",
       "top         Nil Return               Air         Economy         Nil Return   \n",
       "freq                 8                72              81                 79   \n",
       "\n",
       "       Other (including hospitality given)  \\\n",
       "count                                  147   \n",
       "unique                                  36   \n",
       "top                             Nil Return   \n",
       "freq                                   107   \n",
       "\n",
       "       Total cost, including all visas, accommodation, travel, meals etc. (£)  \\\n",
       "count                                                 147                       \n",
       "unique                                                136                       \n",
       "top                                            Nil Return                       \n",
       "freq                                                    8                       \n",
       "\n",
       "       Total Cost of Use of Official Secure Car  \n",
       "count                                       147  \n",
       "unique                                        2  \n",
       "top                                  Nil Return  \n",
       "freq                                        142  "
      ]
     },
     "execution_count": 7,
     "metadata": {},
     "output_type": "execute_result"
    }
   ],
   "source": [
    "# Exercise: Use df.info() to get key properties of the df\n",
    "df.describe(include = 'all')"
   ]
  },
  {
   "cell_type": "markdown",
   "metadata": {},
   "source": [
    "For easier manipulation, first `rename` the columns. Use `inplace=True` so that this does not create another copy of the `df`. `columns` takes a dictionary where the key is the existing column name and the target is the new column name."
   ]
  },
  {
   "cell_type": "code",
   "execution_count": 8,
   "metadata": {
    "ExecuteTime": {
     "end_time": "2019-05-11T05:21:19.358566Z",
     "start_time": "2019-05-11T05:21:19.232228Z"
    },
    "scrolled": true
   },
   "outputs": [
    {
     "data": {
      "text/html": [
       "<div>\n",
       "<style scoped>\n",
       "    .dataframe tbody tr th:only-of-type {\n",
       "        vertical-align: middle;\n",
       "    }\n",
       "\n",
       "    .dataframe tbody tr th {\n",
       "        vertical-align: top;\n",
       "    }\n",
       "\n",
       "    .dataframe thead th {\n",
       "        text-align: right;\n",
       "    }\n",
       "</style>\n",
       "<table border=\"1\" class=\"dataframe\">\n",
       "  <thead>\n",
       "    <tr style=\"text-align: right;\">\n",
       "      <th></th>\n",
       "      <th>Name</th>\n",
       "      <th>Start date of trip</th>\n",
       "      <th>Duration of Visit</th>\n",
       "      <th>Destination</th>\n",
       "      <th>Purpose of trip</th>\n",
       "      <th>Mode of transport</th>\n",
       "      <th>Class of travel</th>\n",
       "      <th>Accomodation/Meals</th>\n",
       "      <th>Other (including hospitality given)</th>\n",
       "      <th>Total cost, including all visas, accommodation, travel, meals etc. (£)</th>\n",
       "      <th>Total Cost of Use of Official Secure Car</th>\n",
       "    </tr>\n",
       "  </thead>\n",
       "  <tbody>\n",
       "    <tr>\n",
       "      <th>0</th>\n",
       "      <td>Gareth Bayley</td>\n",
       "      <td>2018-01-15</td>\n",
       "      <td>4</td>\n",
       "      <td>Bristol</td>\n",
       "      <td>To complete SAFE+ training</td>\n",
       "      <td>Rail</td>\n",
       "      <td>Economy</td>\n",
       "      <td>Nil Return</td>\n",
       "      <td>257.19</td>\n",
       "      <td>211.4</td>\n",
       "      <td>Nil Return</td>\n",
       "    </tr>\n",
       "  </tbody>\n",
       "</table>\n",
       "</div>"
      ],
      "text/plain": [
       "            Name Start date of trip Duration of Visit Destination  \\\n",
       "0  Gareth Bayley         2018-01-15                 4     Bristol   \n",
       "\n",
       "              Purpose of trip Mode of transport Class of travel  \\\n",
       "0  To complete SAFE+ training              Rail         Economy   \n",
       "\n",
       "  Accomodation/Meals Other (including hospitality given)  \\\n",
       "0         Nil Return                              257.19   \n",
       "\n",
       "  Total cost, including all visas, accommodation, travel, meals etc. (£)  \\\n",
       "0                                              211.4                       \n",
       "\n",
       "  Total Cost of Use of Official Secure Car  \n",
       "0                               Nil Return  "
      ]
     },
     "metadata": {},
     "output_type": "display_data"
    },
    {
     "data": {
      "text/html": [
       "<div>\n",
       "<style scoped>\n",
       "    .dataframe tbody tr th:only-of-type {\n",
       "        vertical-align: middle;\n",
       "    }\n",
       "\n",
       "    .dataframe tbody tr th {\n",
       "        vertical-align: top;\n",
       "    }\n",
       "\n",
       "    .dataframe thead th {\n",
       "        text-align: right;\n",
       "    }\n",
       "</style>\n",
       "<table border=\"1\" class=\"dataframe\">\n",
       "  <thead>\n",
       "    <tr style=\"text-align: right;\">\n",
       "      <th></th>\n",
       "      <th>Name</th>\n",
       "      <th>Start date of trip</th>\n",
       "      <th>Duration of Visit</th>\n",
       "      <th>Destination</th>\n",
       "      <th>Purpose of trip</th>\n",
       "      <th>Mode of transport</th>\n",
       "      <th>Class of travel</th>\n",
       "      <th>Accommodation and Meals</th>\n",
       "      <th>Other</th>\n",
       "      <th>Total cost</th>\n",
       "      <th>Total Cost of Use of Official Secure Car</th>\n",
       "    </tr>\n",
       "  </thead>\n",
       "  <tbody>\n",
       "    <tr>\n",
       "      <th>0</th>\n",
       "      <td>Gareth Bayley</td>\n",
       "      <td>2018-01-15</td>\n",
       "      <td>4</td>\n",
       "      <td>Bristol</td>\n",
       "      <td>To complete SAFE+ training</td>\n",
       "      <td>Rail</td>\n",
       "      <td>Economy</td>\n",
       "      <td>Nil Return</td>\n",
       "      <td>257.19</td>\n",
       "      <td>211.4</td>\n",
       "      <td>Nil Return</td>\n",
       "    </tr>\n",
       "  </tbody>\n",
       "</table>\n",
       "</div>"
      ],
      "text/plain": [
       "            Name Start date of trip Duration of Visit Destination  \\\n",
       "0  Gareth Bayley         2018-01-15                 4     Bristol   \n",
       "\n",
       "              Purpose of trip Mode of transport Class of travel  \\\n",
       "0  To complete SAFE+ training              Rail         Economy   \n",
       "\n",
       "  Accommodation and Meals   Other Total cost  \\\n",
       "0              Nil Return  257.19      211.4   \n",
       "\n",
       "  Total Cost of Use of Official Secure Car  \n",
       "0                               Nil Return  "
      ]
     },
     "metadata": {},
     "output_type": "display_data"
    }
   ],
   "source": [
    "# Rename the columns accordingly. \n",
    "display(df.head(1))\n",
    "df.rename(inplace=True, columns={\n",
    " 'Accomodation/Meals': 'Accommodation and Meals', \n",
    " 'Other (including hospitality given)' : 'Other',\n",
    " 'Total cost, including all visas, accommodation, travel, meals etc. (£)' : 'Total cost',\n",
    "})\n",
    "# How many columns are being renamed?\n",
    "# (Type your answer here) 3\n",
    "\n",
    "# Exercise: What is the datatype of the columns parameter?\n",
    "# dictionary\n",
    "display(df.head(1))"
   ]
  },
  {
   "cell_type": "markdown",
   "metadata": {},
   "source": [
    "### Data Cleaning using `replace()`"
   ]
  },
  {
   "cell_type": "markdown",
   "metadata": {},
   "source": [
    "Notice that some columns should be stored as `int`s or `float`s, but are shown to be stored as the `object` datatype. The next part will be data cleaning so that the data is ready for analysis."
   ]
  },
  {
   "cell_type": "markdown",
   "metadata": {},
   "source": [
    "Convert the `Duration of Visit` column to an `int` datatype so numerical analysis can be performed using `np.int`. Observe how this line throws a `ValueError` when applying `np.int` because some records have `Nil Return` as the value."
   ]
  },
  {
   "cell_type": "code",
   "execution_count": 9,
   "metadata": {
    "ExecuteTime": {
     "end_time": "2019-03-09T07:49:58.738491Z",
     "start_time": "2019-03-09T07:49:58.725603Z"
    }
   },
   "outputs": [
    {
     "data": {
      "text/plain": [
       "array(['4', '1', '10', '2', '3', '5', '6', 'Nil Return', '17', '8', '11',\n",
       "       '7'], dtype=object)"
      ]
     },
     "execution_count": 9,
     "metadata": {},
     "output_type": "execute_result"
    }
   ],
   "source": [
    "# Exercise: Find the unique values of the 'Duration of Visit' column\n",
    "df['Duration of Visit'].unique()"
   ]
  },
  {
   "cell_type": "code",
   "execution_count": 10,
   "metadata": {
    "ExecuteTime": {
     "end_time": "2019-03-09T07:49:58.749155Z",
     "start_time": "2019-03-09T07:49:58.743917Z"
    }
   },
   "outputs": [
    {
     "ename": "ValueError",
     "evalue": "invalid literal for int() with base 10: 'Nil Return'",
     "output_type": "error",
     "traceback": [
      "\u001b[1;31m---------------------------------------------------------------------------\u001b[0m",
      "\u001b[1;31mValueError\u001b[0m                                Traceback (most recent call last)",
      "\u001b[1;32m<ipython-input-10-c2036d4831e5>\u001b[0m in \u001b[0;36m<module>\u001b[1;34m\u001b[0m\n\u001b[0;32m      1\u001b[0m \u001b[1;31m# Uncomment this line of code and run it. A ValueError will be raised.\u001b[0m\u001b[1;33m\u001b[0m\u001b[1;33m\u001b[0m\u001b[1;33m\u001b[0m\u001b[0m\n\u001b[1;32m----> 2\u001b[1;33m \u001b[0mdf\u001b[0m\u001b[1;33m[\u001b[0m\u001b[1;34m'Duration of Visit'\u001b[0m\u001b[1;33m]\u001b[0m\u001b[1;33m.\u001b[0m\u001b[0mapply\u001b[0m\u001b[1;33m(\u001b[0m\u001b[0mnp\u001b[0m\u001b[1;33m.\u001b[0m\u001b[0mint\u001b[0m\u001b[1;33m)\u001b[0m\u001b[1;33m\u001b[0m\u001b[1;33m\u001b[0m\u001b[0m\n\u001b[0m",
      "\u001b[1;32m~\\Anaconda3\\lib\\site-packages\\pandas\\core\\series.py\u001b[0m in \u001b[0;36mapply\u001b[1;34m(self, func, convert_dtype, args, **kwds)\u001b[0m\n\u001b[0;32m   3589\u001b[0m             \u001b[1;32melse\u001b[0m\u001b[1;33m:\u001b[0m\u001b[1;33m\u001b[0m\u001b[1;33m\u001b[0m\u001b[0m\n\u001b[0;32m   3590\u001b[0m                 \u001b[0mvalues\u001b[0m \u001b[1;33m=\u001b[0m \u001b[0mself\u001b[0m\u001b[1;33m.\u001b[0m\u001b[0mastype\u001b[0m\u001b[1;33m(\u001b[0m\u001b[0mobject\u001b[0m\u001b[1;33m)\u001b[0m\u001b[1;33m.\u001b[0m\u001b[0mvalues\u001b[0m\u001b[1;33m\u001b[0m\u001b[1;33m\u001b[0m\u001b[0m\n\u001b[1;32m-> 3591\u001b[1;33m                 \u001b[0mmapped\u001b[0m \u001b[1;33m=\u001b[0m \u001b[0mlib\u001b[0m\u001b[1;33m.\u001b[0m\u001b[0mmap_infer\u001b[0m\u001b[1;33m(\u001b[0m\u001b[0mvalues\u001b[0m\u001b[1;33m,\u001b[0m \u001b[0mf\u001b[0m\u001b[1;33m,\u001b[0m \u001b[0mconvert\u001b[0m\u001b[1;33m=\u001b[0m\u001b[0mconvert_dtype\u001b[0m\u001b[1;33m)\u001b[0m\u001b[1;33m\u001b[0m\u001b[1;33m\u001b[0m\u001b[0m\n\u001b[0m\u001b[0;32m   3592\u001b[0m \u001b[1;33m\u001b[0m\u001b[0m\n\u001b[0;32m   3593\u001b[0m         \u001b[1;32mif\u001b[0m \u001b[0mlen\u001b[0m\u001b[1;33m(\u001b[0m\u001b[0mmapped\u001b[0m\u001b[1;33m)\u001b[0m \u001b[1;32mand\u001b[0m \u001b[0misinstance\u001b[0m\u001b[1;33m(\u001b[0m\u001b[0mmapped\u001b[0m\u001b[1;33m[\u001b[0m\u001b[1;36m0\u001b[0m\u001b[1;33m]\u001b[0m\u001b[1;33m,\u001b[0m \u001b[0mSeries\u001b[0m\u001b[1;33m)\u001b[0m\u001b[1;33m:\u001b[0m\u001b[1;33m\u001b[0m\u001b[1;33m\u001b[0m\u001b[0m\n",
      "\u001b[1;32mpandas/_libs/lib.pyx\u001b[0m in \u001b[0;36mpandas._libs.lib.map_infer\u001b[1;34m()\u001b[0m\n",
      "\u001b[1;31mValueError\u001b[0m: invalid literal for int() with base 10: 'Nil Return'"
     ]
    }
   ],
   "source": [
    "# Uncomment this line of code and run it. A ValueError will be raised.\n",
    "df['Duration of Visit'].apply(np.int) "
   ]
  },
  {
   "cell_type": "markdown",
   "metadata": {},
   "source": [
    "To overcome this, use `replace()` to substitute all `Nil Return` values to `0`."
   ]
  },
  {
   "cell_type": "code",
   "execution_count": 20,
   "metadata": {
    "ExecuteTime": {
     "end_time": "2019-03-09T07:49:58.759456Z",
     "start_time": "2019-03-09T07:49:58.753512Z"
    }
   },
   "outputs": [
    {
     "name": "stdout",
     "output_type": "stream",
     "text": [
      "Name                                        object\n",
      "Start date of trip                          object\n",
      "Duration of Visit                           object\n",
      "Destination                                 object\n",
      "Purpose of trip                             object\n",
      "Mode of transport                           object\n",
      "Class of travel                             object\n",
      "Accommodation and Meals                     object\n",
      "Other                                       object\n",
      "Total cost                                  object\n",
      "Total Cost of Use of Official Secure Car    object\n",
      "dtype: object\n"
     ]
    }
   ],
   "source": [
    "# Make a copy of this df and store this as df_cl\n",
    "df_cl = df.copy()\n",
    "\n",
    "# print() the dtypes\n",
    "print(df_cl.dtypes)"
   ]
  },
  {
   "cell_type": "code",
   "execution_count": 26,
   "metadata": {
    "ExecuteTime": {
     "end_time": "2019-03-09T07:49:58.797166Z",
     "start_time": "2019-03-09T07:49:58.763679Z"
    },
    "scrolled": false
   },
   "outputs": [
    {
     "data": {
      "text/plain": [
       "Name                                        object\n",
       "Start date of trip                          object\n",
       "Duration of Visit                            int64\n",
       "Destination                                 object\n",
       "Purpose of trip                             object\n",
       "Mode of transport                           object\n",
       "Class of travel                             object\n",
       "Accommodation and Meals                     object\n",
       "Other                                       object\n",
       "Total cost                                  object\n",
       "Total Cost of Use of Official Secure Car    object\n",
       "dtype: object"
      ]
     },
     "execution_count": 26,
     "metadata": {},
     "output_type": "execute_result"
    }
   ],
   "source": [
    "# Use replace ('source', target) to replace values in the Series\n",
    "df_cl['Duration of Visit'] = df_cl['Duration of Visit'].replace('Nil Return', \"0\")\n",
    "\n",
    "# Now, np.int can be applied. The datatype of the column has also been updated.\n",
    "df_cl['Duration of Visit'] = df_cl['Duration of Visit'].apply(np.int)\n",
    "# Exercise: print the datatypes of the df using dtypes\n",
    "#\n",
    "df_cl.dtypes"
   ]
  },
  {
   "cell_type": "markdown",
   "metadata": {},
   "source": [
    "Do the same for the `Accommodation and Meals`, `Other` and `Total cost` columns.\n",
    "\n",
    "**Q:** Find all the unique values in the following columns: `Accommodation and Meals`, `Other` and `Total cost`"
   ]
  },
  {
   "cell_type": "code",
   "execution_count": null,
   "metadata": {
    "ExecuteTime": {
     "end_time": "2019-03-09T07:49:58.816292Z",
     "start_time": "2019-03-09T07:49:58.801473Z"
    },
    "scrolled": false
   },
   "outputs": [],
   "source": [
    "# Exercise: Find the unique values for the 'Accommodation and Meals', 'Other' and 'Total cost' column.\n",
    "# 'Accommodation and Meals' column\n",
    "#\n",
    "\n",
    "# 'Other' column\n",
    "#\n",
    "\n",
    "# 'Total cost' column\n",
    "#\n"
   ]
  },
  {
   "cell_type": "markdown",
   "metadata": {},
   "source": [
    "To replace multiple values, use `replace(list, 0)`. The first parameter is now a `list` instead of a `str` as seen earlier."
   ]
  },
  {
   "cell_type": "code",
   "execution_count": null,
   "metadata": {
    "ExecuteTime": {
     "end_time": "2019-03-09T07:49:58.835442Z",
     "start_time": "2019-03-09T07:49:58.821216Z"
    }
   },
   "outputs": [],
   "source": [
    "# Perform the substitution for Accommodation and Meals\n",
    "#"
   ]
  },
  {
   "cell_type": "code",
   "execution_count": null,
   "metadata": {
    "ExecuteTime": {
     "end_time": "2019-03-09T07:49:58.852100Z",
     "start_time": "2019-03-09T07:49:58.840323Z"
    }
   },
   "outputs": [],
   "source": [
    "# Perform the substitution for 'Other'. Then convert the column to a float datatype using np.float.\n",
    "#\n",
    "\n",
    "# print the unique values of this column after substitution\n",
    "#\n"
   ]
  },
  {
   "cell_type": "code",
   "execution_count": null,
   "metadata": {
    "ExecuteTime": {
     "end_time": "2019-03-09T07:49:58.899675Z",
     "start_time": "2019-03-09T07:49:58.856233Z"
    }
   },
   "outputs": [],
   "source": [
    "# Exercise: Perform the substitution for 'Total Cost'. Then convert the column to a float datatype.\n",
    "#\n",
    "# print the unique values of this column after substitution\n",
    "#"
   ]
  },
  {
   "cell_type": "markdown",
   "metadata": {},
   "source": [
    "Now, only keep certain columns for analysis. Use `df.drop()` to remove the column name. Since we are dropping a column, use `axis=1` to specify that."
   ]
  },
  {
   "cell_type": "code",
   "execution_count": null,
   "metadata": {
    "ExecuteTime": {
     "end_time": "2019-03-09T07:49:58.920892Z",
     "start_time": "2019-03-09T07:49:58.909632Z"
    }
   },
   "outputs": [],
   "source": [
    "# Drop the 'Total Cost of Use of Official Secure Car' column\n",
    "#"
   ]
  },
  {
   "cell_type": "markdown",
   "metadata": {},
   "source": [
    "Observe the `df` one more time after data cleaning before doing analysis. Observe now that the datatypes have now been updated."
   ]
  },
  {
   "cell_type": "code",
   "execution_count": null,
   "metadata": {
    "ExecuteTime": {
     "end_time": "2019-03-09T07:49:58.936609Z",
     "start_time": "2019-03-09T07:49:58.925108Z"
    }
   },
   "outputs": [],
   "source": [
    "# Exercise: Show the properties of the df using info()\n",
    "#"
   ]
  },
  {
   "cell_type": "markdown",
   "metadata": {},
   "source": [
    "### Data Aggregation with `.size()`"
   ]
  },
  {
   "cell_type": "markdown",
   "metadata": {},
   "source": [
    "**Q:  How many delegates have taken $5$ or more trips?**\n",
    "\n",
    "Use the `DataFrame.groupby()` method to first aggregate the data by the `Name` column. Then, since we are **counting** the number of trips made, we use the `size()` method to count the number of trips per delegate.\n",
    "\n",
    "Finally, use `reset_index(name='No. of Trips')` to convert this to a `DataFrame` and changing the count column to `'No. of Trips'`."
   ]
  },
  {
   "cell_type": "code",
   "execution_count": 32,
   "metadata": {
    "ExecuteTime": {
     "end_time": "2019-03-09T08:19:13.908098Z",
     "start_time": "2019-03-09T08:19:13.900816Z"
    },
    "scrolled": true
   },
   "outputs": [
    {
     "data": {
      "text/html": [
       "<div>\n",
       "<style scoped>\n",
       "    .dataframe tbody tr th:only-of-type {\n",
       "        vertical-align: middle;\n",
       "    }\n",
       "\n",
       "    .dataframe tbody tr th {\n",
       "        vertical-align: top;\n",
       "    }\n",
       "\n",
       "    .dataframe thead th {\n",
       "        text-align: right;\n",
       "    }\n",
       "</style>\n",
       "<table border=\"1\" class=\"dataframe\">\n",
       "  <thead>\n",
       "    <tr style=\"text-align: right;\">\n",
       "      <th></th>\n",
       "      <th>Name</th>\n",
       "      <th>No. of Trips</th>\n",
       "    </tr>\n",
       "  </thead>\n",
       "  <tbody>\n",
       "    <tr>\n",
       "      <th>0</th>\n",
       "      <td>Alastair McPhail</td>\n",
       "      <td>1</td>\n",
       "    </tr>\n",
       "    <tr>\n",
       "      <th>1</th>\n",
       "      <td>Andrew Noble</td>\n",
       "      <td>1</td>\n",
       "    </tr>\n",
       "    <tr>\n",
       "      <th>2</th>\n",
       "      <td>Andrew Sanderson</td>\n",
       "      <td>2</td>\n",
       "    </tr>\n",
       "    <tr>\n",
       "      <th>3</th>\n",
       "      <td>Andy Murdoch</td>\n",
       "      <td>4</td>\n",
       "    </tr>\n",
       "    <tr>\n",
       "      <th>4</th>\n",
       "      <td>Angus Lapsley</td>\n",
       "      <td>11</td>\n",
       "    </tr>\n",
       "    <tr>\n",
       "      <th>5</th>\n",
       "      <td>Ben Merrick</td>\n",
       "      <td>5</td>\n",
       "    </tr>\n",
       "    <tr>\n",
       "      <th>6</th>\n",
       "      <td>Caroline Wilson</td>\n",
       "      <td>7</td>\n",
       "    </tr>\n",
       "    <tr>\n",
       "      <th>7</th>\n",
       "      <td>Charles Hay</td>\n",
       "      <td>1</td>\n",
       "    </tr>\n",
       "    <tr>\n",
       "      <th>8</th>\n",
       "      <td>Colin Martin-Reynolds</td>\n",
       "      <td>5</td>\n",
       "    </tr>\n",
       "    <tr>\n",
       "      <th>9</th>\n",
       "      <td>Edward Hobart</td>\n",
       "      <td>4</td>\n",
       "    </tr>\n",
       "    <tr>\n",
       "      <th>10</th>\n",
       "      <td>Gareth Bayley</td>\n",
       "      <td>8</td>\n",
       "    </tr>\n",
       "    <tr>\n",
       "      <th>11</th>\n",
       "      <td>Geoffrey Adams</td>\n",
       "      <td>1</td>\n",
       "    </tr>\n",
       "    <tr>\n",
       "      <th>12</th>\n",
       "      <td>Helen Bower-Easton</td>\n",
       "      <td>3</td>\n",
       "    </tr>\n",
       "    <tr>\n",
       "      <th>13</th>\n",
       "      <td>Hugh Elliott</td>\n",
       "      <td>2</td>\n",
       "    </tr>\n",
       "    <tr>\n",
       "      <th>14</th>\n",
       "      <td>Iain Macleod</td>\n",
       "      <td>6</td>\n",
       "    </tr>\n",
       "    <tr>\n",
       "      <th>15</th>\n",
       "      <td>James Kariuki</td>\n",
       "      <td>1</td>\n",
       "    </tr>\n",
       "    <tr>\n",
       "      <th>16</th>\n",
       "      <td>Jane Marriott</td>\n",
       "      <td>5</td>\n",
       "    </tr>\n",
       "    <tr>\n",
       "      <th>17</th>\n",
       "      <td>Jill Gallard</td>\n",
       "      <td>2</td>\n",
       "    </tr>\n",
       "    <tr>\n",
       "      <th>18</th>\n",
       "      <td>Joanna Roper</td>\n",
       "      <td>4</td>\n",
       "    </tr>\n",
       "    <tr>\n",
       "      <th>19</th>\n",
       "      <td>Jon Benjamin</td>\n",
       "      <td>1</td>\n",
       "    </tr>\n",
       "    <tr>\n",
       "      <th>20</th>\n",
       "      <td>Jonanthan Sinclair</td>\n",
       "      <td>1</td>\n",
       "    </tr>\n",
       "    <tr>\n",
       "      <th>21</th>\n",
       "      <td>Julia Longbottom</td>\n",
       "      <td>3</td>\n",
       "    </tr>\n",
       "    <tr>\n",
       "      <th>22</th>\n",
       "      <td>Kara Owen</td>\n",
       "      <td>3</td>\n",
       "    </tr>\n",
       "    <tr>\n",
       "      <th>23</th>\n",
       "      <td>Karen Pierce</td>\n",
       "      <td>6</td>\n",
       "    </tr>\n",
       "    <tr>\n",
       "      <th>24</th>\n",
       "      <td>Kate White</td>\n",
       "      <td>2</td>\n",
       "    </tr>\n",
       "    <tr>\n",
       "      <th>25</th>\n",
       "      <td>Lewis Neal</td>\n",
       "      <td>1</td>\n",
       "    </tr>\n",
       "    <tr>\n",
       "      <th>26</th>\n",
       "      <td>Liane Saunders</td>\n",
       "      <td>7</td>\n",
       "    </tr>\n",
       "    <tr>\n",
       "      <th>27</th>\n",
       "      <td>Lindsay Appleby</td>\n",
       "      <td>5</td>\n",
       "    </tr>\n",
       "    <tr>\n",
       "      <th>28</th>\n",
       "      <td>Martin Harris</td>\n",
       "      <td>6</td>\n",
       "    </tr>\n",
       "    <tr>\n",
       "      <th>29</th>\n",
       "      <td>Neil Crompton</td>\n",
       "      <td>3</td>\n",
       "    </tr>\n",
       "    <tr>\n",
       "      <th>30</th>\n",
       "      <td>Neil Wigan</td>\n",
       "      <td>6</td>\n",
       "    </tr>\n",
       "    <tr>\n",
       "      <th>31</th>\n",
       "      <td>Patrick Moody</td>\n",
       "      <td>1</td>\n",
       "    </tr>\n",
       "    <tr>\n",
       "      <th>32</th>\n",
       "      <td>Paul McKell</td>\n",
       "      <td>1</td>\n",
       "    </tr>\n",
       "    <tr>\n",
       "      <th>33</th>\n",
       "      <td>Paul Williams</td>\n",
       "      <td>3</td>\n",
       "    </tr>\n",
       "    <tr>\n",
       "      <th>34</th>\n",
       "      <td>Peter Jones</td>\n",
       "      <td>6</td>\n",
       "    </tr>\n",
       "    <tr>\n",
       "      <th>35</th>\n",
       "      <td>Philip Barton</td>\n",
       "      <td>2</td>\n",
       "    </tr>\n",
       "    <tr>\n",
       "      <th>36</th>\n",
       "      <td>Robin Grimes</td>\n",
       "      <td>4</td>\n",
       "    </tr>\n",
       "    <tr>\n",
       "      <th>37</th>\n",
       "      <td>Shamik Dhar</td>\n",
       "      <td>3</td>\n",
       "    </tr>\n",
       "    <tr>\n",
       "      <th>38</th>\n",
       "      <td>Simon McDonald</td>\n",
       "      <td>7</td>\n",
       "    </tr>\n",
       "    <tr>\n",
       "      <th>39</th>\n",
       "      <td>Simon Shercliff</td>\n",
       "      <td>1</td>\n",
       "    </tr>\n",
       "    <tr>\n",
       "      <th>40</th>\n",
       "      <td>Tim Dowse</td>\n",
       "      <td>1</td>\n",
       "    </tr>\n",
       "    <tr>\n",
       "      <th>41</th>\n",
       "      <td>Tracey Williamson</td>\n",
       "      <td>1</td>\n",
       "    </tr>\n",
       "  </tbody>\n",
       "</table>\n",
       "</div>"
      ],
      "text/plain": [
       "                     Name  No. of Trips\n",
       "0        Alastair McPhail             1\n",
       "1            Andrew Noble             1\n",
       "2        Andrew Sanderson             2\n",
       "3            Andy Murdoch             4\n",
       "4           Angus Lapsley            11\n",
       "5             Ben Merrick             5\n",
       "6         Caroline Wilson             7\n",
       "7             Charles Hay             1\n",
       "8   Colin Martin-Reynolds             5\n",
       "9           Edward Hobart             4\n",
       "10          Gareth Bayley             8\n",
       "11         Geoffrey Adams             1\n",
       "12     Helen Bower-Easton             3\n",
       "13           Hugh Elliott             2\n",
       "14           Iain Macleod             6\n",
       "15          James Kariuki             1\n",
       "16         Jane Marriott              5\n",
       "17           Jill Gallard             2\n",
       "18           Joanna Roper             4\n",
       "19           Jon Benjamin             1\n",
       "20     Jonanthan Sinclair             1\n",
       "21       Julia Longbottom             3\n",
       "22              Kara Owen             3\n",
       "23           Karen Pierce             6\n",
       "24             Kate White             2\n",
       "25             Lewis Neal             1\n",
       "26         Liane Saunders             7\n",
       "27        Lindsay Appleby             5\n",
       "28          Martin Harris             6\n",
       "29          Neil Crompton             3\n",
       "30             Neil Wigan             6\n",
       "31          Patrick Moody             1\n",
       "32            Paul McKell             1\n",
       "33          Paul Williams             3\n",
       "34            Peter Jones             6\n",
       "35          Philip Barton             2\n",
       "36           Robin Grimes             4\n",
       "37            Shamik Dhar             3\n",
       "38         Simon McDonald             7\n",
       "39        Simon Shercliff             1\n",
       "40              Tim Dowse             1\n",
       "41      Tracey Williamson             1"
      ]
     },
     "execution_count": 32,
     "metadata": {},
     "output_type": "execute_result"
    }
   ],
   "source": [
    "# Exercise: Make a copy of df_cl and store them as df_days\n",
    "#\n",
    "df_days = df.copy()\n",
    "# Exercise: For each delegate, count the number of trips taken.\n",
    "#\n",
    "df_days = df_days.groupby('Name').size().reset_index(name = 'No. of Trips')\n",
    "\n",
    "df_days\n",
    "# Then perform df.reset_index() to change the column name to 'No. of Trips'\n",
    "#\n",
    "# Observe the df here\n",
    "#"
   ]
  },
  {
   "cell_type": "markdown",
   "metadata": {},
   "source": [
    "Now that we have the required dataframe, filter for all records where the `No. of Trips` is $5$ or greater. Use `DataFrame['Name'].count()` after performing the filtering to get the number of delegates."
   ]
  },
  {
   "cell_type": "code",
   "execution_count": 33,
   "metadata": {
    "ExecuteTime": {
     "end_time": "2019-03-09T07:49:59.022621Z",
     "start_time": "2019-03-09T07:49:59.014098Z"
    },
    "scrolled": true
   },
   "outputs": [
    {
     "data": {
      "text/html": [
       "<div>\n",
       "<style scoped>\n",
       "    .dataframe tbody tr th:only-of-type {\n",
       "        vertical-align: middle;\n",
       "    }\n",
       "\n",
       "    .dataframe tbody tr th {\n",
       "        vertical-align: top;\n",
       "    }\n",
       "\n",
       "    .dataframe thead th {\n",
       "        text-align: right;\n",
       "    }\n",
       "</style>\n",
       "<table border=\"1\" class=\"dataframe\">\n",
       "  <thead>\n",
       "    <tr style=\"text-align: right;\">\n",
       "      <th></th>\n",
       "      <th>Name</th>\n",
       "      <th>No. of Trips</th>\n",
       "    </tr>\n",
       "  </thead>\n",
       "  <tbody>\n",
       "    <tr>\n",
       "      <th>4</th>\n",
       "      <td>Angus Lapsley</td>\n",
       "      <td>11</td>\n",
       "    </tr>\n",
       "    <tr>\n",
       "      <th>5</th>\n",
       "      <td>Ben Merrick</td>\n",
       "      <td>5</td>\n",
       "    </tr>\n",
       "    <tr>\n",
       "      <th>6</th>\n",
       "      <td>Caroline Wilson</td>\n",
       "      <td>7</td>\n",
       "    </tr>\n",
       "    <tr>\n",
       "      <th>8</th>\n",
       "      <td>Colin Martin-Reynolds</td>\n",
       "      <td>5</td>\n",
       "    </tr>\n",
       "    <tr>\n",
       "      <th>10</th>\n",
       "      <td>Gareth Bayley</td>\n",
       "      <td>8</td>\n",
       "    </tr>\n",
       "    <tr>\n",
       "      <th>14</th>\n",
       "      <td>Iain Macleod</td>\n",
       "      <td>6</td>\n",
       "    </tr>\n",
       "    <tr>\n",
       "      <th>16</th>\n",
       "      <td>Jane Marriott</td>\n",
       "      <td>5</td>\n",
       "    </tr>\n",
       "    <tr>\n",
       "      <th>23</th>\n",
       "      <td>Karen Pierce</td>\n",
       "      <td>6</td>\n",
       "    </tr>\n",
       "    <tr>\n",
       "      <th>26</th>\n",
       "      <td>Liane Saunders</td>\n",
       "      <td>7</td>\n",
       "    </tr>\n",
       "    <tr>\n",
       "      <th>27</th>\n",
       "      <td>Lindsay Appleby</td>\n",
       "      <td>5</td>\n",
       "    </tr>\n",
       "    <tr>\n",
       "      <th>28</th>\n",
       "      <td>Martin Harris</td>\n",
       "      <td>6</td>\n",
       "    </tr>\n",
       "    <tr>\n",
       "      <th>30</th>\n",
       "      <td>Neil Wigan</td>\n",
       "      <td>6</td>\n",
       "    </tr>\n",
       "    <tr>\n",
       "      <th>34</th>\n",
       "      <td>Peter Jones</td>\n",
       "      <td>6</td>\n",
       "    </tr>\n",
       "    <tr>\n",
       "      <th>38</th>\n",
       "      <td>Simon McDonald</td>\n",
       "      <td>7</td>\n",
       "    </tr>\n",
       "  </tbody>\n",
       "</table>\n",
       "</div>"
      ],
      "text/plain": [
       "                     Name  No. of Trips\n",
       "4           Angus Lapsley            11\n",
       "5             Ben Merrick             5\n",
       "6         Caroline Wilson             7\n",
       "8   Colin Martin-Reynolds             5\n",
       "10          Gareth Bayley             8\n",
       "14           Iain Macleod             6\n",
       "16         Jane Marriott              5\n",
       "23           Karen Pierce             6\n",
       "26         Liane Saunders             7\n",
       "27        Lindsay Appleby             5\n",
       "28          Martin Harris             6\n",
       "30             Neil Wigan             6\n",
       "34            Peter Jones             6\n",
       "38         Simon McDonald             7"
      ]
     },
     "execution_count": 33,
     "metadata": {},
     "output_type": "execute_result"
    }
   ],
   "source": [
    "# Exercise: Complete the code to get delegates with 5 or more trips\n",
    "df_days = df_days[df_days['No. of Trips'] >= 5]\n",
    "df_days"
   ]
  },
  {
   "cell_type": "markdown",
   "metadata": {},
   "source": [
    "### More Data Aggregation with `.agg()`"
   ]
  },
  {
   "cell_type": "markdown",
   "metadata": {},
   "source": [
    "**Q: Which delegates have made $5$ trips or more, but have travelled a total of less than $10$ days?**\n",
    "\n",
    "**Worked Solution**: Make a copy of the `df` and isolate two columns - `Name` and `Duration of Visit` as they are required for our analysis. Remove all records where the value for `Duration of Visit` is `'Nil Return'`. Finally, convert the column to an `int` datatype using `np.int`."
   ]
  },
  {
   "cell_type": "code",
   "execution_count": null,
   "metadata": {
    "ExecuteTime": {
     "end_time": "2019-03-09T07:49:59.076206Z",
     "start_time": "2019-03-09T07:49:59.026568Z"
    }
   },
   "outputs": [],
   "source": [
    "# Exercise: Make a copy of the df and store them in df_trips\n",
    "#\n",
    "# Then, only keep the required columns\n",
    "#\n",
    "# Filter for all records that have 'Nil Return' in the 'Duration of Visit' column\n",
    "# (Perform this step if you are using the dataset that is not cleaned.)\n",
    "#\n",
    "# Convert the 'Duration of Visit' column to an int datatype\n",
    "#"
   ]
  },
  {
   "cell_type": "markdown",
   "metadata": {},
   "source": [
    "Perform the aggregation using `groupby()`. Then, use the `agg()` function to perform multiple aggregations on the same column. `agg` takes a `dict` as a parameter where the **key** is the **name of the column** and the **value** is the `list` of functions we intend to aggregate for."
   ]
  },
  {
   "cell_type": "code",
   "execution_count": null,
   "metadata": {
    "ExecuteTime": {
     "end_time": "2019-03-09T07:49:59.113794Z",
     "start_time": "2019-03-09T07:49:59.079508Z"
    },
    "scrolled": true
   },
   "outputs": [],
   "source": [
    "# Use groupby() followed by agg(). Then, reset_index()\n",
    "#\n",
    "# print out the result\n",
    "#"
   ]
  },
  {
   "cell_type": "markdown",
   "metadata": {},
   "source": [
    "Observe that the column has multiple layers of labelling / indexing. Flatten the index to just 1 layer of columns. Follow [this StackOverflow answer](https://stackoverflow.com/questions/14507794/python-pandas-how-to-flatten-a-hierarchical-index-in-columns) to find more ways to flatten a multi-indexed `df`."
   ]
  },
  {
   "cell_type": "code",
   "execution_count": null,
   "metadata": {
    "ExecuteTime": {
     "end_time": "2019-03-09T07:49:59.156076Z",
     "start_time": "2019-03-09T07:49:59.123651Z"
    }
   },
   "outputs": [],
   "source": [
    "# Flatten the index using pd.Index and assigning them to the columns\n",
    "df_count_sum_aggregate.columns = pd.Index(['Name', 'Number of Days', 'Number of Trips'])\n",
    "df_count_sum_aggregate.head()"
   ]
  },
  {
   "cell_type": "markdown",
   "metadata": {},
   "source": [
    "Finally with the results, filter using 2 conditions: where the number of trips is 5 or more but the number of days is less than 10."
   ]
  },
  {
   "cell_type": "code",
   "execution_count": null,
   "metadata": {
    "ExecuteTime": {
     "end_time": "2019-03-09T07:49:59.183290Z",
     "start_time": "2019-03-09T07:49:59.160500Z"
    },
    "scrolled": false
   },
   "outputs": [],
   "source": [
    "# Exercise: Filter using the 'Number of Trips' and 'Number of Days' columns\n",
    "#"
   ]
  },
  {
   "cell_type": "markdown",
   "metadata": {},
   "source": [
    "### Self-Study - Drawing Pivot Tables"
   ]
  },
  {
   "cell_type": "markdown",
   "metadata": {},
   "source": [
    "**Q: ** Create a pivot table where:\n",
    "1. each row represents one delegate\n",
    "2. each column represents trip duration in days \n",
    "3. each value in the cell is the number of trips with that duration.\n",
    "\n",
    "Perform this for all trips where the `Duration of Visit` is $5$ **days or less**.\n",
    "\n",
    "First, create a copy of `df_trips` and store them in `df_pt_raw`. Filter for all trips with $5$ days or less."
   ]
  },
  {
   "cell_type": "code",
   "execution_count": null,
   "metadata": {
    "ExecuteTime": {
     "end_time": "2019-03-09T07:49:59.213891Z",
     "start_time": "2019-03-09T07:49:59.186477Z"
    },
    "scrolled": true
   },
   "outputs": [],
   "source": [
    "# Create a copy of df_trips\n",
    "#\n",
    "# Filter for all trips with 5 days or less\n",
    "#"
   ]
  },
  {
   "cell_type": "markdown",
   "metadata": {
    "ExecuteTime": {
     "end_time": "2018-10-10T16:36:26.342204Z",
     "start_time": "2018-10-10T16:36:26.334380Z"
    }
   },
   "source": [
    "Then, create the table using the `pd.pivot_table()` function. Specify the `index`, `columns`, `values` and `aggfunc` accordingly."
   ]
  },
  {
   "cell_type": "code",
   "execution_count": null,
   "metadata": {
    "ExecuteTime": {
     "end_time": "2019-03-09T07:49:59.291369Z",
     "start_time": "2019-03-09T07:49:59.220354Z"
    },
    "scrolled": false
   },
   "outputs": [],
   "source": [
    "# Create the pivot table using pd.pivot_table() \n",
    "#\n",
    "# Add the Name as 1 column in the df\n",
    "#\n",
    "# reset_index\n",
    "#"
   ]
  },
  {
   "cell_type": "markdown",
   "metadata": {},
   "source": [
    "Change the datatypes and order of the columns and finally convert every value in the column to an integer."
   ]
  },
  {
   "cell_type": "code",
   "execution_count": null,
   "metadata": {
    "ExecuteTime": {
     "end_time": "2019-03-09T07:49:59.309656Z",
     "start_time": "2019-03-09T07:49:59.299309Z"
    }
   },
   "outputs": [],
   "source": [
    "# Display the columns. Note that the values for the numeric columns are of type int, not string.\n",
    "#"
   ]
  },
  {
   "cell_type": "code",
   "execution_count": null,
   "metadata": {
    "ExecuteTime": {
     "end_time": "2019-03-09T07:49:59.329481Z",
     "start_time": "2019-03-09T07:49:59.314024Z"
    }
   },
   "outputs": [],
   "source": [
    "# Change the datatype of the columns.\n",
    "#\n",
    "# Change the order of the columns\n",
    "#"
   ]
  },
  {
   "cell_type": "code",
   "execution_count": null,
   "metadata": {
    "ExecuteTime": {
     "end_time": "2019-03-09T07:49:59.465802Z",
     "start_time": "2019-03-09T07:49:59.333914Z"
    },
    "scrolled": false
   },
   "outputs": [],
   "source": [
    "# Substitute all values with NaN to 0\n",
    "#\n",
    "# Convert all the columns to integers\n",
    "#"
   ]
  },
  {
   "cell_type": "markdown",
   "metadata": {},
   "source": [
    "**Exercise**\n",
    "Using `pokemon.csv`, Create a pivot table where\n",
    "1. each row represents the type of Pokémon\n",
    "2. one column representing all Legendary Pokémon and one column representing Non Legendary Pokémon\n",
    "3. each value in the cell is the count(number) of Pokémon of Legendary status and Non Legendary status, for each type\n",
    "\n",
    "Perform this for only Pokémon with ID is $151$ or less. Use `aggfunc=np.sum` for this aggregation."
   ]
  },
  {
   "cell_type": "code",
   "execution_count": null,
   "metadata": {
    "ExecuteTime": {
     "end_time": "2019-03-09T07:49:59.537200Z",
     "start_time": "2019-03-09T07:49:59.479869Z"
    }
   },
   "outputs": [],
   "source": [
    "# Read from CSV file\n",
    "#\n",
    "\n",
    "# Isolate the Pokemon_ID, Type and Legendary column\n",
    "#\n",
    "\n",
    "# Filter for all Pokemon_ID <= 151\n",
    "#\n",
    "\n",
    "# Perform a groupby and count the number of Pokemon in each type, for each Legendary status\n",
    "#\n",
    "\n",
    "# Rename the columns\n",
    "\n",
    "# Create the pivot table where the row is the Type and the column is the Legendary status\n",
    "\n",
    "# Fill all missing cells to 0\n",
    "\n",
    "# Convert the cells datatype to int\n",
    "\n",
    "# Update the column names\n",
    "\n",
    "# Add one more column and reset the column\n",
    "\n",
    "# Show the df"
   ]
  },
  {
   "cell_type": "markdown",
   "metadata": {},
   "source": [
    "**Credits**\n",
    "- [data.gov.uk](https://www.europeandataportal.eu/data/en/dataset/travel-undertaken-by-fco-senior-staff) for the Foreign and Commonwealth Office's travel expenses dataset\n",
    "\n",
    "- [Pokemon with stats, Kaggle](https://www.kaggle.com/abcsds/pokemon) for the Pokémon dataset\n",
    "<hr>\n",
    "`HWA-DS102-INCLASS-2C-201903`"
   ]
  }
 ],
 "metadata": {
  "kernelspec": {
   "display_name": "Python 3",
   "language": "python",
   "name": "python3"
  },
  "language_info": {
   "codemirror_mode": {
    "name": "ipython",
    "version": 3
   },
   "file_extension": ".py",
   "mimetype": "text/x-python",
   "name": "python",
   "nbconvert_exporter": "python",
   "pygments_lexer": "ipython3",
   "version": "3.7.3"
  }
 },
 "nbformat": 4,
 "nbformat_minor": 2
}
