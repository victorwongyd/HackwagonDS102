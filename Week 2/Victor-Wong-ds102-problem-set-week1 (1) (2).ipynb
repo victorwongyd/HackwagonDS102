{
 "cells": [
  {
   "cell_type": "markdown",
   "metadata": {},
   "source": [
    "<center><h2>DS102 Problem Set - Week 1</h2></center>\n",
    "**Hackwagon Academy**\n",
    "\n",
    "`HWA-DS102-PS1-201810`\n",
    "<hr>\n",
    "\n",
    "If you have any questions to the Problem Set, feel free to send a message to your TAs or Instructors in the Telegram chat. You are encouraged to also discuss the problem sets within your own groups.\n",
    "\n",
    "<div class=\"alert alert-success\">Before you start, fill in your details for this notebook and rename the notebook to `<your_name>-problem-set-week-1`, for example `jane-doe-problem-set-week-1`.</div>"
   ]
  },
  {
   "cell_type": "code",
   "execution_count": null,
   "metadata": {
    "ExecuteTime": {
     "end_time": "2018-09-25T00:58:17.680076Z",
     "start_time": "2018-09-25T00:58:17.658209Z"
    }
   },
   "outputs": [],
   "source": [
    "# Rename the notebook. Then, fill in your details here.\n",
    "# Name  : Victor Wong\n",
    "# Class : DS102 Thursday 7pm\n",
    "\n",
    "# Part 1: 7/7\n",
    "# Part 2: 5/5\n",
    "# Total: 100/100"
   ]
  },
  {
   "cell_type": "markdown",
   "metadata": {},
   "source": [
    "#### Datasets Required:\n",
    "\n",
    "- `kor-tourist-arrivals.csv`\n",
    "\n",
    "- `kor-tourist-departures.csv`\n",
    "\n",
    "- `spotify-100.csv`\n"
   ]
  },
  {
   "cell_type": "markdown",
   "metadata": {},
   "source": [
    "### Part 1 (7 Marks)\n",
    "\n",
    "The datasets `kor-tourist-arrivals.csv` and `kor-tourist-departures.csv` are given to you. They are taken from the [Korean Tourism Organization](https://kto.visitkorea.or.kr/eng/tourismStatics/keyFacts/KoreaMonthlyStatistics.kto) website. The definition of each column is as follows:\n",
    "\n",
    "<p></p>\n",
    "<center>`kor-tourist-arrivals.csv`</center>\n",
    "\n",
    "\n",
    "| col name | definition | datatype | example |\n",
    "| -------- | ---------- | -------- | ------- |\n",
    "| visitor_arrivals | The number of visitor arrivals | int | 3683779 |\n",
    "| year | The year of tourist arrivals | int | 2010 |\n",
    "\n",
    "\n",
    "<p></p>\n",
    "<p></p>\n",
    "<center>`kor-tourist-departures.csv`</center>\n",
    "\n",
    "| col name | definition | datatype | example |\n",
    "| -------- | ---------- | -------- | ------- |\n",
    "| visitor_departures | The number of visitor departures | int | 13736976 |\n",
    "| year | The year of tourist departures | int | 2010 |\n",
    "\n",
    "Using the datasets, answer the following questions. Mark breakdowns are stated in the question e.g. **`[1]`**. <span style=\"color:darkblue\">**Where stated, both the <u>code</u> and <u>typed answers</u> must be provided to receive full credit.**</span>"
   ]
  },
  {
   "cell_type": "code",
   "execution_count": 1,
   "metadata": {
    "ExecuteTime": {
     "end_time": "2018-09-25T00:58:18.630113Z",
     "start_time": "2018-09-25T00:58:17.703922Z"
    }
   },
   "outputs": [],
   "source": [
    "# import the relevant packages\n",
    "import pandas as pd\n",
    "import numpy as np\n",
    "import matplotlib.pyplot as plt"
   ]
  },
  {
   "cell_type": "markdown",
   "metadata": {},
   "source": [
    "** Read from CSV to `df`**\n",
    "\n",
    "Read the data from the `kor-tourist-arrivals.csv` CSV file into a `DataFrame` called `kor_arrivals_df`. Also read the data from the `kor-tourist-departures.csv` CSV file into a `DataFrame` called `kor_departures_df`."
   ]
  },
  {
   "cell_type": "code",
   "execution_count": 27,
   "metadata": {
    "ExecuteTime": {
     "end_time": "2018-09-25T00:58:18.643622Z",
     "start_time": "2018-09-25T00:58:18.632913Z"
    }
   },
   "outputs": [
    {
     "data": {
      "text/html": [
       "<div>\n",
       "<style scoped>\n",
       "    .dataframe tbody tr th:only-of-type {\n",
       "        vertical-align: middle;\n",
       "    }\n",
       "\n",
       "    .dataframe tbody tr th {\n",
       "        vertical-align: top;\n",
       "    }\n",
       "\n",
       "    .dataframe thead th {\n",
       "        text-align: right;\n",
       "    }\n",
       "</style>\n",
       "<table border=\"1\" class=\"dataframe\">\n",
       "  <thead>\n",
       "    <tr style=\"text-align: right;\">\n",
       "      <th></th>\n",
       "      <th>year</th>\n",
       "      <th>tourist_departures</th>\n",
       "    </tr>\n",
       "  </thead>\n",
       "  <tbody>\n",
       "    <tr>\n",
       "      <th>0</th>\n",
       "      <td>2000</td>\n",
       "      <td>5508242</td>\n",
       "    </tr>\n",
       "    <tr>\n",
       "      <th>1</th>\n",
       "      <td>2001</td>\n",
       "      <td>6084476</td>\n",
       "    </tr>\n",
       "    <tr>\n",
       "      <th>2</th>\n",
       "      <td>2002</td>\n",
       "      <td>7123407</td>\n",
       "    </tr>\n",
       "    <tr>\n",
       "      <th>3</th>\n",
       "      <td>2003</td>\n",
       "      <td>7086133</td>\n",
       "    </tr>\n",
       "    <tr>\n",
       "      <th>4</th>\n",
       "      <td>2004</td>\n",
       "      <td>8825585</td>\n",
       "    </tr>\n",
       "    <tr>\n",
       "      <th>5</th>\n",
       "      <td>2005</td>\n",
       "      <td>10080143</td>\n",
       "    </tr>\n",
       "    <tr>\n",
       "      <th>6</th>\n",
       "      <td>2006</td>\n",
       "      <td>11609879</td>\n",
       "    </tr>\n",
       "    <tr>\n",
       "      <th>7</th>\n",
       "      <td>2007</td>\n",
       "      <td>13324977</td>\n",
       "    </tr>\n",
       "    <tr>\n",
       "      <th>8</th>\n",
       "      <td>2008</td>\n",
       "      <td>6890841</td>\n",
       "    </tr>\n",
       "    <tr>\n",
       "      <th>9</th>\n",
       "      <td>2009</td>\n",
       "      <td>9494111</td>\n",
       "    </tr>\n",
       "    <tr>\n",
       "      <th>10</th>\n",
       "      <td>2010</td>\n",
       "      <td>12488364</td>\n",
       "    </tr>\n",
       "    <tr>\n",
       "      <th>11</th>\n",
       "      <td>2011</td>\n",
       "      <td>12693733</td>\n",
       "    </tr>\n",
       "    <tr>\n",
       "      <th>12</th>\n",
       "      <td>2012</td>\n",
       "      <td>13736976</td>\n",
       "    </tr>\n",
       "    <tr>\n",
       "      <th>13</th>\n",
       "      <td>2013</td>\n",
       "      <td>14846485</td>\n",
       "    </tr>\n",
       "    <tr>\n",
       "      <th>14</th>\n",
       "      <td>2014</td>\n",
       "      <td>16080684</td>\n",
       "    </tr>\n",
       "    <tr>\n",
       "      <th>15</th>\n",
       "      <td>2015</td>\n",
       "      <td>19310430</td>\n",
       "    </tr>\n",
       "  </tbody>\n",
       "</table>\n",
       "</div>"
      ],
      "text/plain": [
       "    year  tourist_departures\n",
       "0   2000             5508242\n",
       "1   2001             6084476\n",
       "2   2002             7123407\n",
       "3   2003             7086133\n",
       "4   2004             8825585\n",
       "5   2005            10080143\n",
       "6   2006            11609879\n",
       "7   2007            13324977\n",
       "8   2008             6890841\n",
       "9   2009             9494111\n",
       "10  2010            12488364\n",
       "11  2011            12693733\n",
       "12  2012            13736976\n",
       "13  2013            14846485\n",
       "14  2014            16080684\n",
       "15  2015            19310430"
      ]
     },
     "execution_count": 27,
     "metadata": {},
     "output_type": "execute_result"
    }
   ],
   "source": [
    "# Read from CSV to df\n",
    "# Write your code here. The code for kor_arrivals_df is done for you.\n",
    "kor_arrivals_df = pd.read_csv('kor-tourist-arrivals.csv')\n",
    "kor_departures_df = pd.read_csv('kor-tourist-departures.csv')\n"
   ]
  },
  {
   "cell_type": "markdown",
   "metadata": {},
   "source": [
    "**1A.** \n",
    "\n",
    "**i)** How many records are there in `kor_arrivals_df`? **`[0.5]`**"
   ]
  },
  {
   "cell_type": "code",
   "execution_count": 6,
   "metadata": {
    "ExecuteTime": {
     "end_time": "2018-09-25T00:58:18.656680Z",
     "start_time": "2018-09-25T00:58:18.649925Z"
    }
   },
   "outputs": [
    {
     "name": "stdout",
     "output_type": "stream",
     "text": [
      "(19, 2)\n"
     ]
    },
    {
     "data": {
      "text/plain": [
       "19"
      ]
     },
     "execution_count": 6,
     "metadata": {},
     "output_type": "execute_result"
    }
   ],
   "source": [
    "# How many records are there in kor_arrivals_df?\n",
    "# Write your code here\n",
    "x = kor_arrivals_df.shape\n",
    "print(x)\n",
    "\n",
    "# (Type your answer here)\n",
    "19"
   ]
  },
  {
   "cell_type": "markdown",
   "metadata": {},
   "source": [
    "**ii)** What is the earliest and latest year in the tourist arrivals dataset? **`[0.5]`**"
   ]
  },
  {
   "cell_type": "code",
   "execution_count": 47,
   "metadata": {
    "ExecuteTime": {
     "end_time": "2018-09-25T00:58:18.671857Z",
     "start_time": "2018-09-25T00:58:18.665134Z"
    }
   },
   "outputs": [
    {
     "data": {
      "text/plain": [
       "count      19.000000\n",
       "mean     2005.000000\n",
       "std         5.627314\n",
       "min      1996.000000\n",
       "25%      2000.500000\n",
       "50%      2005.000000\n",
       "75%      2009.500000\n",
       "max      2014.000000\n",
       "Name: year, dtype: float64"
      ]
     },
     "execution_count": 47,
     "metadata": {},
     "output_type": "execute_result"
    }
   ],
   "source": [
    "# How many records are there in kor_arrivals_df?\n",
    "# Write your code here\n",
    "kor_arrivals_df['year'].describe()\n",
    "\n",
    "# (Type your answer here)\n",
    "# earliest is 1996 and latest is 2014"
   ]
  },
  {
   "cell_type": "markdown",
   "metadata": {},
   "source": [
    "**1B.** \n",
    "\n",
    "**i)** How many records are there in `kor_departures_df`? **`[0.5]`**"
   ]
  },
  {
   "cell_type": "code",
   "execution_count": 30,
   "metadata": {
    "ExecuteTime": {
     "end_time": "2018-09-25T00:58:18.688616Z",
     "start_time": "2018-09-25T00:58:18.676510Z"
    }
   },
   "outputs": [
    {
     "name": "stdout",
     "output_type": "stream",
     "text": [
      "(16, 2)\n"
     ]
    }
   ],
   "source": [
    "# How many records are there in kor_departures_df?\n",
    "# Write your code here\n",
    "v = kor_departures_df.shape\n",
    "print(v)\n",
    "\n",
    "# (Type your answer here)\n",
    "# 16"
   ]
  },
  {
   "cell_type": "markdown",
   "metadata": {},
   "source": [
    "**ii)** What is the earliest and latest year in the tourist departures dataset? **`[0.5]`**"
   ]
  },
  {
   "cell_type": "code",
   "execution_count": 45,
   "metadata": {
    "ExecuteTime": {
     "end_time": "2018-09-25T00:58:18.699737Z",
     "start_time": "2018-09-25T00:58:18.692187Z"
    }
   },
   "outputs": [
    {
     "data": {
      "text/plain": [
       "count      16.000000\n",
       "mean     2007.500000\n",
       "std         4.760952\n",
       "min      2000.000000\n",
       "25%      2003.750000\n",
       "50%      2007.500000\n",
       "75%      2011.250000\n",
       "max      2015.000000\n",
       "Name: year, dtype: float64"
      ]
     },
     "execution_count": 45,
     "metadata": {},
     "output_type": "execute_result"
    }
   ],
   "source": [
    "# What is the earliest and latest year in the tourist departures dataset?\n",
    "# Write your code here\n",
    "kor_departures_df['year'].describe()\n",
    "\n",
    "# (Type your answer here)\n",
    "# 2000 and 2015"
   ]
  },
  {
   "cell_type": "markdown",
   "metadata": {},
   "source": [
    "**1C**. From $2005$ to $2010$, what was the average (mean) number of tourist departures per year? **`[1]`**"
   ]
  },
  {
   "cell_type": "code",
   "execution_count": 61,
   "metadata": {
    "ExecuteTime": {
     "end_time": "2018-09-25T00:58:18.714989Z",
     "start_time": "2018-09-25T00:58:18.703499Z"
    }
   },
   "outputs": [
    {
     "data": {
      "text/plain": [
       "10648052.5"
      ]
     },
     "execution_count": 61,
     "metadata": {},
     "output_type": "execute_result"
    }
   ],
   "source": [
    "# From 2005 to 2010, what is the average (mean) number of tourist departures per year?\n",
    "# Write your code here\n",
    "kor_departures_2005_2010 = kor_departures_df.copy()\n",
    "\n",
    "kor_departures_2005_2010 = kor_departures_2005_2010[(kor_departures_2005_2010['year'] >= 2005) &\n",
    "                                                   (kor_departures_2005_2010['year'] <= 2010)\n",
    "                                                   ]\n",
    "\n",
    "kor_departures_2005_2010['tourist_departures'].mean()\n",
    "\n",
    "# (Type your answer here)\n",
    "# 10648052.5"
   ]
  },
  {
   "cell_type": "markdown",
   "metadata": {},
   "source": [
    "**1D.** \n",
    "\n",
    "**i)** How many tourist arrivals were there in the year $2004$? **`[0.5]`**"
   ]
  },
  {
   "cell_type": "code",
   "execution_count": 67,
   "metadata": {
    "ExecuteTime": {
     "end_time": "2018-09-25T00:58:18.735599Z",
     "start_time": "2018-09-25T00:58:18.718446Z"
    }
   },
   "outputs": [
    {
     "name": "stdout",
     "output_type": "stream",
     "text": [
      "8    5818138\n",
      "Name: tourist_arrivals, dtype: int64\n"
     ]
    }
   ],
   "source": [
    "# How many tourist arrivals were there in the year 2004?\n",
    "# Write your code here\n",
    "tourist_arrivals_2004 = kor_arrivals_df.copy()\n",
    "tourist_arrivals_2004 = tourist_arrivals_2004[tourist_arrivals_2004['year'] == 2004]\n",
    "print(tourist_arrivals_2004['tourist_arrivals'])\n",
    "\n",
    "# (Type your answer here)\n",
    "# 5818138"
   ]
  },
  {
   "cell_type": "markdown",
   "metadata": {
    "ExecuteTime": {
     "end_time": "2018-09-24T12:54:19.603047Z",
     "start_time": "2018-09-24T12:54:19.598229Z"
    }
   },
   "source": [
    "**ii)** In which year were there $5,347,468$ tourist arrivals? **`[0.5]`**"
   ]
  },
  {
   "cell_type": "code",
   "execution_count": 69,
   "metadata": {
    "ExecuteTime": {
     "end_time": "2018-09-25T00:58:18.763842Z",
     "start_time": "2018-09-25T00:58:18.747567Z"
    },
    "scrolled": true
   },
   "outputs": [
    {
     "name": "stdout",
     "output_type": "stream",
     "text": [
      "6    2002\n",
      "Name: year, dtype: int64\n"
     ]
    }
   ],
   "source": [
    "# In which year were there 5347468 tourist arrivals?\n",
    "# Write your code here\n",
    "df_of_interest = kor_arrivals_df.copy()\n",
    "df_of_interest = df_of_interest[df_of_interest['tourist_arrivals'] == 5347468]\n",
    "print(df_of_interest['year'])\n",
    "\n",
    "# (Type your answer here)\n",
    "# 2002"
   ]
  },
  {
   "cell_type": "markdown",
   "metadata": {},
   "source": [
    "**1E**. From 1996 to 2014, in what years were the number of tourist arrivals between $6,000,000$ and $12,000,000$? **`[1]`**"
   ]
  },
  {
   "cell_type": "code",
   "execution_count": 78,
   "metadata": {
    "ExecuteTime": {
     "end_time": "2018-09-25T00:58:18.800864Z",
     "start_time": "2018-09-25T00:58:18.767607Z"
    },
    "scrolled": true
   },
   "outputs": [
    {
     "data": {
      "text/plain": [
       "[2005, 2006, 2007, 2008, 2009, 2010, 2011, 2012]"
      ]
     },
     "execution_count": 78,
     "metadata": {},
     "output_type": "execute_result"
    }
   ],
   "source": [
    "# From 1996 to 2014, in what years was the number of tourist arrivals between 6000000 and 12000000?\n",
    "# Write your code here\n",
    "df_of_interest = kor_arrivals_df.copy()\n",
    "df_of_interest = df_of_interest[(df_of_interest['tourist_arrivals'] >= 6000000) &\n",
    "                             (df_of_interest['tourist_arrivals'] <= 12000000)\n",
    "                               ]\n",
    "\n",
    "list(df_of_interest['year'])\n",
    "\n",
    "# (Type your answer here)\n",
    "# 2005,2006,2007,2008,2009,2010,2011,2012"
   ]
  },
  {
   "cell_type": "markdown",
   "metadata": {},
   "source": [
    "**1F**. What was the year with the <u>lowest</u> number of departures? **`[1]`**"
   ]
  },
  {
   "cell_type": "code",
   "execution_count": 84,
   "metadata": {
    "ExecuteTime": {
     "end_time": "2018-09-25T00:58:18.822694Z",
     "start_time": "2018-09-25T00:58:18.804576Z"
    },
    "scrolled": true
   },
   "outputs": [
    {
     "name": "stdout",
     "output_type": "stream",
     "text": [
      "5508242\n",
      "0    2000\n",
      "Name: year, dtype: int64\n"
     ]
    }
   ],
   "source": [
    "# What was the year with the lowest number of departures?\n",
    "# Write your code here\n",
    "print(kor_departures_df['tourist_departures'].min())\n",
    "\n",
    "df_of_interest = kor_departures_df.copy()\n",
    "df_of_interest = df_of_interest[df_of_interest['tourist_departures'] == (kor_departures_df['tourist_departures'].min())]\n",
    "\n",
    "print(df_of_interest['year'])\n",
    "                                                                         \n",
    "                    \n",
    "\n",
    "# (Type your answer here)\n",
    "# 2000"
   ]
  },
  {
   "cell_type": "markdown",
   "metadata": {},
   "source": [
    "**1G**. In 2012, how many more / less departures were there, compared to arrivals? **`[1]`**"
   ]
  },
  {
   "cell_type": "code",
   "execution_count": 92,
   "metadata": {
    "ExecuteTime": {
     "end_time": "2018-09-25T00:58:18.838439Z",
     "start_time": "2018-09-25T00:58:18.826051Z"
    }
   },
   "outputs": [
    {
     "name": "stdout",
     "output_type": "stream",
     "text": [
      "2596948\n"
     ]
    },
    {
     "data": {
      "text/plain": [
       "pandas.core.series.Series"
      ]
     },
     "execution_count": 92,
     "metadata": {},
     "output_type": "execute_result"
    }
   ],
   "source": [
    "# How many more / less departures were there, compared to arrivals in 2012?\n",
    "# Write your code here\n",
    "df_2012_departure = kor_departures_df.copy()\n",
    "df_2012_departure = df_2012_departure[df_2012_departure['year'] == 2012]\n",
    "\n",
    "df_2012_arrival = kor_arrivals_df.copy()\n",
    "df_2012_arrival = df_2012_arrival[df_2012_arrival['year'] == 2012]\n",
    "\n",
    "print( int(df_2012_departure['tourist_departures']) - int(df_2012_arrival['tourist_arrivals']))\n",
    "\n",
    "# (Type your answer here)\n",
    "# 2596948 more departures"
   ]
  },
  {
   "cell_type": "markdown",
   "metadata": {},
   "source": [
    "<div class=\"alert alert-success\">\n",
    "**Checkpoint**: When you have completed Part 1, upload your progress to eLearn. eLearn only accepts the latest notebooks so if you have an existing notebook, your latest upload will **override** it.\n",
    "</div>\n",
    "\n",
    "### Part 2 (5 Marks)\n",
    "\n",
    "The dataset `spotify-100.csv` is given to you. They are taken from Kaggle's [Top Spotify Tracks of 2017](https://www.kaggle.com/nadintamer/top-tracks-of-2017). The definition of each column is as follows:\n",
    "\n",
    "<p></p>\n",
    "<center>`spotify-100.csv`</center>\n",
    "\n",
    "| col name | definition | datatype | example |\n",
    "| -------- | ---------- | -------- | ------- |\n",
    "| id | The id of a song | str | 1x5sYLZiu9r5E43kMlt9f |\n",
    "| name | The name of a song | str | Just Hold On |\n",
    "| artists | The artist/s that sang the song | str | Drake |\n",
    "| danceability | Danceability describes how suitable a track is for dancing based on a combination of musical elements including tempo, rhythm stability, beat strength, and overall regularity. A value of 0.0 is least danceable and 1.0 is most danceable. | float | 0.707 | \n",
    "| energy | Energy is a measure from 0.0 to 1.0 and represents a perceptual measure of intensity and activity. Typically, energetic tracks feel fast, loud, and noisy. For example, death metal has high energy, while a Bach prelude scores low on the scale. Perceptual features contributing to this attribute include dynamic range, perceived loudness, timbre, onset rate, and general entropy. | float | 0.932 |\n",
    "| key | The key the track is in. Integers map to pitches using standard Pitch Class notation. E.g. 0 = C, 1 = C♯/D♭, 2 = D, and so on. | float | 11.0 |\n",
    "| instrumentals | Predicts whether a track contains no vocals. \"Ooh\" and \"aah\" sounds are treated as instrumental in this context. Rap or spoken word tracks are clearly \"vocal\". The closer the instrumentalness value is to 1.0, the greater likelihood the track contains no vocal content. Values above 0.5 are intended to represent instrumental tracks, but confidence is higher as the value approaches 1.0. | float | 0.000016 |\n",
    "| duration_ms | The duration of the track in milliseconds. | float | 212459.0 | \n",
    "\n",
    "Using the dataset, answer the following questions. Mark breakdowns are stated in the question e.g. **`[1]`**. <span style=\"color:darkblue\">**Where stated, both the <u>code</u> and <u>typed answers</u> must be provided to receive full credit.**</span>"
   ]
  },
  {
   "cell_type": "markdown",
   "metadata": {},
   "source": [
    "** Read from CSV to `df`**\n",
    "\n",
    "Read the data from `spotify-100.csv` into `DataFrame` called `songs_df`. Specify the `sep` parameter accordingly. Refer to [the documentation](https://pandas.pydata.org/pandas-docs/stable/generated/pandas.read_csv.html) to help you."
   ]
  },
  {
   "cell_type": "code",
   "execution_count": 96,
   "metadata": {
    "ExecuteTime": {
     "end_time": "2018-09-25T00:58:18.858184Z",
     "start_time": "2018-09-25T00:58:18.842193Z"
    }
   },
   "outputs": [],
   "source": [
    "# Read from CSV to df\n",
    "# Write your code here. Specify the sep parameter accordingly.\n",
    "df = pd.read_csv('spotify-100.csv' , sep='|')"
   ]
  },
  {
   "cell_type": "markdown",
   "metadata": {},
   "source": [
    "**2A.** What is the song with the lowest `duration_ms` in the dataset? **`[1]`**"
   ]
  },
  {
   "cell_type": "code",
   "execution_count": 105,
   "metadata": {
    "ExecuteTime": {
     "end_time": "2018-09-25T00:58:18.872339Z",
     "start_time": "2018-09-25T00:58:18.862611Z"
    }
   },
   "outputs": [
    {
     "name": "stdout",
     "output_type": "stream",
     "text": [
      "97    Body Like A Back Road\n",
      "Name: name, dtype: object\n"
     ]
    }
   ],
   "source": [
    "# What is the song with the lowest duration_ms?\n",
    "# Write your code here\n",
    "df_of_interest = df.copy()\n",
    "df_of_interest = df_of_interest[df_of_interest['duration_ms'] == (df['duration_ms'].min())]\n",
    "\n",
    "print(df_of_interest['name'])\n",
    "\n",
    "# (Type your answer here)\n",
    "# Body Like A Back Road"
   ]
  },
  {
   "cell_type": "markdown",
   "metadata": {},
   "source": [
    "**2B.** What is the mean of the `duration_ms` column in the dataset, ** in seconds**? **`[1]`**"
   ]
  },
  {
   "cell_type": "code",
   "execution_count": 126,
   "metadata": {
    "ExecuteTime": {
     "end_time": "2018-09-25T00:58:18.882248Z",
     "start_time": "2018-09-25T00:58:18.877094Z"
    }
   },
   "outputs": [
    {
     "name": "stdout",
     "output_type": "stream",
     "text": [
      "218\n"
     ]
    }
   ],
   "source": [
    "# What is the mean of the duration_ms column, in seconds?\n",
    "# Write your code here\n",
    "mean = df['duration_ms'].mean() / 1000\n",
    "\n",
    "print(round(mean))\n",
    "\n",
    "# (Type your answer here)\n",
    "# 218 seconds"
   ]
  },
  {
   "cell_type": "markdown",
   "metadata": {},
   "source": [
    "**2C.** What is the standard deviation of the `duration_ms` column in the dataset, ** in seconds**? **`[1]`**"
   ]
  },
  {
   "cell_type": "code",
   "execution_count": 125,
   "metadata": {
    "ExecuteTime": {
     "end_time": "2018-09-25T00:58:18.899736Z",
     "start_time": "2018-09-25T00:58:18.885963Z"
    }
   },
   "outputs": [
    {
     "name": "stdout",
     "output_type": "stream",
     "text": [
      "33\n"
     ]
    }
   ],
   "source": [
    "# What is the standard deviation of the duration_ms column, in seconds?\n",
    "# Write your code here\n",
    "sd = df['duration_ms'].std() / 1000\n",
    "\n",
    "print(round(sd))\n",
    "\n",
    "# (Type your answer here)\n",
    "# 33"
   ]
  },
  {
   "cell_type": "markdown",
   "metadata": {},
   "source": [
    "**2D.** What is the skewness of the `danceability` column in the dataset? Does it mean that the series is right-tailed or left-tailed? **`[1]`**"
   ]
  },
  {
   "cell_type": "code",
   "execution_count": 128,
   "metadata": {
    "ExecuteTime": {
     "end_time": "2018-09-25T00:58:18.915768Z",
     "start_time": "2018-09-25T00:58:18.904172Z"
    }
   },
   "outputs": [
    {
     "name": "stdout",
     "output_type": "stream",
     "text": [
      "-0.8927224225971558\n"
     ]
    }
   ],
   "source": [
    "# What is the skewness of the danceability column in the dataset?\n",
    "# Write your code here\n",
    "print(df['danceability'].skew())\n",
    "\n",
    "# (Type your answer here)\n",
    "# -0.8927224225971558\n",
    "\n",
    "# Is the series right-tailed or left-tailed?\n",
    "# (Type your answer here)\n",
    "# left-tailed"
   ]
  },
  {
   "cell_type": "markdown",
   "metadata": {},
   "source": [
    "**2E.** What is the kurtosis calculation for the `energy` column in the dataset?  **`[1]`**"
   ]
  },
  {
   "cell_type": "code",
   "execution_count": 130,
   "metadata": {
    "ExecuteTime": {
     "end_time": "2018-09-25T00:58:18.930432Z",
     "start_time": "2018-09-25T00:58:18.920181Z"
    }
   },
   "outputs": [
    {
     "data": {
      "text/plain": [
       "-0.8328329240469872"
      ]
     },
     "execution_count": 130,
     "metadata": {},
     "output_type": "execute_result"
    }
   ],
   "source": [
    "# What is the kurtosis calculation for the energy column?\n",
    "# Write your code here\n",
    "df['energy'].kurt()\n",
    "\n",
    "# (Type your answer here)\n",
    "# -0.8328329240469872\n",
    "#"
   ]
  },
  {
   "cell_type": "markdown",
   "metadata": {},
   "source": [
    "<div class=\"alert alert-success\">\n",
    "**Checkpoint**: When you have completed Part 2, upload your progress to eLearn. eLearn only accepts the latest notebooks so if you have an existing notebook, your latest upload will **override** it.\n",
    "</div>"
   ]
  }
 ],
 "metadata": {
  "kernelspec": {
   "display_name": "Python 3",
   "language": "python",
   "name": "python3"
  },
  "language_info": {
   "codemirror_mode": {
    "name": "ipython",
    "version": 3
   },
   "file_extension": ".py",
   "mimetype": "text/x-python",
   "name": "python",
   "nbconvert_exporter": "python",
   "pygments_lexer": "ipython3",
   "version": "3.7.3"
  }
 },
 "nbformat": 4,
 "nbformat_minor": 2
}
