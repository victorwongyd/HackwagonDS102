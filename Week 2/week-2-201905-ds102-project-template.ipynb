{
 "cells": [
  {
   "cell_type": "markdown",
   "metadata": {},
   "source": [
    "(Pick any one of the following, depending on the length of your title)\n",
    "<center><h1>Title 1 - Short Title</h1></center>\n",
    "<hr>\n",
    "<center><h2>Title 2 - Long Title</h2></center>\n",
    "<hr>\n",
    "<center><h3>Title 3 - Very, very, very long title</h3></center>\n",
    "<hr>\n",
    "\n",
    "(List down the team members & telegram handles so we can easily communicate with you on the project)\n",
    "### Author(s)\n",
    "\n",
    "- John Doe (@johndoe)\n",
    "\n",
    "- Jane Doe (@janedoe)\n",
    "\n",
    "(Class: Pick the class that you're attending)\n",
    "\n",
    "from class Thu 7.00pm / Sat 3.45pm / Sat 7.00pm / Sun 7.00pm"
   ]
  },
  {
   "cell_type": "markdown",
   "metadata": {},
   "source": [
    "### Executive Summary\n",
    "\n",
    "Short paragraph on the topic, hypothesis & conclusions of your study. No more than 2 paragraphs."
   ]
  },
  {
   "cell_type": "markdown",
   "metadata": {},
   "source": [
    "### Research Topic & Hypothesis\n",
    "\n",
    "Describe the topic that you intend to study in your report and what prior beliefs you have about this topic.\n",
    "\n",
    "The mean of a sample of $n$ values, $\\bar{x}$ is:\n",
    "$$\n",
    "\\bar{x} = \\frac 1n\\sum_i x_i \n",
    "$$\n",
    "\n",
    "**Literature / Articles (where necessary):**\n",
    "- Article 1 ([Link 1](127.0.0.1)) retrieved on 1 Jan 2019\n",
    "- Paper 2 ([Link 2](127.0.0.1)) retrieved on 2 Jan 2019\n",
    "\n",
    "**Datasets used:**\n",
    "- Source 1 ([Link 3](127.0.0.1)) retrieved on 1 Jan 2019\n",
    "- Source 2 ([Link 4](127.0.0.1)) retrieved on 2 Jan 2019\n",
    "\n"
   ]
  },
  {
   "cell_type": "code",
   "execution_count": 1,
   "metadata": {
    "ExecuteTime": {
     "end_time": "2019-04-27T11:23:15.824369Z",
     "start_time": "2019-04-27T11:23:15.478164Z"
    }
   },
   "outputs": [],
   "source": [
    "import pandas as pd"
   ]
  },
  {
   "cell_type": "code",
   "execution_count": 2,
   "metadata": {
    "ExecuteTime": {
     "end_time": "2019-04-27T11:23:15.831939Z",
     "start_time": "2019-04-27T11:23:15.826775Z"
    }
   },
   "outputs": [
    {
     "name": "stdout",
     "output_type": "stream",
     "text": [
      "5\n"
     ]
    }
   ],
   "source": [
    "# Example code execution\n",
    "x = 1\n",
    "m = 3\n",
    "c = 2\n",
    "y = m*x+c\n",
    "print(y)"
   ]
  },
  {
   "cell_type": "markdown",
   "metadata": {},
   "source": [
    "### Insights and Evaluation \n",
    "\n",
    "- Insight 1\n",
    "- Insight 2\n",
    "- Insight 3 - The variables follow the equation $y=mx+c$"
   ]
  },
  {
   "cell_type": "markdown",
   "metadata": {},
   "source": [
    "### Notes for Instructor\n",
    "\n",
    "Double click on this cell and remove `hidden=\"true\"`. (Use this if you'd like your report to be a private one and not be shared with anybody)\n",
    "<p style=\"color:red\" hidden=\"true\"><b>Please do not share the findings of this report.</b></p>"
   ]
  }
 ],
 "metadata": {
  "kernelspec": {
   "display_name": "Python 3",
   "language": "python",
   "name": "python3"
  },
  "language_info": {
   "codemirror_mode": {
    "name": "ipython",
    "version": 3
   },
   "file_extension": ".py",
   "mimetype": "text/x-python",
   "name": "python",
   "nbconvert_exporter": "python",
   "pygments_lexer": "ipython3",
   "version": "3.6.5"
  }
 },
 "nbformat": 4,
 "nbformat_minor": 2
}
